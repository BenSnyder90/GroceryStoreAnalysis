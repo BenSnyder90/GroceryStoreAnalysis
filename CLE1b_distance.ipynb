{
 "nbformat": 4,
 "nbformat_minor": 2,
 "metadata": {
  "language_info": {
   "name": "python",
   "codemirror_mode": {
    "name": "ipython",
    "version": 3
   },
   "version": "3.7.4-final"
  },
  "orig_nbformat": 2,
  "file_extension": ".py",
  "mimetype": "text/x-python",
  "name": "python",
  "npconvert_exporter": "python",
  "pygments_lexer": "ipython3",
  "version": 3,
  "kernelspec": {
   "name": "python37464bitarizvirtualenvc56c4a27cf5e4dfe8e78b552f27c4a0e",
   "display_name": "Python 3.7.4 64-bit ('a-riz': virtualenv)"
  }
 },
 "cells": [
  {
   "cell_type": "code",
   "execution_count": 1,
   "metadata": {},
   "outputs": [],
   "source": [
    "import pandas as pd\n",
    "import math\n",
    "import numpy as np"
   ]
  },
  {
   "cell_type": "code",
   "execution_count": 2,
   "metadata": {},
   "outputs": [],
   "source": [
    "file = 'C1.csv'"
   ]
  },
  {
   "cell_type": "code",
   "execution_count": 3,
   "metadata": {},
   "outputs": [
    {
     "data": {
      "text/html": "<div>\n<style scoped>\n    .dataframe tbody tr th:only-of-type {\n        vertical-align: middle;\n    }\n\n    .dataframe tbody tr th {\n        vertical-align: top;\n    }\n\n    .dataframe thead th {\n        text-align: right;\n    }\n</style>\n<table border=\"1\" class=\"dataframe\">\n  <thead>\n    <tr style=\"text-align: right;\">\n      <th></th>\n      <th>Unnamed: 0</th>\n      <th>Name</th>\n      <th>Lat</th>\n      <th>Lng</th>\n      <th>Address</th>\n    </tr>\n  </thead>\n  <tbody>\n    <tr>\n      <td>0</td>\n      <td>0</td>\n      <td>Walmart Supercenter</td>\n      <td>41.310138</td>\n      <td>-81.519526</td>\n      <td>8160 Macedonia Commons Blvd, Macedonia</td>\n    </tr>\n    <tr>\n      <td>1</td>\n      <td>1</td>\n      <td>Walmart</td>\n      <td>41.518841</td>\n      <td>-81.440421</td>\n      <td>6594 Mayfield Rd, Mayfield Heights</td>\n    </tr>\n    <tr>\n      <td>2</td>\n      <td>2</td>\n      <td>Walmart Supercenter</td>\n      <td>41.508716</td>\n      <td>-81.540101</td>\n      <td>1868 Warrensville Center Rd, South Euclid</td>\n    </tr>\n    <tr>\n      <td>3</td>\n      <td>3</td>\n      <td>Walmart</td>\n      <td>41.135370</td>\n      <td>-81.632149</td>\n      <td>3750 W Market St, Fairlawn</td>\n    </tr>\n    <tr>\n      <td>4</td>\n      <td>4</td>\n      <td>Walmart Supercenter</td>\n      <td>41.461519</td>\n      <td>-81.692884</td>\n      <td>3400 Steelyard Dr, Cleveland</td>\n    </tr>\n  </tbody>\n</table>\n</div>",
      "text/plain": "   Unnamed: 0                 Name        Lat        Lng  \\\n0           0  Walmart Supercenter  41.310138 -81.519526   \n1           1              Walmart  41.518841 -81.440421   \n2           2  Walmart Supercenter  41.508716 -81.540101   \n3           3              Walmart  41.135370 -81.632149   \n4           4  Walmart Supercenter  41.461519 -81.692884   \n\n                                     Address  \n0     8160 Macedonia Commons Blvd, Macedonia  \n1         6594 Mayfield Rd, Mayfield Heights  \n2  1868 Warrensville Center Rd, South Euclid  \n3                 3750 W Market St, Fairlawn  \n4               3400 Steelyard Dr, Cleveland  "
     },
     "execution_count": 3,
     "metadata": {},
     "output_type": "execute_result"
    }
   ],
   "source": [
    "cd = pd.read_csv(file)\n",
    "cd.head()"
   ]
  },
  {
   "cell_type": "code",
   "execution_count": 4,
   "metadata": {},
   "outputs": [],
   "source": [
    "southwest_cleveland_coordinates = \"41.135466,-81.652035\" #lat,long"
   ]
  },
  {
   "cell_type": "code",
   "execution_count": 5,
   "metadata": {},
   "outputs": [
    {
     "name": "stdout",
     "output_type": "stream",
     "text": "[22.361956973062224, 46.14642360230668, 42.54308326929642, 1.6654150561343746, 36.41568947970242, 28.52015506630853, 32.792104623486054, 27.30505232040575, 20.919609292827964, 11.156025439769197, 17.567264947121522, 37.467781511563565, 47.81021113259154, 22.273052137356352, 30.13799108890569, 32.640517476062776, 30.073444622010097, 19.97566040116666, 12.84522184501421, 25.659686852600323, 4.301610504200231, 20.900012280923796, 27.99896735120292, 38.72477865339523, 32.89410190513578, 32.4289307618933, 32.98854406927768, 22.599522505497166, 34.450809964372255, 25.924528785832596, 37.35317843777631, 44.61475303877085, 1.2422385801833633, 35.765475558793234, 40.95889624080457, 13.0372039668956, 32.91329989635296, 33.58634433885705, 10.554114747197048, 17.474894742248022, 39.356113644233176, 24.80274310543876, 37.652423612141135, 41.75475164173176, 7.3036898209592165, 41.262435098033315, 38.99947325558841, 33.481677625750855, 21.271364388844354, 29.61781122582011, 20.52204995557675, 11.95861418085704, 23.76437073247151, 44.33285173421786, 30.321334267463527, 4.292873039710562, 32.815073135306115, 42.020663117638634, 28.449752294830418, 29.132022626607714, 23.83647571023527, 34.895550576533374, 31.837784689379074, 29.769615627430973, 32.847245621312446, 37.09062050443414, 13.590693227949064, 31.863685826325348, 36.75114093801276, 34.79847411676152, 8.858313169738093, 28.00025336904489, 13.439840491820396, 45.485744542336185, 34.59443452154869, 45.29842661812344, 42.627512451188764, 38.99432808853497, 39.12762465973236, 15.101444638439862, 36.7245070040724, 34.8470130828456, 32.30290438912675, 35.55446141295138, 40.93693017999562, 46.63063207181649, 43.27679956946395, 49.75530716227723, 41.230354598800645, 46.73091867364481, 33.293086797201035, 41.15903794829429, 37.41121009284773, 40.50101351163217, 39.519104859382914, 20.784555479077824, 39.81385810281087, 42.04969117846006, 40.63817365348353, 29.070677880757266, 41.41240962057076, 24.94353662133937, 44.808447494855805, 47.29410488630126]\n"
    }
   ],
   "source": [
    "lat1 = 41.135466\n",
    "lon1 = -81.652035\n",
    "def dist_from_coordinates(lat1, lon1, lat2, lon2):\n",
    "  R = 6371  # Earth radius in km\n",
    " # lat1 = 41.625126\n",
    " # lon1 = -81.062346\n",
    "  #conversion to radians\n",
    "  d_lat = np.radians(lat2-lat1)\n",
    "  d_lon = np.radians(lon2-lon1)\n",
    "\n",
    "  r_lat1 = np.radians(lat1)\n",
    "  r_lat2 = np.radians(lat2)\n",
    "\n",
    "  #haversine formula\n",
    "  a = np.sin(d_lat/2.) **2 + np.cos(r_lat1) * np.cos(r_lat2) * np.sin(d_lon/2.)**2\n",
    "\n",
    "  haversine = 2 * R * np.arcsin(np.sqrt(a))\n",
    "\n",
    "  return haversine\n",
    "\n",
    "new_column = []                    #empty column for distance\n",
    "for index,row in cd.iterrows():\n",
    "  lat2 = row['Lat'] #first row of location.lat column here\n",
    "  lon2 = row['Lng'] #first row of location.long column here\n",
    "  #lat2 = row['lat2'] #second row of location.lat column here\n",
    "  #lon2 = row['lon2'] #second row of location.long column here\n",
    "  value = dist_from_coordinates(lat1, lon1, lat2, lon2)  #get the distance\n",
    "  new_column.append(value)   #append the empty list with distance values\n",
    "  #cd.insert(6,\"Distance\",new_column)\n",
    "print(new_column) "
   ]
  },
  {
   "cell_type": "code",
   "execution_count": 6,
   "metadata": {},
   "outputs": [
    {
     "name": "stdout",
     "output_type": "stream",
     "text": "[13.895071566308648, 28.674049380188908, 26.435038194125983, 1.0348406188452726, 22.627653387692174, 17.721597273707197, 20.376062842000152, 16.96656766538284, 12.998838545893806, 6.932030683534825, 10.915788987457848, 23.281392865621765, 29.70787870166954, 13.839828679641254, 18.726873660904417, 20.281870984618603, 18.686766358223036, 12.412296079133329, 7.981648343058325, 15.944185279287115, 2.672896020605402, 12.9866615310099, 17.39774634198431, 24.062454436638845, 20.439440994896124, 20.1503971364484, 20.49812461687114, 14.04268789876328, 21.406734238371953, 16.108750376181586, 23.2101818390595, 27.72231371045408, 0.7718910288071167, 22.22362931344291, 25.450670316044977, 8.100940466113887, 20.451370069896736, 20.869580368179946, 6.558020834580577, 10.858392820885395, 24.454747691230814, 15.411705286169589, 23.39612411229975, 25.945191782374504, 4.53830104773925, 25.639280559300058, 24.23314169629823, 20.804543507990434, 13.217408961660606, 18.403648979199065, 12.751806702946682, 7.43073605217332, 14.766490806406553, 27.547148414942686, 18.84079779510808, 2.6674668135579918, 20.390334809158297, 26.110421462070235, 17.67785103319107, 18.101794031517862, 14.8112947485446, 21.68308315729112, 19.783076110224165, 18.497975832032413, 20.410325858960537, 23.047035953460746, 8.444862641743939, 19.799170325589607, 22.83609319579393, 21.62276266040622, 5.504298912593328, 17.398545436176793, 8.35112712624293, 28.26352257201598, 21.495978373089233, 28.147128646129982, 26.487500039307612, 24.229944638701063, 24.312771262442556, 9.383599756432016, 22.819543641627472, 21.652923366300854, 20.07208800317608, 22.092511242627015, 25.43702124287406, 28.974922481096687, 26.89094822527738, 30.916504966731363, 25.619346667411357, 29.03723766716135, 20.687358636263603, 25.575032568969572, 23.24624102660289, 25.166155266736396, 24.55602570557962, 12.914920022590067, 24.739176823201692, 26.128458657250906, 25.251382601238713, 18.063676185444024, 25.732470378343677, 15.499190293938266, 27.84266982832605, 29.3871852473059]\n"
    }
   ],
   "source": [
    "col = []\n",
    "for x in new_column:\n",
    "    a = x * 0.621371\n",
    "    col.append(a)\n",
    "print(col) "
   ]
  },
  {
   "cell_type": "code",
   "execution_count": 7,
   "metadata": {},
   "outputs": [
    {
     "data": {
      "text/html": "<div>\n<style scoped>\n    .dataframe tbody tr th:only-of-type {\n        vertical-align: middle;\n    }\n\n    .dataframe tbody tr th {\n        vertical-align: top;\n    }\n\n    .dataframe thead th {\n        text-align: right;\n    }\n</style>\n<table border=\"1\" class=\"dataframe\">\n  <thead>\n    <tr style=\"text-align: right;\">\n      <th></th>\n      <th>Distance</th>\n    </tr>\n  </thead>\n  <tbody>\n    <tr>\n      <td>0</td>\n      <td>13.895072</td>\n    </tr>\n    <tr>\n      <td>1</td>\n      <td>28.674049</td>\n    </tr>\n    <tr>\n      <td>2</td>\n      <td>26.435038</td>\n    </tr>\n    <tr>\n      <td>3</td>\n      <td>1.034841</td>\n    </tr>\n    <tr>\n      <td>4</td>\n      <td>22.627653</td>\n    </tr>\n  </tbody>\n</table>\n</div>",
      "text/plain": "    Distance\n0  13.895072\n1  28.674049\n2  26.435038\n3   1.034841\n4  22.627653"
     },
     "execution_count": 7,
     "metadata": {},
     "output_type": "execute_result"
    }
   ],
   "source": [
    "a = pd.DataFrame({'Distance':col})\n",
    "a.head()"
   ]
  },
  {
   "cell_type": "code",
   "execution_count": 8,
   "metadata": {},
   "outputs": [
    {
     "data": {
      "text/plain": "0      13.90\n1      28.67\n2      26.44\n3       1.03\n4      22.63\n       ...  \n99     18.06\n100    25.73\n101    15.50\n102    27.84\n103    29.39\nName: Distance, Length: 104, dtype: object"
     },
     "execution_count": 8,
     "metadata": {},
     "output_type": "execute_result"
    }
   ],
   "source": [
    "a['Distance'] = a['Distance'].map(\"{:,.2f}\".format)\n",
    "a['Distance']"
   ]
  },
  {
   "cell_type": "code",
   "execution_count": 9,
   "metadata": {},
   "outputs": [
    {
     "data": {
      "text/html": "<div>\n<style scoped>\n    .dataframe tbody tr th:only-of-type {\n        vertical-align: middle;\n    }\n\n    .dataframe tbody tr th {\n        vertical-align: top;\n    }\n\n    .dataframe thead th {\n        text-align: right;\n    }\n</style>\n<table border=\"1\" class=\"dataframe\">\n  <thead>\n    <tr style=\"text-align: right;\">\n      <th></th>\n      <th>Unnamed: 0</th>\n      <th>Name</th>\n      <th>Lat</th>\n      <th>Lng</th>\n      <th>Address</th>\n      <th>Distance</th>\n    </tr>\n  </thead>\n  <tbody>\n    <tr>\n      <td>0</td>\n      <td>0</td>\n      <td>Walmart Supercenter</td>\n      <td>41.310138</td>\n      <td>-81.519526</td>\n      <td>8160 Macedonia Commons Blvd, Macedonia</td>\n      <td>13.90</td>\n    </tr>\n    <tr>\n      <td>1</td>\n      <td>1</td>\n      <td>Walmart</td>\n      <td>41.518841</td>\n      <td>-81.440421</td>\n      <td>6594 Mayfield Rd, Mayfield Heights</td>\n      <td>28.67</td>\n    </tr>\n    <tr>\n      <td>2</td>\n      <td>2</td>\n      <td>Walmart Supercenter</td>\n      <td>41.508716</td>\n      <td>-81.540101</td>\n      <td>1868 Warrensville Center Rd, South Euclid</td>\n      <td>26.44</td>\n    </tr>\n    <tr>\n      <td>3</td>\n      <td>3</td>\n      <td>Walmart</td>\n      <td>41.135370</td>\n      <td>-81.632149</td>\n      <td>3750 W Market St, Fairlawn</td>\n      <td>1.03</td>\n    </tr>\n    <tr>\n      <td>4</td>\n      <td>4</td>\n      <td>Walmart Supercenter</td>\n      <td>41.461519</td>\n      <td>-81.692884</td>\n      <td>3400 Steelyard Dr, Cleveland</td>\n      <td>22.63</td>\n    </tr>\n  </tbody>\n</table>\n</div>",
      "text/plain": "   Unnamed: 0                 Name        Lat        Lng  \\\n0           0  Walmart Supercenter  41.310138 -81.519526   \n1           1              Walmart  41.518841 -81.440421   \n2           2  Walmart Supercenter  41.508716 -81.540101   \n3           3              Walmart  41.135370 -81.632149   \n4           4  Walmart Supercenter  41.461519 -81.692884   \n\n                                     Address Distance  \n0     8160 Macedonia Commons Blvd, Macedonia    13.90  \n1         6594 Mayfield Rd, Mayfield Heights    28.67  \n2  1868 Warrensville Center Rd, South Euclid    26.44  \n3                 3750 W Market St, Fairlawn     1.03  \n4               3400 Steelyard Dr, Cleveland    22.63  "
     },
     "execution_count": 9,
     "metadata": {},
     "output_type": "execute_result"
    }
   ],
   "source": [
    "area1 = cd.merge(a,left_index=True, right_index=True)\n",
    "area1.head()"
   ]
  },
  {
   "cell_type": "code",
   "execution_count": 10,
   "metadata": {},
   "outputs": [],
   "source": [
    "#spread.to_csv(\"spread_C1.csv\")"
   ]
  },
  {
   "cell_type": "code",
   "execution_count": 11,
   "metadata": {},
   "outputs": [
    {
     "data": {
      "text/html": "<div>\n<style scoped>\n    .dataframe tbody tr th:only-of-type {\n        vertical-align: middle;\n    }\n\n    .dataframe tbody tr th {\n        vertical-align: top;\n    }\n\n    .dataframe thead th {\n        text-align: right;\n    }\n</style>\n<table border=\"1\" class=\"dataframe\">\n  <thead>\n    <tr style=\"text-align: right;\">\n      <th></th>\n      <th>Name</th>\n      <th>Lat</th>\n      <th>Lng</th>\n      <th>Address</th>\n      <th>Distance</th>\n    </tr>\n  </thead>\n  <tbody>\n    <tr>\n      <td>0</td>\n      <td>Walmart Supercenter</td>\n      <td>41.310138</td>\n      <td>-81.519526</td>\n      <td>8160 Macedonia Commons Blvd, Macedonia</td>\n      <td>13.90</td>\n    </tr>\n    <tr>\n      <td>1</td>\n      <td>Walmart</td>\n      <td>41.518841</td>\n      <td>-81.440421</td>\n      <td>6594 Mayfield Rd, Mayfield Heights</td>\n      <td>28.67</td>\n    </tr>\n    <tr>\n      <td>2</td>\n      <td>Walmart Supercenter</td>\n      <td>41.508716</td>\n      <td>-81.540101</td>\n      <td>1868 Warrensville Center Rd, South Euclid</td>\n      <td>26.44</td>\n    </tr>\n    <tr>\n      <td>3</td>\n      <td>Walmart</td>\n      <td>41.135370</td>\n      <td>-81.632149</td>\n      <td>3750 W Market St, Fairlawn</td>\n      <td>1.03</td>\n    </tr>\n    <tr>\n      <td>4</td>\n      <td>Walmart Supercenter</td>\n      <td>41.461519</td>\n      <td>-81.692884</td>\n      <td>3400 Steelyard Dr, Cleveland</td>\n      <td>22.63</td>\n    </tr>\n    <tr>\n      <td>...</td>\n      <td>...</td>\n      <td>...</td>\n      <td>...</td>\n      <td>...</td>\n      <td>...</td>\n    </tr>\n    <tr>\n      <td>99</td>\n      <td>Heinen's Grocery Store</td>\n      <td>41.370341</td>\n      <td>-81.804763</td>\n      <td>Heinen's of, 15300 Bagley Rd, Middleburg Heights</td>\n      <td>18.06</td>\n    </tr>\n    <tr>\n      <td>100</td>\n      <td>Heinen's Grocery Store</td>\n      <td>41.481684</td>\n      <td>-81.834753</td>\n      <td>19219 Detroit Rd, Rocky River</td>\n      <td>25.73</td>\n    </tr>\n    <tr>\n      <td>101</td>\n      <td>Heinen's Grocery Store</td>\n      <td>41.315592</td>\n      <td>-81.829797</td>\n      <td>18300 Royalton Rd, Strongsville</td>\n      <td>15.50</td>\n    </tr>\n    <tr>\n      <td>102</td>\n      <td>Heinen's Grocery Store</td>\n      <td>41.483650</td>\n      <td>-81.922109</td>\n      <td>434 Dover Center Rd, Bay Village</td>\n      <td>27.84</td>\n    </tr>\n    <tr>\n      <td>103</td>\n      <td>Heinen's Grocery Store</td>\n      <td>41.460235</td>\n      <td>-82.017595</td>\n      <td>35980 Detroit Rd, Avon</td>\n      <td>29.39</td>\n    </tr>\n  </tbody>\n</table>\n<p>104 rows × 5 columns</p>\n</div>",
      "text/plain": "                       Name        Lat        Lng  \\\n0       Walmart Supercenter  41.310138 -81.519526   \n1                   Walmart  41.518841 -81.440421   \n2       Walmart Supercenter  41.508716 -81.540101   \n3                   Walmart  41.135370 -81.632149   \n4       Walmart Supercenter  41.461519 -81.692884   \n..                      ...        ...        ...   \n99   Heinen's Grocery Store  41.370341 -81.804763   \n100  Heinen's Grocery Store  41.481684 -81.834753   \n101  Heinen's Grocery Store  41.315592 -81.829797   \n102  Heinen's Grocery Store  41.483650 -81.922109   \n103  Heinen's Grocery Store  41.460235 -82.017595   \n\n                                              Address Distance  \n0              8160 Macedonia Commons Blvd, Macedonia    13.90  \n1                  6594 Mayfield Rd, Mayfield Heights    28.67  \n2           1868 Warrensville Center Rd, South Euclid    26.44  \n3                          3750 W Market St, Fairlawn     1.03  \n4                        3400 Steelyard Dr, Cleveland    22.63  \n..                                                ...      ...  \n99   Heinen's of, 15300 Bagley Rd, Middleburg Heights    18.06  \n100                     19219 Detroit Rd, Rocky River    25.73  \n101                   18300 Royalton Rd, Strongsville    15.50  \n102                  434 Dover Center Rd, Bay Village    27.84  \n103                            35980 Detroit Rd, Avon    29.39  \n\n[104 rows x 5 columns]"
     },
     "execution_count": 11,
     "metadata": {},
     "output_type": "execute_result"
    }
   ],
   "source": [
    "my_area = pd.DataFrame(area1)\n",
    "spread = my_area.iloc[:,lambda my_merge: [1,2,3,4,5]]\n",
    "spread"
   ]
  },
  {
   "cell_type": "code",
   "execution_count": 12,
   "metadata": {},
   "outputs": [],
   "source": [
    "spread.to_csv(\"spread_C1.csv\")"
   ]
  },
  {
   "cell_type": "code",
   "execution_count": null,
   "metadata": {},
   "outputs": [],
   "source": []
  }
 ]
}