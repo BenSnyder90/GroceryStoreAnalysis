{
 "cells": [
  {
   "cell_type": "markdown",
   "metadata": {},
   "source": [
    "# Analysis\n",
    "## Heatmaps, Matplotlib, and Scipy\n",
    "### We analyzed the data using gmaps, matplotlib charts, and scipy statistical analyses."
   ]
  },
  {
   "cell_type": "code",
   "execution_count": 16,
   "metadata": {},
   "outputs": [],
   "source": [
    "import pandas as pd\n",
    "import gmaps\n",
    "from api_keys import g_key\n",
    "import matplotlib.pyplot as plt\n",
    "import scipy.stats as st\n",
    "import numpy as np"
   ]
  },
  {
   "cell_type": "code",
   "execution_count": 17,
   "metadata": {},
   "outputs": [],
   "source": [
    "#Pull complete store data from CSV, store into Dataframe\n",
    "store_data = pd.read_csv(\"Output_CSVs/complete_data2.csv\",encoding = \"utf-8\")"
   ]
  },
  {
   "cell_type": "markdown",
   "metadata": {},
   "source": [
    "## Heatmaps\n",
    "### We created heatmaps using the store locations to see the concentration of stores in the NE Ohio area"
   ]
  },
  {
   "cell_type": "code",
   "execution_count": 18,
   "metadata": {},
   "outputs": [
    {
     "data": {
      "text/plain": [
       "269"
      ]
     },
     "execution_count": 18,
     "metadata": {},
     "output_type": "execute_result"
    }
   ],
   "source": [
    "gmaps.configure(api_key=g_key)\n",
    "\n",
    "# Store 'Lat' and 'Lng' into  locations for all stores\n",
    "store_lats = store_data[\"Lat\"].tolist()\n",
    "store_lngs = store_data[\"Lng\"].tolist()\n",
    "\n",
    "locations = list(zip(store_lats,store_lngs))\n",
    "len(locations)"
   ]
  },
  {
   "cell_type": "code",
   "execution_count": 19,
   "metadata": {},
   "outputs": [
    {
     "data": {
      "application/vnd.jupyter.widget-view+json": {
       "model_id": "4fd701ffddbc43d9b6e5e5e72918fe06",
       "version_major": 2,
       "version_minor": 0
      },
      "text/plain": [
       "Figure(layout=FigureLayout(height='420px'))"
      ]
     },
     "metadata": {},
     "output_type": "display_data"
    }
   ],
   "source": [
    "#Print map of store locations and heatmaps\n",
    "coords_layer = gmaps.symbol_layer(locations, \n",
    "        fill_color='blue', stroke_color='blue', scale=1)\n",
    "heat_layer = gmaps.heatmap_layer(locations, \n",
    "                                 dissipating=False,point_radius = .05)\n",
    "fig = gmaps.figure(center = (41.187472, -80.998031), zoom_level = 8)\n",
    "fig.add_layer(coords_layer)\n",
    "fig.add_layer(heat_layer)\n",
    "fig"
   ]
  },
  {
   "cell_type": "code",
   "execution_count": 21,
   "metadata": {},
   "outputs": [
    {
     "name": "stdout",
     "output_type": "stream",
     "text": [
      "31\n",
      "17\n",
      "12\n",
      "209\n"
     ]
    }
   ],
   "source": [
    "#Make a dataframe of only the Walmart locations\n",
    "walmart_df = store_data.loc[store_data[\"Store Name\"] == \"Walmart\"]\n",
    "#Make a dataframe of the wholesale clubs\n",
    "wholesale_df = store_data.loc[(store_data['Store Name'] == \"Costco Wholesale\") | \n",
    "                              (store_data['Store Name']==\"BJ's Wholesale\") | (store_data['Store Name']==\"Sam's Club\")]\n",
    "#Make a dataframe of Target stores\n",
    "target_df = store_data.loc[store_data[\"Store Name\"]==\"Target\"]\n",
    "\n",
    "#Make a dataframe of the rest of the grocery stores\n",
    "grocery_df = store_data.loc[(store_data[\"Store Name\"] != \"Walmart\")] \n",
    "grocery_df = grocery_df.loc[(store_data['Store Name'] != \"Costco Wholesale\")]\n",
    "grocery_df = grocery_df.loc[(store_data['Store Name']!=\"BJ's Wholesale\")] \n",
    "grocery_df = grocery_df.loc[(store_data['Store Name']!=\"Sam's Club\")]\n",
    "grocery_df = grocery_df.loc[(store_data['Store Name'] != \"Target\")]\n",
    "\n",
    "#Print lengths of each dataframe to make sure everything was filtered\n",
    "print(len(walmart_df))\n",
    "print(len(wholesale_df))\n",
    "print(len(target_df))\n",
    "print(len(grocery_df))"
   ]
  },
  {
   "cell_type": "code",
   "execution_count": 22,
   "metadata": {},
   "outputs": [
    {
     "data": {
      "application/vnd.jupyter.widget-view+json": {
       "model_id": "d2a02e645e9f46a39ecde3a44f87ce9f",
       "version_major": 2,
       "version_minor": 0
      },
      "text/plain": [
       "Figure(layout=FigureLayout(height='420px'))"
      ]
     },
     "metadata": {},
     "output_type": "display_data"
    }
   ],
   "source": [
    "# Store 'Lat' and 'Lng' into  locations for Walmart\n",
    "walmart_lats = walmart_df[\"Lat\"].tolist()\n",
    "walmart_lngs = walmart_df[\"Lng\"].tolist()\n",
    "walmart_loc = list(zip(walmart_lats,walmart_lngs))\n",
    "#Store names into a list for info box\n",
    "walmart_names = walmart_df[\"Store Name\"].tolist()\n",
    "\n",
    "\n",
    "walmart_coords = gmaps.symbol_layer(walmart_loc, \n",
    "        fill_color='blue', stroke_color='blue', scale=2,info_box_content=walmart_names)\n",
    "walmart_heat = gmaps.heatmap_layer(walmart_loc, \n",
    "                                 dissipating=False,point_radius = .05)\n",
    "fig = gmaps.figure(center = (41.187472, -80.998031), zoom_level = 8)\n",
    "fig.add_layer(walmart_coords)\n",
    "fig.add_layer(walmart_heat)\n",
    "fig"
   ]
  },
  {
   "cell_type": "code",
   "execution_count": 23,
   "metadata": {},
   "outputs": [
    {
     "data": {
      "application/vnd.jupyter.widget-view+json": {
       "model_id": "bbb995d7c03d498aa63cdd0f4c8de573",
       "version_major": 2,
       "version_minor": 0
      },
      "text/plain": [
       "Figure(layout=FigureLayout(height='420px'))"
      ]
     },
     "metadata": {},
     "output_type": "display_data"
    }
   ],
   "source": [
    "# Store 'Lat' and 'Lng' into  locations for Target\n",
    "target_lats = target_df[\"Lat\"].tolist()\n",
    "target_lngs = target_df[\"Lng\"].tolist()\n",
    "target_loc = list(zip(target_lats,target_lngs))\n",
    "#Store names into a list for info box\n",
    "target_names = target_df[\"Store Name\"].tolist()\n",
    "\n",
    "target_coords = gmaps.symbol_layer(target_loc, \n",
    "        fill_color='red', stroke_color='red', scale=2,info_box_content = target_names)\n",
    "target_heat = gmaps.heatmap_layer(target_loc, \n",
    "                                 dissipating=False,point_radius = .05)\n",
    "fig = gmaps.figure(center = (41.187472, -80.998031), zoom_level = 8)\n",
    "fig.add_layer(target_coords)\n",
    "fig.add_layer(target_heat)\n",
    "fig"
   ]
  },
  {
   "cell_type": "code",
   "execution_count": 24,
   "metadata": {},
   "outputs": [
    {
     "data": {
      "application/vnd.jupyter.widget-view+json": {
       "model_id": "520c78487643468182a84b424dcfdf15",
       "version_major": 2,
       "version_minor": 0
      },
      "text/plain": [
       "Figure(layout=FigureLayout(height='420px'))"
      ]
     },
     "metadata": {},
     "output_type": "display_data"
    }
   ],
   "source": [
    "# Store 'Lat' and 'Lng' into  locations for Wholesale Clubs\n",
    "whole_lats = wholesale_df[\"Lat\"].tolist()\n",
    "whole_lngs = wholesale_df[\"Lng\"].tolist()\n",
    "\n",
    "#Store names into a list for the info box\n",
    "whole_names = wholesale_df[\"Store Name\"].tolist()\n",
    "whole_loc = list(zip(whole_lats,whole_lngs))\n",
    "\n",
    "whole_coords = gmaps.symbol_layer(whole_loc, \n",
    "        fill_color='yellow', stroke_color='yellow', scale=2,info_box_content=whole_names)\n",
    "whole_heat = gmaps.heatmap_layer(whole_loc, \n",
    "                                 dissipating=False,point_radius = .05)\n",
    "fig = gmaps.figure(center = (41.187472, -80.998031), zoom_level = 8)\n",
    "fig.add_layer(whole_coords)\n",
    "fig.add_layer(whole_heat)\n",
    "fig"
   ]
  },
  {
   "cell_type": "code",
   "execution_count": 25,
   "metadata": {},
   "outputs": [
    {
     "data": {
      "application/vnd.jupyter.widget-view+json": {
       "model_id": "df3a8f5310144926bf893a08058282a2",
       "version_major": 2,
       "version_minor": 0
      },
      "text/plain": [
       "Figure(layout=FigureLayout(height='420px'))"
      ]
     },
     "metadata": {},
     "output_type": "display_data"
    }
   ],
   "source": [
    "# Store 'Lat' and 'Lng' into  locations for Grocery Stores\n",
    "grocery_lats = grocery_df[\"Lat\"].tolist()\n",
    "grocery_lngs = grocery_df[\"Lng\"].tolist()\n",
    "grocery_loc = list(zip(grocery_lats,grocery_lngs))\n",
    "\n",
    "#Store names into a list for info box\n",
    "grocery_names = grocery_df[\"Store Name\"].tolist()\n",
    "\n",
    "grocery_coords = gmaps.symbol_layer(grocery_loc, \n",
    "        fill_color=\"teal\", stroke_color=\"teal\", scale=2,info_box_content=grocery_names)\n",
    "grocery_heat = gmaps.heatmap_layer(grocery_loc, \n",
    "                                 dissipating=False,point_radius = .05)\n",
    "\n",
    "fig = gmaps.figure(center = (41.187472, -80.998031), zoom_level = 8)\n",
    "fig.add_layer(grocery_coords)\n",
    "fig.add_layer(grocery_heat)\n",
    "fig"
   ]
  },
  {
   "cell_type": "code",
   "execution_count": 26,
   "metadata": {},
   "outputs": [
    {
     "data": {
      "application/vnd.jupyter.widget-view+json": {
       "model_id": "44c43efc2fc54a5a9ddea82ea4e4b561",
       "version_major": 2,
       "version_minor": 0
      },
      "text/plain": [
       "Figure(layout=FigureLayout(height='420px'))"
      ]
     },
     "metadata": {},
     "output_type": "display_data"
    }
   ],
   "source": [
    "#Display all of the colored maps together\n",
    "fig = gmaps.figure(center = (41.187472, -80.998031), zoom_level = 8)\n",
    "fig.add_layer(grocery_coords)\n",
    "fig.add_layer(target_coords)\n",
    "fig.add_layer(walmart_coords)\n",
    "fig.add_layer(whole_coords)\n",
    "fig.add_layer(heat_layer)\n",
    "fig"
   ]
  },
  {
   "cell_type": "code",
   "execution_count": 27,
   "metadata": {},
   "outputs": [
    {
     "data": {
      "text/html": [
       "<div>\n",
       "<style scoped>\n",
       "    .dataframe tbody tr th:only-of-type {\n",
       "        vertical-align: middle;\n",
       "    }\n",
       "\n",
       "    .dataframe tbody tr th {\n",
       "        vertical-align: top;\n",
       "    }\n",
       "\n",
       "    .dataframe thead th {\n",
       "        text-align: right;\n",
       "    }\n",
       "</style>\n",
       "<table border=\"1\" class=\"dataframe\">\n",
       "  <thead>\n",
       "    <tr style=\"text-align: right;\">\n",
       "      <th></th>\n",
       "      <th>index</th>\n",
       "      <th>County</th>\n",
       "      <th>Population</th>\n",
       "      <th>Poverty Rate</th>\n",
       "    </tr>\n",
       "  </thead>\n",
       "  <tbody>\n",
       "    <tr>\n",
       "      <th>0</th>\n",
       "      <td>155</td>\n",
       "      <td>Ashtabula County</td>\n",
       "      <td>98,136</td>\n",
       "      <td>19.58%</td>\n",
       "    </tr>\n",
       "    <tr>\n",
       "      <th>1</th>\n",
       "      <td>261</td>\n",
       "      <td>Columbiana County</td>\n",
       "      <td>104,003</td>\n",
       "      <td>14.08%</td>\n",
       "    </tr>\n",
       "    <tr>\n",
       "      <th>2</th>\n",
       "      <td>51</td>\n",
       "      <td>Cuyahoga County</td>\n",
       "      <td>1,253,783</td>\n",
       "      <td>17.70%</td>\n",
       "    </tr>\n",
       "    <tr>\n",
       "      <th>3</th>\n",
       "      <td>206</td>\n",
       "      <td>Geauga County</td>\n",
       "      <td>93,961</td>\n",
       "      <td>6.00%</td>\n",
       "    </tr>\n",
       "    <tr>\n",
       "      <th>4</th>\n",
       "      <td>162</td>\n",
       "      <td>Lake County</td>\n",
       "      <td>230,052</td>\n",
       "      <td>8.19%</td>\n",
       "    </tr>\n",
       "    <tr>\n",
       "      <th>5</th>\n",
       "      <td>131</td>\n",
       "      <td>Lorain County</td>\n",
       "      <td>306,713</td>\n",
       "      <td>13.30%</td>\n",
       "    </tr>\n",
       "    <tr>\n",
       "      <th>6</th>\n",
       "      <td>135</td>\n",
       "      <td>Mahoning County</td>\n",
       "      <td>231,064</td>\n",
       "      <td>17.07%</td>\n",
       "    </tr>\n",
       "    <tr>\n",
       "      <th>7</th>\n",
       "      <td>221</td>\n",
       "      <td>Medina County</td>\n",
       "      <td>177,257</td>\n",
       "      <td>6.38%</td>\n",
       "    </tr>\n",
       "    <tr>\n",
       "      <th>8</th>\n",
       "      <td>233</td>\n",
       "      <td>Portage County</td>\n",
       "      <td>162,644</td>\n",
       "      <td>12.51%</td>\n",
       "    </tr>\n",
       "    <tr>\n",
       "      <th>9</th>\n",
       "      <td>188</td>\n",
       "      <td>Stark County</td>\n",
       "      <td>373,475</td>\n",
       "      <td>13.50%</td>\n",
       "    </tr>\n",
       "    <tr>\n",
       "      <th>10</th>\n",
       "      <td>0</td>\n",
       "      <td>Summit County</td>\n",
       "      <td>541,810</td>\n",
       "      <td>12.84%</td>\n",
       "    </tr>\n",
       "    <tr>\n",
       "      <th>11</th>\n",
       "      <td>248</td>\n",
       "      <td>Trumbull County</td>\n",
       "      <td>201,794</td>\n",
       "      <td>17.15%</td>\n",
       "    </tr>\n",
       "  </tbody>\n",
       "</table>\n",
       "</div>"
      ],
      "text/plain": [
       "    index             County Population Poverty Rate\n",
       "0     155   Ashtabula County     98,136       19.58%\n",
       "1     261  Columbiana County    104,003       14.08%\n",
       "2      51    Cuyahoga County  1,253,783       17.70%\n",
       "3     206      Geauga County     93,961        6.00%\n",
       "4     162        Lake County    230,052        8.19%\n",
       "5     131      Lorain County    306,713       13.30%\n",
       "6     135    Mahoning County    231,064       17.07%\n",
       "7     221      Medina County    177,257        6.38%\n",
       "8     233     Portage County    162,644       12.51%\n",
       "9     188       Stark County    373,475       13.50%\n",
       "10      0      Summit County    541,810       12.84%\n",
       "11    248    Trumbull County    201,794       17.15%"
      ]
     },
     "execution_count": 27,
     "metadata": {},
     "output_type": "execute_result"
    }
   ],
   "source": [
    "#GPS Coordinates of the Counties from https://latitude.to/\n",
    "#Ashtabula County = (41.93970 -80.72144)\n",
    "#Columbiana County = (40.79026 -80.76578)\n",
    "#Cuyahoga County = (41.43392 -81.67582)\n",
    "#Geauga County = (41.46415 -81.20782)\n",
    "#Lake County = (41.98153 -81.25188)\n",
    "#Lorain County = (41.41169 -82.12784)\n",
    "#Mahoning County = (40.98718 -80.72144)\n",
    "#Medina County = (41.08013 -81.95348)\n",
    "#Portage County = (41.18876 -81.25188)\n",
    "#Stark County = (40.86847 -81.25188)\n",
    "#Summit County = (41.09190 -81.55964)\n",
    "#Trumbull County = (41.30650 -80.72144)\n",
    "#(Coordinates for Ashtabula and Lake Counties were moved down so the coordinates appear on land on gmaps)\n",
    "\n",
    "#Store the coordinates into a list\n",
    "alpha_county_coords = [(41.72970, -80.72144),(40.79026, -80.76578),(41.43392, -81.67582),(41.46415, -81.20782),\n",
    "                     (41.75153, -81.25188),(41.41169, -82.12784),(40.98718, -80.72144),(41.08013, -81.95348),\n",
    "                     (41.18876, -81.25188),(40.86847, -81.25188),(41.09190, -81.55964),(41.30650, -80.72144)]\n",
    "\n",
    "#Get the data for Poverty Rate and County\n",
    "county_pop = store_data[[\"County\",\"Population\",\"Poverty Rate\"]]\n",
    "#Drop duplicates so the county data only appears once\n",
    "county_pop = county_pop.drop_duplicates(\"County\")\n",
    "#Sort values alphabetically and reset indeces\n",
    "county_pop = county_pop.sort_values(\"County\").reset_index()\n",
    "county_pop"
   ]
  },
  {
   "cell_type": "code",
   "execution_count": 28,
   "metadata": {},
   "outputs": [
    {
     "data": {
      "text/plain": [
       "['Ashtabula County-Poverty Rate: 19.58%',\n",
       " 'Columbiana County-Poverty Rate: 14.08%',\n",
       " 'Cuyahoga County-Poverty Rate: 17.70%',\n",
       " 'Geauga County-Poverty Rate: 6.00%',\n",
       " 'Lake County-Poverty Rate: 8.19%',\n",
       " 'Lorain County-Poverty Rate: 13.30%',\n",
       " 'Mahoning County-Poverty Rate: 17.07%',\n",
       " 'Medina County-Poverty Rate: 6.38%',\n",
       " 'Portage County-Poverty Rate: 12.51%',\n",
       " 'Stark County-Poverty Rate: 13.50%',\n",
       " 'Summit County-Poverty Rate: 12.84%',\n",
       " 'Trumbull County-Poverty Rate: 17.15%']"
      ]
     },
     "execution_count": 28,
     "metadata": {},
     "output_type": "execute_result"
    }
   ],
   "source": [
    "#Make a list of poverty rates by dropping the percentage in the string\n",
    "county_poverty = county_pop['Poverty Rate'].str.replace('%','')\n",
    "\n",
    "#Make info box for each location on the map\n",
    "info_box = []\n",
    "for index, row in county_pop.iterrows():\n",
    "    info_box.append(f\"{row['County']}-Poverty Rate: {row['Poverty Rate']}\")\n",
    "info_box"
   ]
  },
  {
   "cell_type": "code",
   "execution_count": 29,
   "metadata": {},
   "outputs": [
    {
     "data": {
      "application/vnd.jupyter.widget-view+json": {
       "model_id": "6533913f5d6e48138667210cd01bbb43",
       "version_major": 2,
       "version_minor": 0
      },
      "text/plain": [
       "Figure(layout=FigureLayout(height='420px'))"
      ]
     },
     "metadata": {},
     "output_type": "display_data"
    }
   ],
   "source": [
    "#Make a heatmap of the county's rough coordinates, using the poverty rate as the weight of the heatmap\n",
    "pov_heatmap = gmaps.heatmap_layer(alpha_county_coords, weights = county_poverty, \n",
    "                                 dissipating=False,point_radius = .15)\n",
    "\n",
    "#Make a symbol layer of the coordinates to display information if you click on them\n",
    "pov_coords = gmaps.symbol_layer(alpha_county_coords, \n",
    "        fill_color=\"black\", stroke_color=\"black\", scale=2,info_box_content=info_box)\n",
    "\n",
    "fig = gmaps.figure(center = (41.187472, -80.998031), zoom_level = 8)\n",
    "fig.add_layer(pov_heatmap)\n",
    "fig.add_layer(pov_coords)\n",
    "#Show the store locations on the map\n",
    "fig.add_layer(grocery_coords)\n",
    "fig.add_layer(target_coords)\n",
    "fig.add_layer(walmart_coords)\n",
    "fig.add_layer(whole_coords)\n",
    "fig"
   ]
  },
  {
   "cell_type": "markdown",
   "metadata": {},
   "source": [
    "## Matplotlib Charts\n",
    "### "
   ]
  },
  {
   "cell_type": "code",
   "execution_count": 30,
   "metadata": {},
   "outputs": [
    {
     "data": {
      "text/plain": [
       "Save A Lot          47\n",
       "Giant Eagle         46\n",
       "ALDI                41\n",
       "Marc's Stores       35\n",
       "Walmart             31\n",
       "Heinen's            21\n",
       "Dave's Markets      13\n",
       "Target              12\n",
       "Sam's Club           7\n",
       "BJ's Wholesale       6\n",
       "Whole Foods          5\n",
       "Costco Wholesale     4\n",
       "Berry's              1\n",
       "Name: Store Name, dtype: int64"
      ]
     },
     "execution_count": 30,
     "metadata": {},
     "output_type": "execute_result"
    }
   ],
   "source": [
    "complete_df = pd.read_csv(\"Output_CSVs/complete_data2.csv\",encoding = \"utf-8\")\n",
    "count = complete_df['Store Name'].value_counts()\n",
    "# Set up data for store count chart\n",
    "store_counts = pd.Series(count)\n",
    "x_labels = count.index.to_list()\n",
    "store_counts"
   ]
  },
  {
   "cell_type": "markdown",
   "metadata": {},
   "source": [
    "## Distribution of Stores in NE Ohio by Store Name"
   ]
  },
  {
   "cell_type": "code",
   "execution_count": 31,
   "metadata": {},
   "outputs": [
    {
     "data": {
      "image/png": "[encoded data removed]",
      "text/plain": [
       "<Figure size 432x288 with 1 Axes>"
      ]
     },
     "metadata": {
      "needs_background": "light"
     },
     "output_type": "display_data"
    }
   ],
   "source": [
    "# Create bar chart of grocery stores and warehouse clubs\n",
    "x_axis = np.arange(len(store_counts))\n",
    "plt.bar(x_axis,store_counts,color='g',align='center')\n",
    "\n",
    "# Set limits of chart\n",
    "plt.xlim(-0.75, len(x_axis)-0.25)\n",
    "plt.ylim(0,50)\n",
    "\n",
    "# Set up x-axis tick marks\n",
    "tick_locations = [value for value in x_axis]\n",
    "plt.xticks(tick_locations,x_labels,rotation=90) \n",
    "\n",
    "# Enter title and labels\n",
    "plt.title(\"Count of Grocery Stores in NE Ohio\")\n",
    "plt.xlabel(\"Store Name\")\n",
    "plt.ylabel(\"Count of Grocery Stores\")\n",
    "\n",
    "plt.tight_layout()\n",
    "plt.savefig(\"store_count_bar_chart.png\")\n",
    "plt.show()"
   ]
  },
  {
   "cell_type": "markdown",
   "metadata": {},
   "source": [
    "## Population vs Grocery Store Count"
   ]
  },
  {
   "cell_type": "code",
   "execution_count": 39,
   "metadata": {},
   "outputs": [
    {
     "data": {
      "text/plain": [
       "County\n",
       "Ashtabula County      7\n",
       "Columbiana County     8\n",
       "Cuyahoga County      80\n",
       "Geauga County        15\n",
       "Lake County          26\n",
       "Lorain County         4\n",
       "Mahoning County      20\n",
       "Medina County        12\n",
       "Portage County       15\n",
       "Stark County         18\n",
       "Summit County        51\n",
       "Trumbull County      13\n",
       "Name: Lat, dtype: int64"
      ]
     },
     "execution_count": 39,
     "metadata": {},
     "output_type": "execute_result"
    }
   ],
   "source": [
    "# Create scatter plot of population vs grocery count by county\n",
    "# Determine store counts by county\n",
    "store_count_by_cty = complete_df.groupby(['County']).count()\n",
    "store_count_list = store_count_by_cty['Lat']\n",
    "store_count_list"
   ]
  },
  {
   "cell_type": "code",
   "execution_count": 40,
   "metadata": {},
   "outputs": [
    {
     "data": {
      "text/html": [
       "<div>\n",
       "<style scoped>\n",
       "    .dataframe tbody tr th:only-of-type {\n",
       "        vertical-align: middle;\n",
       "    }\n",
       "\n",
       "    .dataframe tbody tr th {\n",
       "        vertical-align: top;\n",
       "    }\n",
       "\n",
       "    .dataframe thead th {\n",
       "        text-align: right;\n",
       "    }\n",
       "</style>\n",
       "<table border=\"1\" class=\"dataframe\">\n",
       "  <thead>\n",
       "    <tr style=\"text-align: right;\">\n",
       "      <th></th>\n",
       "      <th>Population</th>\n",
       "      <th>County</th>\n",
       "    </tr>\n",
       "  </thead>\n",
       "  <tbody>\n",
       "    <tr>\n",
       "      <th>4</th>\n",
       "      <td>98,136</td>\n",
       "      <td>Ashtabula County</td>\n",
       "    </tr>\n",
       "    <tr>\n",
       "      <th>11</th>\n",
       "      <td>104,003</td>\n",
       "      <td>Columbiana County</td>\n",
       "    </tr>\n",
       "    <tr>\n",
       "      <th>1</th>\n",
       "      <td>1,253,783</td>\n",
       "      <td>Cuyahoga County</td>\n",
       "    </tr>\n",
       "    <tr>\n",
       "      <th>7</th>\n",
       "      <td>93,961</td>\n",
       "      <td>Geauga County</td>\n",
       "    </tr>\n",
       "    <tr>\n",
       "      <th>5</th>\n",
       "      <td>230,052</td>\n",
       "      <td>Lake County</td>\n",
       "    </tr>\n",
       "    <tr>\n",
       "      <th>2</th>\n",
       "      <td>306,713</td>\n",
       "      <td>Lorain County</td>\n",
       "    </tr>\n",
       "    <tr>\n",
       "      <th>3</th>\n",
       "      <td>231,064</td>\n",
       "      <td>Mahoning County</td>\n",
       "    </tr>\n",
       "    <tr>\n",
       "      <th>8</th>\n",
       "      <td>177,257</td>\n",
       "      <td>Medina County</td>\n",
       "    </tr>\n",
       "    <tr>\n",
       "      <th>9</th>\n",
       "      <td>162,644</td>\n",
       "      <td>Portage County</td>\n",
       "    </tr>\n",
       "    <tr>\n",
       "      <th>6</th>\n",
       "      <td>373,475</td>\n",
       "      <td>Stark County</td>\n",
       "    </tr>\n",
       "    <tr>\n",
       "      <th>0</th>\n",
       "      <td>541,810</td>\n",
       "      <td>Summit County</td>\n",
       "    </tr>\n",
       "    <tr>\n",
       "      <th>10</th>\n",
       "      <td>201,794</td>\n",
       "      <td>Trumbull County</td>\n",
       "    </tr>\n",
       "  </tbody>\n",
       "</table>\n",
       "</div>"
      ],
      "text/plain": [
       "   Population             County\n",
       "4      98,136   Ashtabula County\n",
       "11    104,003  Columbiana County\n",
       "1   1,253,783    Cuyahoga County\n",
       "7      93,961      Geauga County\n",
       "5     230,052        Lake County\n",
       "2     306,713      Lorain County\n",
       "3     231,064    Mahoning County\n",
       "8     177,257      Medina County\n",
       "9     162,644     Portage County\n",
       "6     373,475       Stark County\n",
       "0     541,810      Summit County\n",
       "10    201,794    Trumbull County"
      ]
     },
     "execution_count": 40,
     "metadata": {},
     "output_type": "execute_result"
    }
   ],
   "source": [
    "# Hold list of counties needed for later figure\n",
    "counties = store_count_by_cty.index.to_list()\n",
    "\n",
    "#Get list of populations by county\n",
    "pop_list = complete_df['Population'].unique()\n",
    "cty_list = complete_df['County'].unique()\n",
    "pop_list_df = pd.DataFrame({\n",
    "    \"Population\":pop_list,\n",
    "    \"County\": cty_list })\n",
    "pop_list_sorted = pop_list_df.sort_values(by='County')\n",
    "pop_list_sorted"
   ]
  },
  {
   "cell_type": "code",
   "execution_count": 48,
   "metadata": {},
   "outputs": [
    {
     "data": {
      "text/plain": [
       "4       98136\n",
       "11     104003\n",
       "1     1253783\n",
       "7       93961\n",
       "5      230052\n",
       "2      306713\n",
       "3      231064\n",
       "8      177257\n",
       "9      162644\n",
       "6      373475\n",
       "0      541810\n",
       "10     201794\n",
       "Name: Population, dtype: int64"
      ]
     },
     "execution_count": 48,
     "metadata": {},
     "output_type": "execute_result"
    }
   ],
   "source": [
    "pop_list_sorted['Population'] = pop_list_sorted['Population'].str.replace(',', '') #.astype(float)\n",
    "pop_list_num = pd.to_numeric(pop_list_sorted[\"Population\"])\n",
    "pop_list_num"
   ]
  },
  {
   "cell_type": "code",
   "execution_count": 50,
   "metadata": {},
   "outputs": [
    {
     "data": {
      "image/png": "[encoded data removed]",
      "text/plain": [
       "<Figure size 432x288 with 1 Axes>"
      ]
     },
     "metadata": {
      "needs_background": "light"
     },
     "output_type": "display_data"
    }
   ],
   "source": [
    "# Set up scatter plot\n",
    "plt.xlim(0,100)\n",
    "plt.ylim(0,1400000)\n",
    "plt.scatter(store_count_list,pop_list_num,marker='o')\n",
    "        \n",
    "# Set up title and labels\n",
    "plt.title(\"Store Count by Population\")\n",
    "plt.xlabel(\"Store Count\")\n",
    "plt.ylabel(\"Population\")\n",
    "\n",
    "# Save figure \n",
    "plt.savefig(\"store_count_vs_population.png\")\n",
    "plt.show()"
   ]
  },
  {
   "cell_type": "markdown",
   "metadata": {},
   "source": [
    "## Linear Regression of Population vs Grocery Stores"
   ]
  },
  {
   "cell_type": "code",
   "execution_count": 51,
   "metadata": {},
   "outputs": [
    {
     "name": "stdout",
     "output_type": "stream",
     "text": [
      "The Pearson's Correlation Coefficient between county population and store count is 0.93\n"
     ]
    }
   ],
   "source": [
    "# Calculate the correlation coefficient between population and store count\n",
    "store_count_list_reindex = store_count_list.reset_index(drop=True)\n",
    "correlation_df = pd.DataFrame({\"Store Count\": store_count_list_reindex, \"Population\": pop_list_num})\n",
    "\n",
    "#pearsoncorr = correlation_df.corr(method='pearson')\n",
    "#print(pearsoncorr)\n",
    "\n",
    "corr = st.pearsonr(store_count_list_reindex,pop_list_num)\n",
    "print(f\"The Pearson's Correlation Coefficient between county population and store count is {round(corr[0],2)}\")"
   ]
  },
  {
   "cell_type": "code",
   "execution_count": 53,
   "metadata": {},
   "outputs": [
    {
     "data": {
      "image/png": "[encoded data removed]",
      "text/plain": [
       "<Figure size 432x288 with 1 Axes>"
      ]
     },
     "metadata": {
      "needs_background": "light"
     },
     "output_type": "display_data"
    }
   ],
   "source": [
    "# Perform a linear regression\n",
    "vc_slope, vc_int, vc_r, vc_p, vc_std_err = st.linregress(store_count_list_reindex, pop_list_num)\n",
    "\n",
    "# Create equation of line to calculate predicted violent crime rate\n",
    "vc_fit = vc_slope * store_count_list_reindex + vc_int\n",
    "\n",
    "# Plot the linear model on top of scatter plot \n",
    "plt.scatter(store_count_list_reindex, pop_list_num, color='g')\n",
    "plt.plot(store_count_list_reindex,vc_fit,\"--\")\n",
    "plt.title(\"Store Count by Population with Linear Regression\")\n",
    "plt.xlabel(\"Store Count\")\n",
    "plt.ylabel(\"Population\")\n",
    "plt.xlim(0,100)\n",
    "plt.ylim(0,1400000)\n",
    "\n",
    "# Save plot\n",
    "plt.savefig(\"store_count_vs_pop_linearreg.png\")\n",
    "plt.show()"
   ]
  },
  {
   "cell_type": "markdown",
   "metadata": {},
   "source": [
    "## Grocery Stores by County"
   ]
  },
  {
   "cell_type": "code",
   "execution_count": 54,
   "metadata": {},
   "outputs": [
    {
     "data": {
      "image/png": "[encoded data removed]",
      "text/plain": [
       "<Figure size 432x288 with 1 Axes>"
      ]
     },
     "metadata": {
      "needs_background": "light"
     },
     "output_type": "display_data"
    }
   ],
   "source": [
    "# Set up bar chart for store count by county\n",
    "x_labels2 = store_count_list.index.to_list()\n",
    "x_axis = np.arange(len(counties))\n",
    "plt.bar(x_axis,store_count_list,color='r',align='center',zorder=3)\n",
    "\n",
    "# Set limits of chart\n",
    "plt.xlim(-0.75, len(x_axis)-0.25)\n",
    "plt.ylim(0,100)\n",
    "\n",
    "# Set up x-axis tick marks\n",
    "tick_locations = [value for value in x_axis]\n",
    "plt.xticks(tick_locations,x_labels2,rotation=90) \n",
    "\n",
    "# Enter title and labels\n",
    "plt.title(\"Count of Grocery Stores by County\")\n",
    "plt.xlabel(\"County\")\n",
    "plt.ylabel(\"Count of Grocery Stores\")\n",
    "\n",
    "plt.tight_layout()\n",
    "plt.savefig(\"store_count_by_county.png\")\n",
    "plt.grid(zorder=0)\n",
    "plt.show()"
   ]
  },
  {
   "cell_type": "markdown",
   "metadata": {},
   "source": [
    "## Poverty Rate vs Grocery Store Count"
   ]
  },
  {
   "cell_type": "code",
   "execution_count": 55,
   "metadata": {},
   "outputs": [
    {
     "data": {
      "text/html": [
       "<div>\n",
       "<style scoped>\n",
       "    .dataframe tbody tr th:only-of-type {\n",
       "        vertical-align: middle;\n",
       "    }\n",
       "\n",
       "    .dataframe tbody tr th {\n",
       "        vertical-align: top;\n",
       "    }\n",
       "\n",
       "    .dataframe thead th {\n",
       "        text-align: right;\n",
       "    }\n",
       "</style>\n",
       "<table border=\"1\" class=\"dataframe\">\n",
       "  <thead>\n",
       "    <tr style=\"text-align: right;\">\n",
       "      <th></th>\n",
       "      <th>Poverty Rate</th>\n",
       "      <th>County</th>\n",
       "    </tr>\n",
       "  </thead>\n",
       "  <tbody>\n",
       "    <tr>\n",
       "      <th>4</th>\n",
       "      <td>19.58%</td>\n",
       "      <td>Ashtabula County</td>\n",
       "    </tr>\n",
       "    <tr>\n",
       "      <th>11</th>\n",
       "      <td>14.08%</td>\n",
       "      <td>Columbiana County</td>\n",
       "    </tr>\n",
       "    <tr>\n",
       "      <th>1</th>\n",
       "      <td>17.70%</td>\n",
       "      <td>Cuyahoga County</td>\n",
       "    </tr>\n",
       "    <tr>\n",
       "      <th>7</th>\n",
       "      <td>6.00%</td>\n",
       "      <td>Geauga County</td>\n",
       "    </tr>\n",
       "    <tr>\n",
       "      <th>5</th>\n",
       "      <td>8.19%</td>\n",
       "      <td>Lake County</td>\n",
       "    </tr>\n",
       "    <tr>\n",
       "      <th>2</th>\n",
       "      <td>13.30%</td>\n",
       "      <td>Lorain County</td>\n",
       "    </tr>\n",
       "    <tr>\n",
       "      <th>3</th>\n",
       "      <td>17.07%</td>\n",
       "      <td>Mahoning County</td>\n",
       "    </tr>\n",
       "    <tr>\n",
       "      <th>8</th>\n",
       "      <td>6.38%</td>\n",
       "      <td>Medina County</td>\n",
       "    </tr>\n",
       "    <tr>\n",
       "      <th>9</th>\n",
       "      <td>12.51%</td>\n",
       "      <td>Portage County</td>\n",
       "    </tr>\n",
       "    <tr>\n",
       "      <th>6</th>\n",
       "      <td>13.50%</td>\n",
       "      <td>Stark County</td>\n",
       "    </tr>\n",
       "    <tr>\n",
       "      <th>0</th>\n",
       "      <td>12.84%</td>\n",
       "      <td>Summit County</td>\n",
       "    </tr>\n",
       "    <tr>\n",
       "      <th>10</th>\n",
       "      <td>17.15%</td>\n",
       "      <td>Trumbull County</td>\n",
       "    </tr>\n",
       "  </tbody>\n",
       "</table>\n",
       "</div>"
      ],
      "text/plain": [
       "   Poverty Rate             County\n",
       "4        19.58%   Ashtabula County\n",
       "11       14.08%  Columbiana County\n",
       "1        17.70%    Cuyahoga County\n",
       "7         6.00%      Geauga County\n",
       "5         8.19%        Lake County\n",
       "2        13.30%      Lorain County\n",
       "3        17.07%    Mahoning County\n",
       "8         6.38%      Medina County\n",
       "9        12.51%     Portage County\n",
       "6        13.50%       Stark County\n",
       "0        12.84%      Summit County\n",
       "10       17.15%    Trumbull County"
      ]
     },
     "execution_count": 55,
     "metadata": {},
     "output_type": "execute_result"
    }
   ],
   "source": [
    "# Create scatter plot of poverty rate vs grocery count by county\n",
    "# Get list of poverty rates by county\n",
    "pov_rate_list = complete_df['Poverty Rate'].unique()\n",
    "pov_rate_df = pd.DataFrame({\n",
    "    \"Poverty Rate\": pov_rate_list,\n",
    "    \"County\": cty_list })\n",
    "pov_rate_sorted = pov_rate_df.sort_values(by='County')\n",
    "pov_rate_sorted"
   ]
  },
  {
   "cell_type": "code",
   "execution_count": 57,
   "metadata": {},
   "outputs": [
    {
     "data": {
      "text/plain": [
       "4     19.58\n",
       "11    14.08\n",
       "1     17.70\n",
       "7      6.00\n",
       "5      8.19\n",
       "2     13.30\n",
       "3     17.07\n",
       "8      6.38\n",
       "9     12.51\n",
       "6     13.50\n",
       "0     12.84\n",
       "10    17.15\n",
       "Name: Poverty Rate, dtype: float64"
      ]
     },
     "execution_count": 57,
     "metadata": {},
     "output_type": "execute_result"
    }
   ],
   "source": [
    "# Remove percentages and convert population column to numeric values\n",
    "pov_rate_sorted['Poverty Rate'] = pov_rate_sorted['Poverty Rate'].str.replace('%', '')\n",
    "pov_rate_num = pd.to_numeric(pov_rate_sorted[\"Poverty Rate\"])\n",
    "pov_rate_num"
   ]
  },
  {
   "cell_type": "code",
   "execution_count": 58,
   "metadata": {},
   "outputs": [
    {
     "data": {
      "image/png": "[encoded data removed]",
      "text/plain": [
       "<Figure size 432x288 with 1 Axes>"
      ]
     },
     "metadata": {
      "needs_background": "light"
     },
     "output_type": "display_data"
    }
   ],
   "source": [
    "# Set up scatter plot\n",
    "plt.xlim(0,100)\n",
    "plt.ylim(0,25)\n",
    "plt.scatter(store_count_list,pov_rate_num,marker='o',zorder=3)\n",
    "        \n",
    "# Set up title and labels\n",
    "plt.title(\"Store Count vs Poverty Rate\")\n",
    "plt.xlabel(\"Store Count\")\n",
    "plt.ylabel(\"Poverty Rate (%)\")\n",
    "\n",
    "# Save figure \n",
    "plt.savefig(\"store_count_vs_povertyrate.png\")\n",
    "plt.grid(zorder=0)\n",
    "plt.show()"
   ]
  },
  {
   "cell_type": "code",
   "execution_count": 59,
   "metadata": {},
   "outputs": [
    {
     "name": "stdout",
     "output_type": "stream",
     "text": [
      "The Pearson's Correlation Coefficient between county poverty rate and store count is 0.19\n"
     ]
    }
   ],
   "source": [
    "correlation = st.pearsonr(store_count_list_reindex,pov_rate_num)\n",
    "print(f\"The Pearson's Correlation Coefficient between county poverty rate and store count is {round(correlation[0],2)}\")"
   ]
  },
  {
   "cell_type": "markdown",
   "metadata": {},
   "source": [
    "## Income vs Grocery Store Count"
   ]
  },
  {
   "cell_type": "code",
   "execution_count": 60,
   "metadata": {},
   "outputs": [
    {
     "data": {
      "text/html": [
       "<div>\n",
       "<style scoped>\n",
       "    .dataframe tbody tr th:only-of-type {\n",
       "        vertical-align: middle;\n",
       "    }\n",
       "\n",
       "    .dataframe tbody tr th {\n",
       "        vertical-align: top;\n",
       "    }\n",
       "\n",
       "    .dataframe thead th {\n",
       "        text-align: right;\n",
       "    }\n",
       "</style>\n",
       "<table border=\"1\" class=\"dataframe\">\n",
       "  <thead>\n",
       "    <tr style=\"text-align: right;\">\n",
       "      <th></th>\n",
       "      <th>Income</th>\n",
       "      <th>County</th>\n",
       "    </tr>\n",
       "  </thead>\n",
       "  <tbody>\n",
       "    <tr>\n",
       "      <th>4</th>\n",
       "      <td>$              44,823</td>\n",
       "      <td>Ashtabula County</td>\n",
       "    </tr>\n",
       "    <tr>\n",
       "      <th>11</th>\n",
       "      <td>$              46,306</td>\n",
       "      <td>Columbiana County</td>\n",
       "    </tr>\n",
       "    <tr>\n",
       "      <th>1</th>\n",
       "      <td>$              48,435</td>\n",
       "      <td>Cuyahoga County</td>\n",
       "    </tr>\n",
       "    <tr>\n",
       "      <th>7</th>\n",
       "      <td>$              79,956</td>\n",
       "      <td>Geauga County</td>\n",
       "    </tr>\n",
       "    <tr>\n",
       "      <th>5</th>\n",
       "      <td>$              63,475</td>\n",
       "      <td>Lake County</td>\n",
       "    </tr>\n",
       "    <tr>\n",
       "      <th>2</th>\n",
       "      <td>$              56,965</td>\n",
       "      <td>Lorain County</td>\n",
       "    </tr>\n",
       "    <tr>\n",
       "      <th>3</th>\n",
       "      <td>$              44,682</td>\n",
       "      <td>Mahoning County</td>\n",
       "    </tr>\n",
       "    <tr>\n",
       "      <th>8</th>\n",
       "      <td>$              74,243</td>\n",
       "      <td>Medina County</td>\n",
       "    </tr>\n",
       "    <tr>\n",
       "      <th>9</th>\n",
       "      <td>$              56,618</td>\n",
       "      <td>Portage County</td>\n",
       "    </tr>\n",
       "    <tr>\n",
       "      <th>6</th>\n",
       "      <td>$              52,190</td>\n",
       "      <td>Stark County</td>\n",
       "    </tr>\n",
       "    <tr>\n",
       "      <th>0</th>\n",
       "      <td>$              55,448</td>\n",
       "      <td>Summit County</td>\n",
       "    </tr>\n",
       "    <tr>\n",
       "      <th>10</th>\n",
       "      <td>$              45,975</td>\n",
       "      <td>Trumbull County</td>\n",
       "    </tr>\n",
       "  </tbody>\n",
       "</table>\n",
       "</div>"
      ],
      "text/plain": [
       "                   Income             County\n",
       "4   $              44,823   Ashtabula County\n",
       "11  $              46,306  Columbiana County\n",
       "1   $              48,435    Cuyahoga County\n",
       "7   $              79,956      Geauga County\n",
       "5   $              63,475        Lake County\n",
       "2   $              56,965      Lorain County\n",
       "3   $              44,682    Mahoning County\n",
       "8   $              74,243      Medina County\n",
       "9   $              56,618     Portage County\n",
       "6   $              52,190       Stark County\n",
       "0   $              55,448      Summit County\n",
       "10  $              45,975    Trumbull County"
      ]
     },
     "execution_count": 60,
     "metadata": {},
     "output_type": "execute_result"
    }
   ],
   "source": [
    "# Create scatter plot of income vs grocery count by county\n",
    "# Get list of incomes by county\n",
    "income_list = complete_df['Household Income'].unique()\n",
    "income_df = pd.DataFrame({\n",
    "    \"Income\": income_list,\n",
    "    \"County\": cty_list })\n",
    "income_sorted = income_df.sort_values(by='County')\n",
    "income_sorted"
   ]
  },
  {
   "cell_type": "code",
   "execution_count": 61,
   "metadata": {},
   "outputs": [
    {
     "data": {
      "text/plain": [
       "4     44823\n",
       "11    46306\n",
       "1     48435\n",
       "7     79956\n",
       "5     63475\n",
       "2     56965\n",
       "3     44682\n",
       "8     74243\n",
       "9     56618\n",
       "6     52190\n",
       "0     55448\n",
       "10    45975\n",
       "Name: Income, dtype: int64"
      ]
     },
     "execution_count": 61,
     "metadata": {},
     "output_type": "execute_result"
    }
   ],
   "source": [
    "# Remove dollar signs and commas and convert to numeric\n",
    "income_sorted['Income'] = income_sorted['Income'].str.replace('$', '')\n",
    "income_sorted['Income'] = income_sorted['Income'].str.replace(',', '')\n",
    "income_num = pd.to_numeric(income_sorted[\"Income\"])\n",
    "income_num"
   ]
  },
  {
   "cell_type": "code",
   "execution_count": 62,
   "metadata": {},
   "outputs": [
    {
     "data": {
      "image/png": "[encoded data removed]",
      "text/plain": [
       "<Figure size 432x288 with 1 Axes>"
      ]
     },
     "metadata": {
      "needs_background": "light"
     },
     "output_type": "display_data"
    }
   ],
   "source": [
    "# Set up scatter plot\n",
    "plt.xlim(0,100)\n",
    "plt.ylim(0,100000)\n",
    "plt.scatter(store_count_list,income_num,marker='o',zorder=3)\n",
    "        \n",
    "# Set up title and labels\n",
    "plt.title(\"Store Count vs Household Income\")\n",
    "plt.xlabel(\"Store Count\")\n",
    "plt.ylabel(\"Household Income\")\n",
    "\n",
    "# Save figure \n",
    "plt.savefig(\"store_count_vs_income.png\")\n",
    "plt.grid(zorder=0)\n",
    "plt.show()"
   ]
  },
  {
   "cell_type": "code",
   "execution_count": 63,
   "metadata": {},
   "outputs": [
    {
     "name": "stdout",
     "output_type": "stream",
     "text": [
      "The Pearson's Correlation Coefficient between county household income and store count is -0.13\n"
     ]
    }
   ],
   "source": [
    "correlation2 = st.pearsonr(store_count_list_reindex,income_num)\n",
    "print(f\"The Pearson's Correlation Coefficient between county household income and store count is {round(correlation2[0],2)}\")"
   ]
  },
  {
   "cell_type": "markdown",
   "metadata": {},
   "source": [
    "## Population Distribution by County"
   ]
  },
  {
   "cell_type": "code",
   "execution_count": 4,
   "metadata": {},
   "outputs": [
    {
     "data": {
      "text/html": [
       "<div>\n",
       "<style scoped>\n",
       "    .dataframe tbody tr th:only-of-type {\n",
       "        vertical-align: middle;\n",
       "    }\n",
       "\n",
       "    .dataframe tbody tr th {\n",
       "        vertical-align: top;\n",
       "    }\n",
       "\n",
       "    .dataframe thead th {\n",
       "        text-align: right;\n",
       "    }\n",
       "</style>\n",
       "<table border=\"1\" class=\"dataframe\">\n",
       "  <thead>\n",
       "    <tr style=\"text-align: right;\">\n",
       "      <th></th>\n",
       "      <th>Lat</th>\n",
       "      <th>Lng</th>\n",
       "      <th>Address</th>\n",
       "      <th>Place ID</th>\n",
       "      <th>County</th>\n",
       "      <th>Population</th>\n",
       "      <th>Household Income</th>\n",
       "      <th>Per Capita Income</th>\n",
       "      <th>Poverty Count</th>\n",
       "      <th>Poverty Rate</th>\n",
       "    </tr>\n",
       "    <tr>\n",
       "      <th>Store Name</th>\n",
       "      <th></th>\n",
       "      <th></th>\n",
       "      <th></th>\n",
       "      <th></th>\n",
       "      <th></th>\n",
       "      <th></th>\n",
       "      <th></th>\n",
       "      <th></th>\n",
       "      <th></th>\n",
       "      <th></th>\n",
       "    </tr>\n",
       "  </thead>\n",
       "  <tbody>\n",
       "    <tr>\n",
       "      <th>Costco Wholesale</th>\n",
       "      <td>41.265324</td>\n",
       "      <td>-81.507401</td>\n",
       "      <td>6720 Bass Pro Dr, Hudson</td>\n",
       "      <td>ChIJrwEsWXIgMYgRnko93meT4s0</td>\n",
       "      <td>Summit County</td>\n",
       "      <td>541,810</td>\n",
       "      <td>$              55,448</td>\n",
       "      <td>$              32,055</td>\n",
       "      <td>69,576</td>\n",
       "      <td>12.84%</td>\n",
       "    </tr>\n",
       "    <tr>\n",
       "      <th>BJ's Wholesale</th>\n",
       "      <td>41.115934</td>\n",
       "      <td>-81.482591</td>\n",
       "      <td>1677 Home Ave, Akron</td>\n",
       "      <td>ChIJr1lVVGUoMYgRZyNHvaFakyk</td>\n",
       "      <td>Summit County</td>\n",
       "      <td>541,810</td>\n",
       "      <td>$              55,448</td>\n",
       "      <td>$              32,055</td>\n",
       "      <td>69,576</td>\n",
       "      <td>12.84%</td>\n",
       "    </tr>\n",
       "    <tr>\n",
       "      <th>Target</th>\n",
       "      <td>41.120956</td>\n",
       "      <td>-81.477382</td>\n",
       "      <td>449 Howe Avenue, Cuyahoga Falls</td>\n",
       "      <td>ChIJ4yprBHwoMYgRH8i8pVsr_wg</td>\n",
       "      <td>Summit County</td>\n",
       "      <td>541,810</td>\n",
       "      <td>$              55,448</td>\n",
       "      <td>$              32,055</td>\n",
       "      <td>69,576</td>\n",
       "      <td>12.84%</td>\n",
       "    </tr>\n",
       "    <tr>\n",
       "      <th>Target</th>\n",
       "      <td>41.128045</td>\n",
       "      <td>-81.605230</td>\n",
       "      <td>2801 West Market Street, Fairlawn</td>\n",
       "      <td>ChIJGTnBXK3QMIgRDgULwwfSHv8</td>\n",
       "      <td>Summit County</td>\n",
       "      <td>541,810</td>\n",
       "      <td>$              55,448</td>\n",
       "      <td>$              32,055</td>\n",
       "      <td>69,576</td>\n",
       "      <td>12.84%</td>\n",
       "    </tr>\n",
       "    <tr>\n",
       "      <th>Target</th>\n",
       "      <td>40.983936</td>\n",
       "      <td>-81.495815</td>\n",
       "      <td>762 Arlington Ridge, Akron</td>\n",
       "      <td>ChIJs7bpDL8qMYgRm6Akf2ZDq08</td>\n",
       "      <td>Summit County</td>\n",
       "      <td>541,810</td>\n",
       "      <td>$              55,448</td>\n",
       "      <td>$              32,055</td>\n",
       "      <td>69,576</td>\n",
       "      <td>12.84%</td>\n",
       "    </tr>\n",
       "  </tbody>\n",
       "</table>\n",
       "</div>"
      ],
      "text/plain": [
       "                        Lat        Lng                            Address  \\\n",
       "Store Name                                                                  \n",
       "Costco Wholesale  41.265324 -81.507401           6720 Bass Pro Dr, Hudson   \n",
       "BJ's Wholesale    41.115934 -81.482591               1677 Home Ave, Akron   \n",
       "Target            41.120956 -81.477382    449 Howe Avenue, Cuyahoga Falls   \n",
       "Target            41.128045 -81.605230  2801 West Market Street, Fairlawn   \n",
       "Target            40.983936 -81.495815         762 Arlington Ridge, Akron   \n",
       "\n",
       "                                     Place ID         County Population  \\\n",
       "Store Name                                                                \n",
       "Costco Wholesale  ChIJrwEsWXIgMYgRnko93meT4s0  Summit County    541,810   \n",
       "BJ's Wholesale    ChIJr1lVVGUoMYgRZyNHvaFakyk  Summit County    541,810   \n",
       "Target            ChIJ4yprBHwoMYgRH8i8pVsr_wg  Summit County    541,810   \n",
       "Target            ChIJGTnBXK3QMIgRDgULwwfSHv8  Summit County    541,810   \n",
       "Target            ChIJs7bpDL8qMYgRm6Akf2ZDq08  Summit County    541,810   \n",
       "\n",
       "                       Household Income      Per Capita Income Poverty Count  \\\n",
       "Store Name                                                                     \n",
       "Costco Wholesale  $              55,448  $              32,055        69,576   \n",
       "BJ's Wholesale    $              55,448  $              32,055        69,576   \n",
       "Target            $              55,448  $              32,055        69,576   \n",
       "Target            $              55,448  $              32,055        69,576   \n",
       "Target            $              55,448  $              32,055        69,576   \n",
       "\n",
       "                 Poverty Rate  \n",
       "Store Name                     \n",
       "Costco Wholesale       12.84%  \n",
       "BJ's Wholesale         12.84%  \n",
       "Target                 12.84%  \n",
       "Target                 12.84%  \n",
       "Target                 12.84%  "
      ]
     },
     "execution_count": 4,
     "metadata": {},
     "output_type": "execute_result"
    }
   ],
   "source": [
    "data = pd.read_csv(\"Output_CSVs/complete_data2.csv\", index_col =\"Store Name\")\n",
    "data.head()"
   ]
  },
  {
   "cell_type": "code",
   "execution_count": 5,
   "metadata": {},
   "outputs": [
    {
     "data": {
      "text/html": [
       "<div>\n",
       "<style scoped>\n",
       "    .dataframe tbody tr th:only-of-type {\n",
       "        vertical-align: middle;\n",
       "    }\n",
       "\n",
       "    .dataframe tbody tr th {\n",
       "        vertical-align: top;\n",
       "    }\n",
       "\n",
       "    .dataframe thead th {\n",
       "        text-align: right;\n",
       "    }\n",
       "</style>\n",
       "<table border=\"1\" class=\"dataframe\">\n",
       "  <thead>\n",
       "    <tr style=\"text-align: right;\">\n",
       "      <th></th>\n",
       "      <th>Lat</th>\n",
       "      <th>Lng</th>\n",
       "      <th>Address</th>\n",
       "      <th>Place ID</th>\n",
       "      <th>County</th>\n",
       "      <th>Population</th>\n",
       "      <th>Household Income</th>\n",
       "      <th>Per Capita Income</th>\n",
       "      <th>Poverty Count</th>\n",
       "      <th>Poverty Rate</th>\n",
       "    </tr>\n",
       "  </thead>\n",
       "  <tbody>\n",
       "    <tr>\n",
       "      <th>0</th>\n",
       "      <td>41.265324</td>\n",
       "      <td>-81.507401</td>\n",
       "      <td>6720 Bass Pro Dr, Hudson</td>\n",
       "      <td>ChIJrwEsWXIgMYgRnko93meT4s0</td>\n",
       "      <td>Summit County</td>\n",
       "      <td>541,810</td>\n",
       "      <td>$              55,448</td>\n",
       "      <td>$              32,055</td>\n",
       "      <td>69,576</td>\n",
       "      <td>12.84%</td>\n",
       "    </tr>\n",
       "    <tr>\n",
       "      <th>1</th>\n",
       "      <td>41.316908</td>\n",
       "      <td>-81.815903</td>\n",
       "      <td>16690 Royalton Rd, Strongsville</td>\n",
       "      <td>ChIJNa2MJXnqMIgRmZ164eouXjE</td>\n",
       "      <td>Cuyahoga County</td>\n",
       "      <td>1,253,783</td>\n",
       "      <td>$              48,435</td>\n",
       "      <td>$              31,804</td>\n",
       "      <td>221,899</td>\n",
       "      <td>17.70%</td>\n",
       "    </tr>\n",
       "  </tbody>\n",
       "</table>\n",
       "</div>"
      ],
      "text/plain": [
       "         Lat        Lng                          Address  \\\n",
       "0  41.265324 -81.507401         6720 Bass Pro Dr, Hudson   \n",
       "1  41.316908 -81.815903  16690 Royalton Rd, Strongsville   \n",
       "\n",
       "                      Place ID           County Population  \\\n",
       "0  ChIJrwEsWXIgMYgRnko93meT4s0    Summit County    541,810   \n",
       "1  ChIJNa2MJXnqMIgRmZ164eouXjE  Cuyahoga County  1,253,783   \n",
       "\n",
       "        Household Income      Per Capita Income Poverty Count Poverty Rate  \n",
       "0  $              55,448  $              32,055        69,576       12.84%  \n",
       "1  $              48,435  $              31,804       221,899       17.70%  "
      ]
     },
     "execution_count": 5,
     "metadata": {},
     "output_type": "execute_result"
    }
   ],
   "source": [
    "data = data.drop_duplicates(subset = \"County\").reset_index(drop=True)\n",
    "data.head(2)"
   ]
  },
  {
   "cell_type": "code",
   "execution_count": 6,
   "metadata": {},
   "outputs": [
    {
     "data": {
      "text/html": [
       "<div>\n",
       "<style scoped>\n",
       "    .dataframe tbody tr th:only-of-type {\n",
       "        vertical-align: middle;\n",
       "    }\n",
       "\n",
       "    .dataframe tbody tr th {\n",
       "        vertical-align: top;\n",
       "    }\n",
       "\n",
       "    .dataframe thead th {\n",
       "        text-align: right;\n",
       "    }\n",
       "</style>\n",
       "<table border=\"1\" class=\"dataframe\">\n",
       "  <thead>\n",
       "    <tr style=\"text-align: right;\">\n",
       "      <th></th>\n",
       "      <th>Lat</th>\n",
       "      <th>Lng</th>\n",
       "      <th>Address</th>\n",
       "      <th>Place ID</th>\n",
       "      <th>County</th>\n",
       "      <th>Population</th>\n",
       "      <th>Household Income</th>\n",
       "      <th>Per Capita Income</th>\n",
       "      <th>Poverty Count</th>\n",
       "      <th>Poverty Rate</th>\n",
       "    </tr>\n",
       "  </thead>\n",
       "  <tbody>\n",
       "    <tr>\n",
       "      <th>0</th>\n",
       "      <td>41.265324</td>\n",
       "      <td>-81.507401</td>\n",
       "      <td>6720 Bass Pro Dr, Hudson</td>\n",
       "      <td>ChIJrwEsWXIgMYgRnko93meT4s0</td>\n",
       "      <td>Summit County</td>\n",
       "      <td>541,810</td>\n",
       "      <td>$              55,448</td>\n",
       "      <td>$              32,055</td>\n",
       "      <td>69,576</td>\n",
       "      <td>12.84%</td>\n",
       "    </tr>\n",
       "    <tr>\n",
       "      <th>1</th>\n",
       "      <td>41.316908</td>\n",
       "      <td>-81.815903</td>\n",
       "      <td>16690 Royalton Rd, Strongsville</td>\n",
       "      <td>ChIJNa2MJXnqMIgRmZ164eouXjE</td>\n",
       "      <td>Cuyahoga County</td>\n",
       "      <td>1,253,783</td>\n",
       "      <td>$              48,435</td>\n",
       "      <td>$              31,804</td>\n",
       "      <td>221,899</td>\n",
       "      <td>17.70%</td>\n",
       "    </tr>\n",
       "  </tbody>\n",
       "</table>\n",
       "</div>"
      ],
      "text/plain": [
       "         Lat        Lng                          Address  \\\n",
       "0  41.265324 -81.507401         6720 Bass Pro Dr, Hudson   \n",
       "1  41.316908 -81.815903  16690 Royalton Rd, Strongsville   \n",
       "\n",
       "                      Place ID           County Population  \\\n",
       "0  ChIJrwEsWXIgMYgRnko93meT4s0    Summit County    541,810   \n",
       "1  ChIJNa2MJXnqMIgRmZ164eouXjE  Cuyahoga County  1,253,783   \n",
       "\n",
       "        Household Income      Per Capita Income Poverty Count Poverty Rate  \n",
       "0  $              55,448  $              32,055        69,576       12.84%  \n",
       "1  $              48,435  $              31,804       221,899       17.70%  "
      ]
     },
     "execution_count": 6,
     "metadata": {},
     "output_type": "execute_result"
    }
   ],
   "source": [
    "pf = pd.DataFrame(data)\n",
    "pf.head(2)"
   ]
  },
  {
   "cell_type": "code",
   "execution_count": 8,
   "metadata": {},
   "outputs": [
    {
     "data": {
      "text/html": [
       "<div>\n",
       "<style scoped>\n",
       "    .dataframe tbody tr th:only-of-type {\n",
       "        vertical-align: middle;\n",
       "    }\n",
       "\n",
       "    .dataframe tbody tr th {\n",
       "        vertical-align: top;\n",
       "    }\n",
       "\n",
       "    .dataframe thead th {\n",
       "        text-align: right;\n",
       "    }\n",
       "</style>\n",
       "<table border=\"1\" class=\"dataframe\">\n",
       "  <thead>\n",
       "    <tr style=\"text-align: right;\">\n",
       "      <th></th>\n",
       "      <th>County</th>\n",
       "      <th>Population</th>\n",
       "      <th>Household Income</th>\n",
       "    </tr>\n",
       "  </thead>\n",
       "  <tbody>\n",
       "    <tr>\n",
       "      <th>0</th>\n",
       "      <td>Summit County</td>\n",
       "      <td>541,810</td>\n",
       "      <td>$              55,448</td>\n",
       "    </tr>\n",
       "    <tr>\n",
       "      <th>1</th>\n",
       "      <td>Cuyahoga County</td>\n",
       "      <td>1,253,783</td>\n",
       "      <td>$              48,435</td>\n",
       "    </tr>\n",
       "    <tr>\n",
       "      <th>2</th>\n",
       "      <td>Lorain County</td>\n",
       "      <td>306,713</td>\n",
       "      <td>$              56,965</td>\n",
       "    </tr>\n",
       "    <tr>\n",
       "      <th>3</th>\n",
       "      <td>Mahoning County</td>\n",
       "      <td>231,064</td>\n",
       "      <td>$              44,682</td>\n",
       "    </tr>\n",
       "    <tr>\n",
       "      <th>4</th>\n",
       "      <td>Ashtabula County</td>\n",
       "      <td>98,136</td>\n",
       "      <td>$              44,823</td>\n",
       "    </tr>\n",
       "    <tr>\n",
       "      <th>5</th>\n",
       "      <td>Lake County</td>\n",
       "      <td>230,052</td>\n",
       "      <td>$              63,475</td>\n",
       "    </tr>\n",
       "    <tr>\n",
       "      <th>6</th>\n",
       "      <td>Stark County</td>\n",
       "      <td>373,475</td>\n",
       "      <td>$              52,190</td>\n",
       "    </tr>\n",
       "    <tr>\n",
       "      <th>7</th>\n",
       "      <td>Geauga County</td>\n",
       "      <td>93,961</td>\n",
       "      <td>$              79,956</td>\n",
       "    </tr>\n",
       "    <tr>\n",
       "      <th>8</th>\n",
       "      <td>Medina County</td>\n",
       "      <td>177,257</td>\n",
       "      <td>$              74,243</td>\n",
       "    </tr>\n",
       "    <tr>\n",
       "      <th>9</th>\n",
       "      <td>Portage County</td>\n",
       "      <td>162,644</td>\n",
       "      <td>$              56,618</td>\n",
       "    </tr>\n",
       "    <tr>\n",
       "      <th>10</th>\n",
       "      <td>Trumbull County</td>\n",
       "      <td>201,794</td>\n",
       "      <td>$              45,975</td>\n",
       "    </tr>\n",
       "    <tr>\n",
       "      <th>11</th>\n",
       "      <td>Columbiana County</td>\n",
       "      <td>104,003</td>\n",
       "      <td>$              46,306</td>\n",
       "    </tr>\n",
       "  </tbody>\n",
       "</table>\n",
       "</div>"
      ],
      "text/plain": [
       "               County Population       Household Income\n",
       "0       Summit County    541,810  $              55,448\n",
       "1     Cuyahoga County  1,253,783  $              48,435\n",
       "2       Lorain County    306,713  $              56,965\n",
       "3     Mahoning County    231,064  $              44,682\n",
       "4    Ashtabula County     98,136  $              44,823\n",
       "5         Lake County    230,052  $              63,475\n",
       "6        Stark County    373,475  $              52,190\n",
       "7       Geauga County     93,961  $              79,956\n",
       "8       Medina County    177,257  $              74,243\n",
       "9      Portage County    162,644  $              56,618\n",
       "10    Trumbull County    201,794  $              45,975\n",
       "11  Columbiana County    104,003  $              46,306"
      ]
     },
     "execution_count": 8,
     "metadata": {},
     "output_type": "execute_result"
    }
   ],
   "source": [
    "pf = data.iloc[:,lambda data: [4,5,6,]]\n",
    "pf.head(15)"
   ]
  },
  {
   "cell_type": "code",
   "execution_count": 9,
   "metadata": {},
   "outputs": [],
   "source": [
    "county = ['Summit','Cuyahoga','Lorain','Mahoning','Ashtabula','Lake','Stark','Geauga','Medina',\n",
    "          'Portage','Trumbull','Columbiana']\n",
    "Population = [541810,1253783,306713,231064,98136,230052,373475,93961,177257,162644,201794,104003]\n",
    "income = [55448,48435,56965,44682,44823,63475,52190,79956,74243,56618,45975,46306]  "
   ]
  },
  {
   "cell_type": "code",
   "execution_count": 10,
   "metadata": {},
   "outputs": [
    {
     "data": {
      "image/png": "[encoded data removed]",
      "text/plain": [
       "<Figure size 432x288 with 1 Axes>"
      ]
     },
     "metadata": {
      "needs_background": "light"
     },
     "output_type": "display_data"
    }
   ],
   "source": [
    "x_axis = np.arange(len(Population))\n",
    "plt.bar(x_axis, Population, color=\"b\", align=\"center\")\n",
    "# Set limits of chart\n",
    "plt.xlim(-0.75, len(x_axis)-0.25)\n",
    "plt.ylim(0,1500000)\n",
    "# Set up x-axis tick marks\n",
    "tick_locations = [value for value in x_axis]\n",
    "plt.xticks(tick_locations,county,rotation=90)\n",
    "\n",
    "# Enter title and labels\n",
    "plt.title(\"Population Distribution by County\")\n",
    "plt.xlabel(\"County\")\n",
    "plt.ylabel(\"Population\")\n",
    "\n",
    "plt.tight_layout()\n",
    "plt.savefig(\"Population_Distribution.png\")\n",
    "plt.grid(zorder=0)\n",
    "plt.show()"
   ]
  },
  {
   "cell_type": "markdown",
   "metadata": {},
   "source": [
    "## Household Income Distribution by County"
   ]
  },
  {
   "cell_type": "code",
   "execution_count": 14,
   "metadata": {},
   "outputs": [
    {
     "name": "stderr",
     "output_type": "stream",
     "text": [
      "C:\\Users\\Ben\\.conda\\envs\\PythonData\\lib\\site-packages\\ipykernel_launcher.py:1: SettingWithCopyWarning: \n",
      "A value is trying to be set on a copy of a slice from a DataFrame.\n",
      "Try using .loc[row_indexer,col_indexer] = value instead\n",
      "\n",
      "See the caveats in the documentation: https://pandas.pydata.org/pandas-docs/stable/user_guide/indexing.html#returning-a-view-versus-a-copy\n",
      "  \"\"\"Entry point for launching an IPython kernel.\n",
      "C:\\Users\\Ben\\.conda\\envs\\PythonData\\lib\\site-packages\\ipykernel_launcher.py:2: SettingWithCopyWarning: \n",
      "A value is trying to be set on a copy of a slice from a DataFrame.\n",
      "Try using .loc[row_indexer,col_indexer] = value instead\n",
      "\n",
      "See the caveats in the documentation: https://pandas.pydata.org/pandas-docs/stable/user_guide/indexing.html#returning-a-view-versus-a-copy\n",
      "  \n"
     ]
    },
    {
     "data": {
      "text/plain": [
       "0     55448\n",
       "1     48435\n",
       "2     56965\n",
       "3     44682\n",
       "4     44823\n",
       "5     63475\n",
       "6     52190\n",
       "7     79956\n",
       "8     74243\n",
       "9     56618\n",
       "10    45975\n",
       "11    46306\n",
       "Name: Household Income, dtype: int64"
      ]
     },
     "execution_count": 14,
     "metadata": {},
     "output_type": "execute_result"
    }
   ],
   "source": [
    "pf['Household Income'] = pf['Household Income'].str.replace('$', '') \n",
    "pf['Household Income'] = pf['Household Income'].str.replace(',', '') \n",
    "pop_income = pd.to_numeric(pf[\"Household Income\"])\n",
    "pop_income"
   ]
  },
  {
   "cell_type": "code",
   "execution_count": 15,
   "metadata": {},
   "outputs": [
    {
     "data": {
      "image/png": "[encoded data removed]",
      "text/plain": [
       "<Figure size 432x288 with 1 Axes>"
      ]
     },
     "metadata": {
      "needs_background": "light"
     },
     "output_type": "display_data"
    }
   ],
   "source": [
    "x_axis = np.arange(len(income))\n",
    "plt.bar(x_axis, income, color=\"b\", align=\"center\")\n",
    "# Set limits of chart\n",
    "plt.xlim(-0.75, len(x_axis)-0.25)\n",
    "plt.ylim(0,90000)\n",
    "# Set up x-axis tick marks\n",
    "tick_locations = [value for value in x_axis]\n",
    "plt.xticks(tick_locations,county,rotation=90)\n",
    "\n",
    "# Enter title and labels\n",
    "plt.title(\"Household Income Distribution By County\")\n",
    "plt.xlabel(\"County\")\n",
    "plt.ylabel(\"Household Income\")\n",
    "\n",
    "plt.tight_layout()\n",
    "plt.savefig(\"Household_Income_By_County.png\")\n",
    "plt.grid(zorder=0)\n",
    "plt.show()"
   ]
  },
  {
   "cell_type": "code",
   "execution_count": null,
   "metadata": {},
   "outputs": [],
   "source": []
  }
 ],
 "metadata": {
  "file_extension": ".py",
  "kernelspec": {
   "display_name": "Python 3.7.4 64-bit ('PythonData': conda)",
   "language": "python",
   "name": "python37464bitpythondatacondaaf71fc3f5dd34866a438487bc0d8ac87"
  },
  "language_info": {
   "codemirror_mode": {
    "name": "ipython",
    "version": 3
   },
   "file_extension": ".py",
   "mimetype": "text/x-python",
   "name": "python",
   "nbconvert_exporter": "python",
   "pygments_lexer": "ipython3",
   "version": "3.7.4"
  },
  "mimetype": "text/x-python",
  "name": "python",
  "npconvert_exporter": "python",
  "pygments_lexer": "ipython3",
  "version": 3
 },
 "nbformat": 4,
 "nbformat_minor": 2
}
