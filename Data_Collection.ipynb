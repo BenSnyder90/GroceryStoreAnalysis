{
 "nbformat": 4,
 "nbformat_minor": 2,
 "metadata": {
  "language_info": {
   "name": "python",
   "codemirror_mode": {
    "name": "ipython",
    "version": 3
   },
   "version": "3.7.4-final"
  },
  "orig_nbformat": 2,
  "file_extension": ".py",
  "mimetype": "text/x-python",
  "name": "python",
  "npconvert_exporter": "python",
  "pygments_lexer": "ipython3",
  "version": 3,
  "kernelspec": {
   "name": "python37664bitpythondataconda7b76faf93e6a485bb209245349a7d6ad",
   "display_name": "Python 3.7.6 64-bit ('PythonData': conda)"
  }
 },
 "cells": [
  {
   "cell_type": "markdown",
   "metadata": {},
   "source": [
    "# Data Collection - Collecting Grocery Store Data from Google API and Census Data from Census API"
   ]
  },
  {
   "cell_type": "markdown",
   "metadata": {},
   "source": [
    "## Ali - Pull data for Grocery Stores from Google API"
   ]
  },
  {
   "cell_type": "code",
   "execution_count": null,
   "metadata": {},
   "outputs": [],
   "source": []
  },
  {
   "cell_type": "markdown",
   "metadata": {},
   "source": [
    "## Ben - Pull data for Wholesale Clubs from Google API"
   ]
  },
  {
   "cell_type": "code",
   "execution_count": null,
   "metadata": {},
   "outputs": [],
   "source": []
  },
  {
   "cell_type": "markdown",
   "metadata": {},
   "source": [
    "## Sean - Pull data for Walmart from Google API"
   ]
  },
  {
   "cell_type": "code",
   "execution_count": null,
   "metadata": {},
   "outputs": [],
   "source": []
  },
  {
   "cell_type": "markdown",
   "metadata": {},
   "source": [
    "## Val - Pull data for Target from Google API"
   ]
  },
  {
   "cell_type": "code",
   "execution_count": 18,
   "metadata": {},
   "outputs": [],
   "source": [
    "# Dependencies\n",
    "import requests\n",
    "import json\n",
    "from config import gkey\n",
    "import pandas as pd\n",
    "from pprint import pprint\n",
    "\n",
    "location1 = \"41.625126,-81.062346\" #east to Ashtabula\n",
    "location2 = \"41.135466,-81.652035\" #Cle to Elyria and past Canton\n",
    "location3 = \"41.037209,-80.8368\" #Youngstown\n",
    "radius1 = 48280.2\n",
    "radius3 = 32186.8\n",
    "type = \"department_store\"\n",
    "keyword = \"target\"\n",
    "\n",
    "#Set up urls for Google API\n",
    "url = ('https://maps.googleapis.com/maps/api/place/nearbysearch/json?location={0}&key={1}&radius={2}&type={3}&keyword').format(location1,gkey,radius1,type,keyword)\n",
    "\n",
    "url2 = ('https://maps.googleapis.com/maps/api/place/nearbysearch/json?location={0}&key={1}&radius={2}&type={3}&keyword').format(location2,gkey,radius1,type,keyword)\n",
    "\n",
    "url3 = ('https://maps.googleapis.com/maps/api/place/nearbysearch/json?location={0}&key={1}&radius={2}&type={3}&keyword').format(location2,gkey,radius3,type,keyword)\n"
   ]
  },
  {
   "cell_type": "code",
   "execution_count": 20,
   "metadata": {},
   "outputs": [
    {
     "name": "stdout",
     "output_type": "stream",
     "text": " 41.1359672802915,\n                                                      'lng': -81.6161542},\n                                        'southwest': {'lat': 41.1332693197085,\n                                                      'lng': -81.62174060000001}}},\n              'icon': 'https://maps.gstatic.com/mapfiles/place_api/icons/shopping-71.png',\n              'id': '3218efea02899403def6a5401e32b889b54dc10d',\n              'name': \"Macy's\",\n              'opening_hours': {'open_now': True},\n              'photos': [{'height': 394,\n                          'html_attributions': ['<a '\n                                                'href=\"https://maps.google.com/maps/contrib/103790902920206904254\">Antonio '\n                                                'Montanez</a>'],\n                          'photo_reference': 'CmRaAAAAqT8Uc_DOiP8UokcbQdPomn2lkLKTxIB2YuuZ1jmtMoTPZ5HN9RrFFgbrvyLxJf5SbJlP-ezn6sS771OV2TG90HlU38kMpm5NMvJav6FVsixlPPBWD7PRzKnrKTMuIGPSEhBfMtkiWWBpHan7t2lvz2QvGhQTU4uHEheupvPy2lNlWJUDMPzU1g',\n                          'width': 524}],\n              'place_id': 'ChIJ_2oWB6fQMIgRElWLmH5bc4Q',\n              'plus_code': {'compound_code': '49MJ+HX Akron, Ohio, United '\n                                             'States',\n                            'global_code': '86HW49MJ+HX'},\n              'price_level': 2,\n              'rating': 4.1,\n              'reference': 'ChIJ_2oWB6fQMIgRElWLmH5bc4Q',\n              'scope': 'GOOGLE',\n              'types': ['department_store',\n                        'jewelry_store',\n                        'furniture_store',\n                        'home_goods_store',\n                        'point_of_interest',\n                        'clothing_store',\n                        'store',\n                        'establishment'],\n              'user_ratings_total': 829,\n              'vicinity': '3265 West Market Street Ste 300, Akron'},\n             {'geometry': {'location': {'lat': 41.08567969999999,\n                                        'lng': -81.43974419999999},\n                           'viewport': {'northeast': {'lat': 41.08701458029149,\n                                                      'lng': -81.4385582697085},\n                                        'southwest': {'lat': 41.0843166197085,\n                                                      'lng': -81.4412562302915}}},\n              'icon': 'https://maps.gstatic.com/mapfiles/place_api/icons/shopping-71.png',\n              'id': '3189f683677a283a442a1527c2fabe4e542a1262',\n              'name': 'Kmart',\n              'opening_hours': {'open_now': True},\n              'photos': [{'height': 3024,\n                          'html_attributions': ['<a '\n                                                'href=\"https://maps.google.com/maps/contrib/105304557144522993177\">Trusts '\n                                                'Liars</a>'],\n                          'photo_reference': 'CmRaAAAA2b4VmRlAI0J-T22eImTJo3hdzdExXE_mCErqDFO05o49ekDp6QzuDeADSSiTIFSU0ihuFnEyaZ8AjIcSj93KBLoWG3q5Qzq0zv_pECVp1c_HA7HLwoFVrXf2VX1ir6EGEhCDoLzEHqrxesv8nFYJt00iGhR6HzSUgAjB-ZWr4-ouWoj4q4KUMw',\n                          'width': 4032}],\n              'place_id': 'ChIJU4FeNdgoMYgRsswVUM_YFV8',\n              'plus_code': {'compound_code': '3HP6+74 Tallmadge, Brimfield '\n                                             'Township, OH, United States',\n                            'global_code': '86HW3HP6+74'},\n              'price_level': 1,\n              'rating': 3.6,\n              'reference': 'ChIJU4FeNdgoMYgRsswVUM_YFV8',\n              'scope': 'GOOGLE',\n              'types': ['department_store',\n                        'point_of_interest',\n                        'store',\n                        'establishment'],\n              'user_ratings_total': 257,\n              'vicinity': '555 South Avenue #3142, Tallmadge'},\n             {'geometry': {'location': {'lat': 41.052753, 'lng': -81.724859},\n                           'viewport': {'northeast': {'lat': 41.05409778029149,\n                                                      'lng': -81.7231036697085},\n                                        'southwest': {'lat': 41.05139981970849,\n                                                      'lng': -81.7258016302915}}},\n              'icon': 'https://maps.gstatic.com/mapfiles/place_api/icons/pharmacy_cross-71.png',\n              'id': '3733dc1e6c5236e81e026882990fa86447106b29',\n              'name': 'Walmart Pharmacy',\n              'opening_hours': {'open_now': False},\n              'photos': [{'height': 608,\n                          'html_attributions': ['<a '\n                                                'href=\"https://maps.google.com/maps/contrib/111093445900187740818\">Walmart '\n                                                'Pharmacy</a>'],\n                          'photo_reference': 'CmRaAAAA_ur-Twuny_seIJteKFQ9qUUuvNQUzR_qe5Z-QgY4MWki8X05QChDjvPJgSYW4zKrDGjW5wMcBHD41wns-FXwo30zKCBhs1CkC4vm3DHvXq7zuLXX1QAoxf1ONudNwyilEhA1MsLodb1qBg9kNWX1UCxgGhSB9luNWPiTYz73OC48NEa4TZuK0w',\n                          'width': 1080}],\n              'place_id': 'ChIJM2v5uM_NMIgRp8-abLYKtc4',\n              'plus_code': {'compound_code': '373G+43 Wadsworth, Wadsworth '\n                                             'Township, OH, United States',\n                            'global_code': '86HW373G+43'},\n              'price_level': 1,\n              'rating': 3.6,\n              'reference': 'ChIJM2v5uM_NMIgRp8-abLYKtc4',\n              'scope': 'GOOGLE',\n              'types': ['pharmacy',\n                        'department_store',\n                        'health',\n                        'point_of_interest',\n                        'store',\n                        'establishment'],\n              'user_ratings_total': 15,\n              'vicinity': '222 Smokerise Drive, Wadsworth'},\n             {'geometry': {'location': {'lat': 41.3101348, 'lng': -81.51902},\n                           'viewport': {'northeast': {'lat': 41.3113300302915,\n                                                      'lng': -81.51745576970849},\n                                        'southwest': {'lat': 41.3086320697085,\n                                                      'lng': -81.5201537302915}}},\n              'icon': 'https://maps.gstatic.com/mapfiles/place_api/icons/shopping-71.png',\n              'id': 'b836f28c69af2efd942e962f3863ee07ed396bb8',\n              'name': 'Walmart Supercenter',\n              'opening_hours': {'open_now': True},\n              'photos': [{'height': 600,\n                          'html_attributions': ['<a '\n                                                'href=\"https://maps.google.com/maps/contrib/103652537160651227373\">Walmart '\n                                                'Supercenter</a>'],\n                          'photo_reference': 'CmRaAAAACAXH8OjPuFmbun1s3ijQgy5BcHzbSAYL9RKkTN70YCC8ktNkQ2jyEs_uZHm3sfsPoeiW_p9cMD8Z2BFibEP4yjVNdthp7GULOiePBd7rPFCKYgHbyz0B8gZPPj3FCZhKEhAHz96DQosd76Ya6GG5QA5iGhStCe0P5_iBstxKuuRGAARLYBAwMQ',\n                          'width': 1067}],\n              'place_id': 'ChIJkxM-tdgfMYgR1FrZnzT95XU',\n              'plus_code': {'compound_code': '8F6J+39 Macedonia, Northfield '\n                                             'Center Township, OH, United '\n                                             'States',\n                            'global_code': '86HW8F6J+39'},\n              'price_level': 1,\n              'rating': 3.7,\n              'reference': 'ChIJkxM-tdgfMYgR1FrZnzT95XU',\n              'scope': 'GOOGLE',\n              'types': ['department_store',\n                        'supermarket',\n                        'grocery_or_supermarket',\n                        'electronics_store',\n                        'food',\n                        'point_of_interest',\n                        'store',\n                        'establishment'],\n              'user_ratings_total': 1814,\n              'vicinity': '8160 Macedonia Commons Boulevard, Macedonia'},\n             {'geometry': {'location': {'lat': 41.3080139, 'lng': -81.5188293},\n                           'viewport': {'northeast': {'lat': 41.3091275802915,\n                                                      'lng': -81.5170574697085},\n                                        'southwest': {'lat': 41.3064296197085,\n                                                      'lng': -81.51975543029151}}},\n              'icon': 'https://maps.gstatic.com/mapfiles/place_api/icons/shopping-71.png',\n              'id': 'b28d9370a4aeb2999d573f884e11255c1772340d',\n              'name': \"Kohl's Macedonia\",\n              'opening_hours': {'open_now': True},\n              'photos': [{'height': 3024,\n                          'html_attributions': ['<a '\n                                                'href=\"https://maps.google.com/maps/contrib/110195216835481123241\">TARIQ '\n                                                'ISLAM</a>'],\n                          'photo_reference': 'CmRaAAAAYYu3mwfN1cPEyjyerc78VLN7txe2avzXh0oXYdTRVeYWCfFGNgqxW_1guqFFaWfD6_Abp0kUSYiWoS0NSSs0-7xv7wyiud39wElZNAFKToyOWsh9D1Vo19NYztbvPFwBEhDYrOqwDSGAtZjnHfImBU2qGhRKds39XCgixroSDi5Uh0Em9H3l6A',\n                          'width': 4032}],\n              'place_id': 'ChIJ33qG7h_gMIgRdEF9MgKBoBc',\n              'plus_code': {'compound_code': '8F5J+6F Macedonia, Northfield '\n                                             'Center Township, OH, United '\n                                             'States',\n                            'global_code': '86HW8F5J+6F'},\n              'price_level': 1,\n              'rating': 4.1,\n              'reference': 'ChIJ33qG7h_gMIgRdEF9MgKBoBc',\n              'scope': 'GOOGLE',\n              'types': ['department_store',\n                        'point_of_interest',\n                        'store',\n                        'establishment'],\n              'user_ratings_total': 759,\n              'vicinity': '8100 Macedonia Commons Boulevard, Macedonia'},\n             {'geometry': {'location': {'lat': 41.3779545, 'lng': -81.7374056},\n                           'viewport': {'northeast': {'lat': 41.3791219802915,\n                                                      'lng': -81.7359626697085},\n                                        'southwest': {'lat': 41.3764240197085,\n                                                      'lng': -81.7386606302915}}},\n              'icon': 'https://maps.gstatic.com/mapfiles/place_api/icons/shopping-71.png',\n              'id': '9b2050ba23edf8b0dc1e6004dc3ce6d847a8026e',\n              'name': \"Kohl's Parma\",\n              'opening_hours': {'open_now': True},\n              'photos': [{'height': 3984,\n                          'html_attributions': ['<a '\n                                                'href=\"https://maps.google.com/maps/contrib/112463325757314499742\">Sasi</a>'],\n                          'photo_reference': 'CmRaAAAAkrxXgGiC1gGCgxFYQjXcXDz9hXW8cRa0KLnedaqI15ZOcaciMh-CztQmrwj0soejpfWkfOfl5_Q-TKvDXNnUVquNv_qWB4fqpqpWgGwa4YP7tmgLPSQM_od1NT14cJACEhCB6_gVpUWB8F-O4tVX7bJ_GhTHooqtXvkHcj9kyVD4FBH21gSGXw',\n                          'width': 2988}],\n              'place_id': 'ChIJaaiMHtboMIgRdUi-wHKoO4s',\n              'plus_code': {'compound_code': '97H7+52 Parma, Ohio, United '\n                                             'States',\n                            'global_code': '86HW97H7+52'},\n              'price_level': 1,\n              'rating': 4.2,\n              'reference': 'ChIJaaiMHtboMIgRdUi-wHKoO4s',\n              'scope': 'GOOGLE',\n              'types': ['department_store',\n                        'point_of_interest',\n                        'store',\n                        'establishment'],\n              'user_ratings_total': 1243,\n              'vicinity': '6860 Ridge Road, Parma'},\n             {'geometry': {'location': {'lat': 41.1280448,\n                                        'lng': -81.60522979999999},\n                           'viewport': {'northeast': {'lat': 41.12913323029149,\n                                                      'lng': -81.60365116970848},\n                                        'southwest': {'lat': 41.12643526970849,\n                                                      'lng': -81.6063491302915}}},\n              'icon': 'https://maps.gstatic.com/mapfiles/place_api/icons/shopping-71.png',\n              'id': '79e04f95e9ea7a438907d377f7cfdff8e96a92ef',\n              'name': 'Target',\n              'opening_hours': {'open_now': True},\n              'photos': [{'height': 4032,\n                          'html_attributions': ['<a '\n                                                'href=\"https://maps.google.com/maps/contrib/104185375870066743561\">Erin '\n                                                'Chambers</a>'],\n                          'photo_reference': 'CmRaAAAA61lNhfnXvO0bStRjWDAAisE2_nyJRmiougQ30g1yC7bzOAzDL_B-7QbTPuPRzapwFv7w4muej8I-ihQ0TywmK8iQeos2DXYZeIygDUgOzWJ0BTcnYj0e9XPwyVefPXzqEhCyPLIgvJeIFaugSWWSD7WYGhTifsUiPQv9reAeZ4wRaIW9l80CPQ',\n                          'width': 3024}],\n              'place_id': 'ChIJGTnBXK3QMIgRDgULwwfSHv8',\n              'plus_code': {'compound_code': '49HV+6W Fairlawn, Ohio, United '\n                                             'States',\n                            'global_code': '86HW49HV+6W'},\n              'price_level': 2,\n              'rating': 4,\n              'reference': 'ChIJGTnBXK3QMIgRDgULwwfSHv8',\n              'scope': 'GOOGLE',\n              'types': ['department_store',\n                        'electronics_store',\n                        'furniture_store',\n                        'home_goods_store',\n                        'point_of_interest',\n                        'clothing_store',\n                        'store',\n                        'establishment'],\n              'user_ratings_total': 144,\n              'vicinity': '2801 West Market Street, Fairlawn'},\n             {'geometry': {'location': {'lat': 41.3461111, 'lng': -81.82},\n                           'viewport': {'northeast': {'lat': 41.34758283029149,\n                                                      'lng': -81.81890881970848},\n                                        'southwest': {'lat': 41.34488486970849,\n                                                      'lng': -81.8216067802915}}},\n              'icon': 'https://maps.gstatic.com/mapfiles/place_api/icons/shopping-71.png',\n              'id': 'c78553fe97e357f8322cca7b409a28c864301e1a',\n              'name': 'Walmart Supercenter',\n              'opening_hours': {'open_now': True},\n              'photos': [{'height': 600,\n                          'html_attributions': ['<a '\n                                                'href=\"https://maps.google.com/maps/contrib/116182516005632835722\">Walmart '\n                                                'Supercenter</a>'],\n                          'photo_reference': 'CmRaAAAA6SL0bsCjkrPRB7bJDPQe9nZ3LDHk8t7_TBvR_tXjCavSiqNWZpUEdQZN9PNYxCNryH5UqWub2lYbzwZTwJE5vPaGtGZqAcr38E8ynzjXNsd1jk4sD7wf0-IFBVL9uTLvEhB41ngaaP0UZrb2YzlFc2nyGhTGDU6HlXPct70EAjxvRQdj0pug4w',\n                          'width': 1067}],\n              'place_id': 'ChIJXxoRzFXqMIgRBIWSroY97Zc',\n              'plus_code': {'compound_code': '85WJ+C2 Strongsville, Columbia '\n                                             'Township, OH, United States',\n                            'global_code': '86HW85WJ+C2'},\n              'price_level': 1,\n              'rating': 3.9,\n              'reference': 'ChIJXxoRzFXqMIgRBIWSroY97Zc',\n              'scope':'GOOGLE',\n              'types': ['department_store',\n                        'supermarket',\n                        'grocery_or_supermarket',\n                        'electronics_store',\n                        'food',\n                        'point_of_interest',\n                        'store',\n                        'establishment'],\n              'user_ratings_total': 3038,\n              'vicinity': '8585 Pearl Road, Strongsville'},\n             {'geometry': {'location': {'lat': 41.094221, 'lng': -81.386524},\n                           'viewport': {'northeast': {'lat': 41.0957349302915,\n                                                      'lng': -81.3850743197085},\n                                        'southwest': {'lat': 41.0930369697085,\n                                                      'lng': -81.3877722802915}}},\n              'icon': 'https://maps.gstatic.com/mapfiles/place_api/icons/shopping-71.png',\n              'id': '8d420310b1d1e3073e6cbbf5092ac9bc5d713593',\n              'name': \"Kohl's Brimfield\",\n              'opening_hours': {'open_now': True},\n              'photos': [{'height': 1080,\n                          'html_attributions': ['<a '\n                                                'href=\"https://maps.google.com/maps/contrib/116094218937090387690\">Crystal '\n                                                'Greathouse</a>'],\n                          'photo_reference': 'CmRaAAAAXW61dICSfZzSB4ezWOQEeQIaHfv8Pl3mr2H_oETII8r3a_HRpHTwDIadUmJmoAN1DbAMKHQBXZIiV2H3SxvR9g0Wdx2Qn4cP2lU_zea1E3ZcgQT7iax1yR5CX_2otD3gEhCRaR9GIbrVbgAwtTXQLPeWGhRZYqAfeiYSpb68tO-7CUydWsgy0w',\n                          'width': 1920}],\n              'place_id': 'ChIJmwCs4govMYgRKSq40AuwpYw',\n              'plus_code': {'compound_code': '3JV7+M9 Kent, Ohio, United '\n                                             'States',\n                            'global_code': '86HW3JV7+M9'},\n              'price_level': 1,\n              'rating': 4.3,\n              'reference': 'ChIJmwCs4govMYgRKSq40AuwpYw',\n              'scope': 'GOOGLE',\n              'types': ['department_store',\n                        'point_of_interest',\n                        'store',\n                        'establishment'],\n              'user_ratings_total': 670,\n              'vicinity': '3886 Cascades Boulevard, Kent'},\n             {'geometry': {'location': {'lat': 40.983936,\n                                        'lng': -81.49581479999999},\n                           'viewport': {'northeast': {'lat': 40.98510658029149,\n                                                      'lng': -81.49415036970848},\n                                        'southwest': {'lat': 40.9824086197085,\n                                                      'lng': -81.4968483302915}}},\n              'icon': 'https://maps.gstatic.com/mapfiles/place_api/icons/shopping-71.png',\n              'id': 'e69a76324c14a2057815b0470e266cfed7cc193a',\n              'name': 'Target',\n              'opening_hours': {'open_now': True},\n              'photos': [{'height': 2268,\n                          'html_attributions': ['<a '\n                                                'href=\"https://maps.google.com/maps/contrib/107863150615129003659\">Tiffanie '\n                                                'Nicole</a>'],\n                          'photo_reference': 'CmRaAAAADoIfISH2VyRpip1iwnPWLY5CjJXiNGjDwyW3DHytKgDKvK6TNXj4S4nAmTxp0Ds3uegzNMw_0EI0y-lg7OeNzdWZ56HHLdGVu1KCLISJSWql8MFxHPMOah11Z0lNHP6gEhA2E26qcA50iRTGpwgwMeBYGhTrXmJaycFnaSA-QbzgdBahkxWGmg',\n                          'width': 4032}],\n              'place_id': 'ChIJs7bpDL8qMYgRm6Akf2ZDq08',\n              'plus_code': {'compound_code': 'XGM3+HM Akron, Ohio, United '\n                                             'States',\n                            'global_code': '86GWXGM3+HM'},\n              'price_level': 2,\n              'rating': 4.2,\n              'reference': 'ChIJs7bpDL8qMYgRm6Akf2ZDq08',\n              'scope': 'GOOGLE',\n              'types': ['department_store',\n                        'grocery_or_supermarket',\n                        'electronics_store',\n                        'furniture_store',\n                        'home_goods_store',\n                        'food',\n                        'point_of_interest',\n                        'clothing_store',\n                        'store',\n                        'establishment'],\n              'user_ratings_total': 276,\n              'vicinity': '762 Arlington Ridge, Akron'}],\n 'status': 'OK'}\n"
    }
   ],
   "source": [
    "#Run request\n",
    "targetpull = requests.get(url).json()\n",
    "targetpull2 = requests.get(url2).json()\n",
    "targetpull3 = requests.get(url3).json()\n",
    "\n",
    "#Print the JSON\n",
    "pprint(targetpull3)"
   ]
  },
  {
   "cell_type": "code",
   "execution_count": 22,
   "metadata": {},
   "outputs": [
    {
     "name": "stdout",
     "output_type": "stream",
     "text": "['Target', 'Walmart', 'Costco Wholesale', 'Marshalls', 'Target', \"Macy's\", 'Walmart Pharmacy', 'Walmart Pharmacy', \"Macy's\", 'Nordstrom Rack Legacy Village', \"Kohl's Mentor\", 'Target', 'Walmart Pharmacy', 'Nordstrom Beachwood Place', 'Brooks Brothers Factory Outlet', 'Walmart Supercenter', 'Target', 'T.J. Maxx', \"Kohl's Highland Heights\", 'T.J. Maxx & HomeGoods', 'Target', 'Bed Bath & Beyond', 'Target', 'JCPenney', 'JCPenney', 'Target', 'Target', 'Costco Wholesale', \"Macy's - Final Clearance Sale -\", 'Bed Bath & Beyond', 'Target', \"Kohl's Parma\", 'Target', 'Walmart Supercenter', 'JCPenney', 'Walmart Supercenter', 'Target', 'Marshalls', 'Belden Village Mall', \"Macy's\", 'Bed Bath & Beyond', 'Target', 'JCPenney', 'Target', \"Macy's - Final Clearance Sale -\", 'Costco Wholesale', 'JCPenney', 'Target', 'JCPenney', 'Walmart Supercenter', \"Macy's\", 'Kmart', 'Walmart Pharmacy', 'Walmart Supercenter', \"Kohl's Macedonia\", \"Kohl's Parma\", 'Target', 'Walmart Supercenter', \"Kohl's Brimfield\", 'Target']\n"
    }
   ],
   "source": [
    "#Create lists for DataFrame to be created\n",
    "store_name = []\n",
    "store_lats = []\n",
    "store_lngs = []\n",
    "store_address = []\n",
    "\n",
    "#Save fields as lists\n",
    "for entry in targetpull['results']:\n",
    "    store_name.append(entry['name'])\n",
    "    store_lats.append(entry['geometry']['location']['lat'])\n",
    "    store_lngs.append(entry['geometry']['location']['lng'])\n",
    "    store_address.append(entry['vicinity'])\n",
    "\n",
    "for entry2 in targetpull2['results']:\n",
    "    store_name.append(entry2['name'])\n",
    "    store_lats.append(entry2['geometry']['location']['lat'])\n",
    "    store_lngs.append(entry2['geometry']['location']['lng'])\n",
    "    store_address.append(entry2['vicinity'])\n",
    "\n",
    "for entry3 in targetpull3['results']:\n",
    "    store_name.append(entry3['name'])\n",
    "    store_lats.append(entry3['geometry']['location']['lat'])\n",
    "    store_lngs.append(entry3['geometry']['location']['lng'])\n",
    "    store_address.append(entry3['vicinity'])\n",
    "\n",
    "print(store_name)"
   ]
  },
  {
   "cell_type": "code",
   "execution_count": 23,
   "metadata": {},
   "outputs": [
    {
     "data": {
      "text/html": "<div>\n<style scoped>\n    .dataframe tbody tr th:only-of-type {\n        vertical-align: middle;\n    }\n\n    .dataframe tbody tr th {\n        vertical-align: top;\n    }\n\n    .dataframe thead th {\n        text-align: right;\n    }\n</style>\n<table border=\"1\" class=\"dataframe\">\n  <thead>\n    <tr style=\"text-align: right;\">\n      <th></th>\n      <th>Store Name</th>\n      <th>Latitude</th>\n      <th>Longitude</th>\n      <th>Address</th>\n    </tr>\n  </thead>\n  <tbody>\n    <tr>\n      <th>55</th>\n      <td>Kohl's Parma</td>\n      <td>41.377955</td>\n      <td>-81.737406</td>\n      <td>6860 Ridge Road, Parma</td>\n    </tr>\n    <tr>\n      <th>56</th>\n      <td>Target</td>\n      <td>41.128045</td>\n      <td>-81.605230</td>\n      <td>2801 West Market Street, Fairlawn</td>\n    </tr>\n    <tr>\n      <th>57</th>\n      <td>Walmart Supercenter</td>\n      <td>41.346111</td>\n      <td>-81.820000</td>\n      <td>8585 Pearl Road, Strongsville</td>\n    </tr>\n    <tr>\n      <th>58</th>\n      <td>Kohl's Brimfield</td>\n      <td>41.094221</td>\n      <td>-81.386524</td>\n      <td>3886 Cascades Boulevard, Kent</td>\n    </tr>\n    <tr>\n      <th>59</th>\n      <td>Target</td>\n      <td>40.983936</td>\n      <td>-81.495815</td>\n      <td>762 Arlington Ridge, Akron</td>\n    </tr>\n  </tbody>\n</table>\n</div>",
      "text/plain": "             Store Name   Latitude  Longitude  \\\n55         Kohl's Parma  41.377955 -81.737406   \n56               Target  41.128045 -81.605230   \n57  Walmart Supercenter  41.346111 -81.820000   \n58     Kohl's Brimfield  41.094221 -81.386524   \n59               Target  40.983936 -81.495815   \n\n                              Address  \n55             6860 Ridge Road, Parma  \n56  2801 West Market Street, Fairlawn  \n57      8585 Pearl Road, Strongsville  \n58      3886 Cascades Boulevard, Kent  \n59         762 Arlington Ridge, Akron  "
     },
     "execution_count": 23,
     "metadata": {},
     "output_type": "execute_result"
    }
   ],
   "source": [
    "#Create dataframe from lists of data\n",
    "target_df = {\n",
    "    \"Store Name\":store_name,\n",
    "    \"Latitude\":store_lats,\n",
    "    \"Longitude\":store_lngs,\n",
    "    \"Address\":store_address,\n",
    "}\n",
    "target_raw_data = pd.DataFrame(target_df)\n",
    "target_raw_data.tail()"
   ]
  },
  {
   "cell_type": "code",
   "execution_count": 34,
   "metadata": {},
   "outputs": [
    {
     "data": {
      "text/html": "<div>\n<style scoped>\n    .dataframe tbody tr th:only-of-type {\n        vertical-align: middle;\n    }\n\n    .dataframe tbody tr th {\n        vertical-align: top;\n    }\n\n    .dataframe thead th {\n        text-align: right;\n    }\n</style>\n<table border=\"1\" class=\"dataframe\">\n  <thead>\n    <tr style=\"text-align: right;\">\n      <th></th>\n      <th>Store Name</th>\n      <th>Latitude</th>\n      <th>Longitude</th>\n      <th>Address</th>\n    </tr>\n  </thead>\n  <tbody>\n    <tr>\n      <th>0</th>\n      <td>Target</td>\n      <td>41.500618</td>\n      <td>-81.532870</td>\n      <td>14070 Cedar Road, University Heights</td>\n    </tr>\n    <tr>\n      <th>4</th>\n      <td>Target</td>\n      <td>41.629108</td>\n      <td>-81.429947</td>\n      <td>36195 Euclid Avenue, Willoughby</td>\n    </tr>\n    <tr>\n      <th>11</th>\n      <td>Target</td>\n      <td>41.686247</td>\n      <td>-81.293935</td>\n      <td>9669 Mentor Avenue, Mentor</td>\n    </tr>\n    <tr>\n      <th>16</th>\n      <td>Target</td>\n      <td>41.357077</td>\n      <td>-81.386341</td>\n      <td>18855 North Market Place Drive, Aurora</td>\n    </tr>\n    <tr>\n      <th>22</th>\n      <td>Target</td>\n      <td>41.040409</td>\n      <td>-81.690730</td>\n      <td>1183 Williams Reserve Boulevard, Wadsworth</td>\n    </tr>\n    <tr>\n      <th>25</th>\n      <td>Target</td>\n      <td>41.420226</td>\n      <td>-81.895305</td>\n      <td>24646 Brookpark Road, North Olmsted</td>\n    </tr>\n    <tr>\n      <th>26</th>\n      <td>Target</td>\n      <td>41.120956</td>\n      <td>-81.477382</td>\n      <td>449 Howe Avenue, Cuyahoga Falls</td>\n    </tr>\n    <tr>\n      <th>30</th>\n      <td>Target</td>\n      <td>41.154719</td>\n      <td>-81.865421</td>\n      <td>1015 North Court Street, Medina</td>\n    </tr>\n    <tr>\n      <th>32</th>\n      <td>Target</td>\n      <td>41.457885</td>\n      <td>-81.689153</td>\n      <td>3535 Steelyard Drive, Cleveland</td>\n    </tr>\n    <tr>\n      <th>36</th>\n      <td>Target</td>\n      <td>40.862154</td>\n      <td>-81.431448</td>\n      <td>5584 Dressler Road Northwest, North Canton</td>\n    </tr>\n    <tr>\n      <th>56</th>\n      <td>Target</td>\n      <td>41.128045</td>\n      <td>-81.605230</td>\n      <td>2801 West Market Street, Fairlawn</td>\n    </tr>\n    <tr>\n      <th>59</th>\n      <td>Target</td>\n      <td>40.983936</td>\n      <td>-81.495815</td>\n      <td>762 Arlington Ridge, Akron</td>\n    </tr>\n  </tbody>\n</table>\n</div>",
      "text/plain": "   Store Name   Latitude  Longitude  \\\n0      Target  41.500618 -81.532870   \n4      Target  41.629108 -81.429947   \n11     Target  41.686247 -81.293935   \n16     Target  41.357077 -81.386341   \n22     Target  41.040409 -81.690730   \n25     Target  41.420226 -81.895305   \n26     Target  41.120956 -81.477382   \n30     Target  41.154719 -81.865421   \n32     Target  41.457885 -81.689153   \n36     Target  40.862154 -81.431448   \n56     Target  41.128045 -81.605230   \n59     Target  40.983936 -81.495815   \n\n                                       Address  \n0         14070 Cedar Road, University Heights  \n4              36195 Euclid Avenue, Willoughby  \n11                  9669 Mentor Avenue, Mentor  \n16      18855 North Market Place Drive, Aurora  \n22  1183 Williams Reserve Boulevard, Wadsworth  \n25         24646 Brookpark Road, North Olmsted  \n26             449 Howe Avenue, Cuyahoga Falls  \n30             1015 North Court Street, Medina  \n32             3535 Steelyard Drive, Cleveland  \n36  5584 Dressler Road Northwest, North Canton  \n56           2801 West Market Street, Fairlawn  \n59                  762 Arlington Ridge, Akron  "
     },
     "execution_count": 34,
     "metadata": {},
     "output_type": "execute_result"
    }
   ],
   "source": [
    "target_data = target_raw_data.loc[target_raw_data['Store Name']==\"Target\",:]\n",
    "\n",
    "#Remove duplicate stores\n",
    "target_data = target_data.drop_duplicates(subset =\"Address\",keep = \"first\") \n",
    "target_data"
   ]
  },
  {
   "cell_type": "code",
   "execution_count": 35,
   "metadata": {},
   "outputs": [
    {
     "data": {
      "text/html": "<div>\n<style scoped>\n    .dataframe tbody tr th:only-of-type {\n        vertical-align: middle;\n    }\n\n    .dataframe tbody tr th {\n        vertical-align: top;\n    }\n\n    .dataframe thead th {\n        text-align: right;\n    }\n</style>\n<table border=\"1\" class=\"dataframe\">\n  <thead>\n    <tr style=\"text-align: right;\">\n      <th></th>\n      <th>Store Name</th>\n      <th>Latitude</th>\n      <th>Longitude</th>\n      <th>Address</th>\n    </tr>\n  </thead>\n  <tbody>\n    <tr>\n      <th>0</th>\n      <td>Target</td>\n      <td>41.500618</td>\n      <td>-81.532870</td>\n      <td>14070 Cedar Road, University Heights</td>\n    </tr>\n    <tr>\n      <th>1</th>\n      <td>Target</td>\n      <td>41.629108</td>\n      <td>-81.429947</td>\n      <td>36195 Euclid Avenue, Willoughby</td>\n    </tr>\n    <tr>\n      <th>2</th>\n      <td>Target</td>\n      <td>41.686247</td>\n      <td>-81.293935</td>\n      <td>9669 Mentor Avenue, Mentor</td>\n    </tr>\n    <tr>\n      <th>3</th>\n      <td>Target</td>\n      <td>41.357077</td>\n      <td>-81.386341</td>\n      <td>18855 North Market Place Drive, Aurora</td>\n    </tr>\n    <tr>\n      <th>4</th>\n      <td>Target</td>\n      <td>41.040409</td>\n      <td>-81.690730</td>\n      <td>1183 Williams Reserve Boulevard, Wadsworth</td>\n    </tr>\n    <tr>\n      <th>5</th>\n      <td>Target</td>\n      <td>41.420226</td>\n      <td>-81.895305</td>\n      <td>24646 Brookpark Road, North Olmsted</td>\n    </tr>\n    <tr>\n      <th>6</th>\n      <td>Target</td>\n      <td>41.120956</td>\n      <td>-81.477382</td>\n      <td>449 Howe Avenue, Cuyahoga Falls</td>\n    </tr>\n    <tr>\n      <th>7</th>\n      <td>Target</td>\n      <td>41.154719</td>\n      <td>-81.865421</td>\n      <td>1015 North Court Street, Medina</td>\n    </tr>\n    <tr>\n      <th>8</th>\n      <td>Target</td>\n      <td>41.457885</td>\n      <td>-81.689153</td>\n      <td>3535 Steelyard Drive, Cleveland</td>\n    </tr>\n    <tr>\n      <th>9</th>\n      <td>Target</td>\n      <td>40.862154</td>\n      <td>-81.431448</td>\n      <td>5584 Dressler Road Northwest, North Canton</td>\n    </tr>\n    <tr>\n      <th>10</th>\n      <td>Target</td>\n      <td>41.128045</td>\n      <td>-81.605230</td>\n      <td>2801 West Market Street, Fairlawn</td>\n    </tr>\n    <tr>\n      <th>11</th>\n      <td>Target</td>\n      <td>40.983936</td>\n      <td>-81.495815</td>\n      <td>762 Arlington Ridge, Akron</td>\n    </tr>\n  </tbody>\n</table>\n</div>",
      "text/plain": "   Store Name   Latitude  Longitude  \\\n0      Target  41.500618 -81.532870   \n1      Target  41.629108 -81.429947   \n2      Target  41.686247 -81.293935   \n3      Target  41.357077 -81.386341   \n4      Target  41.040409 -81.690730   \n5      Target  41.420226 -81.895305   \n6      Target  41.120956 -81.477382   \n7      Target  41.154719 -81.865421   \n8      Target  41.457885 -81.689153   \n9      Target  40.862154 -81.431448   \n10     Target  41.128045 -81.605230   \n11     Target  40.983936 -81.495815   \n\n                                       Address  \n0         14070 Cedar Road, University Heights  \n1              36195 Euclid Avenue, Willoughby  \n2                   9669 Mentor Avenue, Mentor  \n3       18855 North Market Place Drive, Aurora  \n4   1183 Williams Reserve Boulevard, Wadsworth  \n5          24646 Brookpark Road, North Olmsted  \n6              449 Howe Avenue, Cuyahoga Falls  \n7              1015 North Court Street, Medina  \n8              3535 Steelyard Drive, Cleveland  \n9   5584 Dressler Road Northwest, North Canton  \n10           2801 West Market Street, Fairlawn  \n11                  762 Arlington Ridge, Akron  "
     },
     "execution_count": 35,
     "metadata": {},
     "output_type": "execute_result"
    }
   ],
   "source": [
    "#Reindex the DF\n",
    "target_data_reindex = target_data.reset_index(drop=True)\n",
    "target_data_reindex"
   ]
  },
  {
   "cell_type": "code",
   "execution_count": 36,
   "metadata": {},
   "outputs": [],
   "source": [
    "#Print DF to csv\n",
    "target_data_reindex.to_csv(\"target_locations.csv\",encoding=\"utf-8\",index=False)"
   ]
  },
  {
   "cell_type": "code",
   "execution_count": null,
   "metadata": {},
   "outputs": [],
   "source": []
  }
 ]
}