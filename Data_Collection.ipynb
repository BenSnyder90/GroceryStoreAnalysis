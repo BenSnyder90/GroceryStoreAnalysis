{
 "nbformat": 4,
 "nbformat_minor": 2,
 "metadata": {
  "language_info": {
   "name": "python",
   "codemirror_mode": {
    "name": "ipython",
    "version": 3
   },
   "version": "3.7.4-final"
  },
  "orig_nbformat": 2,
  "file_extension": ".py",
  "mimetype": "text/x-python",
  "name": "python",
  "npconvert_exporter": "python",
  "pygments_lexer": "ipython3",
  "version": 3,
  "kernelspec": {
   "name": "python37464bitpythondatacondaaf71fc3f5dd34866a438487bc0d8ac87",
   "display_name": "Python 3.7.4 64-bit ('PythonData': conda)"
  }
 },
 "cells": [
  {
   "cell_type": "markdown",
   "metadata": {},
   "source": [
    "# Data Collection - Collecting Grocery Store Data from Google API and Census Data from Census API"
   ]
  },
  {
   "cell_type": "markdown",
   "metadata": {},
   "source": [
    "## Dependencies"
   ]
  },
  {
   "cell_type": "code",
   "execution_count": 1,
   "metadata": {},
   "outputs": [],
   "source": [
    "import requests\n",
    "import json\n",
    "import gmaps\n",
    "from pprint import pprint\n",
    "import pandas as pd\n"
   ]
  },
  {
   "cell_type": "markdown",
   "metadata": {},
   "source": [
    "## Ali - Pull data for Grocery Stores from Google API"
   ]
  },
  {
   "cell_type": "code",
   "execution_count": null,
   "metadata": {},
   "outputs": [],
   "source": []
  },
  {
   "cell_type": "markdown",
   "metadata": {},
   "source": [
    "## Ben - Pull data for Wholesale Clubs from Google API"
   ]
  },
  {
   "cell_type": "code",
   "execution_count": 2,
   "metadata": {},
   "outputs": [
    {
     "name": "stdout",
     "output_type": "stream",
     "text": "Adding Index Costco Wholesale from circle one for CostCo to the list...\nAdding Index Costco Wholesale from circle one for CostCo to the list...\nAdding Index Costco Wholesale from circle one for CostCo to the list...\nAdding Index Costco Wholesale from circle one for CostCo to the list...\nAdding Index Costco Wholesale from circle two for CostCo to the list...\nAdding Index Costco Wholesale from circle two for CostCo to the list...\n"
    }
   ],
   "source": [
    "from api_keys import g_key\n",
    "\n",
    "#Cleveland Coordinates \"41.4993,-81.6944\"\n",
    "#Columbus Coordinates \"39.9612,-82.9988\"\n",
    "#Cincinnati Coordinates \"39.1031,-84.5120\"\n",
    "\n",
    "clev_id = \"41.4993,-81.6944\"\n",
    "target_type = \"grocery_or_supermarket\"\n",
    "#keyword = \"Wholesale Club\"\n",
    "radius = 50000\n",
    "search_cc = \"CostCo in Ohio\"\n",
    "search_sc = \"Sam's Club in Ohio\"\n",
    "search_bj = \"BJ's Wholesale in Ohio\"\n",
    "\n",
    "circle_one = \"41.135466,-81.652035\"\n",
    "circle_two = \"41.625126,-81.062346\"\n",
    "circle_three = \"41.037209,-80.888368\"\n",
    "\n",
    "cc_keyword = \"Costco Wholesale\"\n",
    "sc_keyword = \"Sam's Club\"\n",
    "bj_keyword = \"BJ's Wholesale\"\n",
    "\n",
    "lat = []\n",
    "lng = []\n",
    "name = []\n",
    "address = []\n",
    "price_level = []\n",
    "\n",
    "params = {\n",
    "    \"location\" : circle_one,\n",
    "    #\"type\": target_type,\n",
    "    \"radius\": radius,\n",
    "    \"key\" : g_key,\n",
    "    \"keyword\" : cc_keyword\n",
    "}\n",
    "\n",
    "#params = {\n",
    "#    \"query\": search_cc,\n",
    "#    \"key\": g_key\n",
    "#}\n",
    "\n",
    "#url = \"https://maps.googleapis.com/maps/api/place/textsearch/json\"\n",
    "\n",
    "url = \"https://maps.googleapis.com/maps/api/place/nearbysearch/json\"\n",
    "\n",
    "#Get Costco Data\n",
    "response = requests.get(url,params)\n",
    "costco_one = response.json()\n",
    "#print(costco_one['results'])\n",
    "for index in costco_one['results']:\n",
    "    print(f\"Adding Index {index['name']} from circle one for CostCo to the list...\")\n",
    "    name.append(index['name'])\n",
    "    lat.append(index['geometry']['location']['lat'])\n",
    "    lng.append(index['geometry']['location']['lng'])\n",
    "    address.append(index['vicinity'])\n",
    "    #price_level.append(index['price_level'])\n",
    "\n",
    "\n",
    "params = {\n",
    "    \"location\" : circle_two,\n",
    "    #\"type\": target_type,\n",
    "    \"radius\": radius,\n",
    "    \"key\" : g_key,\n",
    "    \"keyword\" : cc_keyword\n",
    "}\n",
    "response = requests.get(url,params)\n",
    "costco_two = response.json()\n",
    "#print(costco_one['results'])\n",
    "for index in costco_two['results']:\n",
    "    print(f\"Adding Index {index['name']} from circle two for CostCo to the list...\")\n",
    "    name.append(index['name'])\n",
    "    lat.append(index['geometry']['location']['lat'])\n",
    "    lng.append(index['geometry']['location']['lng'])\n",
    "    address.append(index['vicinity'])\n",
    "    #price_level.append(index['price_level'])\n",
    "\n",
    "\n",
    "params = {\n",
    "    \"location\" : circle_three,\n",
    "    #\"type\": target_type,\n",
    "    \"radius\": 32186,\n",
    "    \"key\" : g_key,\n",
    "    \"keyword\" : cc_keyword\n",
    "}\n",
    "response = requests.get(url,params)\n",
    "costco_three = response.json()\n",
    "#print(costco_one['results'])\n",
    "for index in costco_three['results']:\n",
    "    print(f\"Adding Index {index['name']} from circle three for CostCo to the list...\")\n",
    "    name.append(index['name'])\n",
    "    lat.append(index['geometry']['location']['lat'])\n",
    "    lng.append(index['geometry']['location']['lng'])\n",
    "    address.append(index['vicinity'])\n",
    "    #price_level.append(index['price_level'])"
   ]
  },
  {
   "cell_type": "code",
   "execution_count": 3,
   "metadata": {},
   "outputs": [
    {
     "name": "stdout",
     "output_type": "stream",
     "text": "Adding Index Sam's Club from circle one for Sam's Club to the list...\nAdding Index Sam's Club from circle one for Sam's Club to the list...\nAdding Index Sam's Club from circle one for Sam's Club to the list...\nAdding Index Sam's Club from circle one for Sam's Club to the list...\nAdding Index Sam's Club Pharmacy from circle one for Sam's Club to the list...\nAdding Index Sam's Club from circle one for Sam's Club to the list...\nAdding Index Sam's Club Connection Center from circle one for Sam's Club to the list...\nAdding Index Sam's Club Connection Center from circle one for Sam's Club to the list...\nAdding Index Sam's Club from circle one for Sam's Club to the list...\nAdding Index Sam's Club Bakery from circle one for Sam's Club to the list...\nAdding Index Sam's Club Connection Center from circle one for Sam's Club to the list...\nAdding Index Sam's Club Hearing Aid Center from circle one for Sam's Club to the list...\nAdding Index Sam's Club Hearing Aid Center from circle one for Sam's Club to the list...\nAdding Index Sam's Club Gas Station from circle one for Sam's Club to the list...\nAdding Index Sam's Club Tire & Battery from circle one for Sam's Club to the list...\nAdding Index Sam's Club Connection Center from circle one for Sam's Club to the list...\nAdding Index Sam's Club Bakery from circle one for Sam's Club to the list...\nAdding Index Sam's Club Pharmacy from circle one for Sam's Club to the list...\nAdding Index Sam's Club Bakery from circle one for Sam's Club to the list...\nAdding Index Sam's Club from circle two for Sam's Club to the list...\nAdding Index Sam's Club from circle two for Sam's Club to the list...\nAdding Index Sam's Club from circle two for Sam's Club to the list...\nAdding Index Sam's Club Connection Center from circle two for Sam's Club to the list...\nAdding Index Sam's Club Connection Center from circle two for Sam's Club to the list...\nAdding Index Sam's Club Connection Center from circle two for Sam's Club to the list...\nAdding Index Sam's Club Hearing Aid Center from circle two for Sam's Club to the list...\nAdding Index Sam's Club Hearing Aid Center from circle two for Sam's Club to the list...\nAdding Index Sam's Club Bakery from circle two for Sam's Club to the list...\nAdding Index Sam's Club from circle three for Sam's Club to the list...\nAdding Index Sam's Club from circle three for Sam's Club to the list...\nAdding Index Sam's Club Bakery from circle three for Sam's Club to the list...\nAdding Index Sam's Club Bakery from circle three for Sam's Club to the list...\n"
    }
   ],
   "source": [
    "#Get Sam's Club Data\n",
    "#params = {\n",
    "#    \"query\": search_sc,\n",
    "#    \"key\": g_key\n",
    "#}\n",
    "\n",
    "params = {\n",
    "    \"location\" : circle_one,\n",
    "    #\"type\": target_type,\n",
    "    \"radius\": radius,\n",
    "    \"key\" : g_key,\n",
    "    \"keyword\" : sc_keyword\n",
    "}\n",
    "response = requests.get(url,params)\n",
    "sams_one = response.json()\n",
    "#print(costco_one['results'])\n",
    "for index in sams_one['results']:\n",
    "    print(f\"Adding Index {index['name']} from circle one for Sam's Club to the list...\")\n",
    "    name.append(index['name'])\n",
    "    lat.append(index['geometry']['location']['lat'])\n",
    "    lng.append(index['geometry']['location']['lng'])\n",
    "    address.append(index['vicinity'])\n",
    "    #price_level.append(index['price_level'])\n",
    "\n",
    "\n",
    "params = {\n",
    "    \"location\" : circle_two,\n",
    "    #\"type\": target_type,\n",
    "    \"radius\": radius,\n",
    "    \"key\" : g_key,\n",
    "    \"keyword\" : sc_keyword\n",
    "}\n",
    "response = requests.get(url,params)\n",
    "sams_two = response.json()\n",
    "#print(costco_one['results'])\n",
    "for index in sams_two['results']:\n",
    "    print(f\"Adding Index {index['name']} from circle two for Sam's Club to the list...\")\n",
    "    name.append(index['name'])\n",
    "    lat.append(index['geometry']['location']['lat'])\n",
    "    lng.append(index['geometry']['location']['lng'])\n",
    "    address.append(index['vicinity'])\n",
    "    #price_level.append(index['price_level'])\n",
    "\n",
    "\n",
    "params = {\n",
    "    \"location\" : circle_three,\n",
    "    #\"type\": target_type,\n",
    "    \"radius\": 32186,\n",
    "    \"key\" : g_key,\n",
    "    \"keyword\" : sc_keyword\n",
    "}\n",
    "response = requests.get(url,params)\n",
    "sams_three = response.json()\n",
    "#print(costco_one['results'])\n",
    "for index in sams_three['results']:\n",
    "    print(f\"Adding Index {index['name']} from circle three for Sam's Club to the list...\")\n",
    "    name.append(index['name'])\n",
    "    lat.append(index['geometry']['location']['lat'])\n",
    "    lng.append(index['geometry']['location']['lng'])\n",
    "    address.append(index['vicinity'])\n",
    "    #price_level.append(index['price_level'])"
   ]
  },
  {
   "cell_type": "code",
   "execution_count": 4,
   "metadata": {},
   "outputs": [
    {
     "name": "stdout",
     "output_type": "stream",
     "text": "Adding Index BJ's Wholesale  from circle one for BJ's to the list...\nAdding Index BJ's Wholesale  from circle one for BJ's to the list...\nAdding Index BJ's Wholesale  from circle one for BJ's to the list...\nAdding Index BJ's Wholesale  from circle one for BJ's to the list...\nAdding Index BJ's Wholesale  from circle one for BJ's to the list...\nAdding Index BJ's Wholesale from circle two for BJ's to the list...\nAdding Index BJ's Wholesale from circle two for BJ's to the list...\n"
    }
   ],
   "source": [
    "params = {\n",
    "    \"location\" : circle_one,\n",
    "    #\"type\": target_type,\n",
    "    \"radius\": radius,\n",
    "    \"key\" : g_key,\n",
    "    \"keyword\" : bj_keyword\n",
    "}\n",
    "response = requests.get(url,params)\n",
    "bj_one = response.json()\n",
    "#print(costco_one['results'])\n",
    "for index in bj_one['results']:\n",
    "    print(f\"Adding Index {index['name']}  from circle one for BJ's to the list...\")\n",
    "    name.append(index['name'])\n",
    "    lat.append(index['geometry']['location']['lat'])\n",
    "    lng.append(index['geometry']['location']['lng'])\n",
    "    address.append(index['vicinity'])\n",
    "    #price_level.append(index['price_level'])\n",
    "\n",
    "\n",
    "params = {\n",
    "    \"location\" : circle_two,\n",
    "    #\"type\": target_type,\n",
    "    \"radius\": radius,\n",
    "    \"key\" : g_key,\n",
    "    \"keyword\" : bj_keyword\n",
    "}\n",
    "response = requests.get(url,params)\n",
    "bj_two = response.json()\n",
    "#print(costco_one['results'])\n",
    "for index in bj_two['results']:\n",
    "    print(f\"Adding Index {index['name']} from circle two for BJ's to the list...\")\n",
    "    name.append(index['name'])\n",
    "    lat.append(index['geometry']['location']['lat'])\n",
    "    lng.append(index['geometry']['location']['lng'])\n",
    "    address.append(index['vicinity'])\n",
    "    #price_level.append(index['price_level'])\n",
    "\n",
    "\n",
    "params = {\n",
    "    \"location\" : circle_three,\n",
    "    #\"type\": target_type,\n",
    "    \"radius\": 32186,\n",
    "    \"key\" : g_key,\n",
    "    \"keyword\" : bj_keyword\n",
    "}\n",
    "response = requests.get(url,params)\n",
    "bj_three = response.json()\n",
    "#print(costco_one['results'])\n",
    "for index in bj_three['results']:\n",
    "    print(f\"Adding Index {index['name']} from circle three for BJ's to the list...\")\n",
    "    name.append(index['name'])\n",
    "    lat.append(index['geometry']['location']['lat'])\n",
    "    lng.append(index['geometry']['location']['lng'])\n",
    "    address.append(index['vicinity'])\n",
    "    #price_level.append(index['price_level'])\n",
    "\n",
    "club_list = pd.DataFrame(data = {\"Name\":name,\"Lat\":lat,\"Lng\":lng,\"Address\":address})\n",
    "\n"
   ]
  },
  {
   "cell_type": "code",
   "execution_count": 6,
   "metadata": {},
   "outputs": [
    {
     "name": "stdout",
     "output_type": "stream",
     "text": "Name        Lat        Lng  \\\n0   Costco Wholesale  41.265324 -81.507401   \n1   Costco Wholesale  41.316908 -81.815903   \n2   Costco Wholesale  41.523955 -81.446610   \n3   Costco Wholesale  41.460533 -82.011002   \n4         Sam's Club  41.118157 -81.469221   \n5         Sam's Club  41.133175 -81.633185   \n6         Sam's Club  40.878174 -81.437164   \n7         Sam's Club  41.366413 -81.512382   \n8         Sam's Club  41.420280 -81.757481   \n9         Sam's Club  41.421844 -82.081514   \n11        Sam's Club  41.717211 -81.293395   \n12        Sam's Club  41.034330 -80.633600   \n13    BJ's Wholesale  41.115934 -81.482591   \n14    BJ's Wholesale  40.881690 -81.439936   \n15    BJ's Wholesale  41.441952 -81.496956   \n16    BJ's Wholesale  41.376131 -81.786051   \n17    BJ's Wholesale  41.463206 -82.050078   \n18    BJ's Wholesale  41.631042 -81.426055   \n\n                                   Address  \n0                 6720 Bass Pro Dr, Hudson  \n1          16690 Royalton Rd, Strongsville  \n2         1409 Golden Gate Blvd, Cleveland  \n3                   35804 Detroit Rd, Avon  \n4     1189 Buchholzer Blvd, Cuyahoga Falls  \n5        3750 W Market St Unit J, Fairlawn  \n6               4790 Portage St NW, Canton  \n7              23300 Broadway Ave, Oakwood  \n8            10250 Brookpark Rd, Cleveland  \n9           5225 Cobblestone Rd, Sheffield  \n11                 5600 Emerald Ct, Mentor  \n12              6361 South Ave, Youngstown  \n13                    1677 Home Ave, Akron  \n14         6924 Frank Ave NW, North Canton  \n15  4365 Richmond Rd, Warrensville Heights  \n16     6944 W 130th St, Middleburg Heights  \n17                38292 Colorado Ave, Avon  \n18            36595 Euclid Ave, Willoughby  \n"
    }
   ],
   "source": [
    "club_list = club_list.drop_duplicates(subset = \"Address\").reset_index(drop=True)\n",
    "club_list = club_list.drop([10])\n",
    "print(club_list)\n",
    "club_list.to_csv(\"output_data/club_data.csv\",index=False,header=True)\n"
   ]
  },
  {
   "cell_type": "markdown",
   "metadata": {},
   "source": [
    "## Sean - Pull data for Walmart from Google API"
   ]
  },
  {
   "cell_type": "code",
   "execution_count": null,
   "metadata": {},
   "outputs": [],
   "source": []
  },
  {
   "cell_type": "markdown",
   "metadata": {},
   "source": [
    "## Val - Pull data for Target from Google API"
   ]
  },
  {
   "cell_type": "code",
   "execution_count": null,
   "metadata": {},
   "outputs": [],
   "source": []
  }
 ]
}