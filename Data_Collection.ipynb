{
 "nbformat": 4,
 "nbformat_minor": 2,
 "metadata": {
  "language_info": {
   "name": "python",
   "codemirror_mode": {
    "name": "ipython",
    "version": 3
   },
   "version": "3.7.4-final"
  },
  "orig_nbformat": 2,
  "file_extension": ".py",
  "mimetype": "text/x-python",
  "name": "python",
  "npconvert_exporter": "python",
  "pygments_lexer": "ipython3",
  "version": 3,
  "kernelspec": {
   "name": "python37464bitpythondatacondaaf71fc3f5dd34866a438487bc0d8ac87",
   "display_name": "Python 3.7.4 64-bit ('PythonData': conda)"
  }
 },
 "cells": [
  {
   "cell_type": "markdown",
   "metadata": {},
   "source": [
    "# Data Collection - Collecting Grocery Store Data from Google API and Census Data from Census API"
   ]
  },
  {
   "cell_type": "markdown",
   "metadata": {},
   "source": [
    "## Dependencies"
   ]
  },
  {
   "cell_type": "code",
   "execution_count": 2,
   "metadata": {},
   "outputs": [],
   "source": [
    "import requests\n",
    "import json\n",
    "import gmaps\n",
    "from pprint import pprint\n",
    "import pandas as pd\n"
   ]
  },
  {
   "cell_type": "markdown",
   "metadata": {},
   "source": [
    "## Ali - Pull data for Grocery Stores from Google API"
   ]
  },
  {
   "cell_type": "code",
   "execution_count": null,
   "metadata": {},
   "outputs": [],
   "source": []
  },
  {
   "cell_type": "markdown",
   "metadata": {},
   "source": [
    "## Ben - Pull data for Wholesale Clubs from Google API"
   ]
  },
  {
   "cell_type": "code",
   "execution_count": 9,
   "metadata": {},
   "outputs": [
    {
     "name": "stdout",
     "output_type": "stream",
     "text": "iMXSsaCWhbARmq3bcu9t7gTiMnJs7p0I37fHktxuqLQj0v_tfKg0IeEhDEb5l4pYA7etF8hxg7SoIhGhRYdprlhmsf6kxW2PZxYnm9VkVZvA', 'width': 1920}], 'place_id': 'ChIJSZghHbmRMIgRfCrrH_q0OJI', 'plus_code': {'compound_code': 'FX6Q+6H Avon, Ohio', 'global_code': '86HVFX6Q+6H'}, 'price_level': 2, 'rating': 4.6, 'reference': 'ChIJSZghHbmRMIgRfCrrH_q0OJI', 'types': ['department_store', 'point_of_interest', 'store', 'establishment'], 'user_ratings_total': 1645}, {'formatted_address': '7300 OH-161, Plain City, OH 43064, United States', 'geometry': {'location': {'lat': 40.1099981, 'lng': -83.1892239}, 'viewport': {'northeast': {'lat': 40.11134457989272, 'lng': -83.18779337010727}, 'southwest': {'lat': 40.10864492010727, 'lng': -83.19049302989272}}}, 'icon': 'https://maps.gstatic.com/mapfiles/place_api/icons/shopping-71.png', 'id': '7b8ebb346c20df5afc1ad5d9deee768494971c58', 'name': 'Costco Wholesale', 'opening_hours': {'open_now': False}, 'photos': [{'height': 1960, 'html_attributions': ['<a href=\"https://maps.google.com/maps/contrib/102804238709352240037\">Boyang Zhang</a>'], 'photo_reference': 'CmRaAAAAkV7qG6547huuS7gFeb-VgPaPD2t0Q81wR1WwNjmNt8Rv_UmOl3PXJHM85csyrcWDQZgGQSwJf3i_i39qfm2L_nqX9S8mYb6fzjP2IOeyZrz7CQD4FzJDcvXQb0tQQdEdEhAcQlwoMbyXUQZy8IOa4TX9GhRiad28YuhDtf97jqz91RHLJLP8FA', 'width': 4032}], 'place_id': 'ChIJ75QmZ8uUOIgRQnnXwo90AQg', 'plus_code': {'compound_code': '4R56+X8 Plain City, Ohio', 'global_code': '86GR4R56+X8'}, 'price_level': 2, 'rating': 4.6, 'reference': 'ChIJ75QmZ8uUOIgRQnnXwo90AQg', 'types': ['department_store', 'point_of_interest', 'store', 'establishment'], 'user_ratings_total': 1879}, {'formatted_address': '1500 Gemini Pl, Columbus, OH 43240, United States', 'geometry': {'location': {'lat': 40.15035719999999, 'lng': -82.9770176}, 'viewport': {'northeast': {'lat': 40.15167257989273, 'lng': -82.97556687010727}, 'southwest': {'lat': 40.14897292010728, 'lng': -82.97826652989272}}}, 'icon': 'https://maps.gstatic.com/mapfiles/place_api/icons/shopping-71.png', 'id': 'f8139a3f2742c9e07c21050c8b45db2c73e26b81', 'name': 'Costco Wholesale', 'opening_hours': {'open_now': False}, 'photos': [{'height': 1080, 'html_attributions': ['<a href=\"https://maps.google.com/maps/contrib/109888114070781798651\">Sagar Dwarampudi</a>'], 'photo_reference': 'CmRaAAAAEbCr3_JTEBSgNGLv0y-Pxy84JxdEPgvSZid53-gOKP5aY3OTB71xbqww6JDFDLwabkOShIyc6YTOoy-NYHf8ELMeLUL_yvIeAsBbC6CeUY9hTikROFcy7bnfb8yrSzIzEhBW2rqw1BvHU44nkzpPVAudGhQujhIs03vYzK_5_RYTrUvXiUKClQ', 'width': 1920}], 'place_id': 'ChIJgS5cM2n0OIgRefubxXwtSag', 'plus_code': {'compound_code': '522F+45 Columbus, Ohio', 'global_code': '86GV522F+45'}, 'price_level': 2, 'rating': 4.6, 'reference': 'ChIJgS5cM2n0OIgRefubxXwtSag', 'types': ['department_store', 'point_of_interest', 'store', 'establishment'], 'user_ratings_total': 3314}, {'formatted_address': '3888 Stelzer Rd, Columbus, OH 43219, United States', 'geometry': {'location': {'lat': 40.0538236, 'lng': -82.90543480000001}, 'viewport': {'northeast': {'lat': 40.05521767989272, 'lng': -82.90413732010728}, 'southwest': {'lat': 40.05251802010728, 'lng': -82.90683697989273}}}, 'icon': 'https://maps.gstatic.com/mapfiles/place_api/icons/shopping-71.png', 'id': '93e7bace8ef02ab66087a740f2ad0616a4c18c05', 'name': 'Costco Wholesale', 'opening_hours': {'open_now': False}, 'photos': [{'height': 3024, 'html_attributions': ['<a href=\"https://maps.google.com/maps/contrib/114551069050517184742\">Samson King</a>'], 'photo_reference': 'CmRaAAAAUWGpwPLayZ-zwBnChKJskSztRD-kzGU7QgzkezqVmNKyvo34xRcm0P7LqsoJMRV_wIw8BJqf7uAmqXJ06m2M2Z1DzpFOX-Qm4hdG0GDsK-lYUNLA3Xqrkh-OzrdbWQYgEhD-5tYtp6DEI4jdVQGHH_m1GhRdOW1rluXvDDs8bK3n2-OjfCxdUA', 'width': 4032}], 'place_id': 'ChIJfT4neipgOIgRmQe1TuP5afg', 'plus_code': {'compound_code': '333V+GR Columbus, Ohio', 'global_code': '86GV333V+GR'}, 'price_level': 2, 'rating': 4.6, 'reference': 'ChIJfT4neipgOIgRmQe1TuP5afg', 'types': ['department_store', 'point_of_interest', 'store', 'establishment'], 'user_ratings_total': 2833}, {'formatted_address': '26400 N Dixie Hwy, Perrysburg, OH 43551, United States', 'geometry': {'location': {'lat': 41.5342505, 'lng': -83.63283779999999}, 'viewport': {'northeast': {'lat': 41.53592622989272, 'lng': -83.63184562010728}, 'southwest': {'lat': 41.53322657010727, 'lng': -83.63454527989272}}}, 'icon': 'https://maps.gstatic.com/mapfiles/place_api/icons/shopping-71.png', 'id': '8e8da9ab35fe6d6b12997cbf5d2a5dbcca1cc007', 'name': 'Costco Wholesale', 'opening_hours': {'open_now': False}, 'photos': [{'height': 4032, 'html_attributions': ['<a href=\"https://maps.google.com/maps/contrib/103616112331163360092\">Mike Harrold</a>'], 'photo_reference': 'CmRaAAAAHU2UTvvxbIPH4Nt5yyaqCCLh5xiUZS5jrumC_Ita4jaz9JJk3Y9zcicZ7g0z_O9Md39RoSiGxVjNdliKgSZNGNVLH6q97N8TA4qGJsOhy4RXs4nBuDyb-ftx2bZgj24IEhATDY5cM3ZlqoWZ2BmmGcmRGhREMBr0lqz09PqEbnScte5R2Je_-A', 'width': 3024}], 'place_id': 'ChIJH1N0wvd2PIgR0qz2-XUPkmg', 'plus_code': {'compound_code': 'G9M8+PV Perrysburg, Perrysburg Township, OH', 'global_code': '86HRG9M8+PV'}, 'price_level': 2, 'rating': 4.7, 'reference': 'ChIJH1N0wvd2PIgR0qz2-XUPkmg', 'types': ['department_store', 'point_of_interest', 'store', 'establishment'], 'user_ratings_total': 2636}, {'formatted_address': '3405 Central Ave, Toledo, OH 43606, United States', 'geometry': {'location': {'lat': 41.6757774, 'lng': -83.6259078}, 'viewport': {'northeast': {'lat': 41.67735212989272, 'lng': -83.62422022010726}, 'southwest': {'lat': 41.67465247010728, 'lng': -83.62691987989271}}}, 'icon': 'https://maps.gstatic.com/mapfiles/place_api/icons/shopping-71.png', 'id': '41bb974213c0fef78a9079618fcd454849d415fc', 'name': 'Costco Wholesale', 'opening_hours': {'open_now': False}, 'photos': [{'height': 1080, 'html_attributions': ['<a href=\"https://maps.google.com/maps/contrib/100504472368193643946\">Roy Lee</a>'], 'photo_reference': 'CmRaAAAAtv2zQlSq1_tcT_QcEFLmEp7pvJpuvtTLoSoonMNJpi8NRAlGDo9MxP4STZMNU5Io8F6VtBEzqm5mnUgKHsM86bujZz7l0m9DSgdQds6GbCtSaHpG3cPTHyKKnrqoTi8dEhDDO22mtdw7KMpHkt6PPVgTGhTAH5N6noTFdtINvPlI2ZxiRppNUQ', 'width': 1920}], 'place_id': 'ChIJgYXASjt_PIgRUHtjUFCMOOc', 'plus_code': {'compound_code': 'M9GF+8J Toledo, Ohio', 'global_code': '86HRM9GF+8J'}, 'price_level': 2, 'rating': 4.6, 'reference': 'ChIJgYXASjt_PIgRUHtjUFCMOOc', 'types': ['department_store', 'point_of_interest', 'store', 'establishment'], 'user_ratings_total': 3352}, {'formatted_address': '5300 Cornerstone N Blvd, Centerville, OH 45440, United States', 'geometry': {'location': {'lat': 39.6630284, 'lng': -84.1057103}, 'viewport': {'northeast': {'lat': 39.66410147989272, 'lng': -84.10487492010728}, 'southwest': {'lat': 39.66140182010728, 'lng': -84.10757457989273}}}, 'icon': 'https://maps.gstatic.com/mapfiles/place_api/icons/shopping-71.png', 'id': '3084e4fafc30c27a0abd407960a8bad8ba7dd135', 'name': 'Costco Wholesale', 'opening_hours': {'open_now': False}, 'photos': [{'height': 3024, 'html_attributions': ['<a href=\"https://maps.google.com/maps/contrib/115844053982841926506\">Avneesh Sisodia</a>'], 'photo_reference': 'CmRaAAAAs4owqtibgegVQgkrJFY5avdmQb1-VQ5NoC4cqow4MnTDyVf7y4qZIetL-4qYQaEl490sz_Oz7KtLLI4gRRWoZwJhxRvfuobsFUdD5YsR9L2T6yZ9K2Rv2j7mIpcAr0aOEhCfaO9Ys6WX6bBwqaMBmjDnGhRCkUMqBcm6tAs1ESRhhRj1f1auEQ', 'width': 4032}], 'place_id': 'ChIJn_JSCduOQIgR0SdVk_rXwNg', 'plus_code': {'compound_code': 'MV7V+6P Centerville, Washington Township, OH', 'global_code': '86FQMV7V+6P'}, 'price_level': 2, 'rating': 4.6, 'reference': 'ChIJn_JSCduOQIgR0SdVk_rXwNg', 'types': ['department_store', 'point_of_interest', 'store', 'establishment'], 'user_ratings_total': 2926}, {'formatted_address': '9691 Waterstone Blvd, Cincinnati, OH 45249, United States', 'geometry': {'location': {'lat': 39.2957767, 'lng': -84.3031184}, 'viewport': {'northeast': {'lat': 39.29703257989271, 'lng': -84.30176317010728}, 'southwest': {'lat': 39.29433292010727, 'lng': -84.30446282989273}}}, 'icon': 'https://maps.gstatic.com/mapfiles/place_api/icons/shopping-71.png', 'id': '1324d5639a626bb859f1ee6b974681f30c92bf17', 'name': 'Costco Wholesale', 'opening_hours': {'open_now': False}, 'photos': [{'height': 3036, 'html_attributions': ['<a href=\"https://maps.google.com/maps/contrib/108150560400067732785\">megan stone</a>'], 'photo_reference': 'CmRaAAAAIHmSOdCggNSR9IPI7sjRCKBnLsd3VgfXiIEWozH2Zj0yrPTPKNdQNMrVJ-eZj6SCn7mqaUnFXRE2frLkbQYC8l3pqA55Msfcib5EkR_3z2MhxzhkH1OyYvzmL96LtywwEhDaRLg-Ox4H0Ju1WbjqLjC2GhRCOCZXWd79GB9uqmRfQtxoYPbCGg', 'width': 4048}], 'place_id': 'ChIJHZ5Nc1BWQIgR03s3zaolr78', 'plus_code': {'compound_code': '7MWW+8Q Cincinnati, Ohio', 'global_code': '86FQ7MWW+8Q'}, 'price_level': 2, 'rating': 4.6, 'reference': 'ChIJHZ5Nc1BWQIgR03s3zaolr78', 'types': ['department_store', 'point_of_interest', 'store', 'establishment'], 'user_ratings_total': 1637}, {'formatted_address': '1100 E Kemper Rd, Springdale, OH 45246, United States', 'geometry': {'location': {'lat': 39.2888031, 'lng': -84.45103449999999}, 'viewport': {'northeast': {'lat': 39.28973287989272, 'lng': -84.45010047010727}, 'southwest': {'lat': 39.28703322010728, 'lng': -84.45280012989271}}}, 'icon': 'https://maps.gstatic.com/mapfiles/place_api/icons/shopping-71.png', 'id': 'a8b98a0d3251b42b4acbfe357a09f0db2922c77c', 'name': 'Costco Wholesale', 'opening_hours': {'open_now': False}, 'photos': [{'height': 4008, 'html_attributions': ['<a href=\"https://maps.google.com/maps/contrib/105252757306509770256\">daniel russell</a>'], 'photo_reference': 'CmRaAAAA9pn7UWqG5lrxhHsEg-wiGqRKzj6b88ryaeBQe9GoftI8zs_KH2XhycDIufrj-rk5wN2YahAsuXI24siscVupRI6OnZcPOct68BnwhCUre8b4xsACdtt2Ci2RLPkUbtpJEhDNOlidxZF3pRstFWtJwXm3GhSZQJxh_LM98kb1akSMIXt0W5Spsg', 'width': 5344}], 'place_id': 'ChIJM-zwIxdOQIgRJChtmBwBrN4', 'plus_code': {'compound_code': '7GQX+GH Springdale, West Chester Township, OH', 'global_code': '86FQ7GQX+GH'}, 'price_level': 2, 'rating': 4.6, 'reference': 'ChIJM-zwIxdOQIgRJChtmBwBrN4', 'types': ['department_store', 'point_of_interest', 'store', 'establishment'], 'user_ratings_total': 2773}, {'formatted_address': '35804 Detroit Rd, Avon, OH 44011, United States', 'geometry': {'location': {'lat': 41.4603129, 'lng': -82.01141659999999}, 'viewport': {'northeast': {'lat': 41.46184772989272, 'lng': -82.01006502010728}, 'southwest': {'lat': 41.45914807010728, 'lng': -82.01276467989273}}}, 'icon': 'https://maps.gstatic.com/mapfiles/place_api/icons/pharmacy_cross-71.png', 'id': 'df7842d25ae9b723dc6850f08cf26fdaeacdb988', 'name': 'Costco Pharmacy', 'opening_hours': {'open_now': False}, 'place_id': 'ChIJSZghHbmRMIgR28N5PD94rzw', 'plus_code': {'compound_code': 'FX6Q+4C Avon, Ohio', 'global_code': '86HVFX6Q+4C'}, 'price_level': 2, 'rating': 4.5, 'reference': 'ChIJSZghHbmRMIgR28N5PD94rzw', 'types': ['pharmacy', 'health', 'point_of_interest', 'store', 'establishment'], 'user_ratings_total': 2}, {'formatted_address': '7300 OH-161, Plain City, OH 43064, United States', 'geometry': {'location': {'lat': 40.11020910000001, 'lng': -83.1894488}, 'viewport': {'northeast': {'lat': 40.11157512989273, 'lng': -83.18789767010728}, 'southwest': {'lat': 40.10887547010728, 'lng': -83.19059732989271}}}, 'icon': 'https://maps.gstatic.com/mapfiles/place_api/icons/pharmacy_cross-71.png', 'id': '49d6960704efeed50fbe139f294ac9a4880a1e93', 'name': 'Costco Pharmacy', 'opening_hours': {'open_now': False}, 'place_id': 'ChIJ8-kW5zTrOIgRrhEuQihyY4U', 'plus_code': {'compound_code': '4R66+36 Dublin, Ohio', 'global_code': '86GR4R66+36'}, 'rating': 4.2, 'reference': 'ChIJ8-kW5zTrOIgRrhEuQihyY4U', 'types': ['pharmacy', 'health', 'point_of_interest', 'store', 'establishment'], 'user_ratings_total': 5}, {'formatted_address': '16690 Royalton Rd, Strongsville, OH 44136, United States', 'geometry': {'location': {'lat': 41.3169467, 'lng': -81.8158933}, 'viewport': {'northeast': {'lat': 41.31820487989272, 'lng': -81.81454092010728}, 'southwest': {'lat': 41.31550522010728, 'lng': -81.81724057989273}}}, 'icon': 'https://maps.gstatic.com/mapfiles/place_api/icons/pharmacy_cross-71.png', 'id': 'f5ebe3775e414d28b2590a61b0d723c673bfd9db', 'name': 'Costco Pharmacy', 'opening_hours': {'open_now': False}, 'place_id': 'ChIJNa2MJXnqMIgRhs5wig5Zq24', 'plus_code': {'compound_code': '858M+QJ Strongsville, Columbia Township, OH', 'global_code': '86HW858M+QJ'}, 'price_level': 2, 'rating': 3.2, 'reference': 'ChIJNa2MJXnqMIgRhs5wig5Zq24', 'types': ['pharmacy', 'health', 'point_of_interest', 'store', 'establishment'], 'user_ratings_total': 5}, {'formatted_address': '6720 Bass Pro Dr, Hudson, OH 44236, United States', 'geometry': {'location': {'lat': 41.2636635, 'lng': -81.50737970000002}, 'viewport': {'northeast': {'lat': 41.26516442989272, 'lng': -81.5060344201073}, 'southwest': {'lat': 41.26246477010728, 'lng': -81.50873407989273}}}, 'icon': 'https://maps.gstatic.com/mapfiles/place_api/icons/gas_station-71.png', 'id': '6637f35d968841238a574bbaa426cafa53464eaf', 'name': 'Costco Gasoline', 'opening_hours': {'open_now': False}, 'photos': [{'height': 2988, 'html_attributions': ['<a href=\"https://maps.google.com/maps/contrib/101600647907018749147\">Mike Zivny</a>'], 'photo_reference': 'CmRaAAAATuHG1tb1NO3Bb2FWXbA9Faq0jE1yN4gc4OHZosTxawVVTCF7QpO9TsPUjDf0Gw24sBMgRmLfFzEbn3sqTjAu2mubzWT1GBQ6U5rcg7eVuatyblBs1sN8QiSRsJqK8mjdEhCnc10-nAYT-GNcpyYjn7dYGhQn9vaimITnze46JQWr6Vq2twVsGg', 'width': 5312}], 'place_id': 'ChIJ9189AXMgMYgRRuNzH6bzpc4', 'plus_code': {'compound_code': '7F7V+F2 Hudson, Ohio', 'global_code': '86HW7F7V+F2'}, 'price_level': 2, 'rating': 4.8, 'reference': 'ChIJ9189AXMgMYgRRuNzH6bzpc4', 'types': ['gas_station', 'point_of_interest', 'establishment'], 'user_ratings_total': 63}, {'formatted_address': '1409 Golden Gate Blvd, Cleveland, OH 44124, United States', 'geometry': {'location': {'lat': 41.52426730000001, 'lng': -81.44649319999999}, 'viewport': {'northeast': {'lat': 41.52583622989273, 'lng': -81.44514322010727}, 'southwest': {'lat': 41.52313657010728, 'lng': -81.44784287989272}}}, 'icon': 'https://maps.gstatic.com/mapfiles/place_api/icons/pharmacy_cross-71.png', 'id': 'bbaeea6b699589d3624b996ad34e2060bef9332f', 'name': 'Costco Pharmacy', 'opening_hours': {'open_now': False}, 'photos': [{'height': 2268, 'html_attributions': ['<a href=\"https://maps.google.com/maps/contrib/116299931672437631301\">ß</a>'], 'photo_reference': 'CmRaAAAAaR2ZpYHWC4WJ740X46Rg4hEF8Vl8AlLt_1KPpA_gx_d4ELWAAgFVT-XJw7aX__McdcOxA6tJ0UdFWD5rTK8s325PBDkcnzSTnOV0soEa_77p5Tgx4dxsXlQ2gyyZ7YW0EhAUKppsJHmRlhKET42zA1-wGhSAsbFQufVEboDp8l326kYzKVGG6g', 'width': 4032}], 'place_id': 'ChIJz_ruA18BMYgR9J3gsuGWMxM', 'plus_code': {'compound_code': 'GHF3+PC Cleveland, Ohio', 'global_code': '86HWGHF3+PC'}, 'price_level': 2, 'rating': 3.5, 'reference': 'ChIJz_ruA18BMYgR9J3gsuGWMxM', 'types': ['pharmacy', 'health', 'point_of_interest', 'store', 'establishment'], 'user_ratings_total': 8}, {'formatted_address': '1500 Gemini Pl, Columbus, OH 43240, United States', 'geometry': {'location': {'lat': 40.1505437, 'lng': -82.9770645}, 'viewport': {'northeast': {'lat': 40.15188367989273, 'lng': -82.97553872010728}, 'southwest': {'lat': 40.14918402010728, 'lng': -82.97823837989273}}}, 'icon': 'https://maps.gstatic.com/mapfiles/place_api/icons/pharmacy_cross-71.png', 'id': 'e5d2fe023655d42ba586beb07dd648cfeb3108cc', 'name': 'Costco Pharmacy', 'opening_hours': {'open_now': False}, 'photos': [{'height': 3024, 'html_attributions': ['<a href=\"https://maps.google.com/maps/contrib/102802468127152668984\">A Google User</a>'], 'photo_reference': 'CmRaAAAAfOdRQw5la-Yl4b-oaTMbJhME-Z5nr84jLLh1IBXoehUj0jeXZd9LJI0K_N5LltqOgGHp_YF74oWG6e47qCXlYanTtkmO9TaljJ0_lWbkpJ0EdKI7t9J081Elr4gzW1HjEhDX5OxTZF5C619BLJkGyL0NGhQ6t1nKoVfahznAMHEcki8KnYdtiw', 'width': 4032}], 'place_id': 'ChIJgS5cM2n0OIgRtMiSf6pQdBs', 'plus_code': {'compound_code': '522F+65 Columbus, Ohio', 'global_code': '86GV522F+65'}, 'price_level': 2, 'rating': 4.8, 'reference': 'ChIJgS5cM2n0OIgRtMiSf6pQdBs', 'types': ['pharmacy', 'health', 'point_of_interest', 'store', 'establishment'], 'user_ratings_total': 4}, {'formatted_address': '7420 OH-161, Plain City, OH 43064, United States', 'geometry': {'location': {'lat': 40.1100401, 'lng': -83.18946280000002}, 'viewport': {'northeast': {'lat': 40.11127697989273, 'lng': -83.18809652010727}, 'southwest': {'lat': 40.10857732010729, 'lng': -83.19079617989271}}}, 'icon': 'https://maps.gstatic.com/mapfiles/place_api/icons/restaurant-71.png', 'id': 'b61b186261bea6d7b24b32292d1570f6ff544988', 'name': 'Costco Bakery', 'opening_hours': {'open_now': False}, 'place_id': 'ChIJ99yW3TTrOIgRhrCjuB0kW08', 'plus_code': {'compound_code': '4R66+26 Dublin, Ohio', 'global_code': '86GR4R66+26'}, 'price_level': 1, 'rating': 5, 'reference': 'ChIJ99yW3TTrOIgRhrCjuB0kW08', 'types': ['bakery', 'food', 'point_of_interest', 'store', 'establishment'], 'user_ratings_total': 2}, {'formatted_address': '16690 Royalton Rd, Strongsville, OH 44136, United States', 'geometry': {'location': {'lat': 41.3165248, 'lng': -81.8147001}, 'viewport': {'northeast': {'lat': 41.31774427989272, 'lng': -81.81333162010728}, 'southwest': {'lat': 41.31504462010728, 'lng': -81.81603127989273}}}, 'icon': 'https://maps.gstatic.com/mapfiles/place_api/icons/gas_station-71.png', 'id': '7f57c3f3f3cc72d33da78cb5aa0ccdcca4938b4a', 'name': 'Costco Gasoline', 'opening_hours': {'open_now': False}, 'photos': [{'height': 4160, 'html_attributions': ['<a href=\"https://maps.google.com/maps/contrib/102258760642699171803\">Ananth Sivagnanam</a>'], 'photo_reference': 'CmRaAAAA1XDtRMTllqf2y0hdnl5v_2srPuSWLqjuiGPiXnQ01L7suW21iOvEn1Y0MubrQjxlaWIlbBsi2f2KGPCj_LtVvp8EpQNetRe9juyvdFRzqGxWOkBfJtFOXwt636a5gtesEhDAa23y55-1E4QXJlXwZ2HGGhSm1iwmNaKdwMGKragnAiqssY4_kg', 'width': 3120}], 'place_id': 'ChIJhw6XJXnqMIgR2ArWZa9R3ts', 'plus_code': {'compound_code': '858P+J4 Strongsville, Columbia Township, OH', 'global_code': '86HW858P+J4'}, 'price_level': 2, 'rating': 4.7, 'reference': 'ChIJhw6XJXnqMIgR2ArWZa9R3ts', 'types': ['gas_station', 'point_of_interest', 'establishment'], 'user_ratings_total': 13}]\n                Name        Lat        Lng  \\\n0   Costco Wholesale  41.265324 -81.507401   \n1   Costco Wholesale  41.316908 -81.815903   \n2   Costco Wholesale  41.523955 -81.446610   \n3   Costco Wholesale  41.460533 -82.011002   \n4   Costco Wholesale  40.109998 -83.189224   \n5   Costco Wholesale  40.150357 -82.977018   \n6   Costco Wholesale  40.053824 -82.905435   \n7   Costco Wholesale  41.534250 -83.632838   \n8   Costco Wholesale  41.675777 -83.625908   \n9   Costco Wholesale  39.663028 -84.105710   \n10  Costco Wholesale  39.295777 -84.303118   \n11  Costco Wholesale  39.288803 -84.451034   \n12   Costco Pharmacy  41.460313 -82.011417   \n13   Costco Pharmacy  40.110209 -83.189449   \n14   Costco Pharmacy  41.316947 -81.815893   \n15   Costco Gasoline  41.263663 -81.507380   \n16   Costco Pharmacy  41.524267 -81.446493   \n17   Costco Pharmacy  40.150544 -82.977064   \n18     Costco Bakery  40.110040 -83.189463   \n19   Costco Gasoline  41.316525 -81.814700   \n\n                                              Address  \n0   6720 Bass Pro Dr, Hudson, OH 44236, United States  \n1   16690 Royalton Rd, Strongsville, OH 44136, Uni...  \n2   1409 Golden Gate Blvd, Cleveland, OH 44124, Un...  \n3     35804 Detroit Rd, Avon, OH 44011, United States  \n4    7300 OH-161, Plain City, OH 43064, United States  \n5   1500 Gemini Pl, Columbus, OH 43240, United States  \n6   3888 Stelzer Rd, Columbus, OH 43219, United St...  \n7   26400 N Dixie Hwy, Perrysburg, OH 43551, Unite...  \n8   3405 Central Ave, Toledo, OH 43606, United States  \n9   5300 Cornerstone N Blvd, Centerville, OH 45440...  \n10  9691 Waterstone Blvd, Cincinnati, OH 45249, Un...  \n11  1100 E Kemper Rd, Springdale, OH 45246, United...  \n12    35804 Detroit Rd, Avon, OH 44011, United States  \n13   7300 OH-161, Plain City, OH 43064, United States  \n14  16690 Royalton Rd, Strongsville, OH 44136, Uni...  \n15  6720 Bass Pro Dr, Hudson, OH 44236, United States  \n16  1409 Golden Gate Blvd, Cleveland, OH 44124, Un...  \n17  1500 Gemini Pl, Columbus, OH 43240, United States  \n18   7420 OH-161, Plain City, OH 43064, United States  \n19  16690 Royalton Rd, Strongsville, OH 44136, Uni...  \n"
    }
   ],
   "source": [
    "from api_keys import g_key\n",
    "\n",
    "#Cleveland Coordinates \"41.4993,-81.6944\"\n",
    "#Columbus Coordinates \"39.9612,-82.9988\"\n",
    "#Cincinnati Coordinates \"39.1031,-84.5120\"\n",
    "\n",
    "clev_id = \"41.4993,-81.6944\"\n",
    "target_type = \"grocery_or_supermarket\"\n",
    "keyword = \"Wholesale Club\"\n",
    "radius = 50000\n",
    "search_cc = \"CostCo in Ohio\"\n",
    "search_sc = \"Sam's Club in Ohio\"\n",
    "search_bj = \"BJ's Wholesale in Ohio\"\n",
    "lat = []\n",
    "lng = []\n",
    "name = []\n",
    "address = []\n",
    "#params = {\n",
    "#    \"location\" : clev_id,\n",
    "#    \"types\": target_type,\n",
    "#    \"radius\": radius,\n",
    "#    \"key\" : g_key,\n",
    "#    \"keyword\" : keyword\n",
    "#}\n",
    "\n",
    "params = {\n",
    "    \"query\": search_cc,\n",
    "    \"key\": g_key\n",
    "}\n",
    "\n",
    "url = \"https://maps.googleapis.com/maps/api/place/textsearch/json\"\n",
    "\n",
    "#response = requests.get(url,params)\n",
    "costco_stores = response.json()\n",
    "print(costco_stores['results'])\n",
    "for index in costco_stores['results']:\n",
    "    #print(f\"Adding Index {index} to the list...\")\n",
    "    name.append(index['name'])\n",
    "    lat.append(index['geometry']['location']['lat'])\n",
    "    lng.append(index['geometry']['location']['lng'])\n",
    "    address.append(index['formatted_address'])\n",
    "\n",
    "club_list = pd.DataFrame(data = {\"Name\":name,\"Lat\":lat,\"Lng\":lng,\"Address\":address})\n",
    "print(club_list)"
   ]
  },
  {
   "cell_type": "markdown",
   "metadata": {},
   "source": [
    "## Sean - Pull data for Walmart from Google API"
   ]
  },
  {
   "cell_type": "code",
   "execution_count": null,
   "metadata": {},
   "outputs": [],
   "source": []
  },
  {
   "cell_type": "markdown",
   "metadata": {},
   "source": [
    "## Val - Pull data for Target from Google API"
   ]
  },
  {
   "cell_type": "code",
   "execution_count": null,
   "metadata": {},
   "outputs": [],
   "source": []
  }
 ]
}