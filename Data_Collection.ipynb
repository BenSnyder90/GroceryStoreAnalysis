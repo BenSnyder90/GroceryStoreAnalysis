{
 "nbformat": 4,
 "nbformat_minor": 2,
 "metadata": {
  "language_info": {
   "name": "python",
   "codemirror_mode": {
    "name": "ipython",
    "version": 3
   },
   "version": "3.7.4-final"
  },
  "orig_nbformat": 2,
  "file_extension": ".py",
  "mimetype": "text/x-python",
  "name": "python",
  "npconvert_exporter": "python",
  "pygments_lexer": "ipython3",
  "version": 3,
  "kernelspec": {
   "name": "python37464bitpythondatacondaaf71fc3f5dd34866a438487bc0d8ac87",
   "display_name": "Python 3.7.4 64-bit ('PythonData': conda)"
  }
 },
 "cells": [
  {
   "cell_type": "markdown",
   "metadata": {},
   "source": [
    "# Data Collection - Collecting Grocery Store Data from Google API and Census Data from Census API"
   ]
  },
  {
   "cell_type": "markdown",
   "metadata": {},
   "source": [
    "## Dependencies"
   ]
  },
  {
   "cell_type": "code",
   "execution_count": 6,
   "metadata": {},
   "outputs": [],
   "source": [
    "import requests\n",
    "import json\n",
    "import gmaps\n",
    "from pprint import pprint\n"
   ]
  },
  {
   "cell_type": "markdown",
   "metadata": {},
   "source": [
    "## Ali - Pull data for Grocery Stores from Google API"
   ]
  },
  {
   "cell_type": "code",
   "execution_count": null,
   "metadata": {},
   "outputs": [],
   "source": []
  },
  {
   "cell_type": "markdown",
   "metadata": {},
   "source": [
    "## Ben - Pull data for Wholesale Clubs from Google API"
   ]
  },
  {
   "cell_type": "code",
   "execution_count": 9,
   "metadata": {},
   "outputs": [
    {
     "name": "stdout",
     "output_type": "stream",
     "text": "rence': 'ChIJaRCmpXX7MIgRX0eUb8XiAFo',\n              'scope': 'GOOGLE',\n              'types': ['grocery_or_supermarket',\n                        'supermarket',\n                        'food',\n                        'point_of_interest',\n                        'store',\n                        'establishment'],\n              'user_ratings_total': 27,\n              'vicinity': '9209 Quincy Ave, Cleveland'},\n             {'geometry': {'location': {'lat': 41.4245124, 'lng': -82.0790894},\n                           'viewport': {'northeast': {'lat': 41.42598762989272,\n                                                      'lng': -82.07780607010727},\n                                        'southwest': {'lat': 41.42328797010727,\n                                                      'lng': -82.08050572989272}}},\n              'icon': 'https://maps.gstatic.com/mapfiles/place_api/icons/shopping-71.png',\n              'id': 'd581df6dc7f970d0c8091efd6ec29a97f1c69618',\n              'name': 'ALDI',\n              'opening_hours': {'open_now': True},\n              'photos': [{'height': 1920,\n                          'html_attributions': ['<a '\n                                                'href=\"https://maps.google.com/maps/contrib/115163591160182782806\">A '\n                                                'Google User</a>'],\n                          'photo_reference': 'CmRaAAAAvIlM3YFacmc6nCpUTGlRoWZS1gjb7Qq_RrOLESb1R1Qb1ikAHgut2G3RIZ3Wb-GRQN_RZmeKWQhtn6QfuL5tXDPMHJpTYS_1GE9DWI4Vt94G8IMSuI6Eaz3JFhRoCyXLEhCeuNuAJxsVSljMlE_dGvFfGhSHG4j6agzeWTc8Dmequ7PMJv6m9A',\n                          'width': 1080}],\n              'place_id': 'ChIJEcOIFzSaMIgRV9gs3alposM',\n              'plus_code': {'compound_code': 'CWFC+R9 Sheffield, Sheffield '\n                                             'Township, OH',\n                            'global_code': '86HVCWFC+R9'},\n              'price_level': 1,\n              'rating': 4.5,\n              'reference': 'ChIJEcOIFzSaMIgRV9gs3alposM',\n              'scope': 'GOOGLE',\n              'types': ['grocery_or_supermarket',\n                        'supermarket',\n                        'food',\n                        'point_of_interest',\n                        'store',\n                        'establishment'],\n              'user_ratings_total': 526,\n              'vicinity': '5216 Detroit Rd, Sheffield'},\n             {'geometry': {'location': {'lat': 41.4677738,\n                                        'lng': -82.01856910000001},\n                           'viewport': {'northeast': {'lat': 41.46902197989272,\n                                                      'lng': -82.01720672010728},\n                                        'southwest': {'lat': 41.46632232010728,\n                                                      'lng': -82.01990637989273}}},\n              'icon': 'https://maps.gstatic.com/mapfiles/place_api/icons/shopping-71.png',\n              'id': '95a2553df5ab7df0100b7a20ae9836c838a92c11',\n              'name': 'ALDI',\n              'opening_hours': {'open_now': True},\n              'photos': [{'height': 4160,\n                          'html_attributions': ['<a '\n                                                'href=\"https://maps.google.com/maps/contrib/108715129625887605106\">Maddox '\n                                                'Williams</a>'],\n                          'photo_reference': 'CmRaAAAAvaQ9ZhvUbugTIQ-bsay_Vn6sT_EIw1dO9utY-z9yA_KkZAEN8I3jCaWXioQDZl_iE-gjTfqTugUUGYtkcL4AkhvJ5pkJgzLNz7HTvX3ut3vP1t80OSr90aj1ti0QjomsEhAx_BvxRkNieJAwY46OF-mOGhSdb_hI9DUJC3G2tKKYAblN45bCjA',\n                          'width': 3120}],\n              'place_id': 'ChIJryKiQzmQMIgRTFwrkIOt954',\n              'plus_code': {'compound_code': 'FX9J+4H Avon, Ohio',\n                            'global_code': '86HVFX9J+4H'},\n              'price_level': 1,\n              'rating': 4.6,\n              'reference': 'ChIJryKiQzmQMIgRTFwrkIOt954',\n              'scope': 'GOOGLE',\n              'types': ['grocery_or_supermarket',\n                        'supermarket',\n                        'food',\n                        'point_of_interest',\n                        'store',\n                        'establishment'],\n              'user_ratings_total': 335,\n              'vicinity': '35920 Chester Rd, Avon'},\n             {'geometry': {'location': {'lat': 41.4874274,\n                                        'lng': -82.11251949999999},\n                           'viewport': {'northeast': {'lat': 41.48890387989272,\n                                                      'lng': -82.11116932010728},\n                                        'southwest': {'lat': 41.48620422010728,\n                                                      'lng': -82.11386897989273}}},\n              'icon': 'https://maps.gstatic.com/mapfiles/place_api/icons/shopping-71.png',\n              'id': '5cf5d63ccaf94fcd7b3b9a43acde8951525dc883',\n              'name': 'Apples Market',\n              'opening_hours': {'open_now': True},\n              'photos': [{'height': 3264,\n                          'html_attributions': ['<a '\n                                                'href=\"https://maps.google.com/maps/contrib/104027804618248652225\">Josh '\n                                                'Read</a>'],\n                          'photo_reference': 'CmRZAAAAKYkSHGDGVEOkq5JbOlStzbbmGn7rEmnLeUBtVbqJYFeQfUZaJg8ykauujDkputl86103MHxRCM_62EHsC08WfddIbcZrTpW_T_c61WeBjqXvs0XK2BOxELECtzhBcfd_EhBINCuCIKToLdgRvUWRAGv5GhTF051G2ZNyqsj_boC1BKLiQq-WiQ',\n                          'width': 1836}],\n              'place_id': 'ChIJUTlrnkubMIgRmhztuKex5nI',\n              'plus_code': {'compound_code': 'FVPP+XX Sheffield Lake, Ohio',\n                            'global_code': '86HVFVPP+XX'},\n              'rating': 4.1,\n              'reference': 'ChIJUTlrnkubMIgRmhztuKex5nI',\n              'scope': 'GOOGLE',\n              'types': ['grocery_or_supermarket',\n                        'atm',\n                        'supermarket',\n                        'finance',\n                        'food',\n                        'point_of_interest',\n                        'store',\n                        'establishment'],\n              'user_ratings_total': 325,\n              'vicinity': '4100 Ivanhoe Ave, Sheffield Lake'},\n             {'geometry': {'location': {'lat': 41.396814, 'lng': -82.004105},\n                           'viewport': {'northeast': {'lat': 41.39801472989272,\n                                                      'lng': -82.00275552010727},\n                                        'southwest': {'lat': 41.39531507010727,\n                                                      'lng': -82.0054551798927}}},\n              'icon': 'https://maps.gstatic.com/mapfiles/place_api/icons/shopping-71.png',\n              'id': '46a7dadd6d52b8e2c48817facb07558566a4487d',\n              'name': \"Marc's Stores\",\n              'opening_hours': {'open_now': True},\n              'photos': [{'height': 1920,\n                          'html_attributions': ['<a '\n                                                'href=\"https://maps.google.com/maps/contrib/111574662719814034948\">Paul '\n                                                'Glor</a>'],\n                          'photo_reference': 'CmRaAAAAzOhVILEbR37tBPISfYik5i44pHELVa3f2hEW0s3Gi5R2WVwJA8G3WdZf94s-nkkDwAllXB-RYVVZ_i3oUQIN_UNJSgn36o8Vai1jIFXwWwciibMOjpLaInhxjQLWcPPVEhDO9jAJf8xxPPNACdFF-KQIGhQc5kmW0rZiEJJCU0_ifSL3mnFLlQ',\n                          'width': 1080}],\n              'place_id': 'ChIJhY9F6y6XMIgRPqDz0KjPi6g',\n              'plus_code': {'compound_code': '9XWW+P9 North Ridgeville, Ohio',\n                            'global_code': '86HV9XWW+P9'},\n              'rating': 3.8,\n              'reference': 'ChIJhY9F6y6XMIgRPqDz0KjPi6g',\n              'scope': 'GOOGLE',\n              'types': ['grocery_or_supermarket',\n                        'convenience_store',\n                        'pharmacy',\n                        'supermarket',\n                        'food',\n                        'health',\n                        'point_of_interest',\n                        'store',\n                        'establishment'],\n              'user_ratings_total': 68,\n              'vicinity': '34800 Center Ridge Rd, North Ridgeville'},\n             {'geometry': {'location': {'lat': 41.6536134,\n                                        'lng': -81.37874389999999},\n                           'viewport': {'northeast': {'lat': 41.65493632989271,\n                                                      'lng': -81.37736517010727},\n                                        'southwest': {'lat': 41.65223667010727,\n                                                      'lng': -81.38006482989272}}},\n              'icon': 'https://maps.gstatic.com/mapfiles/place_api/icons/shopping-71.png',\n              'id': '942ba0f94036edf8341adb0c3c43499addc2f3c1',\n              'name': \"Marc's Stores\",\n              'opening_hours': {'open_now': True},\n              'photos': [{'height': 3000,\n                          'html_attributions': ['<a '\n                                                'href=\"https://maps.google.com/maps/contrib/107083819190943916061\">Anton '\n                                                'Ludvik</a>'],\n                          'photo_reference': 'CmRaAAAAY-TU4pvX08Ax5CelhcNYgEVGdAQfRwfOyED1Nexpw60KnU9J_17Rn0LdZE-YmJQTogJxFdL5woW_EN7AEcMiUIUPmS8QTQWRgM1tuf-4fpjg7dJJXbk5CmlWgGY65_IBEhDHqByLnAHBJ8dTajk3dhP-GhTT9_Ax9tnnt7bu0JX2ZcBk0Jjj4Q',\n                          'width': 4000}],\n              'place_id': 'ChIJWbxBNOGoMYgRs7xUKM-1f98',\n              'plus_code': {'compound_code': 'MJ3C+CG Mentor, Painesville '\n                                             'Township, OH',\n                            'global_code': '86HWMJ3C+CG'},\n              'rating': 3.6,\n              'reference': 'ChIJWbxBNOGoMYgRs7xUKM-1f98',\n              'scope': 'GOOGLE',\n              'types': ['grocery_or_supermarket',\n                        'convenience_store',\n                        'pharmacy',\n                        'supermarket',\n                        'food',\n                        'health',\n                        'point_of_interest',\n                        'store',\n                        'establishment'],\n              'user_ratings_total': 51,\n              'vicinity': '7353 Mentor Ave, Mentor'},\n             {'geometry': {'location': {'lat': 41.418534,\n                                        'lng': -82.14939919999999},\n                           'viewport': {'northeast': {'lat': 41.41988337989272,\n                                                      'lng': -82.14798057010728},\n                                        'southwest': {'lat': 41.41718372010728,\n                                                      'lng': -82.15068022989273}}},\n              'icon': 'https://maps.gstatic.com/mapfiles/place_api/icons/shopping-71.png',\n              'id': 'c7d4124085f5724a9ab98e1f9ba0b7e8e1fcc463',\n              'name': \"Marc's Stores\",\n              'opening_hours': {'open_now': True},\n              'photos': [{'height': 3024,\n                          'html_attributions': ['<a '\n                                                'href=\"https://maps.google.com/maps/contrib/116042188338212014461\">Ross '\n                                                'Lancaster</a>'],\n                          'photo_reference': 'CmRaAAAAueH6ZCbkv_2fy7kelkfTNV6YGCVIuLmWI2gi5HaHd_dSvFYnYkmdiS0IYXsNypWYjpBZDXe7QcR5zfPXXGV09zGyyBRaoeFs_RVjSWXKXPYqwXUo_LqkighDAkUbpF0mEhBDNP3nB0EnYtLY1unjgPQFGhTWZEn3SoIh-1xUWNF_6xSUGeaniw',\n                          'width': 4032}],\n              'place_id': 'ChIJZUFSrBicMIgRFpMXdDjZ0KM',\n              'plus_code': {'compound_code': 'CV92+C6 Lorain, Sheffield '\n                                             'Township, OH',\n                            'global_code': '86HVCV92+C6'},\n              'rating': 4,\n              'reference': 'ChIJZUFSrBicMIgRFpMXdDjZ0KM',\n              'scope': 'GOOGLE',\n              'types': ['grocery_or_supermarket',\n                        'convenience_store',\n                        'pharmacy',\n                        'supermarket',\n                        'food',\n                        'health',\n                        'point_of_interest',\n                        'store',\n                        'establishment'],\n              'user_ratings_total': 83,\n              'vicinity': '170 Sheffield Center, Lorain'},\n             {'geometry': {'location': {'lat': 41.1025595, 'lng': -81.464897},\n                           'viewport': {'northeast': {'lat': 41.10391062989272,\n                                                      'lng': -81.46370117010727},\n                                        'southwest': {'lat': 41.10121097010727,\n                                                      'lng': -81.46640082989272}}},\n              'icon': 'https://maps.gstatic.com/mapfiles/place_api/icons/shopping-71.png',\n              'id': '4cb60823fce0f32814b011c297180c8958a35b0c',\n              'name': 'Gordon Food Service Store',\n              'opening_hours': {'open_now': True},\n              'photos': [{'height': 3024,\n                          'html_attributions': ['<a '\n                                                'href=\"https://maps.google.com/maps/contrib/100389710757197823455\">A '\n                                                'Google User</a>'],\n                          'photo_reference': 'CmRaAAAA9UKM_Slh9_Qb9191wnBI4KWA6TRDL46ZgFoJ8F7mMecuSUMJS2nB13gOJ28A80DQ3wKRnrDdFQk3k1T89pnbTW6mUCPQWrq6HSEsy4x2qvFxmr34wrgFs0wn9a-_xEFtEhCIj3N137z5FFF7xSE0IoQzGhQUes5F5FXI6RRGzzXEIGJSAN6k8w',\n                          'width': 4032}],\n              'place_id': 'ChIJie88dfMoMYgR_W73twO8o0s',\n              'plus_code': {'compound_code': '4G3P+22 Tallmadge, Brimfield '\n                                             'Township, OH',\n                            'global_code': '86HW4G3P+22'},\n              'rating': 4.6,\n              'reference': 'ChIJie88dfMoMYgR_W73twO8o0s',\n              'scope': 'GOOGLE',\n              'types': ['grocery_or_supermarket',\n                        'supermarket',\n                        'food',\n                        'point_of_interest',\n                        'store',\n                        'establishment'],\n              'user_ratings_total': 164,\n              'vicinity': '620 West Ave, Tallmadge'},\n             {'geometry': {'location': {'lat': 41.50230190000001,\n                                        'lng': -81.5407634},\n                           'viewport': {'northeast': {'lat': 41.50352657989273,\n                                                      'lng': -81.53941522010727},\n                                        'southwest': {'lat': 41.50082692010729,\n                                                      'lng': -81.54211487989272}}},\n              'icon': 'https://maps.gstatic.com/mapfiles/place_api/icons/shopping-71.png',\n              'id': '991d19a85c4df503198594f2ea8d5d75f7e4158d',\n              'name': 'Gordon Food Service Store',\n              'opening_hours': {'open_now': True},\n              'photos': [{'height': 4032,\n                          'html_attributions': ['<a '\n                                                'href=\"https://maps.google.com/maps/contrib/108163761255541816771\">Dawud '\n                                                'M</a>'],\n                          'photo_reference': 'CmRaAAAAUya6roWcU7ozv9NO6Bk07-GrEkDOxwNfC9ShDhnT8S0ceaqUllnzFDaq9ta8Lpl29cYN7YZZDz9sMrRyfDe9njcOcqwJ2vqyoDI8WNqK_d-Zxusjob7WesiyjO3GlCTgEhBFN4KElrPTHJjYFDOoIJKaGhR7RtsElTF2xkl01G6FnfVjLAZSAg',\n                          'width': 3024}],\n              'place_id': 'ChIJZ1DBVLz9MIgRosmucgBk7ls',\n              'plus_code': {'compound_code': 'GF25+WM South Euclid, Ohio',\n                            'global_code': '86HWGF25+WM'},\n              'rating': 4.5,\n              'reference': 'ChIJZ1DBVLz9MIgRosmucgBk7ls',\n              'scope': 'GOOGLE',\n              'types': ['grocery_or_supermarket',\n                        'supermarket',\n                        'food',\n                        'point_of_interest',\n                        'store',\n                        'establishment'],\n              'user_ratings_total': 152,\n              'vicinity': '13865 Cedar Rd, South Euclid'},\n             {'geometry': {'location': {'lat': 41.484728, 'lng': -81.7680752},\n                           'viewport': {'northeast': {'lat': 41.48607922989272,\n                                                      'lng': -81.76705412010728},\n                                        'southwest': {'lat': 41.48337957010727,\n                                                      'lng': -81.76975377989271}}},\n              'icon': 'https://maps.gstatic.com/mapfiles/place_api/icons/shopping-71.png',\n              'id': '6ee017a8c7595dc6d819d87ceccf69a7f81eb602',\n              'name': 'Gordon Food Service Store',\n              'opening_hours': {'open_now': True},\n              'photos': [{'height': 1920,\n                          'html_attributions': ['<a '\n                                                'href=\"https://maps.google.com/maps/contrib/105300805548438792080\">Scott</a>'],\n                          'photo_reference': 'CmRaAAAAwvPLcpNF90A75NoT0vzYOU70q1KqKl5gQsA-nwq4MYRswmWXi4s-8HyHpzeLWrkuPNmLPxshgDk7Wf9FaSisM_YJCax7mK-lTW3-NMlJxkI6stnASBiFES5XEq5d4VMWEhD09l2YJPvno2zDtNHDX6k9GhRKfLSIg7gDyPzAS3MKo5seyw4MsA',\n                          'width': 1080}],\n              'place_id': 'ChIJr-Jkau3xMIgRotuRQIka85o',\n              'plus_code': {'compound_code': 'F6MJ+VQ Cleveland, Ohio',\n                            'global_code': '86HWF6MJ+VQ'},\n              'rating': 4.6,\n              'reference': 'ChIJr-Jkau3xMIgRotuRQIka85o',\n              'scope': 'GOOGLE',\n              'types': ['grocery_or_supermarket',\n                        'supermarket',\n                        'food',\n                        'point_of_interest',\n                        'store',\n                        'establishment'],\n              'user_ratings_total': 166,\n              'vicinity': '1363 W 117th St, Cleveland'},\n             {'geometry': {'location': {'lat': 41.418942, 'lng': -81.762563},\n                           'viewport': {'northeast': {'lat': 41.42019682989272,\n                                                      'lng': -81.76121432010727},\n                                        'southwest': {'lat': 41.41749717010728,\n                                                      'lng': -81.76391397989272}}},\n              'icon': 'https://maps.gstatic.com/mapfiles/place_api/icons/shopping-71.png',\n              'id': 'f3deda1baf49b0ea641c71403bfa68682d732239',\n              'name': 'Gordon Food Service Store',\n              'opening_hours': {'open_now': True},\n              'photos': [{'height': 1836,\n                          'html_attributions': ['<a '\n                                                'href=\"https://maps.google.com/maps/contrib/115680826786519238499\">A '\n                                                'Google User</a>'],\n                          'photo_reference': 'CmRaAAAA0yYE1Pfqp7PEDodMT6RdNVspqhcyph06I6f49pCeocg_LmxeK5J6toEKxtneYrJLfbhDpOYXocpmMqHVmtq0QRsG7h3rrwnA9WVeKmf7q683RpSW5C-8Zh46qiaBww7AEhCh-aG8yMYkMkwhRmnY8mHUGhQtE1PrIQPYvl1omRmWPpoLahpE9A',\n                          'width': 3264}],\n              'place_id': 'ChIJkeALg47uMIgRJVNeOa82uFk',\n              'plus_code': {'compound_code': 'C69P+HX Cleveland, Ohio',\n                            'global_code': '86HWC69P+HX'},\n              'rating': 4.4,\n              'reference': 'ChIJkeALg47uMIgRJVNeOa82uFk',\n              'scope': 'GOOGLE',\n              'types': ['grocery_or_supermarket',\n                        'supermarket',\n                        'food',\n                        'point_of_interest',\n                        'store',\n                        'establishment'],\n              'user_ratings_total': 191,\n              'vicinity': '10820 Brookpark Rd, Cleveland'}],\n 'status': 'OK'}\n"
    }
   ],
   "source": [
    "from api_keys import g_key\n",
    "#Make an empty list to store wholesale clubs\n",
    "club_list = []\n",
    "#Cleveland Coordinates \"41.4993,-81.6944\"\n",
    "#Columbus Coordinates \"39.9612,-82.9988\"\n",
    "#Cincinnati Coordinates \"39.1031,-84.5120\"\n",
    "\n",
    "clev_id = \"41.4993,-81.6944\"\n",
    "target_type = \"grocery_or_supermarket\"\n",
    "keyword = \"Wholesale Club\"\n",
    "radius = 50000\n",
    "\n",
    "params = {\n",
    "    \"location\" : clev_id,\n",
    "    \"types\": target_type,\n",
    "    \"radius\": radius,\n",
    "    \"key\" : g_key,\n",
    "    \"keyword\" : keyword\n",
    "}\n",
    "\n",
    "url = \"https://maps.googleapis.com/maps/api/place/nearbysearch/json\"\n",
    "\n",
    "response = requests.get(url,params)\n",
    "clev_stores = response.json()\n",
    "\n",
    "pprint(clev_stores)\n"
   ]
  },
  {
   "cell_type": "markdown",
   "metadata": {},
   "source": [
    "## Sean - Pull data for Walmart from Google API"
   ]
  },
  {
   "cell_type": "code",
   "execution_count": null,
   "metadata": {},
   "outputs": [],
   "source": []
  },
  {
   "cell_type": "markdown",
   "metadata": {},
   "source": [
    "## Val - Pull data for Target from Google API"
   ]
  },
  {
   "cell_type": "code",
   "execution_count": null,
   "metadata": {},
   "outputs": [],
   "source": []
  }
 ]
}