{
 "nbformat": 4,
 "nbformat_minor": 2,
 "metadata": {
  "language_info": {
   "name": "python",
   "codemirror_mode": {
    "name": "ipython",
    "version": 3
   },
   "version": "3.7.4-final"
  },
  "orig_nbformat": 2,
  "file_extension": ".py",
  "mimetype": "text/x-python",
  "name": "python",
  "npconvert_exporter": "python",
  "pygments_lexer": "ipython3",
  "version": 3,
  "kernelspec": {
   "name": "python37464bitpythondatacondaaf71fc3f5dd34866a438487bc0d8ac87",
   "display_name": "Python 3.7.4 64-bit ('PythonData': conda)"
  }
 },
 "cells": [
  {
   "cell_type": "markdown",
   "metadata": {},
   "source": [
    "# Data Collection - Collecting Grocery Store Data from Google API and Census Data from Census API"
   ]
  },
  {
   "cell_type": "markdown",
   "metadata": {},
   "source": [
    "## Dependencies"
   ]
  },
  {
   "cell_type": "code",
   "execution_count": 2,
   "metadata": {},
   "outputs": [],
   "source": [
    "import requests\n",
    "import json\n",
    "import gmaps\n",
    "from pprint import pprint\n",
    "import pandas as pd\n"
   ]
  },
  {
   "cell_type": "markdown",
   "metadata": {},
   "source": [
    "## Ali - Pull data for Grocery Stores from Google API"
   ]
  },
  {
   "cell_type": "code",
   "execution_count": null,
   "metadata": {},
   "outputs": [],
   "source": []
  },
  {
   "cell_type": "markdown",
   "metadata": {},
   "source": [
    "## Ben - Pull data for Wholesale Clubs from Google API"
   ]
  },
  {
   "cell_type": "code",
   "execution_count": 3,
   "metadata": {},
   "outputs": [
    {
     "name": "stdout",
     "output_type": "stream",
     "text": "Adding Index Costco Wholesale from circle one for CostCo to the list...\nAdding Index Costco Wholesale from circle one for CostCo to the list...\nAdding Index Costco Wholesale from circle one for CostCo to the list...\nAdding Index Costco Wholesale from circle one for CostCo to the list...\nAdding Index Costco Photo Center from circle one for CostCo to the list...\nAdding Index Costco Wholesale from circle two for CostCo to the list...\nAdding Index Costco Wholesale from circle two for CostCo to the list...\n"
    }
   ],
   "source": [
    "from api_keys import g_key\n",
    "\n",
    "#Cleveland Coordinates \"41.4993,-81.6944\"\n",
    "#Columbus Coordinates \"39.9612,-82.9988\"\n",
    "#Cincinnati Coordinates \"39.1031,-84.5120\"\n",
    "\n",
    "clev_id = \"41.4993,-81.6944\"\n",
    "target_type = \"grocery_or_supermarket\"\n",
    "#keyword = \"Wholesale Club\"\n",
    "radius = 50000\n",
    "\n",
    "#Use Places TextSearch API to find data\n",
    "# search_cc = \"CostCo in Ohio\"\n",
    "# search_sc = \"Sam's Club in Ohio\"\n",
    "# search_bj = \"BJ's Wholesale in Ohio\"\n",
    "\n",
    "#Use nearby search Places API to get data\n",
    "#Made in a range of three circles roughly covering NE Ohio\n",
    "circle_one = \"41.135466,-81.652035\"\n",
    "circle_two = \"41.625126,-81.062346\"\n",
    "circle_three = \"41.037209,-80.888368\"\n",
    "\n",
    "cc_keyword = \"Costco Wholesale\"\n",
    "sc_keyword = \"Sam's Club\"\n",
    "bj_keyword = \"BJ's Wholesale\"\n",
    "\n",
    "lat = []\n",
    "lng = []\n",
    "name = []\n",
    "address = []\n",
    "place_id = []\n",
    "\n",
    "#Make for loop to search through different stores at the different circle radius coordinates\n",
    "#store_keywords = [\"Costco Wholesale\",\"Sam's Club\",\"BJ's Wholesale\"]\n",
    "#circle_list = [\"41.135466,-81.652035\",\"41.625126,-81.062346\",\"41.037209,-80.888368\"]\n",
    "\n",
    "params = {\n",
    "    \"location\" : circle_one,\n",
    "    #\"type\": target_type,\n",
    "    \"radius\": radius,\n",
    "    \"key\" : g_key,\n",
    "    \"keyword\" : cc_keyword\n",
    "}\n",
    "\n",
    "#params = {\n",
    "#    \"query\": search_cc,\n",
    "#    \"key\": g_key\n",
    "#}\n",
    "\n",
    "#url = \"https://maps.googleapis.com/maps/api/place/textsearch/json\"\n",
    "\n",
    "url = \"https://maps.googleapis.com/maps/api/place/nearbysearch/json\"\n",
    "\n",
    "#Get Costco Data\n",
    "response = requests.get(url,params)\n",
    "costco_one = response.json()\n",
    "#print(costco_one['results'])\n",
    "for index in costco_one['results']:\n",
    "    print(f\"Adding Index {index['name']} from circle one for CostCo to the list...\")\n",
    "    name.append(index['name'])\n",
    "    lat.append(index['geometry']['location']['lat'])\n",
    "    lng.append(index['geometry']['location']['lng'])\n",
    "    address.append(index['vicinity'])\n",
    "    place_id.append(index['place_id'])\n",
    "    #price_level.append(index['price_level'])\n",
    "\n",
    "\n",
    "params = {\n",
    "    \"location\" : circle_two,\n",
    "    #\"type\": target_type,\n",
    "    \"radius\": radius,\n",
    "    \"key\" : g_key,\n",
    "    \"keyword\" : cc_keyword\n",
    "}\n",
    "response = requests.get(url,params)\n",
    "costco_two = response.json()\n",
    "#print(costco_one['results'])\n",
    "for index in costco_two['results']:\n",
    "    print(f\"Adding Index {index['name']} from circle two for CostCo to the list...\")\n",
    "    name.append(index['name'])\n",
    "    lat.append(index['geometry']['location']['lat'])\n",
    "    lng.append(index['geometry']['location']['lng'])\n",
    "    address.append(index['vicinity'])\n",
    "    place_id.append(index['place_id'])\n",
    "    #price_level.append(index['price_level'])\n",
    "\n",
    "\n",
    "params = {\n",
    "    \"location\" : circle_three,\n",
    "    #\"type\": target_type,\n",
    "    \"radius\": 32186,\n",
    "    \"key\" : g_key,\n",
    "    \"keyword\" : cc_keyword\n",
    "}\n",
    "response = requests.get(url,params)\n",
    "costco_three = response.json()\n",
    "#print(costco_one['results'])\n",
    "for index in costco_three['results']:\n",
    "    print(f\"Adding Index {index['name']} from circle three for CostCo to the list...\")\n",
    "    name.append(index['name'])\n",
    "    lat.append(index['geometry']['location']['lat'])\n",
    "    lng.append(index['geometry']['location']['lng'])\n",
    "    address.append(index['vicinity'])\n",
    "    place_id.append(index['place_id'])\n",
    "    #price_level.append(index['price_level'])"
   ]
  },
  {
   "cell_type": "code",
   "execution_count": 4,
   "metadata": {},
   "outputs": [
    {
     "name": "stdout",
     "output_type": "stream",
     "text": "Adding Index Sam's Club from circle one for Sam's Club to the list...\nAdding Index Sam's Club from circle one for Sam's Club to the list...\nAdding Index Sam's Club from circle one for Sam's Club to the list...\nAdding Index Sam's Club from circle one for Sam's Club to the list...\nAdding Index Sam's Club from circle one for Sam's Club to the list...\nAdding Index Sam's Club Bakery from circle one for Sam's Club to the list...\nAdding Index Sam's Club from circle one for Sam's Club to the list...\nAdding Index Sam's Club Connection Center from circle one for Sam's Club to the list...\nAdding Index Sam's Club Connection Center from circle one for Sam's Club to the list...\nAdding Index Sam's Club Floral from circle one for Sam's Club to the list...\nAdding Index Sam's Club Connection Center from circle one for Sam's Club to the list...\nAdding Index Sam's Club Hearing Aid Center from circle one for Sam's Club to the list...\nAdding Index Sam's Club Bakery from circle one for Sam's Club to the list...\nAdding Index Sam's Club Connection Center from circle one for Sam's Club to the list...\nAdding Index Sam's Club Tire & Battery from circle one for Sam's Club to the list...\nAdding Index Sam's Club Bakery from circle one for Sam's Club to the list...\nAdding Index Sam's Club from circle two for Sam's Club to the list...\nAdding Index Sam's Club from circle two for Sam's Club to the list...\nAdding Index Sam's Club from circle two for Sam's Club to the list...\nAdding Index Sam's Club Connection Center from circle two for Sam's Club to the list...\nAdding Index Sam's Club Connection Center from circle two for Sam's Club to the list...\nAdding Index Sam's Club Connection Center from circle two for Sam's Club to the list...\nAdding Index Sam's Club Hearing Aid Center from circle two for Sam's Club to the list...\nAdding Index Sam's Club Hearing Aid Center from circle two for Sam's Club to the list...\nAdding Index Sam's Club Bakery from circle two for Sam's Club to the list...\nAdding Index Sam's Club from circle three for Sam's Club to the list...\nAdding Index Sam's Club from circle three for Sam's Club to the list...\nAdding Index Sam's Club Bakery from circle three for Sam's Club to the list...\nAdding Index Sam's Club Bakery from circle three for Sam's Club to the list...\n"
    }
   ],
   "source": [
    "#Get Sam's Club Data\n",
    "#params = {\n",
    "#    \"query\": search_sc,\n",
    "#    \"key\": g_key\n",
    "#}\n",
    "\n",
    "params = {\n",
    "    \"location\" : circle_one,\n",
    "    #\"type\": target_type,\n",
    "    \"radius\": radius,\n",
    "    \"key\" : g_key,\n",
    "    \"keyword\" : sc_keyword\n",
    "}\n",
    "response = requests.get(url,params)\n",
    "sams_one = response.json()\n",
    "#print(costco_one['results'])\n",
    "for index in sams_one['results']:\n",
    "    print(f\"Adding Index {index['name']} from circle one for Sam's Club to the list...\")\n",
    "    name.append(index['name'])\n",
    "    lat.append(index['geometry']['location']['lat'])\n",
    "    lng.append(index['geometry']['location']['lng'])\n",
    "    address.append(index['vicinity'])\n",
    "    place_id.append(index['place_id'])\n",
    "    #price_level.append(index['price_level'])\n",
    "\n",
    "\n",
    "params = {\n",
    "    \"location\" : circle_two,\n",
    "    #\"type\": target_type,\n",
    "    \"radius\": radius,\n",
    "    \"key\" : g_key,\n",
    "    \"keyword\" : sc_keyword\n",
    "}\n",
    "response = requests.get(url,params)\n",
    "sams_two = response.json()\n",
    "#print(costco_one['results'])\n",
    "for index in sams_two['results']:\n",
    "    print(f\"Adding Index {index['name']} from circle two for Sam's Club to the list...\")\n",
    "    name.append(index['name'])\n",
    "    lat.append(index['geometry']['location']['lat'])\n",
    "    lng.append(index['geometry']['location']['lng'])\n",
    "    address.append(index['vicinity'])\n",
    "    place_id.append(index['place_id'])\n",
    "    #price_level.append(index['price_level'])\n",
    "\n",
    "\n",
    "params = {\n",
    "    \"location\" : circle_three,\n",
    "    #\"type\": target_type,\n",
    "    \"radius\": 32186,\n",
    "    \"key\" : g_key,\n",
    "    \"keyword\" : sc_keyword\n",
    "}\n",
    "response = requests.get(url,params)\n",
    "sams_three = response.json()\n",
    "#print(costco_one['results'])\n",
    "for index in sams_three['results']:\n",
    "    print(f\"Adding Index {index['name']} from circle three for Sam's Club to the list...\")\n",
    "    name.append(index['name'])\n",
    "    lat.append(index['geometry']['location']['lat'])\n",
    "    lng.append(index['geometry']['location']['lng'])\n",
    "    address.append(index['vicinity'])\n",
    "    place_id.append(index['place_id'])\n",
    "    #price_level.append(index['price_level'])"
   ]
  },
  {
   "cell_type": "code",
   "execution_count": 5,
   "metadata": {},
   "outputs": [
    {
     "name": "stdout",
     "output_type": "stream",
     "text": "Adding Index BJ's Wholesale  from circle one for BJ's to the list...\nAdding Index BJ's Wholesale  from circle one for BJ's to the list...\nAdding Index BJ's Wholesale  from circle one for BJ's to the list...\nAdding Index BJ's Wholesale  from circle one for BJ's to the list...\nAdding Index BJ's Wholesale  from circle one for BJ's to the list...\nAdding Index BJ's Wholesale from circle two for BJ's to the list...\nAdding Index BJ's Wholesale from circle two for BJ's to the list...\n"
    }
   ],
   "source": [
    "params = {\n",
    "    \"location\" : circle_one,\n",
    "    #\"type\": target_type,\n",
    "    \"radius\": radius,\n",
    "    \"key\" : g_key,\n",
    "    \"keyword\" : bj_keyword\n",
    "}\n",
    "response = requests.get(url,params)\n",
    "bj_one = response.json()\n",
    "#print(costco_one['results'])\n",
    "for index in bj_one['results']:\n",
    "    print(f\"Adding Index {index['name']}  from circle one for BJ's to the list...\")\n",
    "    name.append(index['name'])\n",
    "    lat.append(index['geometry']['location']['lat'])\n",
    "    lng.append(index['geometry']['location']['lng'])\n",
    "    address.append(index['vicinity'])\n",
    "    place_id.append(index['place_id'])\n",
    "    #price_level.append(index['price_level'])\n",
    "\n",
    "\n",
    "params = {\n",
    "    \"location\" : circle_two,\n",
    "    #\"type\": target_type,\n",
    "    \"radius\": radius,\n",
    "    \"key\" : g_key,\n",
    "    \"keyword\" : bj_keyword\n",
    "}\n",
    "response = requests.get(url,params)\n",
    "bj_two = response.json()\n",
    "#print(costco_one['results'])\n",
    "for index in bj_two['results']:\n",
    "    print(f\"Adding Index {index['name']} from circle two for BJ's to the list...\")\n",
    "    name.append(index['name'])\n",
    "    lat.append(index['geometry']['location']['lat'])\n",
    "    lng.append(index['geometry']['location']['lng'])\n",
    "    address.append(index['vicinity'])\n",
    "    place_id.append(index['place_id'])\n",
    "    #price_level.append(index['price_level'])\n",
    "\n",
    "\n",
    "params = {\n",
    "    \"location\" : circle_three,\n",
    "    #\"type\": target_type,\n",
    "    \"radius\": 32186,\n",
    "    \"key\" : g_key,\n",
    "    \"keyword\" : bj_keyword\n",
    "}\n",
    "response = requests.get(url,params)\n",
    "bj_three = response.json()\n",
    "#print(costco_one['results'])\n",
    "for index in bj_three['results']:\n",
    "    print(f\"Adding Index {index['name']} from circle three for BJ's to the list...\")\n",
    "    name.append(index['name'])\n",
    "    lat.append(index['geometry']['location']['lat'])\n",
    "    lng.append(index['geometry']['location']['lng'])\n",
    "    address.append(index['vicinity'])\n",
    "    place_id.append(index['place_id'])\n",
    "    #price_level.append(index['price_level'])\n",
    "\n",
    "club_list = pd.DataFrame(data = {\"Name\":name,\"Lat\":lat,\"Lng\":lng,\"Address\":address,\"Place ID\":place_id})\n",
    "\n"
   ]
  },
  {
   "cell_type": "code",
   "execution_count": 20,
   "metadata": {},
   "outputs": [
    {
     "data": {
      "text/html": "<div>\n<style scoped>\n    .dataframe tbody tr th:only-of-type {\n        vertical-align: middle;\n    }\n\n    .dataframe tbody tr th {\n        vertical-align: top;\n    }\n\n    .dataframe thead th {\n        text-align: right;\n    }\n</style>\n<table border=\"1\" class=\"dataframe\">\n  <thead>\n    <tr style=\"text-align: right;\">\n      <th></th>\n      <th>Name</th>\n      <th>Lat</th>\n      <th>Lng</th>\n      <th>Address</th>\n      <th>Place ID</th>\n    </tr>\n  </thead>\n  <tbody>\n    <tr>\n      <th>0</th>\n      <td>Costco Wholesale</td>\n      <td>41.265324</td>\n      <td>-81.507401</td>\n      <td>6720 Bass Pro Dr, Hudson</td>\n      <td>ChIJrwEsWXIgMYgRnko93meT4s0</td>\n    </tr>\n    <tr>\n      <th>1</th>\n      <td>Costco Wholesale</td>\n      <td>41.316908</td>\n      <td>-81.815903</td>\n      <td>16690 Royalton Rd, Strongsville</td>\n      <td>ChIJNa2MJXnqMIgRmZ164eouXjE</td>\n    </tr>\n    <tr>\n      <th>2</th>\n      <td>Costco Wholesale</td>\n      <td>41.460533</td>\n      <td>-82.011002</td>\n      <td>35804 Detroit Rd, Avon</td>\n      <td>ChIJSZghHbmRMIgRfCrrH_q0OJI</td>\n    </tr>\n    <tr>\n      <th>3</th>\n      <td>Costco Wholesale</td>\n      <td>41.523955</td>\n      <td>-81.446610</td>\n      <td>1409 Golden Gate Blvd, Cleveland</td>\n      <td>ChIJz_ruA18BMYgRY7HfgmroTWg</td>\n    </tr>\n    <tr>\n      <th>4</th>\n      <td>Costco Photo Center</td>\n      <td>41.265442</td>\n      <td>-81.507445</td>\n      <td>Bass Pro Dr, Hudson</td>\n      <td>ChIJGyYRA3MgMYgRNHB_rHT9q-8</td>\n    </tr>\n    <tr>\n      <th>5</th>\n      <td>Costco Wholesale</td>\n      <td>41.265324</td>\n      <td>-81.507401</td>\n      <td>6720 Bass Pro Dr, Hudson</td>\n      <td>ChIJrwEsWXIgMYgRnko93meT4s0</td>\n    </tr>\n    <tr>\n      <th>6</th>\n      <td>Costco Wholesale</td>\n      <td>41.523955</td>\n      <td>-81.446610</td>\n      <td>1409 Golden Gate Blvd, Cleveland</td>\n      <td>ChIJz_ruA18BMYgRY7HfgmroTWg</td>\n    </tr>\n    <tr>\n      <th>7</th>\n      <td>Sam's Club</td>\n      <td>41.118157</td>\n      <td>-81.469221</td>\n      <td>1189 Buchholzer Blvd, Cuyahoga Falls</td>\n      <td>ChIJITS3BocoMYgRVIxKz3EHcik</td>\n    </tr>\n    <tr>\n      <th>8</th>\n      <td>Sam's Club</td>\n      <td>41.133175</td>\n      <td>-81.633185</td>\n      <td>3750 W Market St Unit J, Fairlawn</td>\n      <td>ChIJecKBe5zQMIgRjjB4dMfrnWk</td>\n    </tr>\n    <tr>\n      <th>9</th>\n      <td>Sam's Club</td>\n      <td>40.878174</td>\n      <td>-81.437164</td>\n      <td>4790 Portage St NW, Canton</td>\n      <td>ChIJ2Yr2wKjWNogRjGilwuTNZyU</td>\n    </tr>\n    <tr>\n      <th>10</th>\n      <td>Sam's Club</td>\n      <td>41.366413</td>\n      <td>-81.512382</td>\n      <td>23300 Broadway Ave, Oakwood</td>\n      <td>ChIJDV-HRwceMYgRIYsH9N1b_HQ</td>\n    </tr>\n    <tr>\n      <th>11</th>\n      <td>Sam's Club</td>\n      <td>41.420280</td>\n      <td>-81.757481</td>\n      <td>10250 Brookpark Rd, Cleveland</td>\n      <td>ChIJ1fa4rIzuMIgRFMsgyqQYFWE</td>\n    </tr>\n    <tr>\n      <th>12</th>\n      <td>Sam's Club Bakery</td>\n      <td>41.117665</td>\n      <td>-81.469527</td>\n      <td>1189 Buchholzer Blvd, Cuyahoga Falls</td>\n      <td>ChIJR2k7sIcoMYgRQE95R6mG3Xg</td>\n    </tr>\n    <tr>\n      <th>13</th>\n      <td>Sam's Club</td>\n      <td>41.421844</td>\n      <td>-82.081514</td>\n      <td>5225 Cobblestone Rd, Sheffield</td>\n      <td>ChIJX_t1UjKaMIgRHM2sNhFFxyU</td>\n    </tr>\n    <tr>\n      <th>14</th>\n      <td>Sam's Club Connection Center</td>\n      <td>40.877975</td>\n      <td>-81.437294</td>\n      <td>4790 Portage St NW, Canton</td>\n      <td>ChIJgekuyKjWNogRtAVNrH6co6g</td>\n    </tr>\n    <tr>\n      <th>15</th>\n      <td>Sam's Club Connection Center</td>\n      <td>41.366116</td>\n      <td>-81.512520</td>\n      <td>23300 Broadway Ave, Oakwood</td>\n      <td>ChIJR9jf8wAeMYgReK5N291cPgI</td>\n    </tr>\n    <tr>\n      <th>16</th>\n      <td>Sam's Club Floral</td>\n      <td>41.118243</td>\n      <td>-81.468680</td>\n      <td>1189 Buchholzer Blvd, Cuyahoga Falls</td>\n      <td>ChIJSec6_YYoMYgRJrCYcNtkqfE</td>\n    </tr>\n    <tr>\n      <th>17</th>\n      <td>Sam's Club Connection Center</td>\n      <td>41.420643</td>\n      <td>-81.757017</td>\n      <td>10250 Brookpark Rd, Cleveland</td>\n      <td>ChIJtd8oqYzuMIgRwY4EGfgCiYU</td>\n    </tr>\n    <tr>\n      <th>18</th>\n      <td>Sam's Club Hearing Aid Center</td>\n      <td>40.878390</td>\n      <td>-81.437669</td>\n      <td>4790 Portage St NW, Canton</td>\n      <td>ChIJ2Yr2wKjWNogRco0DADiv3p8</td>\n    </tr>\n    <tr>\n      <th>19</th>\n      <td>Sam's Club Bakery</td>\n      <td>41.135432</td>\n      <td>-81.635146</td>\n      <td>3750 W Market St Unit J, Fairlawn</td>\n      <td>ChIJ90LnDZ3QMIgRxVjL9vLdCjI</td>\n    </tr>\n    <tr>\n      <th>20</th>\n      <td>Sam's Club Connection Center</td>\n      <td>41.421893</td>\n      <td>-82.081304</td>\n      <td>5225 Cobblestone Rd, Sheffield</td>\n      <td>ChIJlTYKCjOaMIgRmrio33en2l8</td>\n    </tr>\n    <tr>\n      <th>21</th>\n      <td>Sam's Club Tire &amp; Battery</td>\n      <td>41.132868</td>\n      <td>-81.633503</td>\n      <td>3750 W Market St, Fairlawn</td>\n      <td>ChIJrfWAfJzQMIgR-RZCkC3RlIk</td>\n    </tr>\n    <tr>\n      <th>22</th>\n      <td>Sam's Club Bakery</td>\n      <td>41.366116</td>\n      <td>-81.512520</td>\n      <td>23300 Broadway Ave, Oakwood</td>\n      <td>ChIJR9jf8wAeMYgRR-999PcOAy8</td>\n    </tr>\n    <tr>\n      <th>23</th>\n      <td>Sam's Club</td>\n      <td>41.366413</td>\n      <td>-81.512382</td>\n      <td>23300 Broadway Ave, Oakwood</td>\n      <td>ChIJDV-HRwceMYgRIYsH9N1b_HQ</td>\n    </tr>\n    <tr>\n      <th>24</th>\n      <td>Sam's Club</td>\n      <td>41.226195</td>\n      <td>-80.744836</td>\n      <td>1040 Niles Cortland Rd SE, Warren</td>\n      <td>ChIJaY-CnZ_gM4gRng6y-UmPoRY</td>\n    </tr>\n    <tr>\n      <th>25</th>\n      <td>Sam's Club</td>\n      <td>41.717211</td>\n      <td>-81.293395</td>\n      <td>5600 Emerald Ct, Mentor</td>\n      <td>ChIJ0Ux7Jf2kMYgRF3vi1W6CpKg</td>\n    </tr>\n    <tr>\n      <th>26</th>\n      <td>Sam's Club Connection Center</td>\n      <td>41.366116</td>\n      <td>-81.512520</td>\n      <td>23300 Broadway Ave, Oakwood</td>\n      <td>ChIJR9jf8wAeMYgReK5N291cPgI</td>\n    </tr>\n    <tr>\n      <th>27</th>\n      <td>Sam's Club Connection Center</td>\n      <td>41.717302</td>\n      <td>-81.292997</td>\n      <td>5600 Emerald Ct, Mentor</td>\n      <td>ChIJfwM33_ykMYgRW62OnB71BmU</td>\n    </tr>\n    <tr>\n      <th>28</th>\n      <td>Sam's Club Connection Center</td>\n      <td>41.226010</td>\n      <td>-80.745467</td>\n      <td>1040 Niles Cortland Rd SE, Warren</td>\n      <td>ChIJHde6B5_gM4gRjX-pDCHjImw</td>\n    </tr>\n    <tr>\n      <th>29</th>\n      <td>Sam's Club Hearing Aid Center</td>\n      <td>41.717302</td>\n      <td>-81.292997</td>\n      <td>5600 Emerald Ct, Mentor</td>\n      <td>ChIJBwy23vykMYgRrUutPC7YQIk</td>\n    </tr>\n    <tr>\n      <th>30</th>\n      <td>Sam's Club Hearing Aid Center</td>\n      <td>41.226010</td>\n      <td>-80.745467</td>\n      <td>1040 Niles Cortland Rd SE, Warren</td>\n      <td>ChIJpY95C5_gM4gRdL8dptQwOg0</td>\n    </tr>\n    <tr>\n      <th>31</th>\n      <td>Sam's Club Bakery</td>\n      <td>41.366116</td>\n      <td>-81.512520</td>\n      <td>23300 Broadway Ave, Oakwood</td>\n      <td>ChIJR9jf8wAeMYgRR-999PcOAy8</td>\n    </tr>\n    <tr>\n      <th>32</th>\n      <td>Sam's Club</td>\n      <td>41.226195</td>\n      <td>-80.744836</td>\n      <td>1040 Niles Cortland Rd SE, Warren</td>\n      <td>ChIJaY-CnZ_gM4gRng6y-UmPoRY</td>\n    </tr>\n    <tr>\n      <th>33</th>\n      <td>Sam's Club</td>\n      <td>41.034330</td>\n      <td>-80.633600</td>\n      <td>6361 South Ave, Youngstown</td>\n      <td>ChIJkW7Vup36M4gRgrjjdp3j20U</td>\n    </tr>\n    <tr>\n      <th>34</th>\n      <td>Sam's Club Bakery</td>\n      <td>41.034277</td>\n      <td>-80.633656</td>\n      <td>6361 South Ave, Youngstown</td>\n      <td>ChIJl9WAyPH7M4gRpgE6YGXhcIQ</td>\n    </tr>\n    <tr>\n      <th>35</th>\n      <td>Sam's Club Bakery</td>\n      <td>41.226010</td>\n      <td>-80.745467</td>\n      <td>1040 Niles Cortland Rd SE, Warren</td>\n      <td>ChIJ8-9iFanhM4gRFYAf2DnrokM</td>\n    </tr>\n    <tr>\n      <th>36</th>\n      <td>BJ's Wholesale</td>\n      <td>41.115934</td>\n      <td>-81.482591</td>\n      <td>1677 Home Ave, Akron</td>\n      <td>ChIJr1lVVGUoMYgRZyNHvaFakyk</td>\n    </tr>\n    <tr>\n      <th>37</th>\n      <td>BJ's Wholesale</td>\n      <td>40.881690</td>\n      <td>-81.439936</td>\n      <td>6924 Frank Ave NW, North Canton</td>\n      <td>ChIJv7wm5qfWNogR-pHBWCbJJ4Y</td>\n    </tr>\n    <tr>\n      <th>38</th>\n      <td>BJ's Wholesale</td>\n      <td>41.441952</td>\n      <td>-81.496956</td>\n      <td>4365 Richmond Rd, Warrensville Heights</td>\n      <td>ChIJlxu-3EsdMYgRQNm9xU4cwUM</td>\n    </tr>\n    <tr>\n      <th>39</th>\n      <td>BJ's Wholesale</td>\n      <td>41.376131</td>\n      <td>-81.786051</td>\n      <td>6944 W 130th St, Middleburg Heights</td>\n      <td>ChIJd7jukOTrMIgRbFLNX469JvM</td>\n    </tr>\n    <tr>\n      <th>40</th>\n      <td>BJ's Wholesale</td>\n      <td>41.463206</td>\n      <td>-82.050078</td>\n      <td>38292 Colorado Ave, Avon</td>\n      <td>ChIJ_VAprpmaMIgRdiXIOGEAp6w</td>\n    </tr>\n    <tr>\n      <th>41</th>\n      <td>BJ's Wholesale</td>\n      <td>41.441952</td>\n      <td>-81.496956</td>\n      <td>4365 Richmond Rd, Warrensville Heights</td>\n      <td>ChIJlxu-3EsdMYgRQNm9xU4cwUM</td>\n    </tr>\n    <tr>\n      <th>42</th>\n      <td>BJ's Wholesale</td>\n      <td>41.631042</td>\n      <td>-81.426055</td>\n      <td>36595 Euclid Ave, Willoughby</td>\n      <td>ChIJs99FxoepMYgRDybNRcg4FRU</td>\n    </tr>\n  </tbody>\n</table>\n</div>",
      "text/plain": "                             Name        Lat        Lng  \\\n0                Costco Wholesale  41.265324 -81.507401   \n1                Costco Wholesale  41.316908 -81.815903   \n2                Costco Wholesale  41.460533 -82.011002   \n3                Costco Wholesale  41.523955 -81.446610   \n4             Costco Photo Center  41.265442 -81.507445   \n5                Costco Wholesale  41.265324 -81.507401   \n6                Costco Wholesale  41.523955 -81.446610   \n7                      Sam's Club  41.118157 -81.469221   \n8                      Sam's Club  41.133175 -81.633185   \n9                      Sam's Club  40.878174 -81.437164   \n10                     Sam's Club  41.366413 -81.512382   \n11                     Sam's Club  41.420280 -81.757481   \n12              Sam's Club Bakery  41.117665 -81.469527   \n13                     Sam's Club  41.421844 -82.081514   \n14   Sam's Club Connection Center  40.877975 -81.437294   \n15   Sam's Club Connection Center  41.366116 -81.512520   \n16              Sam's Club Floral  41.118243 -81.468680   \n17   Sam's Club Connection Center  41.420643 -81.757017   \n18  Sam's Club Hearing Aid Center  40.878390 -81.437669   \n19              Sam's Club Bakery  41.135432 -81.635146   \n20   Sam's Club Connection Center  41.421893 -82.081304   \n21      Sam's Club Tire & Battery  41.132868 -81.633503   \n22              Sam's Club Bakery  41.366116 -81.512520   \n23                     Sam's Club  41.366413 -81.512382   \n24                     Sam's Club  41.226195 -80.744836   \n25                     Sam's Club  41.717211 -81.293395   \n26   Sam's Club Connection Center  41.366116 -81.512520   \n27   Sam's Club Connection Center  41.717302 -81.292997   \n28   Sam's Club Connection Center  41.226010 -80.745467   \n29  Sam's Club Hearing Aid Center  41.717302 -81.292997   \n30  Sam's Club Hearing Aid Center  41.226010 -80.745467   \n31              Sam's Club Bakery  41.366116 -81.512520   \n32                     Sam's Club  41.226195 -80.744836   \n33                     Sam's Club  41.034330 -80.633600   \n34              Sam's Club Bakery  41.034277 -80.633656   \n35              Sam's Club Bakery  41.226010 -80.745467   \n36                 BJ's Wholesale  41.115934 -81.482591   \n37                 BJ's Wholesale  40.881690 -81.439936   \n38                 BJ's Wholesale  41.441952 -81.496956   \n39                 BJ's Wholesale  41.376131 -81.786051   \n40                 BJ's Wholesale  41.463206 -82.050078   \n41                 BJ's Wholesale  41.441952 -81.496956   \n42                 BJ's Wholesale  41.631042 -81.426055   \n\n                                   Address                     Place ID  \n0                 6720 Bass Pro Dr, Hudson  ChIJrwEsWXIgMYgRnko93meT4s0  \n1          16690 Royalton Rd, Strongsville  ChIJNa2MJXnqMIgRmZ164eouXjE  \n2                   35804 Detroit Rd, Avon  ChIJSZghHbmRMIgRfCrrH_q0OJI  \n3         1409 Golden Gate Blvd, Cleveland  ChIJz_ruA18BMYgRY7HfgmroTWg  \n4                      Bass Pro Dr, Hudson  ChIJGyYRA3MgMYgRNHB_rHT9q-8  \n5                 6720 Bass Pro Dr, Hudson  ChIJrwEsWXIgMYgRnko93meT4s0  \n6         1409 Golden Gate Blvd, Cleveland  ChIJz_ruA18BMYgRY7HfgmroTWg  \n7     1189 Buchholzer Blvd, Cuyahoga Falls  ChIJITS3BocoMYgRVIxKz3EHcik  \n8        3750 W Market St Unit J, Fairlawn  ChIJecKBe5zQMIgRjjB4dMfrnWk  \n9               4790 Portage St NW, Canton  ChIJ2Yr2wKjWNogRjGilwuTNZyU  \n10             23300 Broadway Ave, Oakwood  ChIJDV-HRwceMYgRIYsH9N1b_HQ  \n11           10250 Brookpark Rd, Cleveland  ChIJ1fa4rIzuMIgRFMsgyqQYFWE  \n12    1189 Buchholzer Blvd, Cuyahoga Falls  ChIJR2k7sIcoMYgRQE95R6mG3Xg  \n13          5225 Cobblestone Rd, Sheffield  ChIJX_t1UjKaMIgRHM2sNhFFxyU  \n14              4790 Portage St NW, Canton  ChIJgekuyKjWNogRtAVNrH6co6g  \n15             23300 Broadway Ave, Oakwood  ChIJR9jf8wAeMYgReK5N291cPgI  \n16    1189 Buchholzer Blvd, Cuyahoga Falls  ChIJSec6_YYoMYgRJrCYcNtkqfE  \n17           10250 Brookpark Rd, Cleveland  ChIJtd8oqYzuMIgRwY4EGfgCiYU  \n18              4790 Portage St NW, Canton  ChIJ2Yr2wKjWNogRco0DADiv3p8  \n19       3750 W Market St Unit J, Fairlawn  ChIJ90LnDZ3QMIgRxVjL9vLdCjI  \n20          5225 Cobblestone Rd, Sheffield  ChIJlTYKCjOaMIgRmrio33en2l8  \n21              3750 W Market St, Fairlawn  ChIJrfWAfJzQMIgR-RZCkC3RlIk  \n22             23300 Broadway Ave, Oakwood  ChIJR9jf8wAeMYgRR-999PcOAy8  \n23             23300 Broadway Ave, Oakwood  ChIJDV-HRwceMYgRIYsH9N1b_HQ  \n24       1040 Niles Cortland Rd SE, Warren  ChIJaY-CnZ_gM4gRng6y-UmPoRY  \n25                 5600 Emerald Ct, Mentor  ChIJ0Ux7Jf2kMYgRF3vi1W6CpKg  \n26             23300 Broadway Ave, Oakwood  ChIJR9jf8wAeMYgReK5N291cPgI  \n27                 5600 Emerald Ct, Mentor  ChIJfwM33_ykMYgRW62OnB71BmU  \n28       1040 Niles Cortland Rd SE, Warren  ChIJHde6B5_gM4gRjX-pDCHjImw  \n29                 5600 Emerald Ct, Mentor  ChIJBwy23vykMYgRrUutPC7YQIk  \n30       1040 Niles Cortland Rd SE, Warren  ChIJpY95C5_gM4gRdL8dptQwOg0  \n31             23300 Broadway Ave, Oakwood  ChIJR9jf8wAeMYgRR-999PcOAy8  \n32       1040 Niles Cortland Rd SE, Warren  ChIJaY-CnZ_gM4gRng6y-UmPoRY  \n33              6361 South Ave, Youngstown  ChIJkW7Vup36M4gRgrjjdp3j20U  \n34              6361 South Ave, Youngstown  ChIJl9WAyPH7M4gRpgE6YGXhcIQ  \n35       1040 Niles Cortland Rd SE, Warren  ChIJ8-9iFanhM4gRFYAf2DnrokM  \n36                    1677 Home Ave, Akron  ChIJr1lVVGUoMYgRZyNHvaFakyk  \n37         6924 Frank Ave NW, North Canton  ChIJv7wm5qfWNogR-pHBWCbJJ4Y  \n38  4365 Richmond Rd, Warrensville Heights  ChIJlxu-3EsdMYgRQNm9xU4cwUM  \n39     6944 W 130th St, Middleburg Heights  ChIJd7jukOTrMIgRbFLNX469JvM  \n40                38292 Colorado Ave, Avon  ChIJ_VAprpmaMIgRdiXIOGEAp6w  \n41  4365 Richmond Rd, Warrensville Heights  ChIJlxu-3EsdMYgRQNm9xU4cwUM  \n42            36595 Euclid Ave, Willoughby  ChIJs99FxoepMYgRDybNRcg4FRU  "
     },
     "execution_count": 20,
     "metadata": {},
     "output_type": "execute_result"
    }
   ],
   "source": [
    "club_list = pd.DataFrame(data = {\"Name\":name,\"Lat\":lat,\"Lng\":lng,\"Address\":address,\"Place ID\":place_id})\n",
    "club_list"
   ]
  },
  {
   "cell_type": "code",
   "execution_count": 31,
   "metadata": {},
   "outputs": [
    {
     "data": {
      "text/html": "<div>\n<style scoped>\n    .dataframe tbody tr th:only-of-type {\n        vertical-align: middle;\n    }\n\n    .dataframe tbody tr th {\n        vertical-align: top;\n    }\n\n    .dataframe thead th {\n        text-align: right;\n    }\n</style>\n<table border=\"1\" class=\"dataframe\">\n  <thead>\n    <tr style=\"text-align: right;\">\n      <th></th>\n      <th>Name</th>\n      <th>Lat</th>\n      <th>Lng</th>\n      <th>Address</th>\n      <th>Place ID</th>\n    </tr>\n  </thead>\n  <tbody>\n    <tr>\n      <th>0</th>\n      <td>Costco Wholesale</td>\n      <td>41.265324</td>\n      <td>-81.507401</td>\n      <td>6720 Bass Pro Dr, Hudson</td>\n      <td>ChIJrwEsWXIgMYgRnko93meT4s0</td>\n    </tr>\n    <tr>\n      <th>1</th>\n      <td>Costco Wholesale</td>\n      <td>41.316908</td>\n      <td>-81.815903</td>\n      <td>16690 Royalton Rd, Strongsville</td>\n      <td>ChIJNa2MJXnqMIgRmZ164eouXjE</td>\n    </tr>\n    <tr>\n      <th>2</th>\n      <td>Costco Wholesale</td>\n      <td>41.460533</td>\n      <td>-82.011002</td>\n      <td>35804 Detroit Rd, Avon</td>\n      <td>ChIJSZghHbmRMIgRfCrrH_q0OJI</td>\n    </tr>\n    <tr>\n      <th>3</th>\n      <td>Costco Wholesale</td>\n      <td>41.523955</td>\n      <td>-81.446610</td>\n      <td>1409 Golden Gate Blvd, Cleveland</td>\n      <td>ChIJz_ruA18BMYgRY7HfgmroTWg</td>\n    </tr>\n    <tr>\n      <th>4</th>\n      <td>Sam's Club</td>\n      <td>40.878174</td>\n      <td>-81.437164</td>\n      <td>4790 Portage St NW, Canton</td>\n      <td>ChIJ2Yr2wKjWNogRjGilwuTNZyU</td>\n    </tr>\n    <tr>\n      <th>5</th>\n      <td>Sam's Club</td>\n      <td>41.366413</td>\n      <td>-81.512382</td>\n      <td>23300 Broadway Ave, Oakwood</td>\n      <td>ChIJDV-HRwceMYgRIYsH9N1b_HQ</td>\n    </tr>\n    <tr>\n      <th>6</th>\n      <td>Sam's Club</td>\n      <td>41.420280</td>\n      <td>-81.757481</td>\n      <td>10250 Brookpark Rd, Cleveland</td>\n      <td>ChIJ1fa4rIzuMIgRFMsgyqQYFWE</td>\n    </tr>\n    <tr>\n      <th>7</th>\n      <td>Sam's Club</td>\n      <td>41.421844</td>\n      <td>-82.081514</td>\n      <td>5225 Cobblestone Rd, Sheffield</td>\n      <td>ChIJX_t1UjKaMIgRHM2sNhFFxyU</td>\n    </tr>\n    <tr>\n      <th>8</th>\n      <td>Sam's Club</td>\n      <td>41.226195</td>\n      <td>-80.744836</td>\n      <td>1040 Niles Cortland Rd SE, Warren</td>\n      <td>ChIJaY-CnZ_gM4gRng6y-UmPoRY</td>\n    </tr>\n    <tr>\n      <th>9</th>\n      <td>Sam's Club</td>\n      <td>41.717211</td>\n      <td>-81.293395</td>\n      <td>5600 Emerald Ct, Mentor</td>\n      <td>ChIJ0Ux7Jf2kMYgRF3vi1W6CpKg</td>\n    </tr>\n    <tr>\n      <th>10</th>\n      <td>Sam's Club</td>\n      <td>41.034330</td>\n      <td>-80.633600</td>\n      <td>6361 South Ave, Youngstown</td>\n      <td>ChIJkW7Vup36M4gRgrjjdp3j20U</td>\n    </tr>\n    <tr>\n      <th>11</th>\n      <td>BJ's Wholesale</td>\n      <td>41.115934</td>\n      <td>-81.482591</td>\n      <td>1677 Home Ave, Akron</td>\n      <td>ChIJr1lVVGUoMYgRZyNHvaFakyk</td>\n    </tr>\n    <tr>\n      <th>12</th>\n      <td>BJ's Wholesale</td>\n      <td>40.881690</td>\n      <td>-81.439936</td>\n      <td>6924 Frank Ave NW, North Canton</td>\n      <td>ChIJv7wm5qfWNogR-pHBWCbJJ4Y</td>\n    </tr>\n    <tr>\n      <th>13</th>\n      <td>BJ's Wholesale</td>\n      <td>41.441952</td>\n      <td>-81.496956</td>\n      <td>4365 Richmond Rd, Warrensville Heights</td>\n      <td>ChIJlxu-3EsdMYgRQNm9xU4cwUM</td>\n    </tr>\n    <tr>\n      <th>14</th>\n      <td>BJ's Wholesale</td>\n      <td>41.376131</td>\n      <td>-81.786051</td>\n      <td>6944 W 130th St, Middleburg Heights</td>\n      <td>ChIJd7jukOTrMIgRbFLNX469JvM</td>\n    </tr>\n    <tr>\n      <th>15</th>\n      <td>BJ's Wholesale</td>\n      <td>41.463206</td>\n      <td>-82.050078</td>\n      <td>38292 Colorado Ave, Avon</td>\n      <td>ChIJ_VAprpmaMIgRdiXIOGEAp6w</td>\n    </tr>\n    <tr>\n      <th>16</th>\n      <td>BJ's Wholesale</td>\n      <td>41.631042</td>\n      <td>-81.426055</td>\n      <td>36595 Euclid Ave, Willoughby</td>\n      <td>ChIJs99FxoepMYgRDybNRcg4FRU</td>\n    </tr>\n  </tbody>\n</table>\n</div>",
      "text/plain": "                Name        Lat        Lng  \\\n0   Costco Wholesale  41.265324 -81.507401   \n1   Costco Wholesale  41.316908 -81.815903   \n2   Costco Wholesale  41.460533 -82.011002   \n3   Costco Wholesale  41.523955 -81.446610   \n4         Sam's Club  40.878174 -81.437164   \n5         Sam's Club  41.366413 -81.512382   \n6         Sam's Club  41.420280 -81.757481   \n7         Sam's Club  41.421844 -82.081514   \n8         Sam's Club  41.226195 -80.744836   \n9         Sam's Club  41.717211 -81.293395   \n10        Sam's Club  41.034330 -80.633600   \n11    BJ's Wholesale  41.115934 -81.482591   \n12    BJ's Wholesale  40.881690 -81.439936   \n13    BJ's Wholesale  41.441952 -81.496956   \n14    BJ's Wholesale  41.376131 -81.786051   \n15    BJ's Wholesale  41.463206 -82.050078   \n16    BJ's Wholesale  41.631042 -81.426055   \n\n                                   Address                     Place ID  \n0                 6720 Bass Pro Dr, Hudson  ChIJrwEsWXIgMYgRnko93meT4s0  \n1          16690 Royalton Rd, Strongsville  ChIJNa2MJXnqMIgRmZ164eouXjE  \n2                   35804 Detroit Rd, Avon  ChIJSZghHbmRMIgRfCrrH_q0OJI  \n3         1409 Golden Gate Blvd, Cleveland  ChIJz_ruA18BMYgRY7HfgmroTWg  \n4               4790 Portage St NW, Canton  ChIJ2Yr2wKjWNogRjGilwuTNZyU  \n5              23300 Broadway Ave, Oakwood  ChIJDV-HRwceMYgRIYsH9N1b_HQ  \n6            10250 Brookpark Rd, Cleveland  ChIJ1fa4rIzuMIgRFMsgyqQYFWE  \n7           5225 Cobblestone Rd, Sheffield  ChIJX_t1UjKaMIgRHM2sNhFFxyU  \n8        1040 Niles Cortland Rd SE, Warren  ChIJaY-CnZ_gM4gRng6y-UmPoRY  \n9                  5600 Emerald Ct, Mentor  ChIJ0Ux7Jf2kMYgRF3vi1W6CpKg  \n10              6361 South Ave, Youngstown  ChIJkW7Vup36M4gRgrjjdp3j20U  \n11                    1677 Home Ave, Akron  ChIJr1lVVGUoMYgRZyNHvaFakyk  \n12         6924 Frank Ave NW, North Canton  ChIJv7wm5qfWNogR-pHBWCbJJ4Y  \n13  4365 Richmond Rd, Warrensville Heights  ChIJlxu-3EsdMYgRQNm9xU4cwUM  \n14     6944 W 130th St, Middleburg Heights  ChIJd7jukOTrMIgRbFLNX469JvM  \n15                38292 Colorado Ave, Avon  ChIJ_VAprpmaMIgRdiXIOGEAp6w  \n16            36595 Euclid Ave, Willoughby  ChIJs99FxoepMYgRDybNRcg4FRU  "
     },
     "execution_count": 31,
     "metadata": {},
     "output_type": "execute_result"
    }
   ],
   "source": [
    "#Delete duplicates that were written as different addresses\n",
    "club_list = club_list.loc[club_list[\"Name\"] != \"Costco Photo Center\"]\n",
    "club_list = club_list.loc[club_list[\"Name\"] != \"Sam's Club Tire & Battery\"]\n",
    "club_list = club_list.drop_duplicates(subset = \"Address\").reset_index(drop=True)\n",
    "club_list\n",
    "\n"
   ]
  },
  {
   "cell_type": "code",
   "execution_count": 32,
   "metadata": {},
   "outputs": [
    {
     "data": {
      "text/html": "<div>\n<style scoped>\n    .dataframe tbody tr th:only-of-type {\n        vertical-align: middle;\n    }\n\n    .dataframe tbody tr th {\n        vertical-align: top;\n    }\n\n    .dataframe thead th {\n        text-align: right;\n    }\n</style>\n<table border=\"1\" class=\"dataframe\">\n  <thead>\n    <tr style=\"text-align: right;\">\n      <th></th>\n      <th>Name</th>\n      <th>Lat</th>\n      <th>Lng</th>\n      <th>Address</th>\n      <th>Place ID</th>\n      <th>County</th>\n    </tr>\n  </thead>\n  <tbody>\n    <tr>\n      <th>0</th>\n      <td>Costco Wholesale</td>\n      <td>41.265324</td>\n      <td>-81.507401</td>\n      <td>6720 Bass Pro Dr, Hudson</td>\n      <td>ChIJrwEsWXIgMYgRnko93meT4s0</td>\n      <td>Summit County</td>\n    </tr>\n    <tr>\n      <th>1</th>\n      <td>Costco Wholesale</td>\n      <td>41.316908</td>\n      <td>-81.815903</td>\n      <td>16690 Royalton Rd, Strongsville</td>\n      <td>ChIJNa2MJXnqMIgRmZ164eouXjE</td>\n      <td>Cuyahoga County</td>\n    </tr>\n    <tr>\n      <th>2</th>\n      <td>Costco Wholesale</td>\n      <td>41.460533</td>\n      <td>-82.011002</td>\n      <td>35804 Detroit Rd, Avon</td>\n      <td>ChIJSZghHbmRMIgRfCrrH_q0OJI</td>\n      <td>Lorain County</td>\n    </tr>\n    <tr>\n      <th>3</th>\n      <td>Costco Wholesale</td>\n      <td>41.523955</td>\n      <td>-81.446610</td>\n      <td>1409 Golden Gate Blvd, Cleveland</td>\n      <td>ChIJz_ruA18BMYgRY7HfgmroTWg</td>\n      <td>Cuyahoga County</td>\n    </tr>\n    <tr>\n      <th>4</th>\n      <td>Sam's Club</td>\n      <td>40.878174</td>\n      <td>-81.437164</td>\n      <td>4790 Portage St NW, Canton</td>\n      <td>ChIJ2Yr2wKjWNogRjGilwuTNZyU</td>\n      <td>Jackson Township</td>\n    </tr>\n    <tr>\n      <th>5</th>\n      <td>Sam's Club</td>\n      <td>41.366413</td>\n      <td>-81.512382</td>\n      <td>23300 Broadway Ave, Oakwood</td>\n      <td>ChIJDV-HRwceMYgRIYsH9N1b_HQ</td>\n      <td>Cuyahoga County</td>\n    </tr>\n    <tr>\n      <th>6</th>\n      <td>Sam's Club</td>\n      <td>41.420280</td>\n      <td>-81.757481</td>\n      <td>10250 Brookpark Rd, Cleveland</td>\n      <td>ChIJ1fa4rIzuMIgRFMsgyqQYFWE</td>\n      <td>Cuyahoga County</td>\n    </tr>\n    <tr>\n      <th>7</th>\n      <td>Sam's Club</td>\n      <td>41.421844</td>\n      <td>-82.081514</td>\n      <td>5225 Cobblestone Rd, Sheffield</td>\n      <td>ChIJX_t1UjKaMIgRHM2sNhFFxyU</td>\n      <td>Lorain County</td>\n    </tr>\n    <tr>\n      <th>8</th>\n      <td>Sam's Club</td>\n      <td>41.226195</td>\n      <td>-80.744836</td>\n      <td>1040 Niles Cortland Rd SE, Warren</td>\n      <td>ChIJaY-CnZ_gM4gRng6y-UmPoRY</td>\n      <td>Trumbull County</td>\n    </tr>\n    <tr>\n      <th>9</th>\n      <td>Sam's Club</td>\n      <td>41.717211</td>\n      <td>-81.293395</td>\n      <td>5600 Emerald Ct, Mentor</td>\n      <td>ChIJ0Ux7Jf2kMYgRF3vi1W6CpKg</td>\n      <td>Lake County</td>\n    </tr>\n    <tr>\n      <th>10</th>\n      <td>Sam's Club</td>\n      <td>41.034330</td>\n      <td>-80.633600</td>\n      <td>6361 South Ave, Youngstown</td>\n      <td>ChIJkW7Vup36M4gRgrjjdp3j20U</td>\n      <td>Boardman Township</td>\n    </tr>\n    <tr>\n      <th>11</th>\n      <td>BJ's Wholesale</td>\n      <td>41.115934</td>\n      <td>-81.482591</td>\n      <td>1677 Home Ave, Akron</td>\n      <td>ChIJr1lVVGUoMYgRZyNHvaFakyk</td>\n      <td>Akron</td>\n    </tr>\n    <tr>\n      <th>12</th>\n      <td>BJ's Wholesale</td>\n      <td>40.881690</td>\n      <td>-81.439936</td>\n      <td>6924 Frank Ave NW, North Canton</td>\n      <td>ChIJv7wm5qfWNogR-pHBWCbJJ4Y</td>\n      <td>Jackson Township</td>\n    </tr>\n    <tr>\n      <th>13</th>\n      <td>BJ's Wholesale</td>\n      <td>41.441952</td>\n      <td>-81.496956</td>\n      <td>4365 Richmond Rd, Warrensville Heights</td>\n      <td>ChIJlxu-3EsdMYgRQNm9xU4cwUM</td>\n      <td>Cuyahoga County</td>\n    </tr>\n    <tr>\n      <th>14</th>\n      <td>BJ's Wholesale</td>\n      <td>41.376131</td>\n      <td>-81.786051</td>\n      <td>6944 W 130th St, Middleburg Heights</td>\n      <td>ChIJd7jukOTrMIgRbFLNX469JvM</td>\n      <td>Cuyahoga County</td>\n    </tr>\n    <tr>\n      <th>15</th>\n      <td>BJ's Wholesale</td>\n      <td>41.463206</td>\n      <td>-82.050078</td>\n      <td>38292 Colorado Ave, Avon</td>\n      <td>ChIJ_VAprpmaMIgRdiXIOGEAp6w</td>\n      <td>Lorain County</td>\n    </tr>\n    <tr>\n      <th>16</th>\n      <td>BJ's Wholesale</td>\n      <td>41.631042</td>\n      <td>-81.426055</td>\n      <td>36595 Euclid Ave, Willoughby</td>\n      <td>ChIJs99FxoepMYgRDybNRcg4FRU</td>\n      <td>Willoughby</td>\n    </tr>\n  </tbody>\n</table>\n</div>",
      "text/plain": "                Name        Lat        Lng  \\\n0   Costco Wholesale  41.265324 -81.507401   \n1   Costco Wholesale  41.316908 -81.815903   \n2   Costco Wholesale  41.460533 -82.011002   \n3   Costco Wholesale  41.523955 -81.446610   \n4         Sam's Club  40.878174 -81.437164   \n5         Sam's Club  41.366413 -81.512382   \n6         Sam's Club  41.420280 -81.757481   \n7         Sam's Club  41.421844 -82.081514   \n8         Sam's Club  41.226195 -80.744836   \n9         Sam's Club  41.717211 -81.293395   \n10        Sam's Club  41.034330 -80.633600   \n11    BJ's Wholesale  41.115934 -81.482591   \n12    BJ's Wholesale  40.881690 -81.439936   \n13    BJ's Wholesale  41.441952 -81.496956   \n14    BJ's Wholesale  41.376131 -81.786051   \n15    BJ's Wholesale  41.463206 -82.050078   \n16    BJ's Wholesale  41.631042 -81.426055   \n\n                                   Address                     Place ID  \\\n0                 6720 Bass Pro Dr, Hudson  ChIJrwEsWXIgMYgRnko93meT4s0   \n1          16690 Royalton Rd, Strongsville  ChIJNa2MJXnqMIgRmZ164eouXjE   \n2                   35804 Detroit Rd, Avon  ChIJSZghHbmRMIgRfCrrH_q0OJI   \n3         1409 Golden Gate Blvd, Cleveland  ChIJz_ruA18BMYgRY7HfgmroTWg   \n4               4790 Portage St NW, Canton  ChIJ2Yr2wKjWNogRjGilwuTNZyU   \n5              23300 Broadway Ave, Oakwood  ChIJDV-HRwceMYgRIYsH9N1b_HQ   \n6            10250 Brookpark Rd, Cleveland  ChIJ1fa4rIzuMIgRFMsgyqQYFWE   \n7           5225 Cobblestone Rd, Sheffield  ChIJX_t1UjKaMIgRHM2sNhFFxyU   \n8        1040 Niles Cortland Rd SE, Warren  ChIJaY-CnZ_gM4gRng6y-UmPoRY   \n9                  5600 Emerald Ct, Mentor  ChIJ0Ux7Jf2kMYgRF3vi1W6CpKg   \n10              6361 South Ave, Youngstown  ChIJkW7Vup36M4gRgrjjdp3j20U   \n11                    1677 Home Ave, Akron  ChIJr1lVVGUoMYgRZyNHvaFakyk   \n12         6924 Frank Ave NW, North Canton  ChIJv7wm5qfWNogR-pHBWCbJJ4Y   \n13  4365 Richmond Rd, Warrensville Heights  ChIJlxu-3EsdMYgRQNm9xU4cwUM   \n14     6944 W 130th St, Middleburg Heights  ChIJd7jukOTrMIgRbFLNX469JvM   \n15                38292 Colorado Ave, Avon  ChIJ_VAprpmaMIgRdiXIOGEAp6w   \n16            36595 Euclid Ave, Willoughby  ChIJs99FxoepMYgRDybNRcg4FRU   \n\n               County  \n0       Summit County  \n1     Cuyahoga County  \n2       Lorain County  \n3     Cuyahoga County  \n4    Jackson Township  \n5     Cuyahoga County  \n6     Cuyahoga County  \n7       Lorain County  \n8     Trumbull County  \n9         Lake County  \n10  Boardman Township  \n11              Akron  \n12   Jackson Township  \n13    Cuyahoga County  \n14    Cuyahoga County  \n15      Lorain County  \n16         Willoughby  "
     },
     "execution_count": 32,
     "metadata": {},
     "output_type": "execute_result"
    }
   ],
   "source": [
    "county_url = f\"https://maps.googleapis.com/maps/api/place/details/json?key={g_key}&place_id=\"\n",
    "county = []\n",
    "\n",
    "#Test to find the right field\n",
    "    #p_id = \"ChIJrwEsWXIgMYgRnko93meT4s0\"\n",
    "    #response = requests.get(county_url+p_id).json()\n",
    "    #pprint(response['result']['address_components'][3]['long_name'])\n",
    "\n",
    "#Use place details API to get the county name from the place ID\n",
    "for x in club_list['Place ID']:\n",
    "    response = requests.get(county_url+x).json()\n",
    "    county.append(response['result']['address_components'][3]['long_name'])\n",
    "\n",
    "club_list[\"County\"] = county\n",
    "club_list"
   ]
  },
  {
   "cell_type": "code",
   "execution_count": 35,
   "metadata": {},
   "outputs": [
    {
     "data": {
      "text/html": "<div>\n<style scoped>\n    .dataframe tbody tr th:only-of-type {\n        vertical-align: middle;\n    }\n\n    .dataframe tbody tr th {\n        vertical-align: top;\n    }\n\n    .dataframe thead th {\n        text-align: right;\n    }\n</style>\n<table border=\"1\" class=\"dataframe\">\n  <thead>\n    <tr style=\"text-align: right;\">\n      <th></th>\n      <th>Name</th>\n      <th>Lat</th>\n      <th>Lng</th>\n      <th>Address</th>\n      <th>Place ID</th>\n      <th>County</th>\n    </tr>\n  </thead>\n  <tbody>\n    <tr>\n      <th>0</th>\n      <td>Costco Wholesale</td>\n      <td>41.265324</td>\n      <td>-81.507401</td>\n      <td>6720 Bass Pro Dr, Hudson</td>\n      <td>ChIJrwEsWXIgMYgRnko93meT4s0</td>\n      <td>Summit County</td>\n    </tr>\n    <tr>\n      <th>1</th>\n      <td>Costco Wholesale</td>\n      <td>41.316908</td>\n      <td>-81.815903</td>\n      <td>16690 Royalton Rd, Strongsville</td>\n      <td>ChIJNa2MJXnqMIgRmZ164eouXjE</td>\n      <td>Cuyahoga County</td>\n    </tr>\n    <tr>\n      <th>2</th>\n      <td>Costco Wholesale</td>\n      <td>41.460533</td>\n      <td>-82.011002</td>\n      <td>35804 Detroit Rd, Avon</td>\n      <td>ChIJSZghHbmRMIgRfCrrH_q0OJI</td>\n      <td>Lorain County</td>\n    </tr>\n    <tr>\n      <th>3</th>\n      <td>Costco Wholesale</td>\n      <td>41.523955</td>\n      <td>-81.446610</td>\n      <td>1409 Golden Gate Blvd, Cleveland</td>\n      <td>ChIJz_ruA18BMYgRY7HfgmroTWg</td>\n      <td>Cuyahoga County</td>\n    </tr>\n    <tr>\n      <th>4</th>\n      <td>Sam's Club</td>\n      <td>40.878174</td>\n      <td>-81.437164</td>\n      <td>4790 Portage St NW, Canton</td>\n      <td>ChIJ2Yr2wKjWNogRjGilwuTNZyU</td>\n      <td>Mahoning County</td>\n    </tr>\n    <tr>\n      <th>5</th>\n      <td>Sam's Club</td>\n      <td>41.366413</td>\n      <td>-81.512382</td>\n      <td>23300 Broadway Ave, Oakwood</td>\n      <td>ChIJDV-HRwceMYgRIYsH9N1b_HQ</td>\n      <td>Cuyahoga County</td>\n    </tr>\n    <tr>\n      <th>6</th>\n      <td>Sam's Club</td>\n      <td>41.420280</td>\n      <td>-81.757481</td>\n      <td>10250 Brookpark Rd, Cleveland</td>\n      <td>ChIJ1fa4rIzuMIgRFMsgyqQYFWE</td>\n      <td>Cuyahoga County</td>\n    </tr>\n    <tr>\n      <th>7</th>\n      <td>Sam's Club</td>\n      <td>41.421844</td>\n      <td>-82.081514</td>\n      <td>5225 Cobblestone Rd, Sheffield</td>\n      <td>ChIJX_t1UjKaMIgRHM2sNhFFxyU</td>\n      <td>Lorain County</td>\n    </tr>\n    <tr>\n      <th>8</th>\n      <td>Sam's Club</td>\n      <td>41.226195</td>\n      <td>-80.744836</td>\n      <td>1040 Niles Cortland Rd SE, Warren</td>\n      <td>ChIJaY-CnZ_gM4gRng6y-UmPoRY</td>\n      <td>Trumbull County</td>\n    </tr>\n    <tr>\n      <th>9</th>\n      <td>Sam's Club</td>\n      <td>41.717211</td>\n      <td>-81.293395</td>\n      <td>5600 Emerald Ct, Mentor</td>\n      <td>ChIJ0Ux7Jf2kMYgRF3vi1W6CpKg</td>\n      <td>Lake County</td>\n    </tr>\n    <tr>\n      <th>10</th>\n      <td>Sam's Club</td>\n      <td>41.034330</td>\n      <td>-80.633600</td>\n      <td>6361 South Ave, Youngstown</td>\n      <td>ChIJkW7Vup36M4gRgrjjdp3j20U</td>\n      <td>Boardman Township</td>\n    </tr>\n    <tr>\n      <th>11</th>\n      <td>BJ's Wholesale</td>\n      <td>41.115934</td>\n      <td>-81.482591</td>\n      <td>1677 Home Ave, Akron</td>\n      <td>ChIJr1lVVGUoMYgRZyNHvaFakyk</td>\n      <td>Summit County</td>\n    </tr>\n    <tr>\n      <th>12</th>\n      <td>BJ's Wholesale</td>\n      <td>40.881690</td>\n      <td>-81.439936</td>\n      <td>6924 Frank Ave NW, North Canton</td>\n      <td>ChIJv7wm5qfWNogR-pHBWCbJJ4Y</td>\n      <td>Stark County</td>\n    </tr>\n    <tr>\n      <th>13</th>\n      <td>BJ's Wholesale</td>\n      <td>41.441952</td>\n      <td>-81.496956</td>\n      <td>4365 Richmond Rd, Warrensville Heights</td>\n      <td>ChIJlxu-3EsdMYgRQNm9xU4cwUM</td>\n      <td>Cuyahoga County</td>\n    </tr>\n    <tr>\n      <th>14</th>\n      <td>BJ's Wholesale</td>\n      <td>41.376131</td>\n      <td>-81.786051</td>\n      <td>6944 W 130th St, Middleburg Heights</td>\n      <td>ChIJd7jukOTrMIgRbFLNX469JvM</td>\n      <td>Cuyahoga County</td>\n    </tr>\n    <tr>\n      <th>15</th>\n      <td>BJ's Wholesale</td>\n      <td>41.463206</td>\n      <td>-82.050078</td>\n      <td>38292 Colorado Ave, Avon</td>\n      <td>ChIJ_VAprpmaMIgRdiXIOGEAp6w</td>\n      <td>Lorain County</td>\n    </tr>\n    <tr>\n      <th>16</th>\n      <td>BJ's Wholesale</td>\n      <td>41.631042</td>\n      <td>-81.426055</td>\n      <td>36595 Euclid Ave, Willoughby</td>\n      <td>ChIJs99FxoepMYgRDybNRcg4FRU</td>\n      <td>Lake County</td>\n    </tr>\n  </tbody>\n</table>\n</div>",
      "text/plain": "                Name        Lat        Lng  \\\n0   Costco Wholesale  41.265324 -81.507401   \n1   Costco Wholesale  41.316908 -81.815903   \n2   Costco Wholesale  41.460533 -82.011002   \n3   Costco Wholesale  41.523955 -81.446610   \n4         Sam's Club  40.878174 -81.437164   \n5         Sam's Club  41.366413 -81.512382   \n6         Sam's Club  41.420280 -81.757481   \n7         Sam's Club  41.421844 -82.081514   \n8         Sam's Club  41.226195 -80.744836   \n9         Sam's Club  41.717211 -81.293395   \n10        Sam's Club  41.034330 -80.633600   \n11    BJ's Wholesale  41.115934 -81.482591   \n12    BJ's Wholesale  40.881690 -81.439936   \n13    BJ's Wholesale  41.441952 -81.496956   \n14    BJ's Wholesale  41.376131 -81.786051   \n15    BJ's Wholesale  41.463206 -82.050078   \n16    BJ's Wholesale  41.631042 -81.426055   \n\n                                   Address                     Place ID  \\\n0                 6720 Bass Pro Dr, Hudson  ChIJrwEsWXIgMYgRnko93meT4s0   \n1          16690 Royalton Rd, Strongsville  ChIJNa2MJXnqMIgRmZ164eouXjE   \n2                   35804 Detroit Rd, Avon  ChIJSZghHbmRMIgRfCrrH_q0OJI   \n3         1409 Golden Gate Blvd, Cleveland  ChIJz_ruA18BMYgRY7HfgmroTWg   \n4               4790 Portage St NW, Canton  ChIJ2Yr2wKjWNogRjGilwuTNZyU   \n5              23300 Broadway Ave, Oakwood  ChIJDV-HRwceMYgRIYsH9N1b_HQ   \n6            10250 Brookpark Rd, Cleveland  ChIJ1fa4rIzuMIgRFMsgyqQYFWE   \n7           5225 Cobblestone Rd, Sheffield  ChIJX_t1UjKaMIgRHM2sNhFFxyU   \n8        1040 Niles Cortland Rd SE, Warren  ChIJaY-CnZ_gM4gRng6y-UmPoRY   \n9                  5600 Emerald Ct, Mentor  ChIJ0Ux7Jf2kMYgRF3vi1W6CpKg   \n10              6361 South Ave, Youngstown  ChIJkW7Vup36M4gRgrjjdp3j20U   \n11                    1677 Home Ave, Akron  ChIJr1lVVGUoMYgRZyNHvaFakyk   \n12         6924 Frank Ave NW, North Canton  ChIJv7wm5qfWNogR-pHBWCbJJ4Y   \n13  4365 Richmond Rd, Warrensville Heights  ChIJlxu-3EsdMYgRQNm9xU4cwUM   \n14     6944 W 130th St, Middleburg Heights  ChIJd7jukOTrMIgRbFLNX469JvM   \n15                38292 Colorado Ave, Avon  ChIJ_VAprpmaMIgRdiXIOGEAp6w   \n16            36595 Euclid Ave, Willoughby  ChIJs99FxoepMYgRDybNRcg4FRU   \n\n               County  \n0       Summit County  \n1     Cuyahoga County  \n2       Lorain County  \n3     Cuyahoga County  \n4     Mahoning County  \n5     Cuyahoga County  \n6     Cuyahoga County  \n7       Lorain County  \n8     Trumbull County  \n9         Lake County  \n10  Boardman Township  \n11      Summit County  \n12       Stark County  \n13    Cuyahoga County  \n14    Cuyahoga County  \n15      Lorain County  \n16        Lake County  "
     },
     "execution_count": 35,
     "metadata": {},
     "output_type": "execute_result"
    }
   ],
   "source": [
    "#Change names of cities/townships to rightful county\n",
    "club_list['County'][11] = \"Summit County\"\n",
    "club_list['County'][16] = \"Lake County\"\n",
    "club_list['County'][12] = \"Stark County\"\n",
    "club_list['County'][4] = \"Stark County\"\n",
    "club_list['County'][4] = \"Mahoning County\"\n",
    "club_list"
   ]
  },
  {
   "cell_type": "code",
   "execution_count": 36,
   "metadata": {},
   "outputs": [],
   "source": [
    "#Save to CSV\n",
    "club_list.to_csv(\"output_data/club_data.csv\",index=False,header=True)"
   ]
  },
  {
   "cell_type": "markdown",
   "metadata": {},
   "source": [
    "## Sean - Pull data for Walmart from Google API"
   ]
  },
  {
   "cell_type": "code",
   "execution_count": null,
   "metadata": {},
   "outputs": [],
   "source": []
  },
  {
   "cell_type": "markdown",
   "metadata": {},
   "source": [
    "## Val - Pull data for Target from Google API"
   ]
  },
  {
   "cell_type": "code",
   "execution_count": null,
   "metadata": {},
   "outputs": [],
   "source": []
  }
 ]
}