{
 "nbformat": 4,
 "nbformat_minor": 2,
 "metadata": {
  "language_info": {
   "name": "python",
   "codemirror_mode": {
    "name": "ipython",
    "version": 3
   },
   "version": "3.7.4-final"
  },
  "orig_nbformat": 2,
  "file_extension": ".py",
  "mimetype": "text/x-python",
  "name": "python",
  "npconvert_exporter": "python",
  "pygments_lexer": "ipython3",
  "version": 3,
  "kernelspec": {
   "name": "python37464bitpythondatacondaaf71fc3f5dd34866a438487bc0d8ac87",
   "display_name": "Python 3.7.4 64-bit ('PythonData': conda)"
  }
 },
 "cells": [
  {
   "cell_type": "code",
   "execution_count": 12,
   "metadata": {},
   "outputs": [],
   "source": [
    "#Dependencies\n",
    "import pandas as pd\n",
    "import os\n",
    "from api_keys import g_key\n",
    "import requests"
   ]
  },
  {
   "cell_type": "code",
   "execution_count": 16,
   "metadata": {},
   "outputs": [
    {
     "name": "stdout",
     "output_type": "stream",
     "text": "Index(['Name', 'Lat', 'Lng', 'Address', 'Place ID', 'County'], dtype='object')\nIndex(['Store Name', 'Latitude', 'Longitude', 'Address', 'Place ID'], dtype='object')\nIndex(['Name', 'Lat', 'Lng', 'Address', 'Place ID', 'County'], dtype='object')\n"
    }
   ],
   "source": [
    "#Grab CSVs of the store data\n",
    "club_df = pd.read_csv(\"club_data.csv\", encoding = \"utf-8\" )\n",
    "target_df = pd.read_csv('target_locations.csv',encoding = \"utf-8\")\n",
    "store_df = pd.read_csv('store_data_NEO_places.csv',encoding=\"utf-8\")\n",
    "print(club_df.columns)\n",
    "print(target_df.columns)\n",
    "print(store_df.columns)\n"
   ]
  },
  {
   "cell_type": "code",
   "execution_count": 17,
   "metadata": {},
   "outputs": [
    {
     "data": {
      "text/html": "<div>\n<style scoped>\n    .dataframe tbody tr th:only-of-type {\n        vertical-align: middle;\n    }\n\n    .dataframe tbody tr th {\n        vertical-align: top;\n    }\n\n    .dataframe thead th {\n        text-align: right;\n    }\n</style>\n<table border=\"1\" class=\"dataframe\">\n  <thead>\n    <tr style=\"text-align: right;\">\n      <th></th>\n      <th>Store Name</th>\n      <th>Latitude</th>\n      <th>Longitude</th>\n      <th>Address</th>\n      <th>Place ID</th>\n      <th>County</th>\n    </tr>\n  </thead>\n  <tbody>\n    <tr>\n      <th>0</th>\n      <td>Target</td>\n      <td>41.500618</td>\n      <td>-81.532870</td>\n      <td>14070 Cedar Road, University Heights</td>\n      <td>ChIJBd2B1Jb9MIgRfoiS2LTn0Pk</td>\n      <td>Cuyahoga County</td>\n    </tr>\n    <tr>\n      <th>1</th>\n      <td>Target</td>\n      <td>41.629108</td>\n      <td>-81.429947</td>\n      <td>36195 Euclid Avenue, Willoughby</td>\n      <td>ChIJ5YCtyCeqMYgRElkRfXKSwvE</td>\n      <td>Willoughby</td>\n    </tr>\n    <tr>\n      <th>2</th>\n      <td>Target</td>\n      <td>41.686247</td>\n      <td>-81.293935</td>\n      <td>9669 Mentor Avenue, Mentor</td>\n      <td>ChIJ78P5ssylMYgRVLQVU0q2y-M</td>\n      <td>Lake County</td>\n    </tr>\n    <tr>\n      <th>3</th>\n      <td>Target</td>\n      <td>41.357077</td>\n      <td>-81.386341</td>\n      <td>18855 North Market Place Drive, Aurora</td>\n      <td>ChIJl6BDSn4ZMYgRPNXlac3OTSY</td>\n      <td>Bainbridge Township</td>\n    </tr>\n    <tr>\n      <th>4</th>\n      <td>Target</td>\n      <td>41.040409</td>\n      <td>-81.690730</td>\n      <td>1183 Williams Reserve Boulevard, Wadsworth</td>\n      <td>ChIJGafGRHXSMIgRtYwHHTMayXo</td>\n      <td>Medina County</td>\n    </tr>\n    <tr>\n      <th>5</th>\n      <td>Target</td>\n      <td>41.420226</td>\n      <td>-81.895305</td>\n      <td>24646 Brookpark Road, North Olmsted</td>\n      <td>ChIJT4Q4LhKTMIgRpAlVNf8lJH4</td>\n      <td>Cuyahoga County</td>\n    </tr>\n    <tr>\n      <th>6</th>\n      <td>Target</td>\n      <td>41.120956</td>\n      <td>-81.477382</td>\n      <td>449 Howe Avenue, Cuyahoga Falls</td>\n      <td>ChIJ4yprBHwoMYgRH8i8pVsr_wg</td>\n      <td>Summit County</td>\n    </tr>\n    <tr>\n      <th>7</th>\n      <td>Target</td>\n      <td>41.154719</td>\n      <td>-81.865421</td>\n      <td>1015 North Court Street, Medina</td>\n      <td>ChIJOUuy6P_HMIgRYcZIcFuhhgw</td>\n      <td>Medina Township</td>\n    </tr>\n    <tr>\n      <th>8</th>\n      <td>Target</td>\n      <td>41.457885</td>\n      <td>-81.689153</td>\n      <td>3535 Steelyard Drive, Cleveland</td>\n      <td>ChIJ09oCUVXlMIgRXYckH7ezqQ4</td>\n      <td>Cleveland</td>\n    </tr>\n    <tr>\n      <th>9</th>\n      <td>Target</td>\n      <td>40.862154</td>\n      <td>-81.431448</td>\n      <td>5584 Dressler Road Northwest, North Canton</td>\n      <td>ChIJpUSYPsrWNogRlNVcCp9WPLs</td>\n      <td>Jackson Township</td>\n    </tr>\n    <tr>\n      <th>10</th>\n      <td>Target</td>\n      <td>41.128045</td>\n      <td>-81.605230</td>\n      <td>2801 West Market Street, Fairlawn</td>\n      <td>ChIJGTnBXK3QMIgRDgULwwfSHv8</td>\n      <td>Summit County</td>\n    </tr>\n    <tr>\n      <th>11</th>\n      <td>Target</td>\n      <td>40.983936</td>\n      <td>-81.495815</td>\n      <td>762 Arlington Ridge, Akron</td>\n      <td>ChIJs7bpDL8qMYgRm6Akf2ZDq08</td>\n      <td>Summit County</td>\n    </tr>\n  </tbody>\n</table>\n</div>",
      "text/plain": "   Store Name   Latitude  Longitude  \\\n0      Target  41.500618 -81.532870   \n1      Target  41.629108 -81.429947   \n2      Target  41.686247 -81.293935   \n3      Target  41.357077 -81.386341   \n4      Target  41.040409 -81.690730   \n5      Target  41.420226 -81.895305   \n6      Target  41.120956 -81.477382   \n7      Target  41.154719 -81.865421   \n8      Target  41.457885 -81.689153   \n9      Target  40.862154 -81.431448   \n10     Target  41.128045 -81.605230   \n11     Target  40.983936 -81.495815   \n\n                                       Address                     Place ID  \\\n0         14070 Cedar Road, University Heights  ChIJBd2B1Jb9MIgRfoiS2LTn0Pk   \n1              36195 Euclid Avenue, Willoughby  ChIJ5YCtyCeqMYgRElkRfXKSwvE   \n2                   9669 Mentor Avenue, Mentor  ChIJ78P5ssylMYgRVLQVU0q2y-M   \n3       18855 North Market Place Drive, Aurora  ChIJl6BDSn4ZMYgRPNXlac3OTSY   \n4   1183 Williams Reserve Boulevard, Wadsworth  ChIJGafGRHXSMIgRtYwHHTMayXo   \n5          24646 Brookpark Road, North Olmsted  ChIJT4Q4LhKTMIgRpAlVNf8lJH4   \n6              449 Howe Avenue, Cuyahoga Falls  ChIJ4yprBHwoMYgRH8i8pVsr_wg   \n7              1015 North Court Street, Medina  ChIJOUuy6P_HMIgRYcZIcFuhhgw   \n8              3535 Steelyard Drive, Cleveland  ChIJ09oCUVXlMIgRXYckH7ezqQ4   \n9   5584 Dressler Road Northwest, North Canton  ChIJpUSYPsrWNogRlNVcCp9WPLs   \n10           2801 West Market Street, Fairlawn  ChIJGTnBXK3QMIgRDgULwwfSHv8   \n11                  762 Arlington Ridge, Akron  ChIJs7bpDL8qMYgRm6Akf2ZDq08   \n\n                 County  \n0       Cuyahoga County  \n1            Willoughby  \n2           Lake County  \n3   Bainbridge Township  \n4         Medina County  \n5       Cuyahoga County  \n6         Summit County  \n7       Medina Township  \n8             Cleveland  \n9      Jackson Township  \n10        Summit County  \n11        Summit County  "
     },
     "execution_count": 17,
     "metadata": {},
     "output_type": "execute_result"
    }
   ],
   "source": [
    "county_url = f\"https://maps.googleapis.com/maps/api/place/details/json?key={g_key}&place_id=\"\n",
    "county = []\n",
    "\n",
    "#Test to find the right field\n",
    "    #p_id = \"ChIJrwEsWXIgMYgRnko93meT4s0\"\n",
    "    #response = requests.get(county_url+p_id).json()\n",
    "    #pprint(response['result']['address_components'][3]['long_name'])\n",
    "\n",
    "#Use place details API to get the county name from the place ID for Target Stores\n",
    "for x in target_df['Place ID']:\n",
    "    response = requests.get(county_url+x).json()\n",
    "    county.append(response['result']['address_components'][3]['long_name'])\n",
    "\n",
    "target_df[\"County\"] = county\n",
    "target_df"
   ]
  },
  {
   "cell_type": "code",
   "execution_count": 18,
   "metadata": {},
   "outputs": [
    {
     "name": "stdout",
     "output_type": "stream",
     "text": "Index(['Store Name', 'Lat', 'Lng', 'Address', 'Place ID', 'County'], dtype='object')\nIndex(['Store Name', 'Lat', 'Lng', 'Address', 'Place ID', 'County'], dtype='object')\nIndex(['Store Name', 'Lat', 'Lng', 'Address', 'Place ID', 'County'], dtype='object')\n"
    }
   ],
   "source": [
    "club_df = club_df.rename(columns = {\"Name\":\"Store Name\"})\n",
    "target_df = target_df.rename(columns = {\"Latitude\":\"Lat\",\"Longitude\":\"Lng\"})\n",
    "store_df = store_df.rename(columns = {\"Name\":\"Store Name\"})\n",
    "print(club_df.columns)\n",
    "print(target_df.columns)\n",
    "print(store_df.columns)"
   ]
  },
  {
   "cell_type": "code",
   "execution_count": 19,
   "metadata": {},
   "outputs": [
    {
     "name": "stdout",
     "output_type": "stream",
     "text": "Store Name        Lat        Lng  \\\n0              Costco Wholesale  41.265324 -81.507401   \n1              Costco Wholesale  41.316908 -81.815903   \n2              Costco Wholesale  41.460533 -82.011002   \n3              Costco Wholesale  41.523955 -81.446610   \n4                    Sam's Club  40.878174 -81.437164   \n..                          ...        ...        ...   \n246  Heinen's, Inc. - Warehouse  41.427141 -81.535691   \n247            Heinen's grocery  41.399263 -81.334441   \n248      Heinen's Grocery Store  41.588116 -81.218803   \n249      Heinen's Grocery Store  41.606722 -81.442266   \n250      Heinen's Grocery Store  41.672847 -81.323319   \n\n                              Address                     Place ID  \\\n0            6720 Bass Pro Dr, Hudson  ChIJrwEsWXIgMYgRnko93meT4s0   \n1     16690 Royalton Rd, Strongsville  ChIJNa2MJXnqMIgRmZ164eouXjE   \n2              35804 Detroit Rd, Avon  ChIJSZghHbmRMIgRfCrrH_q0OJI   \n3    1409 Golden Gate Blvd, Cleveland  ChIJz_ruA18BMYgRY7HfgmroTWg   \n4          4790 Portage St NW, Canton  ChIJ2Yr2wKjWNogRjGilwuTNZyU   \n..                                ...                          ...   \n246          20601 Aurora Rd, Oakwood  ChIJBZRnrJDiMIgRKE25n_-tAUM   \n247                        Bainbridge  ChIJNzAZpH4RMYgR59YHZlk6Z8g   \n248            402 Center St, Chardon  ChIJ1QMvToOgMYgRsd-40CDvvWA   \n249        34501 Ridge Rd, Willoughby  ChIJz34dxQ6qMYgRad3XD53J_KA   \n250           8850 Mentor Ave, Mentor  ChIJMeVS0uOlMYgRJ6pIM5WtpH8   \n\n              County  \n0      Summit County  \n1    Cuyahoga County  \n2      Lorain County  \n3    Cuyahoga County  \n4    Mahoning County  \n..               ...  \n246  Cuyahoga County  \n247             Ohio  \n248    Geauga County  \n249       Willoughby  \n250      Lake County  \n\n[280 rows x 6 columns]\n"
    }
   ],
   "source": [
    "#Merge after all the names are consistent\n",
    "total_store = club_df.append(target_df)\n",
    "total_store = total_store.append(store_df)\n",
    "print(total_store)"
   ]
  },
  {
   "cell_type": "code",
   "execution_count": 20,
   "metadata": {},
   "outputs": [],
   "source": [
    "#Store in a new CSV\n",
    "total_store.to_csv('total_store_data.csv', index=False, header=True)"
   ]
  },
  {
   "cell_type": "code",
   "execution_count": null,
   "metadata": {},
   "outputs": [],
   "source": []
  }
 ]
}