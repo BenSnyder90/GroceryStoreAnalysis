{
 "nbformat": 4,
 "nbformat_minor": 2,
 "metadata": {
  "language_info": {
   "name": "python",
   "codemirror_mode": {
    "name": "ipython",
    "version": 3
   },
   "version": "3.7.4-final"
  },
  "orig_nbformat": 2,
  "file_extension": ".py",
  "mimetype": "text/x-python",
  "name": "python",
  "npconvert_exporter": "python",
  "pygments_lexer": "ipython3",
  "version": 3,
  "kernelspec": {
   "name": "python37464bitpythondatacondaaf71fc3f5dd34866a438487bc0d8ac87",
   "display_name": "Python 3.7.4 64-bit ('PythonData': conda)"
  }
 },
 "cells": [
  {
   "cell_type": "code",
   "execution_count": 5,
   "metadata": {},
   "outputs": [],
   "source": [
    "#Dependencies\n",
    "import pandas as pd\n",
    "import os"
   ]
  },
  {
   "cell_type": "code",
   "execution_count": 10,
   "metadata": {},
   "outputs": [
    {
     "name": "stdout",
     "output_type": "stream",
     "text": "Name        Lat        Lng  \\\n0  Costco Wholesale  41.265324 -81.507401   \n1  Costco Wholesale  41.316908 -81.815903   \n2  Costco Wholesale  41.523955 -81.446610   \n3  Costco Wholesale  41.460533 -82.011002   \n4        Sam's Club  41.118157 -81.469221   \n\n                                Address  \n0              6720 Bass Pro Dr, Hudson  \n1       16690 Royalton Rd, Strongsville  \n2      1409 Golden Gate Blvd, Cleveland  \n3                35804 Detroit Rd, Avon  \n4  1189 Buchholzer Blvd, Cuyahoga Falls  \n  Store Name   Latitude  Longitude                                     Address\n0     Target  41.500618 -81.532870        14070 Cedar Road, University Heights\n1     Target  41.629108 -81.429947             36195 Euclid Avenue, Willoughby\n2     Target  41.686247 -81.293935                  9669 Mentor Avenue, Mentor\n3     Target  41.357077 -81.386341      18855 North Market Place Drive, Aurora\n4     Target  41.040409 -81.690730  1183 Williams Reserve Boulevard, Wadsworth\n   Unnamed: 0                 Name        Lat        Lng  \\\n0           0  Walmart Supercenter  40.765608 -81.522613   \n1           1  Walmart Supercenter  40.847628 -81.941624   \n2           2              Walmart  40.871104 -81.433181   \n3           3              Walmart  41.134895 -81.632657   \n4           4  Walmart Supercenter  41.052611 -81.724970   \n\n                                    Address  \n0  1 Massillon Marketplace Dr SW, Massillon  \n1                  3883 Burbank Rd, Wooster  \n2             4572 Mega St NW, North Canton  \n3                3750 W Market St, Fairlawn  \n4               222 Smokerise Dr, Wadsworth  \n"
    }
   ],
   "source": [
    "#Grab CSVs of the store data\n",
    "club_df = pd.read_csv(\"club_data.csv\", encoding = \"utf-8\" )\n",
    "target_df = pd.read_csv('target_locations.csv',encoding = \"utf-8\")\n",
    "store_df = pd.read_csv('newstore_data_NEO4.csv',encoding=\"utf-8\")\n",
    "print(club_df.head())\n",
    "print(target_df.head())\n",
    "print(store_df.head())"
   ]
  },
  {
   "cell_type": "code",
   "execution_count": 15,
   "metadata": {},
   "outputs": [
    {
     "name": "stdout",
     "output_type": "stream",
     "text": "Index(['Store Name', 'Lat', 'Lng', 'Address'], dtype='object')\nIndex(['Store Name', 'Lat', 'Lng', 'Address'], dtype='object')\nIndex(['Store Name', 'Lat', 'Lng', 'Address'], dtype='object')\n"
    }
   ],
   "source": [
    "club_df = club_df.rename(columns = {\"Name\":\"Store Name\"})\n",
    "target_df = target_df.rename(columns = {\"Latitude\":\"Lat\",\"Longitude\":\"Lng\"})\n",
    "store_df = store_df.rename(columns = {\"Name\":\"Store Name\"})\n",
    "store_df = store_df[[\"Store Name\",\"Lat\",\"Lng\",\"Address\"]]\n",
    "print(club_df.columns)\n",
    "print(target_df.columns)\n",
    "print(store_df.columns)"
   ]
  },
  {
   "cell_type": "code",
   "execution_count": 19,
   "metadata": {},
   "outputs": [
    {
     "name": "stdout",
     "output_type": "stream",
     "text": "Store Name        Lat        Lng  \\\n0          Costco Wholesale  41.265324 -81.507401   \n1          Costco Wholesale  41.316908 -81.815903   \n2          Costco Wholesale  41.523955 -81.446610   \n3          Costco Wholesale  41.460533 -82.011002   \n4                Sam's Club  41.118157 -81.469221   \n..                      ...        ...        ...   \n260  Heinen's Grocery Store  41.242519 -81.441967   \n261  Heinen's Grocery Store  41.588116 -81.218803   \n262  Heinen's Grocery Store  41.672847 -81.323319   \n263  Heinen's Grocery Store  41.606722 -81.442266   \n264        Heinen's grocery  41.399263 -81.334441   \n\n                                  Address  \n0                6720 Bass Pro Dr, Hudson  \n1         16690 Royalton Rd, Strongsville  \n2        1409 Golden Gate Blvd, Cleveland  \n3                  35804 Detroit Rd, Avon  \n4    1189 Buchholzer Blvd, Cuyahoga Falls  \n..                                    ...  \n260                 19 Clinton St, Hudson  \n261                402 Center St, Chardon  \n262               8850 Mentor Ave, Mentor  \n263            34501 Ridge Rd, Willoughby  \n264                            Bainbridge  \n\n[295 rows x 4 columns]\n"
    }
   ],
   "source": [
    "#Merge after all the names are consistent\n",
    "total_store = club_df.append(target_df)\n",
    "total_store = total_store.append(store_df)\n",
    "print(total_store)"
   ]
  },
  {
   "cell_type": "code",
   "execution_count": 20,
   "metadata": {},
   "outputs": [],
   "source": [
    "#Store in a new CSV\n",
    "total_store.to_csv('total_store_data.csv', index=False, header=True)"
   ]
  },
  {
   "cell_type": "code",
   "execution_count": null,
   "metadata": {},
   "outputs": [],
   "source": []
  }
 ]
}