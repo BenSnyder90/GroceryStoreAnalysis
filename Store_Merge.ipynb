{
 "nbformat": 4,
 "nbformat_minor": 2,
 "metadata": {
  "language_info": {
   "name": "python",
   "codemirror_mode": {
    "name": "ipython",
    "version": 3
   },
   "version": "3.7.4-final"
  },
  "orig_nbformat": 2,
  "file_extension": ".py",
  "mimetype": "text/x-python",
  "name": "python",
  "npconvert_exporter": "python",
  "pygments_lexer": "ipython3",
  "version": 3,
  "kernelspec": {
   "name": "python37464bitpythondatacondaaf71fc3f5dd34866a438487bc0d8ac87",
   "display_name": "Python 3.7.4 64-bit ('PythonData': conda)"
  }
 },
 "cells": [
  {
   "cell_type": "code",
   "execution_count": 2,
   "metadata": {},
   "outputs": [],
   "source": [
    "#Dependencies\n",
    "import pandas as pd\n",
    "import os\n",
    "from api_keys import g_key\n",
    "import requests"
   ]
  },
  {
   "cell_type": "code",
   "execution_count": 16,
   "metadata": {},
   "outputs": [
    {
     "name": "stdout",
     "output_type": "stream",
     "text": "Index(['Name', 'Lat', 'Lng', 'Address', 'Place ID', 'County'], dtype='object')\nIndex(['Store Name', 'Latitude', 'Longitude', 'Address', 'Place ID'], dtype='object')\nIndex(['Name', 'Lat', 'Lng', 'Address', 'Place ID', 'County'], dtype='object')\n"
    }
   ],
   "source": [
    "#Grab CSVs of the store data\n",
    "club_df = pd.read_csv(\"club_data.csv\", encoding = \"utf-8\" )\n",
    "target_df = pd.read_csv('target_locations.csv',encoding = \"utf-8\")\n",
    "store_df = pd.read_csv('store_data_NEO_places.csv',encoding=\"utf-8\")\n",
    "print(club_df.columns)\n",
    "print(target_df.columns)\n",
    "print(store_df.columns)\n"
   ]
  },
  {
   "cell_type": "code",
   "execution_count": 17,
   "metadata": {},
   "outputs": [
    {
     "data": {
      "text/html": "<div>\n<style scoped>\n    .dataframe tbody tr th:only-of-type {\n        vertical-align: middle;\n    }\n\n    .dataframe tbody tr th {\n        vertical-align: top;\n    }\n\n    .dataframe thead th {\n        text-align: right;\n    }\n</style>\n<table border=\"1\" class=\"dataframe\">\n  <thead>\n    <tr style=\"text-align: right;\">\n      <th></th>\n      <th>Store Name</th>\n      <th>Latitude</th>\n      <th>Longitude</th>\n      <th>Address</th>\n      <th>Place ID</th>\n      <th>County</th>\n    </tr>\n  </thead>\n  <tbody>\n    <tr>\n      <th>0</th>\n      <td>Target</td>\n      <td>41.500618</td>\n      <td>-81.532870</td>\n      <td>14070 Cedar Road, University Heights</td>\n      <td>ChIJBd2B1Jb9MIgRfoiS2LTn0Pk</td>\n      <td>Cuyahoga County</td>\n    </tr>\n    <tr>\n      <th>1</th>\n      <td>Target</td>\n      <td>41.629108</td>\n      <td>-81.429947</td>\n      <td>36195 Euclid Avenue, Willoughby</td>\n      <td>ChIJ5YCtyCeqMYgRElkRfXKSwvE</td>\n      <td>Willoughby</td>\n    </tr>\n    <tr>\n      <th>2</th>\n      <td>Target</td>\n      <td>41.686247</td>\n      <td>-81.293935</td>\n      <td>9669 Mentor Avenue, Mentor</td>\n      <td>ChIJ78P5ssylMYgRVLQVU0q2y-M</td>\n      <td>Lake County</td>\n    </tr>\n    <tr>\n      <th>3</th>\n      <td>Target</td>\n      <td>41.357077</td>\n      <td>-81.386341</td>\n      <td>18855 North Market Place Drive, Aurora</td>\n      <td>ChIJl6BDSn4ZMYgRPNXlac3OTSY</td>\n      <td>Bainbridge Township</td>\n    </tr>\n    <tr>\n      <th>4</th>\n      <td>Target</td>\n      <td>41.040409</td>\n      <td>-81.690730</td>\n      <td>1183 Williams Reserve Boulevard, Wadsworth</td>\n      <td>ChIJGafGRHXSMIgRtYwHHTMayXo</td>\n      <td>Medina County</td>\n    </tr>\n    <tr>\n      <th>5</th>\n      <td>Target</td>\n      <td>41.420226</td>\n      <td>-81.895305</td>\n      <td>24646 Brookpark Road, North Olmsted</td>\n      <td>ChIJT4Q4LhKTMIgRpAlVNf8lJH4</td>\n      <td>Cuyahoga County</td>\n    </tr>\n    <tr>\n      <th>6</th>\n      <td>Target</td>\n      <td>41.120956</td>\n      <td>-81.477382</td>\n      <td>449 Howe Avenue, Cuyahoga Falls</td>\n      <td>ChIJ4yprBHwoMYgRH8i8pVsr_wg</td>\n      <td>Summit County</td>\n    </tr>\n    <tr>\n      <th>7</th>\n      <td>Target</td>\n      <td>41.154719</td>\n      <td>-81.865421</td>\n      <td>1015 North Court Street, Medina</td>\n      <td>ChIJOUuy6P_HMIgRYcZIcFuhhgw</td>\n      <td>Medina Township</td>\n    </tr>\n    <tr>\n      <th>8</th>\n      <td>Target</td>\n      <td>41.457885</td>\n      <td>-81.689153</td>\n      <td>3535 Steelyard Drive, Cleveland</td>\n      <td>ChIJ09oCUVXlMIgRXYckH7ezqQ4</td>\n      <td>Cleveland</td>\n    </tr>\n    <tr>\n      <th>9</th>\n      <td>Target</td>\n      <td>40.862154</td>\n      <td>-81.431448</td>\n      <td>5584 Dressler Road Northwest, North Canton</td>\n      <td>ChIJpUSYPsrWNogRlNVcCp9WPLs</td>\n      <td>Jackson Township</td>\n    </tr>\n    <tr>\n      <th>10</th>\n      <td>Target</td>\n      <td>41.128045</td>\n      <td>-81.605230</td>\n      <td>2801 West Market Street, Fairlawn</td>\n      <td>ChIJGTnBXK3QMIgRDgULwwfSHv8</td>\n      <td>Summit County</td>\n    </tr>\n    <tr>\n      <th>11</th>\n      <td>Target</td>\n      <td>40.983936</td>\n      <td>-81.495815</td>\n      <td>762 Arlington Ridge, Akron</td>\n      <td>ChIJs7bpDL8qMYgRm6Akf2ZDq08</td>\n      <td>Summit County</td>\n    </tr>\n  </tbody>\n</table>\n</div>",
      "text/plain": "   Store Name   Latitude  Longitude  \\\n0      Target  41.500618 -81.532870   \n1      Target  41.629108 -81.429947   \n2      Target  41.686247 -81.293935   \n3      Target  41.357077 -81.386341   \n4      Target  41.040409 -81.690730   \n5      Target  41.420226 -81.895305   \n6      Target  41.120956 -81.477382   \n7      Target  41.154719 -81.865421   \n8      Target  41.457885 -81.689153   \n9      Target  40.862154 -81.431448   \n10     Target  41.128045 -81.605230   \n11     Target  40.983936 -81.495815   \n\n                                       Address                     Place ID  \\\n0         14070 Cedar Road, University Heights  ChIJBd2B1Jb9MIgRfoiS2LTn0Pk   \n1              36195 Euclid Avenue, Willoughby  ChIJ5YCtyCeqMYgRElkRfXKSwvE   \n2                   9669 Mentor Avenue, Mentor  ChIJ78P5ssylMYgRVLQVU0q2y-M   \n3       18855 North Market Place Drive, Aurora  ChIJl6BDSn4ZMYgRPNXlac3OTSY   \n4   1183 Williams Reserve Boulevard, Wadsworth  ChIJGafGRHXSMIgRtYwHHTMayXo   \n5          24646 Brookpark Road, North Olmsted  ChIJT4Q4LhKTMIgRpAlVNf8lJH4   \n6              449 Howe Avenue, Cuyahoga Falls  ChIJ4yprBHwoMYgRH8i8pVsr_wg   \n7              1015 North Court Street, Medina  ChIJOUuy6P_HMIgRYcZIcFuhhgw   \n8              3535 Steelyard Drive, Cleveland  ChIJ09oCUVXlMIgRXYckH7ezqQ4   \n9   5584 Dressler Road Northwest, North Canton  ChIJpUSYPsrWNogRlNVcCp9WPLs   \n10           2801 West Market Street, Fairlawn  ChIJGTnBXK3QMIgRDgULwwfSHv8   \n11                  762 Arlington Ridge, Akron  ChIJs7bpDL8qMYgRm6Akf2ZDq08   \n\n                 County  \n0       Cuyahoga County  \n1            Willoughby  \n2           Lake County  \n3   Bainbridge Township  \n4         Medina County  \n5       Cuyahoga County  \n6         Summit County  \n7       Medina Township  \n8             Cleveland  \n9      Jackson Township  \n10        Summit County  \n11        Summit County  "
     },
     "execution_count": 17,
     "metadata": {},
     "output_type": "execute_result"
    }
   ],
   "source": [
    "county_url = f\"https://maps.googleapis.com/maps/api/place/details/json?key={g_key}&place_id=\"\n",
    "county = []\n",
    "\n",
    "#Test to find the right field\n",
    "    #p_id = \"ChIJrwEsWXIgMYgRnko93meT4s0\"\n",
    "    #response = requests.get(county_url+p_id).json()\n",
    "    #pprint(response['result']['address_components'][3]['long_name'])\n",
    "\n",
    "#Use place details API to get the county name from the place ID for Target Stores\n",
    "for x in target_df['Place ID']:\n",
    "    response = requests.get(county_url+x).json()\n",
    "    county.append(response['result']['address_components'][3]['long_name'])\n",
    "\n",
    "target_df[\"County\"] = county\n",
    "target_df"
   ]
  },
  {
   "cell_type": "code",
   "execution_count": 18,
   "metadata": {},
   "outputs": [
    {
     "name": "stdout",
     "output_type": "stream",
     "text": "Index(['Store Name', 'Lat', 'Lng', 'Address', 'Place ID', 'County'], dtype='object')\nIndex(['Store Name', 'Lat', 'Lng', 'Address', 'Place ID', 'County'], dtype='object')\nIndex(['Store Name', 'Lat', 'Lng', 'Address', 'Place ID', 'County'], dtype='object')\n"
    }
   ],
   "source": [
    "club_df = club_df.rename(columns = {\"Name\":\"Store Name\"})\n",
    "target_df = target_df.rename(columns = {\"Latitude\":\"Lat\",\"Longitude\":\"Lng\"})\n",
    "store_df = store_df.rename(columns = {\"Name\":\"Store Name\"})\n",
    "print(club_df.columns)\n",
    "print(target_df.columns)\n",
    "print(store_df.columns)"
   ]
  },
  {
   "cell_type": "code",
   "execution_count": 19,
   "metadata": {},
   "outputs": [
    {
     "name": "stdout",
     "output_type": "stream",
     "text": "Store Name        Lat        Lng  \\\n0              Costco Wholesale  41.265324 -81.507401   \n1              Costco Wholesale  41.316908 -81.815903   \n2              Costco Wholesale  41.460533 -82.011002   \n3              Costco Wholesale  41.523955 -81.446610   \n4                    Sam's Club  40.878174 -81.437164   \n..                          ...        ...        ...   \n246  Heinen's, Inc. - Warehouse  41.427141 -81.535691   \n247            Heinen's grocery  41.399263 -81.334441   \n248      Heinen's Grocery Store  41.588116 -81.218803   \n249      Heinen's Grocery Store  41.606722 -81.442266   \n250      Heinen's Grocery Store  41.672847 -81.323319   \n\n                              Address                     Place ID  \\\n0            6720 Bass Pro Dr, Hudson  ChIJrwEsWXIgMYgRnko93meT4s0   \n1     16690 Royalton Rd, Strongsville  ChIJNa2MJXnqMIgRmZ164eouXjE   \n2              35804 Detroit Rd, Avon  ChIJSZghHbmRMIgRfCrrH_q0OJI   \n3    1409 Golden Gate Blvd, Cleveland  ChIJz_ruA18BMYgRY7HfgmroTWg   \n4          4790 Portage St NW, Canton  ChIJ2Yr2wKjWNogRjGilwuTNZyU   \n..                                ...                          ...   \n246          20601 Aurora Rd, Oakwood  ChIJBZRnrJDiMIgRKE25n_-tAUM   \n247                        Bainbridge  ChIJNzAZpH4RMYgR59YHZlk6Z8g   \n248            402 Center St, Chardon  ChIJ1QMvToOgMYgRsd-40CDvvWA   \n249        34501 Ridge Rd, Willoughby  ChIJz34dxQ6qMYgRad3XD53J_KA   \n250           8850 Mentor Ave, Mentor  ChIJMeVS0uOlMYgRJ6pIM5WtpH8   \n\n              County  \n0      Summit County  \n1    Cuyahoga County  \n2      Lorain County  \n3    Cuyahoga County  \n4    Mahoning County  \n..               ...  \n246  Cuyahoga County  \n247             Ohio  \n248    Geauga County  \n249       Willoughby  \n250      Lake County  \n\n[280 rows x 6 columns]\n"
    }
   ],
   "source": [
    "#Merge after all the names are consistent\n",
    "total_store = club_df.append(target_df)\n",
    "total_store = total_store.append(store_df)\n",
    "print(total_store)"
   ]
  },
  {
   "cell_type": "code",
   "execution_count": 7,
   "metadata": {},
   "outputs": [
    {
     "data": {
      "text/plain": "Cuyahoga County               60\nSummit County                 29\nCleveland                     18\nLake County                   15\nAkron                         14\nPortage County                12\nStark County                  12\nGeauga County                 11\nMedina County                  8\nAustintown Township            7\nBoardman Township              7\nBainbridge Township            6\nTrumbull County                5\nHowland Township               4\nLorain County                  4\nUnited States                  4\nJackson Township               4\nPerry Township                 4\nMedina Township                3\nPainesville Township           3\nCuyahoga Falls                 3\nYoungstown                     3\nSpringfield Township           3\nLake Township                  3\nLiberty Township               3\nMadison Township               3\nBazetta Township               2\nMahoning County                2\nOhio                           2\nAshtabula Township             2\nWilloughby                     2\nMontville Township             1\nFairfield Township             1\nSagamore Hills Township        1\nNorthfield Center Township     1\nPlain Township                 1\nSalem Township                 1\nRichfield Township             1\nRootstown Township             1\nBrookfield Township            1\nBrimfield Township             1\nMiddleton Township             1\nCleveland Heights              1\nWeathersfield Township         1\nPoland Township                1\nChester Township               1\nRavenna Township               1\nWarren                         1\nHubbard Township               1\nCenter Township                1\nCanfield Township              1\nAlliance                       1\nMercer County                  1\nName: County, dtype: int64"
     },
     "execution_count": 7,
     "metadata": {},
     "output_type": "execute_result"
    }
   ],
   "source": [
    "tot_store = pd.read_csv('total_store_data.csv',encoding=\"utf-8\")\n",
    "tot_store[\"County\"].value_counts()"
   ]
  },
  {
   "cell_type": "code",
   "execution_count": 8,
   "metadata": {},
   "outputs": [
    {
     "data": {
      "text/plain": "Cuyahoga County      79\nSummit County        52\nLake County          26\nMahoning County      21\nGeauga County        18\nStark County         18\nPortage County       15\nTrumbull County      13\nMedina County        12\nColumbiana County     8\nAshtabula County      7\nLorain County         4\nUnited States         4\nOhio                  2\nMercer County         1\nName: County, dtype: int64"
     },
     "execution_count": 8,
     "metadata": {},
     "output_type": "execute_result"
    }
   ],
   "source": [
    "\n",
    "#Using county data, replace the townships and cities with counties\n",
    "tot_store = tot_store.replace({\"Cleveland\":\"Cuyahoga County\",\"Akron\":\"Summit County\",\"Boardman Township\":\"Mahoning County\",\"Austintown Township\":\"Mahoning County\",\"Bainbridge Township\":\"Geauga County\",\"Trumbull County\":\"Ashtabula County\",\"Howland Township\":\"Trumbull County\",\"Jackson Township\":\"Stark County\",\"Perry Township\":\"Columbiana County\",\"Youngstown\":\"Mahoning County\",\"Liberty Township\":\"Trumbull County\",\"Cuyahoga Falls\":\"Summit County\",\"Painesville Township\":\"Lake County\",\"Stark Township\":\"Lake County\",\"Madison Township\":\"Lake County\",\"Medina Township\":\"Medina County\",\"Springfield Township\":\"Summit County\",\"Ashtabula Township\":\"Ashtabula County\",\"Willoughby\": \"Lake County\",\"Bazetta Township\":\"Trumbull County\",\"Center Township\":\"Columbiana County\",\"Cleveland Heights\":\"Cuyahoga County\",\"Salem Township\":\"Columbiana County\",\"Middleton Township\":\"Columbiana County\",\"Chester Township\":\"Geauga County\",\"Hubbard Township\":\"Trumbull County\",\"Weathersfield Township\":\"Trumbull County\",\"Brookfield Township\":\"Trumbull County\",\"Sagamore Hills Township\":\"Summit County\",\"Canfield Township\":\"Mahoning County\",\"Montville Township\":\"Medina County\",\"Rootstown Township\":\"Portage County\",\"Ravenna Township\":\"Portage County\",\"Brimfield Township\":\"Portage County\",\"Warren\":\"Trumbull County\",\"Richfield Township\":\"Summit County\",\"Poland Township\":\"Mahoning County\",\"Alliance\":\"Stark County\",\"Northfield Center Township\":\"Summit County\",\"Plain Township\":\"Stark County\",\"Fairfield Township\":\"Columbiana County\",\"Lake Township\":\"Lake County\"})\n",
    "tot_store[\"County\"].value_counts()"
   ]
  },
  {
   "cell_type": "code",
   "execution_count": 9,
   "metadata": {},
   "outputs": [
    {
     "data": {
      "text/html": "<div>\n<style scoped>\n    .dataframe tbody tr th:only-of-type {\n        vertical-align: middle;\n    }\n\n    .dataframe tbody tr th {\n        vertical-align: top;\n    }\n\n    .dataframe thead th {\n        text-align: right;\n    }\n</style>\n<table border=\"1\" class=\"dataframe\">\n  <thead>\n    <tr style=\"text-align: right;\">\n      <th></th>\n      <th>Store Name</th>\n      <th>Lat</th>\n      <th>Lng</th>\n      <th>Address</th>\n      <th>Place ID</th>\n      <th>County</th>\n    </tr>\n  </thead>\n  <tbody>\n    <tr>\n      <th>77</th>\n      <td>Giant Eagle Deli</td>\n      <td>41.117359</td>\n      <td>-81.483334</td>\n      <td>Summit County</td>\n      <td>ChIJFbSXDHAoMYgR7o3Pn0zy2FY</td>\n      <td>United States</td>\n    </tr>\n    <tr>\n      <th>112</th>\n      <td>Giant Eagle Deli</td>\n      <td>40.836867</td>\n      <td>-81.260924</td>\n      <td>Louisville</td>\n      <td>ChIJSZsXV9DONogR4H6yuYVO-qc</td>\n      <td>United States</td>\n    </tr>\n    <tr>\n      <th>182</th>\n      <td>Marc's Stores</td>\n      <td>41.525084</td>\n      <td>-81.437580</td>\n      <td>6695 Eastgate Drive Eastgate Shopping Plaza, M...</td>\n      <td>ChIJG7-43DYBMYgRL4uHqs9Tn8M</td>\n      <td>United States</td>\n    </tr>\n    <tr>\n      <th>253</th>\n      <td>Dave's Markets Severance</td>\n      <td>41.517500</td>\n      <td>-81.553056</td>\n      <td>3628 Mayfield Road Severance Town Center, Clev...</td>\n      <td>ChIJ38N3vg79MIgRS2iEG6qEzXQ</td>\n      <td>United States</td>\n    </tr>\n    <tr>\n      <th>271</th>\n      <td>Heinen's Grocery Store</td>\n      <td>41.537752</td>\n      <td>-81.440157</td>\n      <td>860 Som Center Road, Mayfield, Village, Mayfie...</td>\n      <td>ChIJdacIPkYBMYgRCczjbsaO5Uk</td>\n      <td>Ohio</td>\n    </tr>\n    <tr>\n      <th>276</th>\n      <td>Heinen's grocery</td>\n      <td>41.399263</td>\n      <td>-81.334441</td>\n      <td>Bainbridge</td>\n      <td>ChIJNzAZpH4RMYgR59YHZlk6Z8g</td>\n      <td>Ohio</td>\n    </tr>\n  </tbody>\n</table>\n</div>",
      "text/plain": "                   Store Name        Lat        Lng  \\\n77           Giant Eagle Deli  41.117359 -81.483334   \n112          Giant Eagle Deli  40.836867 -81.260924   \n182             Marc's Stores  41.525084 -81.437580   \n253  Dave's Markets Severance  41.517500 -81.553056   \n271    Heinen's Grocery Store  41.537752 -81.440157   \n276          Heinen's grocery  41.399263 -81.334441   \n\n                                               Address  \\\n77                                       Summit County   \n112                                         Louisville   \n182  6695 Eastgate Drive Eastgate Shopping Plaza, M...   \n253  3628 Mayfield Road Severance Town Center, Clev...   \n271  860 Som Center Road, Mayfield, Village, Mayfie...   \n276                                         Bainbridge   \n\n                        Place ID         County  \n77   ChIJFbSXDHAoMYgR7o3Pn0zy2FY  United States  \n112  ChIJSZsXV9DONogR4H6yuYVO-qc  United States  \n182  ChIJG7-43DYBMYgRL4uHqs9Tn8M  United States  \n253  ChIJ38N3vg79MIgRS2iEG6qEzXQ  United States  \n271  ChIJdacIPkYBMYgRCczjbsaO5Uk           Ohio  \n276  ChIJNzAZpH4RMYgR59YHZlk6Z8g           Ohio  "
     },
     "execution_count": 9,
     "metadata": {},
     "output_type": "execute_result"
    }
   ],
   "source": [
    "#Look at the rows with United States and Ohio as counties to find where they should go\n",
    "tot_store.loc[(tot_store['County'] == \"United States\") | (tot_store['County'] == \"Ohio\")]"
   ]
  },
  {
   "cell_type": "code",
   "execution_count": 10,
   "metadata": {},
   "outputs": [
    {
     "data": {
      "text/plain": "Cuyahoga County      83\nSummit County        53\nLake County          26\nMahoning County      21\nStark County         19\nGeauga County        18\nPortage County       15\nTrumbull County      13\nMedina County        12\nColumbiana County     8\nAshtabula County      7\nLorain County         4\nMercer County         1\nName: County, dtype: int64"
     },
     "execution_count": 10,
     "metadata": {},
     "output_type": "execute_result"
    }
   ],
   "source": [
    "#Search for coordinates on google maps to find the county\n",
    "#41.117359\t-81.483334 - Summity County\n",
    "#40.836867\t-81.260924 - Stark County\n",
    "#41.525084\t-81.437580 - Cuyahoga County\n",
    "#41.517500\t-81.553056 - Cuyahoga County\n",
    "#41.537752\t-81.440157 - Cuyahoga County\n",
    "#41.399263\t-81.334441 - Cuyahoga County\n",
    "tot_store['County'][77]= \"Summit County\"\n",
    "tot_store['County'][112]= \"Stark County\"\n",
    "tot_store['County'][182]= \"Cuyahoga County\"\n",
    "tot_store['County'][253]= \"Cuyahoga County\"\n",
    "tot_store['County'][271]= \"Cuyahoga County\"\n",
    "tot_store['County'][276]= \"Cuyahoga County\"\n",
    "\n",
    "tot_store['County'].value_counts()"
   ]
  },
  {
   "cell_type": "code",
   "execution_count": 13,
   "metadata": {},
   "outputs": [
    {
     "data": {
      "text/plain": "Cuyahoga County      83\nSummit County        53\nLake County          26\nMahoning County      21\nStark County         19\nGeauga County        18\nPortage County       15\nTrumbull County      13\nMedina County        12\nColumbiana County     8\nAshtabula County      7\nLorain County         4\nName: County, dtype: int64"
     },
     "execution_count": 13,
     "metadata": {},
     "output_type": "execute_result"
    }
   ],
   "source": [
    "#Get rid of the data from Mercer County, which is located in PA\n",
    "tot_store = tot_store.loc[tot_store[\"County\"] != \"Mercer County\"]\n",
    "tot_store['County'].value_counts()"
   ]
  },
  {
   "cell_type": "code",
   "execution_count": 14,
   "metadata": {},
   "outputs": [],
   "source": [
    "#Export to CSV\n",
    "tot_store.to_csv('total_store_fixed_counties.csv',header = True,index=False)"
   ]
  },
  {
   "cell_type": "code",
   "execution_count": null,
   "metadata": {},
   "outputs": [],
   "source": []
  }
 ]
}