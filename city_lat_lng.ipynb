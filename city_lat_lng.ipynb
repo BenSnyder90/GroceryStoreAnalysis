{
 "cells": [
  {
   "cell_type": "code",
   "execution_count": 47,
   "metadata": {},
   "outputs": [],
   "source": [
    "import pandas as pd\n",
    "import math\n",
    "import requests\n",
    "\n",
    "#Set range of coordinates to be used for identifying grocery store deserts\n",
    "#Conneaut is farthest town in NE corner of study area\n",
    "lat_max = 41.9347467\n",
    "lng_max = -80.6093363\n",
    "\n",
    "#Wellington is farthest town West in study area\n",
    "lng_min = -82.2686973\n",
    "\n",
    "#Brewster is farthes town South in study area\n",
    "lat_min = 40.7142421\n",
    "\n",
    "#Set number of degrees to iterate in for loop to degree equivalent to 5 miles (https://www.usna.edu/Users/oceano/pguth/md_help/html/approx_equivalents.htm)\n",
    "iter_degrees = 0.0072072"
   ]
  },
  {
   "cell_type": "code",
   "execution_count": 60,
   "metadata": {},
   "outputs": [
    {
     "name": "stdout",
     "output_type": "stream",
     "text": [
      "0     -82.268697\n",
      "1     -82.261490\n",
      "2     -82.254283\n",
      "3     -82.247076\n",
      "4     -82.239869\n",
      "         ...    \n",
      "225   -80.647077\n",
      "226   -80.639870\n",
      "227   -80.632663\n",
      "228   -80.625456\n",
      "229   -80.618249\n",
      "Length: 230, dtype: float64\n"
     ]
    }
   ],
   "source": [
    "# Create array and set initial value\n",
    "lng_pts = []\n",
    "lng = lng_min\n",
    "\n",
    "# Determine how many longitude points are needed\n",
    "lng_len = round((abs(lng_min) - abs(lng_max))/iter_degrees,0)\n",
    "lng_len = abs(int(lng_len))\n",
    "\n",
    "#Create for loop to create longitude points spaced 5 mi apart in defined area\n",
    "for x in range(lng_len):\n",
    "    if lng < lng_max:\n",
    "        lng_pts.append(lng)\n",
    "        #print(f\"lng of {lng} appended\")\n",
    "        lng = lng + iter_degrees\n",
    "        #print(f\"lng={lng},x={x}\")\n",
    "              \n",
    "    else:\n",
    "        lng_pts.append(lng_max)\n",
    "        print(\"Appended lng_max\")\n",
    "        print(f\"lng={lng}\")\n",
    "        \n",
    "#print(lng_pts[200:230])\n",
    "\n",
    "lng_series = pd.Series(lng_pts)\n",
    "print(lng_series)"
   ]
  },
  {
   "cell_type": "code",
   "execution_count": 59,
   "metadata": {},
   "outputs": [
    {
     "name": "stdout",
     "output_type": "stream",
     "text": [
      "0      40.714242\n",
      "1      40.721449\n",
      "2      40.728657\n",
      "3      40.735864\n",
      "4      40.743071\n",
      "         ...    \n",
      "164    41.896223\n",
      "165    41.903430\n",
      "166    41.910637\n",
      "167    41.917845\n",
      "168    41.925052\n",
      "Length: 169, dtype: float64\n"
     ]
    }
   ],
   "source": [
    "# Create array and set initial value\n",
    "lat_pts = []\n",
    "lat = lat_min\n",
    "\n",
    "# Determine how many latitude points are needed\n",
    "lat_len = round(((lat_max - lat_min)/iter_degrees),0)\n",
    "lat_len = abs(int(lat_len))\n",
    "\n",
    "#Create for loop to create latitude points spaced 10 mi apart in defined area\n",
    "for y in range(lat_len):\n",
    "    if lat < lat_max:\n",
    "        lat_pts.append(lat)\n",
    "        lat = lat + iter_degrees\n",
    "              \n",
    "    else:\n",
    "        lat_pts.append(lat_max)\n",
    "        print(\"Appended lat_max\")\n",
    "        \n",
    "print(lat_pts[160:169])"
   ]
  },
  {
   "cell_type": "code",
   "execution_count": 70,
   "metadata": {},
   "outputs": [],
   "source": [
    "# Convert lists into Pandas series to export\n",
    "lat_series = pd.Series(lat_pts)\n",
    "lng_series = pd.Series(lng_pts)\n",
    "\n",
    "# Send data to csv files\n",
    "lat_series.to_csv(\"city_lat_pts.csv\",encoding=\"utf-8\",index=False)\n",
    "lng_series.to_csv(\"city_lng_pts.csv\",encoding=\"utf-8\",index=False)"
   ]
  },
  {
   "cell_type": "code",
   "execution_count": null,
   "metadata": {},
   "outputs": [],
   "source": []
  }
 ],
 "metadata": {
  "file_extension": ".py",
  "kernelspec": {
   "display_name": "Python [conda env:PythonData]",
   "language": "python",
   "name": "conda-env-PythonData-py"
  },
  "language_info": {
   "codemirror_mode": {
    "name": "ipython",
    "version": 3
   },
   "file_extension": ".py",
   "mimetype": "text/x-python",
   "name": "python",
   "nbconvert_exporter": "python",
   "pygments_lexer": "ipython3",
   "version": "3.6.10"
  },
  "mimetype": "text/x-python",
  "name": "python",
  "npconvert_exporter": "python",
  "pygments_lexer": "ipython3",
  "version": 3
 },
 "nbformat": 4,
 "nbformat_minor": 2
}
