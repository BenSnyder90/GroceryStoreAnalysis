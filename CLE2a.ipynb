{
 "nbformat": 4,
 "nbformat_minor": 2,
 "metadata": {
  "language_info": {
   "name": "python",
   "codemirror_mode": {
    "name": "ipython",
    "version": 3
   },
   "version": "3.7.4-final"
  },
  "orig_nbformat": 2,
  "file_extension": ".py",
  "mimetype": "text/x-python",
  "name": "python",
  "npconvert_exporter": "python",
  "pygments_lexer": "ipython3",
  "version": 3,
  "kernelspec": {
   "name": "python37464bitarizvirtualenvc56c4a27cf5e4dfe8e78b552f27c4a0e",
   "display_name": "Python 3.7.4 64-bit ('a-riz': virtualenv)"
  }
 },
 "cells": [
  {
   "cell_type": "code",
   "execution_count": 27,
   "metadata": {},
   "outputs": [],
   "source": [
    "import requests\n",
    "import json\n",
    "import gmaps\n",
    "from pprint import pprint\n",
    "import pandas as pd"
   ]
  },
  {
   "cell_type": "code",
   "execution_count": 28,
   "metadata": {},
   "outputs": [],
   "source": [
    "g_key = ''"
   ]
  },
  {
   "cell_type": "code",
   "execution_count": 29,
   "metadata": {},
   "outputs": [
    {
     "name": "stdout",
     "output_type": "stream",
     "text": "Adding Index Walmart Supercenter from circle two for Walmart to the list...\nAdding Index Walmart from circle two for Walmart to the list...\nAdding Index Walmart Supercenter from circle two for Walmart to the list...\nAdding Index Walmart Supercenter from circle two for Walmart to the list...\nAdding Index Walmart Supercenter from circle two for Walmart to the list...\nAdding Index Walmart from circle two for Walmart to the list...\nAdding Index Walmart Supercenter from circle two for Walmart to the list...\nAdding Index Walmart Supercenter from circle two for Walmart to the list...\nAdding Index Walmart Money Center from circle two for Walmart to the list...\nAdding Index Walmart Connection Center from circle two for Walmart to the list...\nAdding Index Walmart Pharmacy from circle two for Walmart to the list...\nAdding Index Walmart Photo Center from circle two for Walmart to the list...\nAdding Index Walmart Pharmacy from circle two for Walmart to the list...\nAdding Index Walmart Photo Center from circle two for Walmart to the list...\nAdding Index Walmart Pharmacy from circle two for Walmart to the list...\nAdding Index Walmart Pharmacy from circle two for Walmart to the list...\nAdding Index Walmart Photo Center from circle two for Walmart to the list...\nAdding Index Walmart Money Center from circle two for Walmart to the list...\nAdding Index Walmart Photo Center from circle two for Walmart to the list...\nAdding Index Walmart Vision & Glasses from circle two for Walmart to the list...\n"
    }
   ],
   "source": [
    "\n",
    "target_type = \"grocery_or_supermarket\"\n",
    "\n",
    "radius = 32186\n",
    "search_wm = \"Walmart in Ohio\"\n",
    "search_ge = \"Giant Eagle in Ohio\"\n",
    "search_al = \"Aldi's in Ohio\"\n",
    "search_wf = \"Whole Foods Market in Ohio\"\n",
    "search_mr = \"Marc's in Ohio\"\n",
    "search_sa = \"Save A Lot in Ohio\"\n",
    "search_da = \"Dave's Super Market in Ohio\"\n",
    "search_hn = \"Heinen's in Ohio\"\n",
    "\n",
    "#circle_one = \"41.135466,-81.652035\"\n",
    "circle_two = \"41.625126,-81.062346\"\n",
    "#circle_three = \"41.037209,-80.888368\"\n",
    "\n",
    "wm_keyword = \"Walmart\"\n",
    "ge_keyword = \"Giant Eagle\"\n",
    "al_keyword = \"Aldi's\"\n",
    "wf_keyword = \"Whole Foods Market\"\n",
    "mr_keyword = \"Marc's\"\n",
    "sa_keyword = \"Save A Lot\"\n",
    "da_keyword = \"Dave's Super Market\"\n",
    "hn_keyword = \"Heinen's\"\n",
    "\n",
    "lat = []\n",
    "lng = []\n",
    "name = []\n",
    "address = []\n",
    "price_level = []\n",
    "\n",
    "params = {\n",
    "    \"location\" : circle_two,\n",
    "    \"radius\": radius,\n",
    "    \"key\" : g_key,\n",
    "    \"keyword\" : wm_keyword\n",
    "}\n",
    "\n",
    "url = \"https://maps.googleapis.com/maps/api/place/nearbysearch/json\"\n",
    "\n",
    "response = requests.get(url,params)\n",
    "walmart_two = response.json()\n",
    "for index in walmart_two['results']:\n",
    "    print(f\"Adding Index {index['name']} from circle two for Walmart to the list...\")\n",
    "    name.append(index['name'])\n",
    "    lat.append(index['geometry']['location']['lat'])\n",
    "    lng.append(index['geometry']['location']['lng'])\n",
    "    address.append(index['vicinity'])\n",
    "   \n",
    "   "
   ]
  },
  {
   "cell_type": "code",
   "execution_count": 30,
   "metadata": {},
   "outputs": [
    {
     "name": "stdout",
     "output_type": "stream",
     "text": "Adding Index Giant Eagle Supermarket        from circle two for Giant Eagle to the      list...\nAdding Index Giant Eagle Supermarket        from circle two for Giant Eagle to the      list...\nAdding Index Giant Eagle Supermarket        from circle two for Giant Eagle to the      list...\nAdding Index Giant Eagle Supermarket        from circle two for Giant Eagle to the      list...\nAdding Index Giant Eagle Supermarket        from circle two for Giant Eagle to the      list...\nAdding Index Giant Eagle Supermarket        from circle two for Giant Eagle to the      list...\nAdding Index Giant Eagle Supermarket        from circle two for Giant Eagle to the      list...\nAdding Index Giant Eagle Supermarket        from circle two for Giant Eagle to the      list...\nAdding Index Giant Eagle Deli        from circle two for Giant Eagle to the      list...\nAdding Index Giant Eagle        from circle two for Giant Eagle to the      list...\nAdding Index Giant Eagle Supermarket        from circle two for Giant Eagle to the      list...\nAdding Index Giant Eagle Supermarket        from circle two for Giant Eagle to the      list...\nAdding Index Giant Eagle Supermarket        from circle two for Giant Eagle to the      list...\nAdding Index Giant Eagle Pharmacy        from circle two for Giant Eagle to the      list...\nAdding Index Giant Eagle Bakery        from circle two for Giant Eagle to the      list...\nAdding Index Giant Eagle Deli        from circle two for Giant Eagle to the      list...\nAdding Index Giant Eagle Pharmacy        from circle two for Giant Eagle to the      list...\nAdding Index Giant Eagle Pharmacy        from circle two for Giant Eagle to the      list...\nAdding Index Giant Eagle Pharmacy        from circle two for Giant Eagle to the      list...\nAdding Index Giant Eagle Pharmacy        from circle two for Giant Eagle to the      list...\n"
    }
   ],
   "source": [
    "params = {\n",
    "    \"location\" : circle_two,\n",
    "    \"radius\": radius,\n",
    "    \"key\" : g_key,\n",
    "    \"keyword\" : ge_keyword\n",
    "}\n",
    "response = requests.get(url,params)\n",
    "gianteagle_two = response.json()\n",
    "for index in gianteagle_two['results']:\n",
    "    print(f\"Adding Index {index['name']}        from circle two for Giant Eagle to the      list...\")\n",
    "    name.append(index['name'])\n",
    "    lat.append(index['geometry']['location']['lat'])\n",
    "    lng.append(index['geometry']['location']['lng'])\n",
    "    address.append(index['vicinity'])"
   ]
  },
  {
   "cell_type": "code",
   "execution_count": 31,
   "metadata": {},
   "outputs": [
    {
     "name": "stdout",
     "output_type": "stream",
     "text": "Adding Index ALDI  from circle two for Aldi's to the list...\nAdding Index ALDI  from circle two for Aldi's to the list...\nAdding Index ALDI  from circle two for Aldi's to the list...\nAdding Index ALDI  from circle two for Aldi's to the list...\nAdding Index ALDI  from circle two for Aldi's to the list...\nAdding Index ALDI  from circle two for Aldi's to the list...\nAdding Index ALDI  from circle two for Aldi's to the list...\nAdding Index ALDI  from circle two for Aldi's to the list...\nAdding Index ALDI  from circle two for Aldi's to the list...\nAdding Index Aldi  from circle two for Aldi's to the list...\n"
    }
   ],
   "source": [
    "params = {\n",
    "    \"location\" : circle_two,\n",
    "    \"radius\": radius,\n",
    "    \"key\" : g_key,\n",
    "    \"keyword\" : al_keyword\n",
    "}\n",
    "\n",
    "response = requests.get(url,params)\n",
    "aldi_two = response.json()\n",
    "for index in aldi_two['results']:\n",
    "    print(f\"Adding Index {index['name']}  from circle two for Aldi's to the list...\")\n",
    "    name.append(index['name'])\n",
    "    lat.append(index['geometry']['location']['lat'])\n",
    "    lng.append(index['geometry']['location']['lng'])\n",
    "    address.append(index['vicinity'])"
   ]
  },
  {
   "cell_type": "code",
   "execution_count": 32,
   "metadata": {},
   "outputs": [],
   "source": [
    "params = {\n",
    "    \"location\" : circle_two,\n",
    "    \"radius\": radius,\n",
    "    \"key\" : g_key,\n",
    "    \"keyword\" : wf_keyword\n",
    "}\n",
    "\n",
    "\n",
    "response = requests.get(url,params)\n",
    "wf_two = response.json()\n",
    "for index in wf_two['results']:\n",
    "    print(f\"Adding Index {index['name']}  from circle two for Whole Foods Market to the list...\")\n",
    "    name.append(index['name'])\n",
    "    lat.append(index['geometry']['location']['lat'])\n",
    "    lng.append(index['geometry']['location']['lng'])\n",
    "    address.append(index['vicinity'])"
   ]
  },
  {
   "cell_type": "code",
   "execution_count": 33,
   "metadata": {},
   "outputs": [
    {
     "name": "stdout",
     "output_type": "stream",
     "text": "Adding Index Marc's Stores  from circle two for Marc's to the list...\nAdding Index Marc's Stores  from circle two for Marc's to the list...\nAdding Index Marc's Stores  from circle two for Marc's to the list...\nAdding Index Marc's Stores  from circle two for Marc's to the list...\nAdding Index Marc's Stores  from circle two for Marc's to the list...\nAdding Index Marc's Stores  from circle two for Marc's to the list...\nAdding Index Marc's Stores  from circle two for Marc's to the list...\nAdding Index Marc's Pharmacy  from circle two for Marc's to the list...\nAdding Index Marc's Pharmacy  from circle two for Marc's to the list...\nAdding Index Marc's Pharmacy  from circle two for Marc's to the list...\n"
    }
   ],
   "source": [
    "params = {\n",
    "    \"location\" : circle_two,\n",
    "    \"radius\": radius,\n",
    "    \"key\" : g_key,\n",
    "    \"keyword\" : mr_keyword\n",
    "}\n",
    "response = requests.get(url,params)\n",
    "mr_two = response.json()\n",
    "for index in mr_two['results']:\n",
    "    print(f\"Adding Index {index['name']}  from circle two for Marc's to the list...\")\n",
    "    name.append(index['name'])\n",
    "    lat.append(index['geometry']['location']['lat'])\n",
    "    lng.append(index['geometry']['location']['lng'])\n",
    "    address.append(index['vicinity'])"
   ]
  },
  {
   "cell_type": "code",
   "execution_count": 34,
   "metadata": {},
   "outputs": [
    {
     "name": "stdout",
     "output_type": "stream",
     "text": "Adding Index Save A Lot  from circle two for Save A Lot to the list...\nAdding Index Save A Lot  from circle two for Save A Lot to the list...\nAdding Index Save A Lot  from circle two for Save A Lot to the list...\nAdding Index Save A Lot  from circle two for Save A Lot to the list...\nAdding Index Save A Lot  from circle two for Save A Lot to the list...\nAdding Index Save-A-Lot Distribution Center  from circle two for Save A Lot to the list...\n"
    }
   ],
   "source": [
    "params = {\n",
    "    \"location\" : circle_two,\n",
    "    \"radius\": radius,\n",
    "    \"key\" : g_key,\n",
    "    \"keyword\" : sa_keyword\n",
    "}\n",
    "response = requests.get(url,params)\n",
    "sa_two = response.json()\n",
    "\n",
    "for index in sa_two['results']:\n",
    "    print(f\"Adding Index {index['name']}  from circle two for Save A Lot to the list...\")\n",
    "    name.append(index['name'])\n",
    "    lat.append(index['geometry']['location']['lat'])\n",
    "    lng.append(index['geometry']['location']['lng'])\n",
    "    address.append(index['vicinity'])"
   ]
  },
  {
   "cell_type": "code",
   "execution_count": 35,
   "metadata": {},
   "outputs": [],
   "source": [
    "params = {\n",
    "    \"location\" : circle_two,\n",
    "    \n",
    "    \"radius\": radius,\n",
    "    \"key\" : g_key,\n",
    "    \"keyword\" : da_keyword\n",
    "}\n",
    "response = requests.get(url,params)\n",
    "da_two = response.json()\n",
    "\n",
    "for index in da_two['results']:\n",
    "    print(f\"Adding Index {index['name']}  from circle two for Dave's Super Market to the list...\")\n",
    "    name.append(index['name'])\n",
    "    lat.append(index['geometry']['location']['lat'])\n",
    "    lng.append(index['geometry']['location']['lng'])\n",
    "    address.append(index['vicinity'])"
   ]
  },
  {
   "cell_type": "code",
   "execution_count": 36,
   "metadata": {},
   "outputs": [
    {
     "name": "stdout",
     "output_type": "stream",
     "text": "Adding Index Heinen's Grocery Store  from circle two for Heinen's to the list...\nAdding Index The Tasting Room Bistro at Heinen's of Chagrin Falls  from circle two for Heinen's to the list...\nAdding Index Heinen's Grocery Store  from circle two for Heinen's to the list...\nAdding Index Heinen's Grocery Store  from circle two for Heinen's to the list...\nAdding Index Heinen's Grocery Store  from circle two for Heinen's to the list...\nAdding Index Heinen's Grocery Store  from circle two for Heinen's to the list...\nAdding Index Heinen's Grocery Store  from circle two for Heinen's to the list...\n"
    }
   ],
   "source": [
    "params = {\n",
    "    \"location\" : circle_two,\n",
    "  \n",
    "    \"radius\": radius,\n",
    "    \"key\" : g_key,\n",
    "    \"keyword\" : hn_keyword\n",
    "}\n",
    "\n",
    "response = requests.get(url,params)\n",
    "hn_two = response.json()\n",
    "\n",
    "for index in hn_two['results']:\n",
    "    print(f\"Adding Index {index['name']}  from circle two for Heinen's to the list...\")\n",
    "    name.append(index['name'])\n",
    "    lat.append(index['geometry']['location']['lat'])\n",
    "    lng.append(index['geometry']['location']['lng'])\n",
    "    address.append(index['vicinity'])\n",
    "\n",
    "\n",
    "    df = pd.DataFrame(data = {\"Name\":name,\"Lat\":lat,\"Lng\":lng,\"Address\":address}) "
   ]
  },
  {
   "cell_type": "code",
   "execution_count": 37,
   "metadata": {},
   "outputs": [
    {
     "data": {
      "text/html": "<div>\n<style scoped>\n    .dataframe tbody tr th:only-of-type {\n        vertical-align: middle;\n    }\n\n    .dataframe tbody tr th {\n        vertical-align: top;\n    }\n\n    .dataframe thead th {\n        text-align: right;\n    }\n</style>\n<table border=\"1\" class=\"dataframe\">\n  <thead>\n    <tr style=\"text-align: right;\">\n      <th></th>\n      <th>Name</th>\n      <th>Lat</th>\n      <th>Lng</th>\n      <th>Address</th>\n    </tr>\n  </thead>\n  <tbody>\n    <tr>\n      <td>0</td>\n      <td>Walmart Supercenter</td>\n      <td>41.349361</td>\n      <td>-81.389644</td>\n      <td>7235 Market Pl Dr, Bainbridge Township</td>\n    </tr>\n    <tr>\n      <td>1</td>\n      <td>Walmart</td>\n      <td>41.518841</td>\n      <td>-81.440421</td>\n      <td>6594 Mayfield Rd, Mayfield Heights</td>\n    </tr>\n    <tr>\n      <td>2</td>\n      <td>Walmart Supercenter</td>\n      <td>41.586375</td>\n      <td>-81.225033</td>\n      <td>223 Meadowlands Dr, Chardon</td>\n    </tr>\n    <tr>\n      <td>3</td>\n      <td>Walmart Supercenter</td>\n      <td>41.640637</td>\n      <td>-81.446915</td>\n      <td>33752 Vine St, Willowick</td>\n    </tr>\n    <tr>\n      <td>4</td>\n      <td>Walmart Supercenter</td>\n      <td>41.458748</td>\n      <td>-81.085501</td>\n      <td>15050 S, Springdale Ave, Middlefield</td>\n    </tr>\n    <tr>\n      <td>...</td>\n      <td>...</td>\n      <td>...</td>\n      <td>...</td>\n      <td>...</td>\n    </tr>\n    <tr>\n      <td>68</td>\n      <td>Heinen's Grocery Store</td>\n      <td>41.413401</td>\n      <td>-81.338803</td>\n      <td>8482 E Washington St, Chagrin Falls</td>\n    </tr>\n    <tr>\n      <td>69</td>\n      <td>Heinen's Grocery Store</td>\n      <td>41.588116</td>\n      <td>-81.218803</td>\n      <td>402 Center St, Chardon</td>\n    </tr>\n    <tr>\n      <td>70</td>\n      <td>Heinen's Grocery Store</td>\n      <td>41.537752</td>\n      <td>-81.440157</td>\n      <td>860 Som Center Road, Mayfield, Village, Mayfie...</td>\n    </tr>\n    <tr>\n      <td>71</td>\n      <td>Heinen's Grocery Store</td>\n      <td>41.606722</td>\n      <td>-81.442266</td>\n      <td>34501 Ridge Rd, Willoughby</td>\n    </tr>\n    <tr>\n      <td>72</td>\n      <td>Heinen's Grocery Store</td>\n      <td>41.672846</td>\n      <td>-81.323319</td>\n      <td>8850 Mentor Ave, Mentor</td>\n    </tr>\n  </tbody>\n</table>\n<p>73 rows × 4 columns</p>\n</div>",
      "text/plain": "                      Name        Lat        Lng  \\\n0      Walmart Supercenter  41.349361 -81.389644   \n1                  Walmart  41.518841 -81.440421   \n2      Walmart Supercenter  41.586375 -81.225033   \n3      Walmart Supercenter  41.640637 -81.446915   \n4      Walmart Supercenter  41.458748 -81.085501   \n..                     ...        ...        ...   \n68  Heinen's Grocery Store  41.413401 -81.338803   \n69  Heinen's Grocery Store  41.588116 -81.218803   \n70  Heinen's Grocery Store  41.537752 -81.440157   \n71  Heinen's Grocery Store  41.606722 -81.442266   \n72  Heinen's Grocery Store  41.672846 -81.323319   \n\n                                              Address  \n0              7235 Market Pl Dr, Bainbridge Township  \n1                  6594 Mayfield Rd, Mayfield Heights  \n2                         223 Meadowlands Dr, Chardon  \n3                            33752 Vine St, Willowick  \n4                15050 S, Springdale Ave, Middlefield  \n..                                                ...  \n68                8482 E Washington St, Chagrin Falls  \n69                             402 Center St, Chardon  \n70  860 Som Center Road, Mayfield, Village, Mayfie...  \n71                         34501 Ridge Rd, Willoughby  \n72                            8850 Mentor Ave, Mentor  \n\n[73 rows x 4 columns]"
     },
     "execution_count": 37,
     "metadata": {},
     "output_type": "execute_result"
    }
   ],
   "source": [
    "df"
   ]
  },
  {
   "cell_type": "code",
   "execution_count": 38,
   "metadata": {},
   "outputs": [],
   "source": [
    "df = df.drop_duplicates(subset = \"Address\").reset_index(drop=True)\n",
    "#store_list = store_list.drop([10])\n",
    "df.to_csv(\"CLE2.csv\")"
   ]
  },
  {
   "cell_type": "code",
   "execution_count": null,
   "metadata": {},
   "outputs": [],
   "source": []
  }
 ]
}
