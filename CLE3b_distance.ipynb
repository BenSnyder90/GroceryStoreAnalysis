{
 "nbformat": 4,
 "nbformat_minor": 2,
 "metadata": {
  "language_info": {
   "name": "python",
   "codemirror_mode": {
    "name": "ipython",
    "version": 3
   },
   "version": "3.7.4-final"
  },
  "orig_nbformat": 2,
  "file_extension": ".py",
  "mimetype": "text/x-python",
  "name": "python",
  "npconvert_exporter": "python",
  "pygments_lexer": "ipython3",
  "version": 3,
  "kernelspec": {
   "name": "python37464bitarizvirtualenvc56c4a27cf5e4dfe8e78b552f27c4a0e",
   "display_name": "Python 3.7.4 64-bit ('a-riz': virtualenv)"
  }
 },
 "cells": [
  {
   "cell_type": "code",
   "execution_count": 3,
   "metadata": {},
   "outputs": [],
   "source": [
    "import pandas as pd\n",
    "import math\n",
    "import numpy as np"
   ]
  },
  {
   "cell_type": "code",
   "execution_count": 4,
   "metadata": {},
   "outputs": [],
   "source": [
    "file = 'C3.csv'"
   ]
  },
  {
   "cell_type": "code",
   "execution_count": 5,
   "metadata": {},
   "outputs": [
    {
     "data": {
      "text/html": "<div>\n<style scoped>\n    .dataframe tbody tr th:only-of-type {\n        vertical-align: middle;\n    }\n\n    .dataframe tbody tr th {\n        vertical-align: top;\n    }\n\n    .dataframe thead th {\n        text-align: right;\n    }\n</style>\n<table border=\"1\" class=\"dataframe\">\n  <thead>\n    <tr style=\"text-align: right;\">\n      <th></th>\n      <th>Unnamed: 0</th>\n      <th>Name</th>\n      <th>Lat</th>\n      <th>Lng</th>\n      <th>Address</th>\n    </tr>\n  </thead>\n  <tbody>\n    <tr>\n      <td>0</td>\n      <td>0</td>\n      <td>Walmart Supercenter</td>\n      <td>41.349360</td>\n      <td>-81.389644</td>\n      <td>7235 Market Pl Dr, Bainbridge Township</td>\n    </tr>\n    <tr>\n      <td>1</td>\n      <td>1</td>\n      <td>Walmart Supercenter</td>\n      <td>41.253213</td>\n      <td>-81.362409</td>\n      <td>905 Singletary Dr, Streetsboro</td>\n    </tr>\n    <tr>\n      <td>2</td>\n      <td>2</td>\n      <td>Walmart Supercenter</td>\n      <td>41.165890</td>\n      <td>-81.480013</td>\n      <td>3520 Hudson Dr, Stow</td>\n    </tr>\n    <tr>\n      <td>3</td>\n      <td>3</td>\n      <td>Walmart Supercenter</td>\n      <td>41.156854</td>\n      <td>-81.299629</td>\n      <td>2600 OH-59, Ravenna</td>\n    </tr>\n    <tr>\n      <td>4</td>\n      <td>4</td>\n      <td>Walmart Supercenter</td>\n      <td>41.098492</td>\n      <td>-81.384385</td>\n      <td>250 Tallmadge Rd, Kent</td>\n    </tr>\n  </tbody>\n</table>\n</div>",
      "text/plain": "   Unnamed: 0                 Name        Lat        Lng  \\\n0           0  Walmart Supercenter  41.349360 -81.389644   \n1           1  Walmart Supercenter  41.253213 -81.362409   \n2           2  Walmart Supercenter  41.165890 -81.480013   \n3           3  Walmart Supercenter  41.156854 -81.299629   \n4           4  Walmart Supercenter  41.098492 -81.384385   \n\n                                  Address  \n0  7235 Market Pl Dr, Bainbridge Township  \n1          905 Singletary Dr, Streetsboro  \n2                    3520 Hudson Dr, Stow  \n3                     2600 OH-59, Ravenna  \n4                  250 Tallmadge Rd, Kent  "
     },
     "execution_count": 5,
     "metadata": {},
     "output_type": "execute_result"
    }
   ],
   "source": [
    "cd = pd.read_csv(file)\n",
    "cd.head()"
   ]
  },
  {
   "cell_type": "code",
   "execution_count": 6,
   "metadata": {},
   "outputs": [],
   "source": [
    "south_cleveland_coordinates = \"41.037209,-80.888368\" #lat,long"
   ]
  },
  {
   "cell_type": "code",
   "execution_count": 7,
   "metadata": {},
   "outputs": [
    {
     "name": "stdout",
     "output_type": "stream",
     "text": "[54.44258193038196, 46.39476266724563, 51.59775122953848, 36.94091377534693, 42.137439433447405, 49.2892887769507, 27.398946581560473, 43.31561053403473, 28.1011090094461, 52.36880030466171, 11.70357412712399, 22.60478733599596, 16.349153811251046, 21.60786161185197, 43.44740435874212, 55.36150512141991, 44.411129174702836, 54.345199062569215, 45.4420159222498, 31.502639013393765, 30.532383994107825, 49.43269719817707, 45.101256315035876, 47.592860178568415, 49.24358930067609, 39.19041696608508, 44.14043325309141, 43.78937466919507, 45.09708816982911, 49.154931655467, 30.87628366946967, 39.77043791107085, 49.30831548015563, 49.446718361292625, 26.106143085797314, 28.134180237680475, 54.128156028274795, 22.902343315182158, 11.896761973787003, 24.358459293167147, 22.336078435791077, 43.54632244016427, 16.12845992155486, 21.24351706061487, 49.98187709130362, 48.49477316499333, 40.81319713650086, 50.22580358645337, 31.238967549022462, 44.91744043485916, 39.317302257537804, 46.03625281344831, 47.30527754830639, 50.43934956226571, 26.733834053424275, 54.154133547527564, 22.31048442326607, 14.046912045794762, 16.23099742188127, 21.813512694447258, 43.9633398582698, 51.53100126434094, 41.17530858018526, 48.82339942605858, 33.02135117493287, 46.15685702906855, 44.749181129342126, 27.61884261276883, 23.93407764516462, 22.66777192760509, 49.22659581924459, 22.822899268135085, 14.188152815071655, 51.31173488265415, 44.920572514076696, 43.66926435545316, 21.652862035378718, 20.71357655510539, 18.433292653276936, 46.36413894135596, 49.625028005661974, 51.675397086792856]\n"
    }
   ],
   "source": [
    "lat1 = 41.037209\n",
    "lon1 = -80.888368\n",
    "def dist_from_coordinates(lat1, lon1, lat2, lon2):\n",
    "  R = 6371  # Earth radius in km\n",
    " # lat1 = 41.625126\n",
    " # lon1 = -81.062346\n",
    "  #conversion to radians\n",
    "  d_lat = np.radians(lat2-lat1)\n",
    "  d_lon = np.radians(lon2-lon1)\n",
    "\n",
    "  r_lat1 = np.radians(lat1)\n",
    "  r_lat2 = np.radians(lat2)\n",
    "\n",
    "  #haversine formula\n",
    "  a = np.sin(d_lat/2.) **2 + np.cos(r_lat1) * np.cos(r_lat2) * np.sin(d_lon/2.)**2\n",
    "\n",
    "  haversine = 2 * R * np.arcsin(np.sqrt(a))\n",
    "\n",
    "  return haversine\n",
    "\n",
    "new_column = []                    #empty column for distance\n",
    "for index,row in cd.iterrows():\n",
    "  lat2 = row['Lat'] #first row of location.lat column here\n",
    "  lon2 = row['Lng'] #first row of location.long column here\n",
    "  #lat2 = row['lat2'] #second row of location.lat column here\n",
    "  #lon2 = row['lon2'] #second row of location.long column here\n",
    "  value = dist_from_coordinates(lat1, lon1, lat2, lon2)  #get the distance\n",
    "  new_column.append(value)   #append the empty list with distance values\n",
    "  #cd.insert(6,\"Distance\",new_column)\n",
    "print(new_column) "
   ]
  },
  {
   "cell_type": "code",
   "execution_count": 8,
   "metadata": {},
   "outputs": [
    {
     "name": "stdout",
     "output_type": "stream",
     "text": "[33.82904157666337, 28.828360073309085, 32.061346279249555, 22.954012533501096, 26.182982878200647, 30.626934656622634, 17.024910836330815, 26.915064233143696, 17.461214206308533, 32.540453814107956, 7.272261558945161, 14.045959311755146, 10.158890052850873, 13.426498577618071, 26.99695709379595, 34.400033798801815, 27.595787746414278, 33.7685306867077, 28.236350875624282, 19.574826306391497, 18.971937974802774, 30.716044490728482, 28.02461273773016, 29.572823122017233, 30.598538327350404, 24.351788580633254, 27.427585150906662, 27.20944752757241, 28.022022773174882, 30.543449037689186, 19.185627259982038, 24.712196775240006, 30.638757298219783, 30.72475683487476, 16.221600235364964, 17.481763708467756, 33.633666439445136, 14.230851968098053, 7.392302884414004, 15.135640209454564, 13.878991393725936, 27.058421920967312, 10.021757269916465, 13.200105439471322, 31.057288950100425, 30.13324569630507, 25.360137117904678, 31.208857800318114, 19.410988504903635, 27.91039488044887, 24.430631421068522, 28.605592446945188, 29.39412761546869, 31.34154907685461, 16.611629199610295, 33.64980811656075, 13.863088016569263, 8.728343784807537, 10.085471099031787, 13.554284196461387, 27.317544451072962, 32.019869786624795, 25.585142667778296, 30.337444524769445, 20.51851000091921, 28.680532409009352, 27.805843427520447, 17.16154785313878, 14.871941760453586, 14.085096110427903, 30.58797907079983, 14.181487741140366, 8.81610670285389, 31.88362401576969, 27.91234106364435, 27.134814461812287, 13.454460535785309, 12.870815777622392, 11.453913489259344, 28.809331378129293, 30.835553276906186, 32.10959316321756]\n"
    }
   ],
   "source": [
    "col = []\n",
    "for x in new_column:\n",
    "    a = x * 0.621371\n",
    "    col.append(a)\n",
    "print(col) "
   ]
  },
  {
   "cell_type": "code",
   "execution_count": 9,
   "metadata": {},
   "outputs": [
    {
     "data": {
      "text/html": "<div>\n<style scoped>\n    .dataframe tbody tr th:only-of-type {\n        vertical-align: middle;\n    }\n\n    .dataframe tbody tr th {\n        vertical-align: top;\n    }\n\n    .dataframe thead th {\n        text-align: right;\n    }\n</style>\n<table border=\"1\" class=\"dataframe\">\n  <thead>\n    <tr style=\"text-align: right;\">\n      <th></th>\n      <th>Distance</th>\n    </tr>\n  </thead>\n  <tbody>\n    <tr>\n      <td>0</td>\n      <td>33.829042</td>\n    </tr>\n    <tr>\n      <td>1</td>\n      <td>28.828360</td>\n    </tr>\n    <tr>\n      <td>2</td>\n      <td>32.061346</td>\n    </tr>\n    <tr>\n      <td>3</td>\n      <td>22.954013</td>\n    </tr>\n    <tr>\n      <td>4</td>\n      <td>26.182983</td>\n    </tr>\n  </tbody>\n</table>\n</div>",
      "text/plain": "    Distance\n0  33.829042\n1  28.828360\n2  32.061346\n3  22.954013\n4  26.182983"
     },
     "execution_count": 9,
     "metadata": {},
     "output_type": "execute_result"
    }
   ],
   "source": [
    "a = pd.DataFrame({'Distance':col})\n",
    "a.head()"
   ]
  },
  {
   "cell_type": "code",
   "execution_count": 10,
   "metadata": {},
   "outputs": [
    {
     "data": {
      "text/plain": "0     33.83\n1     28.83\n2     32.06\n3     22.95\n4     26.18\n      ...  \n77    12.87\n78    11.45\n79    28.81\n80    30.84\n81    32.11\nName: Distance, Length: 82, dtype: object"
     },
     "execution_count": 10,
     "metadata": {},
     "output_type": "execute_result"
    }
   ],
   "source": [
    "a['Distance'] = a['Distance'].map(\"{:,.2f}\".format)\n",
    "a['Distance']"
   ]
  },
  {
   "cell_type": "code",
   "execution_count": 11,
   "metadata": {},
   "outputs": [
    {
     "data": {
      "text/html": "<div>\n<style scoped>\n    .dataframe tbody tr th:only-of-type {\n        vertical-align: middle;\n    }\n\n    .dataframe tbody tr th {\n        vertical-align: top;\n    }\n\n    .dataframe thead th {\n        text-align: right;\n    }\n</style>\n<table border=\"1\" class=\"dataframe\">\n  <thead>\n    <tr style=\"text-align: right;\">\n      <th></th>\n      <th>Unnamed: 0</th>\n      <th>Name</th>\n      <th>Lat</th>\n      <th>Lng</th>\n      <th>Address</th>\n      <th>Distance</th>\n    </tr>\n  </thead>\n  <tbody>\n    <tr>\n      <td>0</td>\n      <td>0</td>\n      <td>Walmart Supercenter</td>\n      <td>41.349360</td>\n      <td>-81.389644</td>\n      <td>7235 Market Pl Dr, Bainbridge Township</td>\n      <td>33.83</td>\n    </tr>\n    <tr>\n      <td>1</td>\n      <td>1</td>\n      <td>Walmart Supercenter</td>\n      <td>41.253213</td>\n      <td>-81.362409</td>\n      <td>905 Singletary Dr, Streetsboro</td>\n      <td>28.83</td>\n    </tr>\n    <tr>\n      <td>2</td>\n      <td>2</td>\n      <td>Walmart Supercenter</td>\n      <td>41.165890</td>\n      <td>-81.480013</td>\n      <td>3520 Hudson Dr, Stow</td>\n      <td>32.06</td>\n    </tr>\n    <tr>\n      <td>3</td>\n      <td>3</td>\n      <td>Walmart Supercenter</td>\n      <td>41.156854</td>\n      <td>-81.299629</td>\n      <td>2600 OH-59, Ravenna</td>\n      <td>22.95</td>\n    </tr>\n    <tr>\n      <td>4</td>\n      <td>4</td>\n      <td>Walmart Supercenter</td>\n      <td>41.098492</td>\n      <td>-81.384385</td>\n      <td>250 Tallmadge Rd, Kent</td>\n      <td>26.18</td>\n    </tr>\n  </tbody>\n</table>\n</div>",
      "text/plain": "   Unnamed: 0                 Name        Lat        Lng  \\\n0           0  Walmart Supercenter  41.349360 -81.389644   \n1           1  Walmart Supercenter  41.253213 -81.362409   \n2           2  Walmart Supercenter  41.165890 -81.480013   \n3           3  Walmart Supercenter  41.156854 -81.299629   \n4           4  Walmart Supercenter  41.098492 -81.384385   \n\n                                  Address Distance  \n0  7235 Market Pl Dr, Bainbridge Township    33.83  \n1          905 Singletary Dr, Streetsboro    28.83  \n2                    3520 Hudson Dr, Stow    32.06  \n3                     2600 OH-59, Ravenna    22.95  \n4                  250 Tallmadge Rd, Kent    26.18  "
     },
     "execution_count": 11,
     "metadata": {},
     "output_type": "execute_result"
    }
   ],
   "source": [
    "area1 = cd.merge(a,left_index=True, right_index=True)\n",
    "area1.head()"
   ]
  },
  {
   "cell_type": "code",
   "execution_count": 12,
   "metadata": {},
   "outputs": [
    {
     "data": {
      "text/html": "<div>\n<style scoped>\n    .dataframe tbody tr th:only-of-type {\n        vertical-align: middle;\n    }\n\n    .dataframe tbody tr th {\n        vertical-align: top;\n    }\n\n    .dataframe thead th {\n        text-align: right;\n    }\n</style>\n<table border=\"1\" class=\"dataframe\">\n  <thead>\n    <tr style=\"text-align: right;\">\n      <th></th>\n      <th>Name</th>\n      <th>Lat</th>\n      <th>Lng</th>\n      <th>Address</th>\n      <th>Distance</th>\n    </tr>\n  </thead>\n  <tbody>\n    <tr>\n      <td>0</td>\n      <td>Walmart Supercenter</td>\n      <td>41.349360</td>\n      <td>-81.389644</td>\n      <td>7235 Market Pl Dr, Bainbridge Township</td>\n      <td>33.83</td>\n    </tr>\n    <tr>\n      <td>1</td>\n      <td>Walmart Supercenter</td>\n      <td>41.253213</td>\n      <td>-81.362409</td>\n      <td>905 Singletary Dr, Streetsboro</td>\n      <td>28.83</td>\n    </tr>\n    <tr>\n      <td>2</td>\n      <td>Walmart Supercenter</td>\n      <td>41.165890</td>\n      <td>-81.480013</td>\n      <td>3520 Hudson Dr, Stow</td>\n      <td>32.06</td>\n    </tr>\n    <tr>\n      <td>3</td>\n      <td>Walmart Supercenter</td>\n      <td>41.156854</td>\n      <td>-81.299629</td>\n      <td>2600 OH-59, Ravenna</td>\n      <td>22.95</td>\n    </tr>\n    <tr>\n      <td>4</td>\n      <td>Walmart Supercenter</td>\n      <td>41.098492</td>\n      <td>-81.384385</td>\n      <td>250 Tallmadge Rd, Kent</td>\n      <td>26.18</td>\n    </tr>\n    <tr>\n      <td>...</td>\n      <td>...</td>\n      <td>...</td>\n      <td>...</td>\n      <td>...</td>\n      <td>...</td>\n    </tr>\n    <tr>\n      <td>77</td>\n      <td>Save A Lot</td>\n      <td>41.071708</td>\n      <td>-80.645611</td>\n      <td>2725 South Ave, Youngstown</td>\n      <td>12.87</td>\n    </tr>\n    <tr>\n      <td>78</td>\n      <td>Save A Lot</td>\n      <td>41.023511</td>\n      <td>-80.669365</td>\n      <td>223 Boardman-Canfield Rd, Youngstown</td>\n      <td>11.45</td>\n    </tr>\n    <tr>\n      <td>79</td>\n      <td>Dave's Supermarket</td>\n      <td>40.985833</td>\n      <td>-80.340000</td>\n      <td>440 E Long Ave, New Castle</td>\n      <td>28.81</td>\n    </tr>\n    <tr>\n      <td>80</td>\n      <td>Heinen's Grocery Store</td>\n      <td>41.320194</td>\n      <td>-81.346876</td>\n      <td>115 N Chillicothe Rd, Aurora</td>\n      <td>30.84</td>\n    </tr>\n    <tr>\n      <td>81</td>\n      <td>Heinen's Grocery Store</td>\n      <td>41.242519</td>\n      <td>-81.441967</td>\n      <td>19 Clinton St, Hudson</td>\n      <td>32.11</td>\n    </tr>\n  </tbody>\n</table>\n<p>82 rows × 5 columns</p>\n</div>",
      "text/plain": "                      Name        Lat        Lng  \\\n0      Walmart Supercenter  41.349360 -81.389644   \n1      Walmart Supercenter  41.253213 -81.362409   \n2      Walmart Supercenter  41.165890 -81.480013   \n3      Walmart Supercenter  41.156854 -81.299629   \n4      Walmart Supercenter  41.098492 -81.384385   \n..                     ...        ...        ...   \n77              Save A Lot  41.071708 -80.645611   \n78              Save A Lot  41.023511 -80.669365   \n79      Dave's Supermarket  40.985833 -80.340000   \n80  Heinen's Grocery Store  41.320194 -81.346876   \n81  Heinen's Grocery Store  41.242519 -81.441967   \n\n                                   Address Distance  \n0   7235 Market Pl Dr, Bainbridge Township    33.83  \n1           905 Singletary Dr, Streetsboro    28.83  \n2                     3520 Hudson Dr, Stow    32.06  \n3                      2600 OH-59, Ravenna    22.95  \n4                   250 Tallmadge Rd, Kent    26.18  \n..                                     ...      ...  \n77              2725 South Ave, Youngstown    12.87  \n78    223 Boardman-Canfield Rd, Youngstown    11.45  \n79              440 E Long Ave, New Castle    28.81  \n80            115 N Chillicothe Rd, Aurora    30.84  \n81                   19 Clinton St, Hudson    32.11  \n\n[82 rows x 5 columns]"
     },
     "execution_count": 12,
     "metadata": {},
     "output_type": "execute_result"
    }
   ],
   "source": [
    "my_area = pd.DataFrame(area1)\n",
    "spread = my_area.iloc[:,lambda my_merge: [1,2,3,4,5]]\n",
    "spread"
   ]
  },
  {
   "cell_type": "code",
   "execution_count": 13,
   "metadata": {},
   "outputs": [],
   "source": [
    "spread.to_csv(\"spread_C3.csv\")"
   ]
  },
  {
   "cell_type": "code",
   "execution_count": null,
   "metadata": {},
   "outputs": [],
   "source": []
  }
 ]
}