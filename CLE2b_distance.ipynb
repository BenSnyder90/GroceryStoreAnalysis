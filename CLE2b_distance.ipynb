{
 "nbformat": 4,
 "nbformat_minor": 2,
 "metadata": {
  "language_info": {
   "name": "python",
   "codemirror_mode": {
    "name": "ipython",
    "version": 3
   },
   "version": "3.7.4-final"
  },
  "orig_nbformat": 2,
  "file_extension": ".py",
  "mimetype": "text/x-python",
  "name": "python",
  "npconvert_exporter": "python",
  "pygments_lexer": "ipython3",
  "version": 3,
  "kernelspec": {
   "name": "python37464bitarizvirtualenvc56c4a27cf5e4dfe8e78b552f27c4a0e",
   "display_name": "Python 3.7.4 64-bit ('a-riz': virtualenv)"
  }
 },
 "cells": [
  {
   "cell_type": "code",
   "execution_count": 1,
   "metadata": {},
   "outputs": [],
   "source": [
    "import pandas as pd\n",
    "import math\n",
    "import numpy as np"
   ]
  },
  {
   "cell_type": "code",
   "execution_count": 2,
   "metadata": {},
   "outputs": [],
   "source": [
    "file = 'C2.csv'"
   ]
  },
  {
   "cell_type": "code",
   "execution_count": 3,
   "metadata": {},
   "outputs": [
    {
     "data": {
      "text/html": "<div>\n<style scoped>\n    .dataframe tbody tr th:only-of-type {\n        vertical-align: middle;\n    }\n\n    .dataframe tbody tr th {\n        vertical-align: top;\n    }\n\n    .dataframe thead th {\n        text-align: right;\n    }\n</style>\n<table border=\"1\" class=\"dataframe\">\n  <thead>\n    <tr style=\"text-align: right;\">\n      <th></th>\n      <th>Unnamed: 0</th>\n      <th>Name</th>\n      <th>Lat</th>\n      <th>Lng</th>\n      <th>Address</th>\n    </tr>\n  </thead>\n  <tbody>\n    <tr>\n      <td>0</td>\n      <td>0</td>\n      <td>Walmart Supercenter</td>\n      <td>41.586375</td>\n      <td>-81.225033</td>\n      <td>223 Meadowlands Dr, Chardon</td>\n    </tr>\n    <tr>\n      <td>1</td>\n      <td>1</td>\n      <td>Walmart Supercenter</td>\n      <td>41.640637</td>\n      <td>-81.446915</td>\n      <td>33752 Vine St, Willowick</td>\n    </tr>\n    <tr>\n      <td>2</td>\n      <td>2</td>\n      <td>Walmart Supercenter</td>\n      <td>41.458748</td>\n      <td>-81.085501</td>\n      <td>15050 S, Springdale Ave, Middlefield</td>\n    </tr>\n    <tr>\n      <td>3</td>\n      <td>3</td>\n      <td>Walmart</td>\n      <td>41.678383</td>\n      <td>-81.307060</td>\n      <td>9303 Mentor Ave, Mentor</td>\n    </tr>\n    <tr>\n      <td>4</td>\n      <td>4</td>\n      <td>Walmart Supercenter</td>\n      <td>41.804614</td>\n      <td>-81.072076</td>\n      <td>6067 N Ridge Rd, Madison</td>\n    </tr>\n  </tbody>\n</table>\n</div>",
      "text/plain": "   Unnamed: 0                 Name        Lat        Lng  \\\n0           0  Walmart Supercenter  41.586375 -81.225033   \n1           1  Walmart Supercenter  41.640637 -81.446915   \n2           2  Walmart Supercenter  41.458748 -81.085501   \n3           3              Walmart  41.678383 -81.307060   \n4           4  Walmart Supercenter  41.804614 -81.072076   \n\n                                Address  \n0           223 Meadowlands Dr, Chardon  \n1              33752 Vine St, Willowick  \n2  15050 S, Springdale Ave, Middlefield  \n3               9303 Mentor Ave, Mentor  \n4              6067 N Ridge Rd, Madison  "
     },
     "execution_count": 3,
     "metadata": {},
     "output_type": "execute_result"
    }
   ],
   "source": [
    "cd = pd.read_csv(file)\n",
    "cd.head()"
   ]
  },
  {
   "cell_type": "code",
   "execution_count": 4,
   "metadata": {},
   "outputs": [],
   "source": [
    "east_cleveland_coordinates = \"41.625126,-81.062346\" #lat,long"
   ]
  },
  {
   "cell_type": "code",
   "execution_count": 5,
   "metadata": {},
   "outputs": [
    {
     "name": "stdout",
     "output_type": "stream",
     "text": "[14.1961791491142, 32.007641646379184, 18.60044374117297, 21.176850004710488, 19.974478973681183, 38.599809302215576, 40.92430972374322, 19.91965101043012, 25.726570520260296, 24.062573269748015, 13.761694391358285, 18.023381820211753, 30.374762987548323, 19.1965431365446, 26.32304717601379, 19.609796866433268, 32.604252400692225, 21.20953119787872, 25.482801038634836, 13.212857823615074, 33.21172882992863, 24.9941686163673, 18.24802841240352, 19.832127382686775, 20.048560780054395, 37.94380815624732, 33.19704678411905, 13.391725961237828, 26.482967387135446, 19.535797352139088, 26.41099333393697, 19.568828288124664, 33.131073771014506, 18.345438377908465, 32.16065614626417, 19.642446580753898, 19.11052620844234, 36.72453605201284, 44.610377047330616, 13.643761436273548, 32.89212148880357, 31.649303231412304, 22.323623481488934]\n"
    }
   ],
   "source": [
    "lat1 = 41.625126\n",
    "lon1 = -81.062346\n",
    "def dist_from_coordinates(lat1, lon1, lat2, lon2):\n",
    "  R = 6371  # Earth radius in km\n",
    " # lat1 = 41.625126\n",
    " # lon1 = -81.062346\n",
    "  #conversion to radians\n",
    "  d_lat = np.radians(lat2-lat1)\n",
    "  d_lon = np.radians(lon2-lon1)\n",
    "\n",
    "  r_lat1 = np.radians(lat1)\n",
    "  r_lat2 = np.radians(lat2)\n",
    "\n",
    "  #haversine formula\n",
    "  a = np.sin(d_lat/2.) **2 + np.cos(r_lat1) * np.cos(r_lat2) * np.sin(d_lon/2.)**2\n",
    "\n",
    "  haversine = 2 * R * np.arcsin(np.sqrt(a))\n",
    "\n",
    "  return haversine\n",
    "\n",
    "new_column = []                    #empty column for distance\n",
    "for index,row in cd.iterrows():\n",
    "  lat2 = row['Lat'] #first row of location.lat column here\n",
    "  lon2 = row['Lng'] #first row of location.long column here\n",
    "  #lat2 = row['lat2'] #second row of location.lat column here\n",
    "  #lon2 = row['lon2'] #second row of location.long column here\n",
    "  value = dist_from_coordinates(lat1, lon1, lat2, lon2)  #get the distance\n",
    "  new_column.append(value)   #append the empty list with distance values\n",
    "  #cd.insert(6,\"Distance\",new_column)\n",
    "print(new_column) "
   ]
  },
  {
   "cell_type": "code",
   "execution_count": 6,
   "metadata": {},
   "outputs": [
    {
     "name": "stdout",
     "output_type": "stream",
     "text": "[8.82109403406424, 19.88862029745228, 11.55777632789639, 13.15868046427696, 12.411561974355251, 23.984802105926995, 25.42917925735205, 12.377493468001974, 15.985744850744661, 14.951785215196594, 8.551117805652689, 11.199206785006798, 18.87399685233589, 11.928175205297856, 16.356378146806865, 12.184959088692507, 20.259336918470527, 13.1789876099571, 15.834273564177566, 8.210086678717522, 20.636805154781584, 15.530651547320765, 11.338795662643589, 12.323108823907464, 12.45759426046318, 23.577182017855556, 20.62768215729484, 8.321230152260311, 16.45574792831174, 12.138977936496017, 16.411025338901748, 12.15950240222031, 20.586688440169056, 11.399323390319362, 19.98369907026031, 12.205246674329631, 11.874726780666025, 22.81956169117527, 27.719594596276874, 8.477837687418731, 20.438210421619363, 19.665959198205893, 13.87125224631626]\n"
    }
   ],
   "source": [
    "col = []\n",
    "for x in new_column:\n",
    "    a = x * 0.621371\n",
    "    col.append(a)\n",
    "print(col)"
   ]
  },
  {
   "cell_type": "code",
   "execution_count": 7,
   "metadata": {},
   "outputs": [
    {
     "data": {
      "text/html": "<div>\n<style scoped>\n    .dataframe tbody tr th:only-of-type {\n        vertical-align: middle;\n    }\n\n    .dataframe tbody tr th {\n        vertical-align: top;\n    }\n\n    .dataframe thead th {\n        text-align: right;\n    }\n</style>\n<table border=\"1\" class=\"dataframe\">\n  <thead>\n    <tr style=\"text-align: right;\">\n      <th></th>\n      <th>Distance</th>\n    </tr>\n  </thead>\n  <tbody>\n    <tr>\n      <td>0</td>\n      <td>8.821094</td>\n    </tr>\n    <tr>\n      <td>1</td>\n      <td>19.888620</td>\n    </tr>\n    <tr>\n      <td>2</td>\n      <td>11.557776</td>\n    </tr>\n    <tr>\n      <td>3</td>\n      <td>13.158680</td>\n    </tr>\n    <tr>\n      <td>4</td>\n      <td>12.411562</td>\n    </tr>\n  </tbody>\n</table>\n</div>",
      "text/plain": "    Distance\n0   8.821094\n1  19.888620\n2  11.557776\n3  13.158680\n4  12.411562"
     },
     "execution_count": 7,
     "metadata": {},
     "output_type": "execute_result"
    }
   ],
   "source": [
    "a = pd.DataFrame({'Distance':col})\n",
    "a.head()"
   ]
  },
  {
   "cell_type": "code",
   "execution_count": 8,
   "metadata": {},
   "outputs": [
    {
     "data": {
      "text/plain": "0      8.82\n1     19.89\n2     11.56\n3     13.16\n4     12.41\n5     23.98\n6     25.43\n7     12.38\n8     15.99\n9     14.95\n10     8.55\n11    11.20\n12    18.87\n13    11.93\n14    16.36\n15    12.18\n16    20.26\n17    13.18\n18    15.83\n19     8.21\n20    20.64\n21    15.53\n22    11.34\n23    12.32\n24    12.46\n25    23.58\n26    20.63\n27     8.32\n28    16.46\n29    12.14\n30    16.41\n31    12.16\n32    20.59\n33    11.40\n34    19.98\n35    12.21\n36    11.87\n37    22.82\n38    27.72\n39     8.48\n40    20.44\n41    19.67\n42    13.87\nName: Distance, dtype: object"
     },
     "execution_count": 8,
     "metadata": {},
     "output_type": "execute_result"
    }
   ],
   "source": [
    "a['Distance'] = a['Distance'].map(\"{:,.2f}\".format)\n",
    "a['Distance']"
   ]
  },
  {
   "cell_type": "code",
   "execution_count": 9,
   "metadata": {},
   "outputs": [
    {
     "data": {
      "text/html": "<div>\n<style scoped>\n    .dataframe tbody tr th:only-of-type {\n        vertical-align: middle;\n    }\n\n    .dataframe tbody tr th {\n        vertical-align: top;\n    }\n\n    .dataframe thead th {\n        text-align: right;\n    }\n</style>\n<table border=\"1\" class=\"dataframe\">\n  <thead>\n    <tr style=\"text-align: right;\">\n      <th></th>\n      <th>Unnamed: 0</th>\n      <th>Name</th>\n      <th>Lat</th>\n      <th>Lng</th>\n      <th>Address</th>\n      <th>Distance</th>\n    </tr>\n  </thead>\n  <tbody>\n    <tr>\n      <td>0</td>\n      <td>0</td>\n      <td>Walmart Supercenter</td>\n      <td>41.586375</td>\n      <td>-81.225033</td>\n      <td>223 Meadowlands Dr, Chardon</td>\n      <td>8.82</td>\n    </tr>\n    <tr>\n      <td>1</td>\n      <td>1</td>\n      <td>Walmart Supercenter</td>\n      <td>41.640637</td>\n      <td>-81.446915</td>\n      <td>33752 Vine St, Willowick</td>\n      <td>19.89</td>\n    </tr>\n    <tr>\n      <td>2</td>\n      <td>2</td>\n      <td>Walmart Supercenter</td>\n      <td>41.458748</td>\n      <td>-81.085501</td>\n      <td>15050 S, Springdale Ave, Middlefield</td>\n      <td>11.56</td>\n    </tr>\n    <tr>\n      <td>3</td>\n      <td>3</td>\n      <td>Walmart</td>\n      <td>41.678383</td>\n      <td>-81.307060</td>\n      <td>9303 Mentor Ave, Mentor</td>\n      <td>13.16</td>\n    </tr>\n    <tr>\n      <td>4</td>\n      <td>4</td>\n      <td>Walmart Supercenter</td>\n      <td>41.804614</td>\n      <td>-81.072076</td>\n      <td>6067 N Ridge Rd, Madison</td>\n      <td>12.41</td>\n    </tr>\n  </tbody>\n</table>\n</div>",
      "text/plain": "   Unnamed: 0                 Name        Lat        Lng  \\\n0           0  Walmart Supercenter  41.586375 -81.225033   \n1           1  Walmart Supercenter  41.640637 -81.446915   \n2           2  Walmart Supercenter  41.458748 -81.085501   \n3           3              Walmart  41.678383 -81.307060   \n4           4  Walmart Supercenter  41.804614 -81.072076   \n\n                                Address Distance  \n0           223 Meadowlands Dr, Chardon     8.82  \n1              33752 Vine St, Willowick    19.89  \n2  15050 S, Springdale Ave, Middlefield    11.56  \n3               9303 Mentor Ave, Mentor    13.16  \n4              6067 N Ridge Rd, Madison    12.41  "
     },
     "execution_count": 9,
     "metadata": {},
     "output_type": "execute_result"
    }
   ],
   "source": [
    "area1 = cd.merge(a,left_index=True, right_index=True)\n",
    "area1.head()"
   ]
  },
  {
   "cell_type": "code",
   "execution_count": 10,
   "metadata": {},
   "outputs": [
    {
     "data": {
      "text/html": "<div>\n<style scoped>\n    .dataframe tbody tr th:only-of-type {\n        vertical-align: middle;\n    }\n\n    .dataframe tbody tr th {\n        vertical-align: top;\n    }\n\n    .dataframe thead th {\n        text-align: right;\n    }\n</style>\n<table border=\"1\" class=\"dataframe\">\n  <thead>\n    <tr style=\"text-align: right;\">\n      <th></th>\n      <th>Name</th>\n      <th>Lat</th>\n      <th>Lng</th>\n      <th>Address</th>\n      <th>Distance</th>\n    </tr>\n  </thead>\n  <tbody>\n    <tr>\n      <td>0</td>\n      <td>Walmart Supercenter</td>\n      <td>41.586375</td>\n      <td>-81.225033</td>\n      <td>223 Meadowlands Dr, Chardon</td>\n      <td>8.82</td>\n    </tr>\n    <tr>\n      <td>1</td>\n      <td>Walmart Supercenter</td>\n      <td>41.640637</td>\n      <td>-81.446915</td>\n      <td>33752 Vine St, Willowick</td>\n      <td>19.89</td>\n    </tr>\n    <tr>\n      <td>2</td>\n      <td>Walmart Supercenter</td>\n      <td>41.458748</td>\n      <td>-81.085501</td>\n      <td>15050 S, Springdale Ave, Middlefield</td>\n      <td>11.56</td>\n    </tr>\n    <tr>\n      <td>3</td>\n      <td>Walmart</td>\n      <td>41.678383</td>\n      <td>-81.307060</td>\n      <td>9303 Mentor Ave, Mentor</td>\n      <td>13.16</td>\n    </tr>\n    <tr>\n      <td>4</td>\n      <td>Walmart Supercenter</td>\n      <td>41.804614</td>\n      <td>-81.072076</td>\n      <td>6067 N Ridge Rd, Madison</td>\n      <td>12.41</td>\n    </tr>\n    <tr>\n      <td>5</td>\n      <td>Walmart Supercenter</td>\n      <td>41.882334</td>\n      <td>-80.749849</td>\n      <td>3551 N Ridge Rd E, Ashtabula</td>\n      <td>23.98</td>\n    </tr>\n    <tr>\n      <td>6</td>\n      <td>Walmart Money Center</td>\n      <td>41.350428</td>\n      <td>-81.389326</td>\n      <td>7355 Market Pl Dr, Aurora</td>\n      <td>25.43</td>\n    </tr>\n    <tr>\n      <td>7</td>\n      <td>Walmart Money Center</td>\n      <td>41.804128</td>\n      <td>-81.071806</td>\n      <td>Madison</td>\n      <td>12.38</td>\n    </tr>\n    <tr>\n      <td>8</td>\n      <td>Giant Eagle Supermarket</td>\n      <td>41.523612</td>\n      <td>-81.340259</td>\n      <td>12692 Chillicothe Rd, Chesterland</td>\n      <td>15.99</td>\n    </tr>\n    <tr>\n      <td>9</td>\n      <td>Giant Eagle Supermarket</td>\n      <td>41.684583</td>\n      <td>-81.340829</td>\n      <td>8383 Tyler Blvd, Mentor</td>\n      <td>14.95</td>\n    </tr>\n    <tr>\n      <td>10</td>\n      <td>Giant Eagle Supermarket</td>\n      <td>41.583533</td>\n      <td>-81.218232</td>\n      <td>351 Center St, Chardon</td>\n      <td>8.55</td>\n    </tr>\n    <tr>\n      <td>11</td>\n      <td>Giant Eagle Supermarket</td>\n      <td>41.464609</td>\n      <td>-81.092427</td>\n      <td>15400 W High St, Middlefield</td>\n      <td>11.20</td>\n    </tr>\n    <tr>\n      <td>12</td>\n      <td>Giant Eagle Supermarket</td>\n      <td>41.630325</td>\n      <td>-81.427732</td>\n      <td>36475 Euclid Ave, Willoughby</td>\n      <td>18.87</td>\n    </tr>\n    <tr>\n      <td>13</td>\n      <td>Giant Eagle Supermarket</td>\n      <td>41.706115</td>\n      <td>-81.266436</td>\n      <td>1201 Mentor Ave, Painesville</td>\n      <td>11.93</td>\n    </tr>\n    <tr>\n      <td>14</td>\n      <td>Giant Eagle Supermarket</td>\n      <td>41.706785</td>\n      <td>-81.359788</td>\n      <td>6079 Andrews Rd, Mentor-On-The-Lake</td>\n      <td>16.36</td>\n    </tr>\n    <tr>\n      <td>15</td>\n      <td>Giant Eagle Supermarket</td>\n      <td>41.801419</td>\n      <td>-81.056075</td>\n      <td>6556 N Ridge Rd, Madison</td>\n      <td>12.18</td>\n    </tr>\n    <tr>\n      <td>16</td>\n      <td>Giant Eagle Supermarket</td>\n      <td>41.853756</td>\n      <td>-80.816308</td>\n      <td>2390 W Prospect Rd, Ashtabula</td>\n      <td>20.26</td>\n    </tr>\n    <tr>\n      <td>17</td>\n      <td>Giant Eagle Supermarket</td>\n      <td>41.795147</td>\n      <td>-80.946529</td>\n      <td>755 South Broadway Avenue, Geneva</td>\n      <td>13.18</td>\n    </tr>\n    <tr>\n      <td>18</td>\n      <td>Giant Eagle Pharmacy</td>\n      <td>41.654897</td>\n      <td>-81.366401</td>\n      <td>7960 Plaza Blvd, Mentor</td>\n      <td>15.83</td>\n    </tr>\n    <tr>\n      <td>19</td>\n      <td>ALDI</td>\n      <td>41.584622</td>\n      <td>-81.211742</td>\n      <td>302 Center St, Chardon</td>\n      <td>8.21</td>\n    </tr>\n    <tr>\n      <td>20</td>\n      <td>ALDI</td>\n      <td>41.522857</td>\n      <td>-81.437465</td>\n      <td>1385 Som Center Rd, Mayfield Heights</td>\n      <td>20.64</td>\n    </tr>\n    <tr>\n      <td>21</td>\n      <td>ALDI</td>\n      <td>41.662156</td>\n      <td>-81.359026</td>\n      <td>7885 Mentor Ave, Mentor</td>\n      <td>15.53</td>\n    </tr>\n    <tr>\n      <td>22</td>\n      <td>ALDI</td>\n      <td>41.461844</td>\n      <td>-81.084328</td>\n      <td>14955 S, Springdale Ave, Middlefield</td>\n      <td>11.34</td>\n    </tr>\n    <tr>\n      <td>23</td>\n      <td>ALDI</td>\n      <td>41.803395</td>\n      <td>-81.054927</td>\n      <td>6521 N Ridge Rd, Madison</td>\n      <td>12.32</td>\n    </tr>\n    <tr>\n      <td>24</td>\n      <td>ALDI</td>\n      <td>41.688259</td>\n      <td>-81.288390</td>\n      <td>2045 Mentor Ave, Painesville</td>\n      <td>12.46</td>\n    </tr>\n    <tr>\n      <td>25</td>\n      <td>ALDI</td>\n      <td>41.877610</td>\n      <td>-80.754651</td>\n      <td>3124 N Ridge Rd E, Ashtabula</td>\n      <td>23.58</td>\n    </tr>\n    <tr>\n      <td>26</td>\n      <td>Aldi</td>\n      <td>41.522565</td>\n      <td>-81.437134</td>\n      <td>6737 Mayfield Rd, Mayfield Heights</td>\n      <td>20.63</td>\n    </tr>\n    <tr>\n      <td>27</td>\n      <td>Marc's Stores</td>\n      <td>41.578950</td>\n      <td>-81.211095</td>\n      <td>425 Water St, Chardon</td>\n      <td>8.32</td>\n    </tr>\n    <tr>\n      <td>28</td>\n      <td>Marc's Stores</td>\n      <td>41.653613</td>\n      <td>-81.378744</td>\n      <td>7353 Mentor Ave, Mentor</td>\n      <td>16.46</td>\n    </tr>\n    <tr>\n      <td>29</td>\n      <td>Marc's Stores</td>\n      <td>41.697269</td>\n      <td>-81.276771</td>\n      <td>1585 Mentor Ave, Painesville</td>\n      <td>12.14</td>\n    </tr>\n    <tr>\n      <td>30</td>\n      <td>Marc's Stores</td>\n      <td>41.710157</td>\n      <td>-81.359232</td>\n      <td>5929 Andrews Rd, Mentor-On-The-Lake</td>\n      <td>16.41</td>\n    </tr>\n    <tr>\n      <td>31</td>\n      <td>Marc's Stores</td>\n      <td>41.801020</td>\n      <td>-81.054695</td>\n      <td>6576 N Ridge Rd, Madison</td>\n      <td>12.16</td>\n    </tr>\n    <tr>\n      <td>32</td>\n      <td>Marc's Pharmacy</td>\n      <td>41.525101</td>\n      <td>-81.437522</td>\n      <td>6695 Eastgate Dr, Mayfield Heights</td>\n      <td>20.59</td>\n    </tr>\n    <tr>\n      <td>33</td>\n      <td>Save A Lot</td>\n      <td>41.461178</td>\n      <td>-81.087021</td>\n      <td>15561 W High St, Middlefield</td>\n      <td>11.40</td>\n    </tr>\n    <tr>\n      <td>34</td>\n      <td>Save A Lot</td>\n      <td>41.642989</td>\n      <td>-81.448584</td>\n      <td>33693 E, Vine St, Eastlake</td>\n      <td>19.98</td>\n    </tr>\n    <tr>\n      <td>35</td>\n      <td>Save A Lot</td>\n      <td>41.700149</td>\n      <td>-81.276417</td>\n      <td>1475 Mentor Ave, Painesville</td>\n      <td>12.21</td>\n    </tr>\n    <tr>\n      <td>36</td>\n      <td>Save A Lot</td>\n      <td>41.534516</td>\n      <td>-80.867115</td>\n      <td>23 S Maple St, Orwell</td>\n      <td>11.87</td>\n    </tr>\n    <tr>\n      <td>37</td>\n      <td>Save A Lot</td>\n      <td>41.893225</td>\n      <td>-80.803778</td>\n      <td>822 Lake Ave, Ashtabula</td>\n      <td>22.82</td>\n    </tr>\n    <tr>\n      <td>38</td>\n      <td>Heinen's Grocery Store</td>\n      <td>41.339444</td>\n      <td>-81.438333</td>\n      <td>10049 Darrow Rd, Twinsburg</td>\n      <td>27.72</td>\n    </tr>\n    <tr>\n      <td>39</td>\n      <td>Heinen's Grocery Store</td>\n      <td>41.588116</td>\n      <td>-81.218803</td>\n      <td>402 Center St, Chardon</td>\n      <td>8.48</td>\n    </tr>\n    <tr>\n      <td>40</td>\n      <td>Heinen's Grocery Store</td>\n      <td>41.537752</td>\n      <td>-81.440157</td>\n      <td>860 Som Center Road, Mayfield, Village, Mayfie...</td>\n      <td>20.44</td>\n    </tr>\n    <tr>\n      <td>41</td>\n      <td>Heinen's Grocery Store</td>\n      <td>41.606722</td>\n      <td>-81.442266</td>\n      <td>34501 Ridge Rd, Willoughby</td>\n      <td>19.67</td>\n    </tr>\n    <tr>\n      <td>42</td>\n      <td>Heinen's Grocery Store</td>\n      <td>41.672847</td>\n      <td>-81.323319</td>\n      <td>8850 Mentor Ave, Mentor</td>\n      <td>13.87</td>\n    </tr>\n  </tbody>\n</table>\n</div>",
      "text/plain": "                       Name        Lat        Lng  \\\n0       Walmart Supercenter  41.586375 -81.225033   \n1       Walmart Supercenter  41.640637 -81.446915   \n2       Walmart Supercenter  41.458748 -81.085501   \n3                   Walmart  41.678383 -81.307060   \n4       Walmart Supercenter  41.804614 -81.072076   \n5       Walmart Supercenter  41.882334 -80.749849   \n6      Walmart Money Center  41.350428 -81.389326   \n7      Walmart Money Center  41.804128 -81.071806   \n8   Giant Eagle Supermarket  41.523612 -81.340259   \n9   Giant Eagle Supermarket  41.684583 -81.340829   \n10  Giant Eagle Supermarket  41.583533 -81.218232   \n11  Giant Eagle Supermarket  41.464609 -81.092427   \n12  Giant Eagle Supermarket  41.630325 -81.427732   \n13  Giant Eagle Supermarket  41.706115 -81.266436   \n14  Giant Eagle Supermarket  41.706785 -81.359788   \n15  Giant Eagle Supermarket  41.801419 -81.056075   \n16  Giant Eagle Supermarket  41.853756 -80.816308   \n17  Giant Eagle Supermarket  41.795147 -80.946529   \n18     Giant Eagle Pharmacy  41.654897 -81.366401   \n19                     ALDI  41.584622 -81.211742   \n20                     ALDI  41.522857 -81.437465   \n21                     ALDI  41.662156 -81.359026   \n22                     ALDI  41.461844 -81.084328   \n23                     ALDI  41.803395 -81.054927   \n24                     ALDI  41.688259 -81.288390   \n25                     ALDI  41.877610 -80.754651   \n26                     Aldi  41.522565 -81.437134   \n27            Marc's Stores  41.578950 -81.211095   \n28            Marc's Stores  41.653613 -81.378744   \n29            Marc's Stores  41.697269 -81.276771   \n30            Marc's Stores  41.710157 -81.359232   \n31            Marc's Stores  41.801020 -81.054695   \n32          Marc's Pharmacy  41.525101 -81.437522   \n33               Save A Lot  41.461178 -81.087021   \n34               Save A Lot  41.642989 -81.448584   \n35               Save A Lot  41.700149 -81.276417   \n36               Save A Lot  41.534516 -80.867115   \n37               Save A Lot  41.893225 -80.803778   \n38   Heinen's Grocery Store  41.339444 -81.438333   \n39   Heinen's Grocery Store  41.588116 -81.218803   \n40   Heinen's Grocery Store  41.537752 -81.440157   \n41   Heinen's Grocery Store  41.606722 -81.442266   \n42   Heinen's Grocery Store  41.672847 -81.323319   \n\n                                              Address Distance  \n0                         223 Meadowlands Dr, Chardon     8.82  \n1                            33752 Vine St, Willowick    19.89  \n2                15050 S, Springdale Ave, Middlefield    11.56  \n3                             9303 Mentor Ave, Mentor    13.16  \n4                            6067 N Ridge Rd, Madison    12.41  \n5                        3551 N Ridge Rd E, Ashtabula    23.98  \n6                           7355 Market Pl Dr, Aurora    25.43  \n7                                             Madison    12.38  \n8                   12692 Chillicothe Rd, Chesterland    15.99  \n9                             8383 Tyler Blvd, Mentor    14.95  \n10                             351 Center St, Chardon     8.55  \n11                       15400 W High St, Middlefield    11.20  \n12                       36475 Euclid Ave, Willoughby    18.87  \n13                       1201 Mentor Ave, Painesville    11.93  \n14                6079 Andrews Rd, Mentor-On-The-Lake    16.36  \n15                           6556 N Ridge Rd, Madison    12.18  \n16                      2390 W Prospect Rd, Ashtabula    20.26  \n17                  755 South Broadway Avenue, Geneva    13.18  \n18                            7960 Plaza Blvd, Mentor    15.83  \n19                             302 Center St, Chardon     8.21  \n20               1385 Som Center Rd, Mayfield Heights    20.64  \n21                            7885 Mentor Ave, Mentor    15.53  \n22               14955 S, Springdale Ave, Middlefield    11.34  \n23                           6521 N Ridge Rd, Madison    12.32  \n24                       2045 Mentor Ave, Painesville    12.46  \n25                       3124 N Ridge Rd E, Ashtabula    23.58  \n26                 6737 Mayfield Rd, Mayfield Heights    20.63  \n27                              425 Water St, Chardon     8.32  \n28                            7353 Mentor Ave, Mentor    16.46  \n29                       1585 Mentor Ave, Painesville    12.14  \n30                5929 Andrews Rd, Mentor-On-The-Lake    16.41  \n31                           6576 N Ridge Rd, Madison    12.16  \n32                 6695 Eastgate Dr, Mayfield Heights    20.59  \n33                       15561 W High St, Middlefield    11.40  \n34                         33693 E, Vine St, Eastlake    19.98  \n35                       1475 Mentor Ave, Painesville    12.21  \n36                              23 S Maple St, Orwell    11.87  \n37                            822 Lake Ave, Ashtabula    22.82  \n38                         10049 Darrow Rd, Twinsburg    27.72  \n39                             402 Center St, Chardon     8.48  \n40  860 Som Center Road, Mayfield, Village, Mayfie...    20.44  \n41                         34501 Ridge Rd, Willoughby    19.67  \n42                            8850 Mentor Ave, Mentor    13.87  "
     },
     "execution_count": 10,
     "metadata": {},
     "output_type": "execute_result"
    }
   ],
   "source": [
    "my_area = pd.DataFrame(area1)\n",
    "spread = my_area.iloc[:,lambda my_merge: [1,2,3,4,5]]\n",
    "spread"
   ]
  },
  {
   "cell_type": "code",
   "execution_count": 11,
   "metadata": {},
   "outputs": [],
   "source": [
    "spread.to_csv(\"spread_C2.csv\")"
   ]
  }
 ]
}