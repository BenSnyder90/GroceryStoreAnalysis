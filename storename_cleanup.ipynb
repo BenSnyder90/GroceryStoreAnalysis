{
 "nbformat": 4,
 "nbformat_minor": 2,
 "metadata": {
  "language_info": {
   "name": "python",
   "codemirror_mode": {
    "name": "ipython",
    "version": 3
   },
   "version": "3.6.10-final"
  },
  "orig_nbformat": 2,
  "file_extension": ".py",
  "mimetype": "text/x-python",
  "name": "python",
  "npconvert_exporter": "python",
  "pygments_lexer": "ipython3",
  "version": 3,
  "kernelspec": {
   "name": "python37664bitpythondataconda7b76faf93e6a485bb209245349a7d6ad",
   "display_name": "Python 3.7.6 64-bit ('PythonData': conda)"
  }
 },
 "cells": [
  {
   "cell_type": "code",
   "execution_count": null,
   "metadata": {},
   "outputs": [],
   "source": [
    "# dependencies\n",
    "import pandas as pd\n",
    "import re"
   ]
  },
  {
   "cell_type": "code",
   "execution_count": null,
   "metadata": {},
   "outputs": [],
   "source": [
    "#import csv\n",
    "df = pd.read_csv(\"total_store_fixed_counties.csv\")\n",
    "df.count()"
   ]
  },
  {
   "cell_type": "code",
   "execution_count": null,
   "metadata": {},
   "outputs": [],
   "source": [
    "# Create df with only Heinen's stores to identify different names\n",
    "heinens_df = df[df['Store Name'].str.match('Heinen') == True]\n",
    "heinens_df"
   ]
  },
  {
   "cell_type": "code",
   "execution_count": null,
   "metadata": {},
   "outputs": [],
   "source": [
    "# Remove bad data\n",
    "df.drop([274,275], inplace=True, axis='rows')\n",
    "print(df)"
   ]
  },
  {
   "cell_type": "code",
   "execution_count": null,
   "metadata": {},
   "outputs": [],
   "source": [
    "# Rename all Heinen's stores to a common name\n",
    "df = df.replace({\"Heinen's Grocery Store\": \"Heinen's\", \"Heinen's of Downtown Cleveland\": \"Heinen's\", \"Heinen's grocery\": \"Heinen's\", \"The Tasting Room Bistro at Heinen's of Chagrin Falls\": \"Heinen's\"})\n",
    "df.tail(10)"
   ]
  },
  {
   "cell_type": "code",
   "execution_count": null,
   "metadata": {},
   "outputs": [],
   "source": [
    "# Create df with only Dave's stores\n",
    "daves_df = df[df['Store Name'].str.match('Dave') == True]\n",
    "daves_df"
   ]
  },
  {
   "cell_type": "code",
   "execution_count": null,
   "metadata": {},
   "outputs": [],
   "source": [
    "# Remove bad data\n",
    "df.drop([250], inplace=True, axis='rows')"
   ]
  },
  {
   "cell_type": "code",
   "execution_count": null,
   "metadata": {},
   "outputs": [],
   "source": [
    "# Rename all Dave's stores to a common name\n",
    "df = df.replace({\"Dave's Markets Middlebury Market\": \"Dave's Markets\", \"Dave's Supermarket\": \"Dave's Markets\", \"Dave's Markets Ohio City\": \"Dave's Markets\", \"Dave's Mercado\": \"Dave's Markets\",\"Dave's Markets Slavic Village\": \"Dave's Markets\", \"Dave's Markets Turneytown\": \"Dave's Markets\", \"Dave's Markets Harvard & Lee\": \"Dave's Markets\",\"Dave's Markets Wilson Mills\": \"Dave's Markets\", \"Dave's Markets Cedar Hill\": \"Dave's Markets\", \"Dave's Markets Severance\": \"Dave's Markets\", \"Dave's Markets Euclid Beach\": \"Dave's Markets\", \"Dave's Markets Shore Center\": \"Dave's Markets\", \"Dave's Market & eatery\": \"Dave's Markets\"})\n",
    "df.sample(20)"
   ]
  },
  {
   "cell_type": "code",
   "execution_count": null,
   "metadata": {},
   "outputs": [],
   "source": [
    "# Create df with only Walmart stores\n",
    "walmart_df = df[df['Store Name'].str.match('Wal') == True]\n",
    "walmart_df"
   ]
  },
  {
   "cell_type": "code",
   "execution_count": null,
   "metadata": {},
   "outputs": [],
   "source": [
    "# Remove bad data\n",
    "df.drop([56,57,58], inplace=True, axis='rows')"
   ]
  },
  {
   "cell_type": "code",
   "execution_count": null,
   "metadata": {},
   "outputs": [],
   "source": [
    "# Rename all Walmart stores to a common name\n",
    "df = df.replace({\"Walmart Supercenter\": \"Walmart\"})"
   ]
  },
  {
   "cell_type": "code",
   "execution_count": null,
   "metadata": {},
   "outputs": [],
   "source": [
    "# Create df with only Giant Eagle stores\n",
    "ge_df = df[df['Store Name'].str.match('Giant') == True]\n",
    "ge_df"
   ]
  },
  {
   "cell_type": "code",
   "execution_count": null,
   "metadata": {},
   "outputs": [],
   "source": [
    "# Remove bad data\n",
    "df.drop([75,77,112], inplace=True, axis='rows')"
   ]
  },
  {
   "cell_type": "code",
   "execution_count": null,
   "metadata": {},
   "outputs": [],
   "source": [
    "# Rename all Giant Eagle stores to a common name\n",
    "df = df.replace({\"Giant Eagle Market District\": \"Giant Eagle\", \"Giant Eagle Supermarket\": \"Giant Eagle\"})"
   ]
  },
  {
   "cell_type": "code",
   "execution_count": null,
   "metadata": {},
   "outputs": [],
   "source": [
    "# Create df with only Marc's stores\n",
    "marcs_df = df[df['Store Name'].str.match('Marc') == True]\n",
    "marcs_df\n",
    "#All clean"
   ]
  },
  {
   "cell_type": "code",
   "execution_count": null,
   "metadata": {},
   "outputs": [],
   "source": [
    "# Create df with only Whole Foods stores\n",
    "wf_df = df[df['Store Name'].str.match('Whole') == True]\n",
    "wf_df"
   ]
  },
  {
   "cell_type": "code",
   "execution_count": null,
   "metadata": {},
   "outputs": [],
   "source": [
    "# Rename all Whole Foods stores to a common name\n",
    "df = df.replace({\"Whole Foods Market 365\": \"Whole Foods Market\"})"
   ]
  },
  {
   "cell_type": "code",
   "execution_count": null,
   "metadata": {},
   "outputs": [],
   "source": [
    "# Create df with only Costco stores\n",
    "costco_df = df[df['Store Name'].str.match('Costco') == True]\n",
    "costco_df\n",
    "#All clean"
   ]
  },
  {
   "cell_type": "code",
   "execution_count": null,
   "metadata": {},
   "outputs": [],
   "source": [
    "# Create df with only Sam's Club stores\n",
    "sams_df = df[df['Store Name'].str.match('Sam') == True]\n",
    "sams_df\n",
    "#All clean"
   ]
  },
  {
   "cell_type": "code",
   "execution_count": null,
   "metadata": {},
   "outputs": [],
   "source": [
    "# Create df with only BJ's Wholesale stores\n",
    "bjs_df = df[df['Store Name'].str.match('BJ') == True]\n",
    "bjs_df\n",
    "#All clean"
   ]
  },
  {
   "cell_type": "code",
   "execution_count": null,
   "metadata": {},
   "outputs": [],
   "source": [
    "#Check that all stores were combined into common names\n",
    "df['Store Name'].value_counts()"
   ]
  },
  {
   "cell_type": "code",
   "execution_count": null,
   "metadata": {},
   "outputs": [],
   "source": [
    "#Delete ATM Wal-mart row\n",
    "atm_df = df[df['Store Name'].str.match('ATM') == True]\n",
    "atm_df"
   ]
  },
  {
   "cell_type": "code",
   "execution_count": null,
   "metadata": {},
   "outputs": [],
   "source": [
    "# Remove row\n",
    "df.drop([63], inplace=True, axis='rows')"
   ]
  },
  {
   "cell_type": "code",
   "execution_count": null,
   "metadata": {},
   "outputs": [],
   "source": [
    "#Check store names again\n",
    "df['Store Name'].value_counts()"
   ]
  },
  {
   "cell_type": "code",
   "execution_count": null,
   "metadata": {},
   "outputs": [],
   "source": [
    "# Import census data\n",
    "census_df = pd.read_csv(\"Project/census_data_counties.csv\")\n",
    "census_df.head()"
   ]
  },
  {
   "cell_type": "code",
   "execution_count": null,
   "metadata": {},
   "outputs": [],
   "source": [
    "# Merge store dataframe and census dataframe\n",
    "complete_df = pd.merge(df, census_df, left_on='County', right_on='Name', how='inner')\n",
    "complete_df.head()"
   ]
  },
  {
   "cell_type": "code",
   "execution_count": null,
   "metadata": {},
   "outputs": [],
   "source": [
    "# Delete duplicate county column\n",
    "#complete_df.drop(columns=['Name'])\n",
    "complete_df.drop('Name', axis=1, inplace=True)"
   ]
  },
  {
   "cell_type": "code",
   "execution_count": null,
   "metadata": {},
   "outputs": [],
   "source": [
    "# Write data to file\n",
    "complete_df.to_csv(\"complete_data.csv\",index=False,header=True)"
   ]
  },
  {
   "cell_type": "code",
   "execution_count": null,
   "metadata": {},
   "outputs": [],
   "source": []
  }
 ]
}