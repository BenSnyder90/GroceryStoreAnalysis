{
 "nbformat": 4,
 "nbformat_minor": 2,
 "metadata": {
  "language_info": {
   "name": "python",
   "codemirror_mode": {
    "name": "ipython",
    "version": 3
   },
   "version": "3.7.4-final"
  },
  "orig_nbformat": 2,
  "file_extension": ".py",
  "mimetype": "text/x-python",
  "name": "python",
  "npconvert_exporter": "python",
  "pygments_lexer": "ipython3",
  "version": 3,
  "kernelspec": {
   "name": "python37664bitpythondataconda7b76faf93e6a485bb209245349a7d6ad",
   "display_name": "Python 3.7.6 64-bit ('PythonData': conda)"
  }
 },
 "cells": [
  {
   "cell_type": "code",
   "execution_count": null,
   "metadata": {},
   "outputs": [],
   "source": [
    "# dependencies\n",
    "import pandas as pd\n",
    "import re\n",
    "import numpy as np\n",
    "import matplotlib.pyplot as plt\n",
    "import scipy.stats as st"
   ]
  },
  {
   "cell_type": "code",
   "execution_count": null,
   "metadata": {},
   "outputs": [],
   "source": [
    "#import csv\n",
    "df = pd.read_csv(\"total_store_fixed_counties.csv\")\n",
    "df.count()"
   ]
  },
  {
   "cell_type": "code",
   "execution_count": null,
   "metadata": {},
   "outputs": [],
   "source": [
    "# Create df with only Heinen's stores to identify different names\n",
    "heinens_df = df[df['Store Name'].str.match('Heinen') == True]\n",
    "heinens_df"
   ]
  },
  {
   "cell_type": "code",
   "execution_count": null,
   "metadata": {},
   "outputs": [],
   "source": [
    "# Remove bad data\n",
    "df.drop([273,274], inplace=True, axis='rows')\n",
    "print(df)"
   ]
  },
  {
   "cell_type": "code",
   "execution_count": null,
   "metadata": {},
   "outputs": [],
   "source": [
    "# Rename all Heinen's stores to a common name\n",
    "df = df.replace({\"Heinen's Grocery Store\": \"Heinen's\", \"Heinen's of Downtown Cleveland\": \"Heinen's\", \"Heinen's grocery\": \"Heinen's\", \"The Tasting Room Bistro at Heinen's of Chagrin Falls\": \"Heinen's\"})\n",
    "df.tail(10)"
   ]
  },
  {
   "cell_type": "code",
   "execution_count": null,
   "metadata": {},
   "outputs": [],
   "source": [
    "# Create df with only Dave's stores\n",
    "daves_df = df[df['Store Name'].str.match('Dave') == True]\n",
    "daves_df"
   ]
  },
  {
   "cell_type": "code",
   "execution_count": null,
   "metadata": {},
   "outputs": [],
   "source": [
    "# Remove bad data\n",
    "df.drop([249], inplace=True, axis='rows')"
   ]
  },
  {
   "cell_type": "code",
   "execution_count": null,
   "metadata": {},
   "outputs": [],
   "source": [
    "# Rename all Dave's stores to a common name\n",
    "df = df.replace({\"Dave's Markets Middlebury Market\": \"Dave's Markets\", \"Dave's Supermarket\": \"Dave's Markets\", \"Dave's Markets Ohio City\": \"Dave's Markets\", \"Dave's Mercado\": \"Dave's Markets\",\"Dave's Markets Slavic Village\": \"Dave's Markets\", \"Dave's Markets Turneytown\": \"Dave's Markets\", \"Dave's Markets Harvard & Lee\": \"Dave's Markets\",\"Dave's Markets Wilson Mills\": \"Dave's Markets\", \"Dave's Markets Cedar Hill\": \"Dave's Markets\", \"Dave's Markets Severance\": \"Dave's Markets\", \"Dave's Markets Euclid Beach\": \"Dave's Markets\", \"Dave's Markets Shore Center\": \"Dave's Markets\", \"Dave's Market & eatery\": \"Dave's Markets\"})"
   ]
  },
  {
   "cell_type": "code",
   "execution_count": null,
   "metadata": {},
   "outputs": [],
   "source": [
    "# Create df with only Walmart stores\n",
    "walmart_df = df[df['Store Name'].str.match('Wal') == True]\n",
    "walmart_df"
   ]
  },
  {
   "cell_type": "code",
   "execution_count": null,
   "metadata": {},
   "outputs": [],
   "source": [
    "# Remove bad data\n",
    "df.drop([56,57,58], inplace=True, axis='rows')"
   ]
  },
  {
   "cell_type": "code",
   "execution_count": null,
   "metadata": {},
   "outputs": [],
   "source": [
    "# Rename all Walmart stores to a common name\n",
    "df = df.replace({\"Walmart Supercenter\": \"Walmart\"})"
   ]
  },
  {
   "cell_type": "code",
   "execution_count": null,
   "metadata": {},
   "outputs": [],
   "source": [
    "# Create df with only Giant Eagle stores\n",
    "ge_df = df[df['Store Name'].str.match('Giant') == True]\n",
    "ge_df"
   ]
  },
  {
   "cell_type": "code",
   "execution_count": null,
   "metadata": {},
   "outputs": [],
   "source": [
    "# Remove bad data\n",
    "df.drop([75,77,112], inplace=True, axis='rows')"
   ]
  },
  {
   "cell_type": "code",
   "execution_count": null,
   "metadata": {},
   "outputs": [],
   "source": [
    "# Rename all Giant Eagle stores to a common name\n",
    "# Rename Berry's & Whole Foods to shorter names to show up well on chart\n",
    "df = df.replace({\"Giant Eagle Market District\": \"Giant Eagle\", \"Giant Eagle Supermarket\": \"Giant Eagle\",\"Berry's Natural Food Market\": \"Berry's\",\"Whole Foods Market\":\"Whole Foods\"})\n",
    "\n",
    "df.sample(20)"
   ]
  },
  {
   "cell_type": "code",
   "execution_count": null,
   "metadata": {},
   "outputs": [],
   "source": [
    "# Create df with only Marc's stores\n",
    "marcs_df = df[df['Store Name'].str.match('Marc') == True]\n",
    "marcs_df\n",
    "#All clean"
   ]
  },
  {
   "cell_type": "code",
   "execution_count": null,
   "metadata": {},
   "outputs": [],
   "source": [
    "# Create df with only Whole Foods stores\n",
    "wf_df = df[df['Store Name'].str.match('Whole') == True]\n",
    "wf_df"
   ]
  },
  {
   "cell_type": "code",
   "execution_count": null,
   "metadata": {},
   "outputs": [],
   "source": [
    "# Rename all Whole Foods stores to a common name\n",
    "df = df.replace({\"Whole Foods Market 365\": \"Whole Foods\"})"
   ]
  },
  {
   "cell_type": "code",
   "execution_count": null,
   "metadata": {},
   "outputs": [],
   "source": [
    "# Create df with only Costco stores\n",
    "costco_df = df[df['Store Name'].str.match('Costco') == True]\n",
    "costco_df\n",
    "#All clean"
   ]
  },
  {
   "cell_type": "code",
   "execution_count": null,
   "metadata": {},
   "outputs": [],
   "source": [
    "# Create df with only Sam's Club stores\n",
    "sams_df = df[df['Store Name'].str.match('Sam') == True]\n",
    "sams_df\n",
    "#All clean"
   ]
  },
  {
   "cell_type": "code",
   "execution_count": null,
   "metadata": {},
   "outputs": [],
   "source": [
    "# Create df with only BJ's Wholesale stores\n",
    "bjs_df = df[df['Store Name'].str.match('BJ') == True]\n",
    "bjs_df\n",
    "#All clean"
   ]
  },
  {
   "cell_type": "code",
   "execution_count": null,
   "metadata": {},
   "outputs": [],
   "source": [
    "#Check that all stores were combined into common names\n",
    "df['Store Name'].value_counts()"
   ]
  },
  {
   "cell_type": "code",
   "execution_count": null,
   "metadata": {},
   "outputs": [],
   "source": [
    "#Delete ATM Wal-mart row\n",
    "atm_df = df[df['Store Name'].str.match('ATM') == True]\n",
    "atm_df"
   ]
  },
  {
   "cell_type": "code",
   "execution_count": null,
   "metadata": {},
   "outputs": [],
   "source": [
    "# Remove row\n",
    "df.drop([63], inplace=True, axis='rows')"
   ]
  },
  {
   "cell_type": "code",
   "execution_count": null,
   "metadata": {},
   "outputs": [],
   "source": [
    "#Check store names again\n",
    "count = df['Store Name'].value_counts()\n",
    "count"
   ]
  },
  {
   "cell_type": "code",
   "execution_count": null,
   "metadata": {},
   "outputs": [],
   "source": [
    "# Import census data\n",
    "census_df = pd.read_csv(\"Project/census_data_counties.csv\")\n",
    "census_df.dtypes"
   ]
  },
  {
   "cell_type": "code",
   "execution_count": 55,
   "metadata": {},
   "outputs": [
    {
     "output_type": "execute_result",
     "data": {
      "text/plain": "         Store Name        Lat        Lng                            Address  \\\n0  Costco Wholesale  41.265324 -81.507401           6720 Bass Pro Dr, Hudson   \n1    BJ's Wholesale  41.115934 -81.482591               1677 Home Ave, Akron   \n2            Target  41.120956 -81.477382    449 Howe Avenue, Cuyahoga Falls   \n3            Target  41.128045 -81.605230  2801 West Market Street, Fairlawn   \n4            Target  40.983936 -81.495815         762 Arlington Ridge, Akron   \n\n                      Place ID         County           Name Population  \\\n0  ChIJrwEsWXIgMYgRnko93meT4s0  Summit County  Summit County    541,810   \n1  ChIJr1lVVGUoMYgRZyNHvaFakyk  Summit County  Summit County    541,810   \n2  ChIJ4yprBHwoMYgRH8i8pVsr_wg  Summit County  Summit County    541,810   \n3  ChIJGTnBXK3QMIgRDgULwwfSHv8  Summit County  Summit County    541,810   \n4  ChIJs7bpDL8qMYgRm6Akf2ZDq08  Summit County  Summit County    541,810   \n\n        Household Income      Per Capita Income Poverty Count Poverty Rate  \n0  $              55,448  $              32,055        69,576       12.84%  \n1  $              55,448  $              32,055        69,576       12.84%  \n2  $              55,448  $              32,055        69,576       12.84%  \n3  $              55,448  $              32,055        69,576       12.84%  \n4  $              55,448  $              32,055        69,576       12.84%  ",
      "text/html": "<div>\n<style scoped>\n    .dataframe tbody tr th:only-of-type {\n        vertical-align: middle;\n    }\n\n    .dataframe tbody tr th {\n        vertical-align: top;\n    }\n\n    .dataframe thead th {\n        text-align: right;\n    }\n</style>\n<table border=\"1\" class=\"dataframe\">\n  <thead>\n    <tr style=\"text-align: right;\">\n      <th></th>\n      <th>Store Name</th>\n      <th>Lat</th>\n      <th>Lng</th>\n      <th>Address</th>\n      <th>Place ID</th>\n      <th>County</th>\n      <th>Name</th>\n      <th>Population</th>\n      <th>Household Income</th>\n      <th>Per Capita Income</th>\n      <th>Poverty Count</th>\n      <th>Poverty Rate</th>\n    </tr>\n  </thead>\n  <tbody>\n    <tr>\n      <th>0</th>\n      <td>Costco Wholesale</td>\n      <td>41.265324</td>\n      <td>-81.507401</td>\n      <td>6720 Bass Pro Dr, Hudson</td>\n      <td>ChIJrwEsWXIgMYgRnko93meT4s0</td>\n      <td>Summit County</td>\n      <td>Summit County</td>\n      <td>541,810</td>\n      <td>$              55,448</td>\n      <td>$              32,055</td>\n      <td>69,576</td>\n      <td>12.84%</td>\n    </tr>\n    <tr>\n      <th>1</th>\n      <td>BJ's Wholesale</td>\n      <td>41.115934</td>\n      <td>-81.482591</td>\n      <td>1677 Home Ave, Akron</td>\n      <td>ChIJr1lVVGUoMYgRZyNHvaFakyk</td>\n      <td>Summit County</td>\n      <td>Summit County</td>\n      <td>541,810</td>\n      <td>$              55,448</td>\n      <td>$              32,055</td>\n      <td>69,576</td>\n      <td>12.84%</td>\n    </tr>\n    <tr>\n      <th>2</th>\n      <td>Target</td>\n      <td>41.120956</td>\n      <td>-81.477382</td>\n      <td>449 Howe Avenue, Cuyahoga Falls</td>\n      <td>ChIJ4yprBHwoMYgRH8i8pVsr_wg</td>\n      <td>Summit County</td>\n      <td>Summit County</td>\n      <td>541,810</td>\n      <td>$              55,448</td>\n      <td>$              32,055</td>\n      <td>69,576</td>\n      <td>12.84%</td>\n    </tr>\n    <tr>\n      <th>3</th>\n      <td>Target</td>\n      <td>41.128045</td>\n      <td>-81.605230</td>\n      <td>2801 West Market Street, Fairlawn</td>\n      <td>ChIJGTnBXK3QMIgRDgULwwfSHv8</td>\n      <td>Summit County</td>\n      <td>Summit County</td>\n      <td>541,810</td>\n      <td>$              55,448</td>\n      <td>$              32,055</td>\n      <td>69,576</td>\n      <td>12.84%</td>\n    </tr>\n    <tr>\n      <th>4</th>\n      <td>Target</td>\n      <td>40.983936</td>\n      <td>-81.495815</td>\n      <td>762 Arlington Ridge, Akron</td>\n      <td>ChIJs7bpDL8qMYgRm6Akf2ZDq08</td>\n      <td>Summit County</td>\n      <td>Summit County</td>\n      <td>541,810</td>\n      <td>$              55,448</td>\n      <td>$              32,055</td>\n      <td>69,576</td>\n      <td>12.84%</td>\n    </tr>\n  </tbody>\n</table>\n</div>"
     },
     "metadata": {},
     "execution_count": 55
    }
   ],
   "source": [
    "# Merge store dataframe and census dataframe\n",
    "complete_df = pd.merge(df, census_df, left_on='County', right_on='Name', how='inner')\n",
    "complete_df.head()"
   ]
  },
  {
   "cell_type": "code",
   "execution_count": null,
   "metadata": {},
   "outputs": [],
   "source": [
    "# Delete duplicate county column\n",
    "#complete_df.drop(columns=['Name'])\n",
    "complete_df.drop('Name', axis=1, inplace=True)"
   ]
  },
  {
   "cell_type": "code",
   "execution_count": null,
   "metadata": {},
   "outputs": [],
   "source": [
    "# Write data to file\n",
    "complete_df.to_csv(\"complete_data.csv\",index=False,header=True)"
   ]
  },
  {
   "cell_type": "code",
   "execution_count": null,
   "metadata": {},
   "outputs": [],
   "source": [
    "# Set up data for store count chart\n",
    "store_counts = pd.Series(count)\n",
    "x_labels = count.index.to_list()\n",
    "store_counts"
   ]
  },
  {
   "cell_type": "code",
   "execution_count": null,
   "metadata": {},
   "outputs": [],
   "source": [
    "# Create bar chart of grocery stores and warehouse clubs\n",
    "x_axis = np.arange(len(store_counts))\n",
    "plt.bar(x_axis,store_counts,color='g',align='center')\n",
    "\n",
    "# Set limits of chart\n",
    "plt.xlim(-0.75, len(x_axis)-0.25)\n",
    "plt.ylim(0,50)\n",
    "\n",
    "# Set up x-axis tick marks\n",
    "tick_locations = [value for value in x_axis]\n",
    "plt.xticks(tick_locations,x_labels,rotation=90) \n",
    "\n",
    "# Enter title and labels\n",
    "plt.title(\"Count of Grocery Stores in NE Ohio\")\n",
    "plt.xlabel(\"Store Name\")\n",
    "plt.ylabel(\"Count of Grocery Stores\")\n",
    "\n",
    "plt.tight_layout()\n",
    "plt.savefig(\"store_count_bar_chart.png\")\n",
    "plt.show()"
   ]
  },
  {
   "cell_type": "code",
   "execution_count": null,
   "metadata": {},
   "outputs": [],
   "source": [
    "# Create scatter plot of population vs grocery count by county\n",
    "# Determine store counts by county\n",
    "store_count_by_cty = complete_df.groupby(['County']).count()\n",
    "store_count_list = store_count_by_cty['Lat']\n",
    "store_count_list"
   ]
  },
  {
   "cell_type": "code",
   "execution_count": null,
   "metadata": {},
   "outputs": [],
   "source": [
    "# Hold list of counties needed for later figure\n",
    "counties = store_count_by_cty.index.to_list()\n",
    "\n",
    "#Get list of populations by county\n",
    "pop_list = complete_df['Population'].unique()\n",
    "cty_list = complete_df['County'].unique()\n",
    "pop_list_df = pd.DataFrame({\n",
    "    \"Population\":pop_list,\n",
    "    \"County\": cty_list })\n",
    "pop_list_sorted = pop_list_df.sort_values(by='County')\n",
    "pop_list_sorted"
   ]
  },
  {
   "cell_type": "code",
   "execution_count": null,
   "metadata": {},
   "outputs": [],
   "source": [
    "# Set up scatter plot\n",
    "plt.xlim(0,100)\n",
    "plt.ylim(0,1400000)\n",
    "plt.scatter(store_count_list,pop_list_num,marker='o')\n",
    "        \n",
    "# Set up title and labels\n",
    "plt.title(\"Store Count by Population\")\n",
    "plt.xlabel(\"Store Count\")\n",
    "plt.ylabel(\"Population\")\n",
    "\n",
    "# Save figure \n",
    "plt.savefig(\"store_count_vs_population.png\")\n",
    "plt.show()"
   ]
  },
  {
   "cell_type": "code",
   "execution_count": null,
   "metadata": {},
   "outputs": [],
   "source": [
    "# Remove commas and convert population column to numeric values\n",
    "pop_list_sorted['Population'] = pop_list_sorted['Population'].str.replace(',', '') #.astype(float)\n",
    "pop_list_num = pd.to_numeric(pop_list_sorted[\"Population\"])\n",
    "pop_list_num"
   ]
  },
  {
   "cell_type": "code",
   "execution_count": null,
   "metadata": {},
   "outputs": [],
   "source": [
    "# Calculate the correlation coefficient between population and store count\n",
    "store_count_list_reindex = store_count_list.reset_index(drop=True)\n",
    "correlation_df = pd.DataFrame({\"Store Count\": store_count_list_reindex, \"Population\": pop_list_num})\n",
    "\n",
    "#pearsoncorr = correlation_df.corr(method='pearson')\n",
    "#print(pearsoncorr)\n",
    "\n",
    "corr = st.pearsonr(store_count_list_reindex,pop_list_num)\n",
    "print(f\"The Pearson's Correlation Coefficient between county population and store count is {round(corr[0],2)}\")"
   ]
  },
  {
   "cell_type": "code",
   "execution_count": null,
   "metadata": {},
   "outputs": [],
   "source": [
    "# Perform a linear regression\n",
    "vc_slope, vc_int, vc_r, vc_p, vc_std_err = stats.linregress(store_count_list_reindex, pop_list_num)\n",
    "\n",
    "# Create equation of line to calculate predicted violent crime rate\n",
    "vc_fit = vc_slope * store_count_list_reindex + vc_int\n",
    "\n",
    "# Plot the linear model on top of scatter plot \n",
    "plt.scatter(store_count_list_reindex, pop_list_num, color='g')\n",
    "plt.plot(store_count_list_reindex,vc_fit,\"--\")\n",
    "plt.title(\"Store Count by Population with Linear Regression\")\n",
    "plt.xlabel(\"Store Count\")\n",
    "plt.ylabel(\"Population\")\n",
    "plt.xlim(0,100)\n",
    "plt.ylim(0,1400000)\n",
    "\n",
    "# Save plot\n",
    "plt.savefig(\"store_count_vs_pop_linearreg.png\")\n",
    "plt.show()"
   ]
  },
  {
   "cell_type": "code",
   "execution_count": null,
   "metadata": {},
   "outputs": [],
   "source": [
    "# Set up bar chart for store count by county\n",
    "x_labels2 = store_count_list.index.to_list()\n",
    "x_axis = np.arange(len(counties))\n",
    "plt.bar(x_axis,store_count_list,color='r',align='center',zorder=3)\n",
    "\n",
    "# Set limits of chart\n",
    "plt.xlim(-0.75, len(x_axis)-0.25)\n",
    "plt.ylim(0,100)\n",
    "\n",
    "# Set up x-axis tick marks\n",
    "tick_locations = [value for value in x_axis]\n",
    "plt.xticks(tick_locations,x_labels2,rotation=90) \n",
    "\n",
    "# Enter title and labels\n",
    "plt.title(\"Count of Grocery Stores by County\")\n",
    "plt.xlabel(\"County\")\n",
    "plt.ylabel(\"Count of Grocery Stores\")\n",
    "\n",
    "plt.tight_layout()\n",
    "plt.savefig(\"store_count_by_county.png\")\n",
    "plt.grid(zorder=0)\n",
    "plt.show()"
   ]
  },
  {
   "cell_type": "code",
   "execution_count": null,
   "metadata": {},
   "outputs": [],
   "source": []
  },
  {
   "cell_type": "code",
   "execution_count": null,
   "metadata": {},
   "outputs": [],
   "source": [
    "# Create scatter plot of poverty rate vs grocery count by county\n",
    "# Get list of poverty rates by county\n",
    "pov_rate_list = complete_df['Poverty Rate'].unique()\n",
    "pov_rate_df = pd.DataFrame({\n",
    "    \"Poverty Rate\": pov_rate_list,\n",
    "    \"County\": cty_list })\n",
    "pov_rate_sorted = pov_rate_df.sort_values(by='County')\n",
    "pov_rate_sorted"
   ]
  },
  {
   "cell_type": "code",
   "execution_count": null,
   "metadata": {},
   "outputs": [],
   "source": [
    "# Remove percentages and convert population column to numeric values\n",
    "pov_rate_sorted['Poverty Rate'] = pov_rate_sorted['Poverty Rate'].str.replace('%', '')\n",
    "pov_rate_num = pd.to_numeric(pov_rate_sorted[\"Poverty Rate\"])\n",
    "pov_rate_num"
   ]
  },
  {
   "cell_type": "code",
   "execution_count": null,
   "metadata": {},
   "outputs": [],
   "source": [
    "# Set up scatter plot\n",
    "plt.xlim(0,100)\n",
    "plt.ylim(0,25)\n",
    "plt.scatter(store_count_list,pov_rate_num,marker='o',zorder=3)\n",
    "        \n",
    "# Set up title and labels\n",
    "plt.title(\"Store Count vs Poverty Rate\")\n",
    "plt.xlabel(\"Store Count\")\n",
    "plt.ylabel(\"Poverty Rate (%)\")\n",
    "\n",
    "# Save figure \n",
    "plt.savefig(\"store_count_vs_povertyrate.png\")\n",
    "plt.grid(zorder=0)\n",
    "plt.show()"
   ]
  },
  {
   "cell_type": "code",
   "execution_count": null,
   "metadata": {},
   "outputs": [],
   "source": [
    "correlation = st.pearsonr(store_count_list_reindex,pov_rate_num)\n",
    "print(f\"The Pearson's Correlation Coefficient between county poverty rate and store count is {round(correlation[0],2)}\")"
   ]
  },
  {
   "cell_type": "code",
   "execution_count": 56,
   "metadata": {},
   "outputs": [
    {
     "output_type": "execute_result",
     "data": {
      "text/plain": "                   Income             County\n4   $              44,823   Ashtabula County\n11  $              46,306  Columbiana County\n1   $              48,435    Cuyahoga County\n7   $              79,956      Geauga County\n5   $              63,475        Lake County\n2   $              56,965      Lorain County\n3   $              44,682    Mahoning County\n8   $              74,243      Medina County\n9   $              56,618     Portage County\n6   $              52,190       Stark County\n0   $              55,448      Summit County\n10  $              45,975    Trumbull County",
      "text/html": "<div>\n<style scoped>\n    .dataframe tbody tr th:only-of-type {\n        vertical-align: middle;\n    }\n\n    .dataframe tbody tr th {\n        vertical-align: top;\n    }\n\n    .dataframe thead th {\n        text-align: right;\n    }\n</style>\n<table border=\"1\" class=\"dataframe\">\n  <thead>\n    <tr style=\"text-align: right;\">\n      <th></th>\n      <th>Income</th>\n      <th>County</th>\n    </tr>\n  </thead>\n  <tbody>\n    <tr>\n      <th>4</th>\n      <td>$              44,823</td>\n      <td>Ashtabula County</td>\n    </tr>\n    <tr>\n      <th>11</th>\n      <td>$              46,306</td>\n      <td>Columbiana County</td>\n    </tr>\n    <tr>\n      <th>1</th>\n      <td>$              48,435</td>\n      <td>Cuyahoga County</td>\n    </tr>\n    <tr>\n      <th>7</th>\n      <td>$              79,956</td>\n      <td>Geauga County</td>\n    </tr>\n    <tr>\n      <th>5</th>\n      <td>$              63,475</td>\n      <td>Lake County</td>\n    </tr>\n    <tr>\n      <th>2</th>\n      <td>$              56,965</td>\n      <td>Lorain County</td>\n    </tr>\n    <tr>\n      <th>3</th>\n      <td>$              44,682</td>\n      <td>Mahoning County</td>\n    </tr>\n    <tr>\n      <th>8</th>\n      <td>$              74,243</td>\n      <td>Medina County</td>\n    </tr>\n    <tr>\n      <th>9</th>\n      <td>$              56,618</td>\n      <td>Portage County</td>\n    </tr>\n    <tr>\n      <th>6</th>\n      <td>$              52,190</td>\n      <td>Stark County</td>\n    </tr>\n    <tr>\n      <th>0</th>\n      <td>$              55,448</td>\n      <td>Summit County</td>\n    </tr>\n    <tr>\n      <th>10</th>\n      <td>$              45,975</td>\n      <td>Trumbull County</td>\n    </tr>\n  </tbody>\n</table>\n</div>"
     },
     "metadata": {},
     "execution_count": 56
    }
   ],
   "source": [
    "# Create scatter plot of income vs grocery count by county\n",
    "# Get list of incomes by county\n",
    "income_list = complete_df['Household Income'].unique()\n",
    "income_df = pd.DataFrame({\n",
    "    \"Income\": income_list,\n",
    "    \"County\": cty_list })\n",
    "income_sorted = income_df.sort_values(by='County')\n",
    "income_sorted"
   ]
  },
  {
   "cell_type": "code",
   "execution_count": 57,
   "metadata": {},
   "outputs": [
    {
     "output_type": "execute_result",
     "data": {
      "text/plain": "4     44823\n11    46306\n1     48435\n7     79956\n5     63475\n2     56965\n3     44682\n8     74243\n9     56618\n6     52190\n0     55448\n10    45975\nName: Income, dtype: int64"
     },
     "metadata": {},
     "execution_count": 57
    }
   ],
   "source": [
    "# Remove dollar signs and commas and convert to numeric\n",
    "income_sorted['Income'] = income_sorted['Income'].str.replace('$', '')\n",
    "income_sorted['Income'] = income_sorted['Income'].str.replace(',', '')\n",
    "income_num = pd.to_numeric(income_sorted[\"Income\"])\n",
    "income_num"
   ]
  },
  {
   "cell_type": "code",
   "execution_count": 58,
   "metadata": {},
   "outputs": [
    {
     "output_type": "display_data",
     "data": {
      "text/plain": "<Figure size 432x288 with 1 Axes>",
      "image/svg+xml": "<?xml version=\"1.0\" encoding=\"utf-8\" standalone=\"no\"?>\r\n<!DOCTYPE svg PUBLIC \"-//W3C//DTD SVG 1.1//EN\"\r\n  \"http://www.w3.org/Graphics/SVG/1.1/DTD/svg11.dtd\">\r\n<!-- Created with matplotlib (https://matplotlib.org/) -->\r\n<svg height=\"277.314375pt\" version=\"1.1\" viewBox=\"0 0 417.596875 277.314375\" width=\"417.596875pt\" xmlns=\"http://www.w3.org/2000/svg\" xmlns:xlink=\"http://www.w3.org/1999/xlink\">\r\n <defs>\r\n  <style type=\"text/css\">\r\n*{stroke-linecap:butt;stroke-linejoin:round;}\r\n  </style>\r\n </defs>\r\n <g id=\"figure_1\">\r\n  <g id=\"patch_1\">\r\n   <path d=\"M 0 277.314375 \r\nL 417.596875 277.314375 \r\nL 417.596875 0 \r\nL 0 0 \r\nz\r\n\" style=\"fill:none;\"/>\r\n  </g>\r\n  <g id=\"axes_1\">\r\n   <g id=\"patch_2\">\r\n    <path d=\"M 66.053125 239.758125 \r\nL 400.853125 239.758125 \r\nL 400.853125 22.318125 \r\nL 66.053125 22.318125 \r\nz\r\n\" style=\"fill:#ffffff;\"/>\r\n   </g>\r\n   <g id=\"matplotlib.axis_1\">\r\n    <g id=\"xtick_1\">\r\n     <g id=\"line2d_1\">\r\n      <path clip-path=\"url(#p515e128ce0)\" d=\"M 66.053125 239.758125 \r\nL 66.053125 22.318125 \r\n\" style=\"fill:none;stroke:#b0b0b0;stroke-linecap:square;stroke-width:0.8;\"/>\r\n     </g>\r\n     <g id=\"line2d_2\">\r\n      <defs>\r\n       <path d=\"M 0 0 \r\nL 0 3.5 \r\n\" id=\"m699bde2bee\" style=\"stroke:#000000;stroke-width:0.8;\"/>\r\n      </defs>\r\n      <g>\r\n       <use style=\"stroke:#000000;stroke-width:0.8;\" x=\"66.053125\" xlink:href=\"#m699bde2bee\" y=\"239.758125\"/>\r\n      </g>\r\n     </g>\r\n     <g id=\"text_1\">\r\n      <!-- 0 -->\r\n      <defs>\r\n       <path d=\"M 31.78125 66.40625 \r\nQ 24.171875 66.40625 20.328125 58.90625 \r\nQ 16.5 51.421875 16.5 36.375 \r\nQ 16.5 21.390625 20.328125 13.890625 \r\nQ 24.171875 6.390625 31.78125 6.390625 \r\nQ 39.453125 6.390625 43.28125 13.890625 \r\nQ 47.125 21.390625 47.125 36.375 \r\nQ 47.125 51.421875 43.28125 58.90625 \r\nQ 39.453125 66.40625 31.78125 66.40625 \r\nz\r\nM 31.78125 74.21875 \r\nQ 44.046875 74.21875 50.515625 64.515625 \r\nQ 56.984375 54.828125 56.984375 36.375 \r\nQ 56.984375 17.96875 50.515625 8.265625 \r\nQ 44.046875 -1.421875 31.78125 -1.421875 \r\nQ 19.53125 -1.421875 13.0625 8.265625 \r\nQ 6.59375 17.96875 6.59375 36.375 \r\nQ 6.59375 54.828125 13.0625 64.515625 \r\nQ 19.53125 74.21875 31.78125 74.21875 \r\nz\r\n\" id=\"DejaVuSans-48\"/>\r\n      </defs>\r\n      <g transform=\"translate(62.871875 254.356562)scale(0.1 -0.1)\">\r\n       <use xlink:href=\"#DejaVuSans-48\"/>\r\n      </g>\r\n     </g>\r\n    </g>\r\n    <g id=\"xtick_2\">\r\n     <g id=\"line2d_3\">\r\n      <path clip-path=\"url(#p515e128ce0)\" d=\"M 133.013125 239.758125 \r\nL 133.013125 22.318125 \r\n\" style=\"fill:none;stroke:#b0b0b0;stroke-linecap:square;stroke-width:0.8;\"/>\r\n     </g>\r\n     <g id=\"line2d_4\">\r\n      <g>\r\n       <use style=\"stroke:#000000;stroke-width:0.8;\" x=\"133.013125\" xlink:href=\"#m699bde2bee\" y=\"239.758125\"/>\r\n      </g>\r\n     </g>\r\n     <g id=\"text_2\">\r\n      <!-- 20 -->\r\n      <defs>\r\n       <path d=\"M 19.1875 8.296875 \r\nL 53.609375 8.296875 \r\nL 53.609375 0 \r\nL 7.328125 0 \r\nL 7.328125 8.296875 \r\nQ 12.9375 14.109375 22.625 23.890625 \r\nQ 32.328125 33.6875 34.8125 36.53125 \r\nQ 39.546875 41.84375 41.421875 45.53125 \r\nQ 43.3125 49.21875 43.3125 52.78125 \r\nQ 43.3125 58.59375 39.234375 62.25 \r\nQ 35.15625 65.921875 28.609375 65.921875 \r\nQ 23.96875 65.921875 18.8125 64.3125 \r\nQ 13.671875 62.703125 7.8125 59.421875 \r\nL 7.8125 69.390625 \r\nQ 13.765625 71.78125 18.9375 73 \r\nQ 24.125 74.21875 28.421875 74.21875 \r\nQ 39.75 74.21875 46.484375 68.546875 \r\nQ 53.21875 62.890625 53.21875 53.421875 \r\nQ 53.21875 48.921875 51.53125 44.890625 \r\nQ 49.859375 40.875 45.40625 35.40625 \r\nQ 44.1875 33.984375 37.640625 27.21875 \r\nQ 31.109375 20.453125 19.1875 8.296875 \r\nz\r\n\" id=\"DejaVuSans-50\"/>\r\n      </defs>\r\n      <g transform=\"translate(126.650625 254.356562)scale(0.1 -0.1)\">\r\n       <use xlink:href=\"#DejaVuSans-50\"/>\r\n       <use x=\"63.623047\" xlink:href=\"#DejaVuSans-48\"/>\r\n      </g>\r\n     </g>\r\n    </g>\r\n    <g id=\"xtick_3\">\r\n     <g id=\"line2d_5\">\r\n      <path clip-path=\"url(#p515e128ce0)\" d=\"M 199.973125 239.758125 \r\nL 199.973125 22.318125 \r\n\" style=\"fill:none;stroke:#b0b0b0;stroke-linecap:square;stroke-width:0.8;\"/>\r\n     </g>\r\n     <g id=\"line2d_6\">\r\n      <g>\r\n       <use style=\"stroke:#000000;stroke-width:0.8;\" x=\"199.973125\" xlink:href=\"#m699bde2bee\" y=\"239.758125\"/>\r\n      </g>\r\n     </g>\r\n     <g id=\"text_3\">\r\n      <!-- 40 -->\r\n      <defs>\r\n       <path d=\"M 37.796875 64.3125 \r\nL 12.890625 25.390625 \r\nL 37.796875 25.390625 \r\nz\r\nM 35.203125 72.90625 \r\nL 47.609375 72.90625 \r\nL 47.609375 25.390625 \r\nL 58.015625 25.390625 \r\nL 58.015625 17.1875 \r\nL 47.609375 17.1875 \r\nL 47.609375 0 \r\nL 37.796875 0 \r\nL 37.796875 17.1875 \r\nL 4.890625 17.1875 \r\nL 4.890625 26.703125 \r\nz\r\n\" id=\"DejaVuSans-52\"/>\r\n      </defs>\r\n      <g transform=\"translate(193.610625 254.356562)scale(0.1 -0.1)\">\r\n       <use xlink:href=\"#DejaVuSans-52\"/>\r\n       <use x=\"63.623047\" xlink:href=\"#DejaVuSans-48\"/>\r\n      </g>\r\n     </g>\r\n    </g>\r\n    <g id=\"xtick_4\">\r\n     <g id=\"line2d_7\">\r\n      <path clip-path=\"url(#p515e128ce0)\" d=\"M 266.933125 239.758125 \r\nL 266.933125 22.318125 \r\n\" style=\"fill:none;stroke:#b0b0b0;stroke-linecap:square;stroke-width:0.8;\"/>\r\n     </g>\r\n     <g id=\"line2d_8\">\r\n      <g>\r\n       <use style=\"stroke:#000000;stroke-width:0.8;\" x=\"266.933125\" xlink:href=\"#m699bde2bee\" y=\"239.758125\"/>\r\n      </g>\r\n     </g>\r\n     <g id=\"text_4\">\r\n      <!-- 60 -->\r\n      <defs>\r\n       <path d=\"M 33.015625 40.375 \r\nQ 26.375 40.375 22.484375 35.828125 \r\nQ 18.609375 31.296875 18.609375 23.390625 \r\nQ 18.609375 15.53125 22.484375 10.953125 \r\nQ 26.375 6.390625 33.015625 6.390625 \r\nQ 39.65625 6.390625 43.53125 10.953125 \r\nQ 47.40625 15.53125 47.40625 23.390625 \r\nQ 47.40625 31.296875 43.53125 35.828125 \r\nQ 39.65625 40.375 33.015625 40.375 \r\nz\r\nM 52.59375 71.296875 \r\nL 52.59375 62.3125 \r\nQ 48.875 64.0625 45.09375 64.984375 \r\nQ 41.3125 65.921875 37.59375 65.921875 \r\nQ 27.828125 65.921875 22.671875 59.328125 \r\nQ 17.53125 52.734375 16.796875 39.40625 \r\nQ 19.671875 43.65625 24.015625 45.921875 \r\nQ 28.375 48.1875 33.59375 48.1875 \r\nQ 44.578125 48.1875 50.953125 41.515625 \r\nQ 57.328125 34.859375 57.328125 23.390625 \r\nQ 57.328125 12.15625 50.6875 5.359375 \r\nQ 44.046875 -1.421875 33.015625 -1.421875 \r\nQ 20.359375 -1.421875 13.671875 8.265625 \r\nQ 6.984375 17.96875 6.984375 36.375 \r\nQ 6.984375 53.65625 15.1875 63.9375 \r\nQ 23.390625 74.21875 37.203125 74.21875 \r\nQ 40.921875 74.21875 44.703125 73.484375 \r\nQ 48.484375 72.75 52.59375 71.296875 \r\nz\r\n\" id=\"DejaVuSans-54\"/>\r\n      </defs>\r\n      <g transform=\"translate(260.570625 254.356562)scale(0.1 -0.1)\">\r\n       <use xlink:href=\"#DejaVuSans-54\"/>\r\n       <use x=\"63.623047\" xlink:href=\"#DejaVuSans-48\"/>\r\n      </g>\r\n     </g>\r\n    </g>\r\n    <g id=\"xtick_5\">\r\n     <g id=\"line2d_9\">\r\n      <path clip-path=\"url(#p515e128ce0)\" d=\"M 333.893125 239.758125 \r\nL 333.893125 22.318125 \r\n\" style=\"fill:none;stroke:#b0b0b0;stroke-linecap:square;stroke-width:0.8;\"/>\r\n     </g>\r\n     <g id=\"line2d_10\">\r\n      <g>\r\n       <use style=\"stroke:#000000;stroke-width:0.8;\" x=\"333.893125\" xlink:href=\"#m699bde2bee\" y=\"239.758125\"/>\r\n      </g>\r\n     </g>\r\n     <g id=\"text_5\">\r\n      <!-- 80 -->\r\n      <defs>\r\n       <path d=\"M 31.78125 34.625 \r\nQ 24.75 34.625 20.71875 30.859375 \r\nQ 16.703125 27.09375 16.703125 20.515625 \r\nQ 16.703125 13.921875 20.71875 10.15625 \r\nQ 24.75 6.390625 31.78125 6.390625 \r\nQ 38.8125 6.390625 42.859375 10.171875 \r\nQ 46.921875 13.96875 46.921875 20.515625 \r\nQ 46.921875 27.09375 42.890625 30.859375 \r\nQ 38.875 34.625 31.78125 34.625 \r\nz\r\nM 21.921875 38.8125 \r\nQ 15.578125 40.375 12.03125 44.71875 \r\nQ 8.5 49.078125 8.5 55.328125 \r\nQ 8.5 64.0625 14.71875 69.140625 \r\nQ 20.953125 74.21875 31.78125 74.21875 \r\nQ 42.671875 74.21875 48.875 69.140625 \r\nQ 55.078125 64.0625 55.078125 55.328125 \r\nQ 55.078125 49.078125 51.53125 44.71875 \r\nQ 48 40.375 41.703125 38.8125 \r\nQ 48.828125 37.15625 52.796875 32.3125 \r\nQ 56.78125 27.484375 56.78125 20.515625 \r\nQ 56.78125 9.90625 50.3125 4.234375 \r\nQ 43.84375 -1.421875 31.78125 -1.421875 \r\nQ 19.734375 -1.421875 13.25 4.234375 \r\nQ 6.78125 9.90625 6.78125 20.515625 \r\nQ 6.78125 27.484375 10.78125 32.3125 \r\nQ 14.796875 37.15625 21.921875 38.8125 \r\nz\r\nM 18.3125 54.390625 \r\nQ 18.3125 48.734375 21.84375 45.5625 \r\nQ 25.390625 42.390625 31.78125 42.390625 \r\nQ 38.140625 42.390625 41.71875 45.5625 \r\nQ 45.3125 48.734375 45.3125 54.390625 \r\nQ 45.3125 60.0625 41.71875 63.234375 \r\nQ 38.140625 66.40625 31.78125 66.40625 \r\nQ 25.390625 66.40625 21.84375 63.234375 \r\nQ 18.3125 60.0625 18.3125 54.390625 \r\nz\r\n\" id=\"DejaVuSans-56\"/>\r\n      </defs>\r\n      <g transform=\"translate(327.530625 254.356562)scale(0.1 -0.1)\">\r\n       <use xlink:href=\"#DejaVuSans-56\"/>\r\n       <use x=\"63.623047\" xlink:href=\"#DejaVuSans-48\"/>\r\n      </g>\r\n     </g>\r\n    </g>\r\n    <g id=\"xtick_6\">\r\n     <g id=\"line2d_11\">\r\n      <path clip-path=\"url(#p515e128ce0)\" d=\"M 400.853125 239.758125 \r\nL 400.853125 22.318125 \r\n\" style=\"fill:none;stroke:#b0b0b0;stroke-linecap:square;stroke-width:0.8;\"/>\r\n     </g>\r\n     <g id=\"line2d_12\">\r\n      <g>\r\n       <use style=\"stroke:#000000;stroke-width:0.8;\" x=\"400.853125\" xlink:href=\"#m699bde2bee\" y=\"239.758125\"/>\r\n      </g>\r\n     </g>\r\n     <g id=\"text_6\">\r\n      <!-- 100 -->\r\n      <defs>\r\n       <path d=\"M 12.40625 8.296875 \r\nL 28.515625 8.296875 \r\nL 28.515625 63.921875 \r\nL 10.984375 60.40625 \r\nL 10.984375 69.390625 \r\nL 28.421875 72.90625 \r\nL 38.28125 72.90625 \r\nL 38.28125 8.296875 \r\nL 54.390625 8.296875 \r\nL 54.390625 0 \r\nL 12.40625 0 \r\nz\r\n\" id=\"DejaVuSans-49\"/>\r\n      </defs>\r\n      <g transform=\"translate(391.309375 254.356562)scale(0.1 -0.1)\">\r\n       <use xlink:href=\"#DejaVuSans-49\"/>\r\n       <use x=\"63.623047\" xlink:href=\"#DejaVuSans-48\"/>\r\n       <use x=\"127.246094\" xlink:href=\"#DejaVuSans-48\"/>\r\n      </g>\r\n     </g>\r\n    </g>\r\n    <g id=\"text_7\">\r\n     <!-- Store Count -->\r\n     <defs>\r\n      <path d=\"M 53.515625 70.515625 \r\nL 53.515625 60.890625 \r\nQ 47.90625 63.578125 42.921875 64.890625 \r\nQ 37.9375 66.21875 33.296875 66.21875 \r\nQ 25.25 66.21875 20.875 63.09375 \r\nQ 16.5 59.96875 16.5 54.203125 \r\nQ 16.5 49.359375 19.40625 46.890625 \r\nQ 22.3125 44.4375 30.421875 42.921875 \r\nL 36.375 41.703125 \r\nQ 47.40625 39.59375 52.65625 34.296875 \r\nQ 57.90625 29 57.90625 20.125 \r\nQ 57.90625 9.515625 50.796875 4.046875 \r\nQ 43.703125 -1.421875 29.984375 -1.421875 \r\nQ 24.8125 -1.421875 18.96875 -0.25 \r\nQ 13.140625 0.921875 6.890625 3.21875 \r\nL 6.890625 13.375 \r\nQ 12.890625 10.015625 18.65625 8.296875 \r\nQ 24.421875 6.59375 29.984375 6.59375 \r\nQ 38.421875 6.59375 43.015625 9.90625 \r\nQ 47.609375 13.234375 47.609375 19.390625 \r\nQ 47.609375 24.75 44.3125 27.78125 \r\nQ 41.015625 30.8125 33.5 32.328125 \r\nL 27.484375 33.5 \r\nQ 16.453125 35.6875 11.515625 40.375 \r\nQ 6.59375 45.0625 6.59375 53.421875 \r\nQ 6.59375 63.09375 13.40625 68.65625 \r\nQ 20.21875 74.21875 32.171875 74.21875 \r\nQ 37.3125 74.21875 42.625 73.28125 \r\nQ 47.953125 72.359375 53.515625 70.515625 \r\nz\r\n\" id=\"DejaVuSans-83\"/>\r\n      <path d=\"M 18.3125 70.21875 \r\nL 18.3125 54.6875 \r\nL 36.8125 54.6875 \r\nL 36.8125 47.703125 \r\nL 18.3125 47.703125 \r\nL 18.3125 18.015625 \r\nQ 18.3125 11.328125 20.140625 9.421875 \r\nQ 21.96875 7.515625 27.59375 7.515625 \r\nL 36.8125 7.515625 \r\nL 36.8125 0 \r\nL 27.59375 0 \r\nQ 17.1875 0 13.234375 3.875 \r\nQ 9.28125 7.765625 9.28125 18.015625 \r\nL 9.28125 47.703125 \r\nL 2.6875 47.703125 \r\nL 2.6875 54.6875 \r\nL 9.28125 54.6875 \r\nL 9.28125 70.21875 \r\nz\r\n\" id=\"DejaVuSans-116\"/>\r\n      <path d=\"M 30.609375 48.390625 \r\nQ 23.390625 48.390625 19.1875 42.75 \r\nQ 14.984375 37.109375 14.984375 27.296875 \r\nQ 14.984375 17.484375 19.15625 11.84375 \r\nQ 23.34375 6.203125 30.609375 6.203125 \r\nQ 37.796875 6.203125 41.984375 11.859375 \r\nQ 46.1875 17.53125 46.1875 27.296875 \r\nQ 46.1875 37.015625 41.984375 42.703125 \r\nQ 37.796875 48.390625 30.609375 48.390625 \r\nz\r\nM 30.609375 56 \r\nQ 42.328125 56 49.015625 48.375 \r\nQ 55.71875 40.765625 55.71875 27.296875 \r\nQ 55.71875 13.875 49.015625 6.21875 \r\nQ 42.328125 -1.421875 30.609375 -1.421875 \r\nQ 18.84375 -1.421875 12.171875 6.21875 \r\nQ 5.515625 13.875 5.515625 27.296875 \r\nQ 5.515625 40.765625 12.171875 48.375 \r\nQ 18.84375 56 30.609375 56 \r\nz\r\n\" id=\"DejaVuSans-111\"/>\r\n      <path d=\"M 41.109375 46.296875 \r\nQ 39.59375 47.171875 37.8125 47.578125 \r\nQ 36.03125 48 33.890625 48 \r\nQ 26.265625 48 22.1875 43.046875 \r\nQ 18.109375 38.09375 18.109375 28.8125 \r\nL 18.109375 0 \r\nL 9.078125 0 \r\nL 9.078125 54.6875 \r\nL 18.109375 54.6875 \r\nL 18.109375 46.1875 \r\nQ 20.953125 51.171875 25.484375 53.578125 \r\nQ 30.03125 56 36.53125 56 \r\nQ 37.453125 56 38.578125 55.875 \r\nQ 39.703125 55.765625 41.0625 55.515625 \r\nz\r\n\" id=\"DejaVuSans-114\"/>\r\n      <path d=\"M 56.203125 29.59375 \r\nL 56.203125 25.203125 \r\nL 14.890625 25.203125 \r\nQ 15.484375 15.921875 20.484375 11.0625 \r\nQ 25.484375 6.203125 34.421875 6.203125 \r\nQ 39.59375 6.203125 44.453125 7.46875 \r\nQ 49.3125 8.734375 54.109375 11.28125 \r\nL 54.109375 2.78125 \r\nQ 49.265625 0.734375 44.1875 -0.34375 \r\nQ 39.109375 -1.421875 33.890625 -1.421875 \r\nQ 20.796875 -1.421875 13.15625 6.1875 \r\nQ 5.515625 13.8125 5.515625 26.8125 \r\nQ 5.515625 40.234375 12.765625 48.109375 \r\nQ 20.015625 56 32.328125 56 \r\nQ 43.359375 56 49.78125 48.890625 \r\nQ 56.203125 41.796875 56.203125 29.59375 \r\nz\r\nM 47.21875 32.234375 \r\nQ 47.125 39.59375 43.09375 43.984375 \r\nQ 39.0625 48.390625 32.421875 48.390625 \r\nQ 24.90625 48.390625 20.390625 44.140625 \r\nQ 15.875 39.890625 15.1875 32.171875 \r\nz\r\n\" id=\"DejaVuSans-101\"/>\r\n      <path id=\"DejaVuSans-32\"/>\r\n      <path d=\"M 64.40625 67.28125 \r\nL 64.40625 56.890625 \r\nQ 59.421875 61.53125 53.78125 63.8125 \r\nQ 48.140625 66.109375 41.796875 66.109375 \r\nQ 29.296875 66.109375 22.65625 58.46875 \r\nQ 16.015625 50.828125 16.015625 36.375 \r\nQ 16.015625 21.96875 22.65625 14.328125 \r\nQ 29.296875 6.6875 41.796875 6.6875 \r\nQ 48.140625 6.6875 53.78125 8.984375 \r\nQ 59.421875 11.28125 64.40625 15.921875 \r\nL 64.40625 5.609375 \r\nQ 59.234375 2.09375 53.4375 0.328125 \r\nQ 47.65625 -1.421875 41.21875 -1.421875 \r\nQ 24.65625 -1.421875 15.125 8.703125 \r\nQ 5.609375 18.84375 5.609375 36.375 \r\nQ 5.609375 53.953125 15.125 64.078125 \r\nQ 24.65625 74.21875 41.21875 74.21875 \r\nQ 47.75 74.21875 53.53125 72.484375 \r\nQ 59.328125 70.75 64.40625 67.28125 \r\nz\r\n\" id=\"DejaVuSans-67\"/>\r\n      <path d=\"M 8.5 21.578125 \r\nL 8.5 54.6875 \r\nL 17.484375 54.6875 \r\nL 17.484375 21.921875 \r\nQ 17.484375 14.15625 20.5 10.265625 \r\nQ 23.53125 6.390625 29.59375 6.390625 \r\nQ 36.859375 6.390625 41.078125 11.03125 \r\nQ 45.3125 15.671875 45.3125 23.6875 \r\nL 45.3125 54.6875 \r\nL 54.296875 54.6875 \r\nL 54.296875 0 \r\nL 45.3125 0 \r\nL 45.3125 8.40625 \r\nQ 42.046875 3.421875 37.71875 1 \r\nQ 33.40625 -1.421875 27.6875 -1.421875 \r\nQ 18.265625 -1.421875 13.375 4.4375 \r\nQ 8.5 10.296875 8.5 21.578125 \r\nz\r\nM 31.109375 56 \r\nz\r\n\" id=\"DejaVuSans-117\"/>\r\n      <path d=\"M 54.890625 33.015625 \r\nL 54.890625 0 \r\nL 45.90625 0 \r\nL 45.90625 32.71875 \r\nQ 45.90625 40.484375 42.875 44.328125 \r\nQ 39.84375 48.1875 33.796875 48.1875 \r\nQ 26.515625 48.1875 22.3125 43.546875 \r\nQ 18.109375 38.921875 18.109375 30.90625 \r\nL 18.109375 0 \r\nL 9.078125 0 \r\nL 9.078125 54.6875 \r\nL 18.109375 54.6875 \r\nL 18.109375 46.1875 \r\nQ 21.34375 51.125 25.703125 53.5625 \r\nQ 30.078125 56 35.796875 56 \r\nQ 45.21875 56 50.046875 50.171875 \r\nQ 54.890625 44.34375 54.890625 33.015625 \r\nz\r\n\" id=\"DejaVuSans-110\"/>\r\n     </defs>\r\n     <g transform=\"translate(203.691406 268.034687)scale(0.1 -0.1)\">\r\n      <use xlink:href=\"#DejaVuSans-83\"/>\r\n      <use x=\"63.476562\" xlink:href=\"#DejaVuSans-116\"/>\r\n      <use x=\"102.685547\" xlink:href=\"#DejaVuSans-111\"/>\r\n      <use x=\"163.867188\" xlink:href=\"#DejaVuSans-114\"/>\r\n      <use x=\"204.949219\" xlink:href=\"#DejaVuSans-101\"/>\r\n      <use x=\"266.472656\" xlink:href=\"#DejaVuSans-32\"/>\r\n      <use x=\"298.259766\" xlink:href=\"#DejaVuSans-67\"/>\r\n      <use x=\"368.083984\" xlink:href=\"#DejaVuSans-111\"/>\r\n      <use x=\"429.265625\" xlink:href=\"#DejaVuSans-117\"/>\r\n      <use x=\"492.644531\" xlink:href=\"#DejaVuSans-110\"/>\r\n      <use x=\"556.023438\" xlink:href=\"#DejaVuSans-116\"/>\r\n     </g>\r\n    </g>\r\n   </g>\r\n   <g id=\"matplotlib.axis_2\">\r\n    <g id=\"ytick_1\">\r\n     <g id=\"line2d_13\">\r\n      <path clip-path=\"url(#p515e128ce0)\" d=\"M 66.053125 239.758125 \r\nL 400.853125 239.758125 \r\n\" style=\"fill:none;stroke:#b0b0b0;stroke-linecap:square;stroke-width:0.8;\"/>\r\n     </g>\r\n     <g id=\"line2d_14\">\r\n      <defs>\r\n       <path d=\"M 0 0 \r\nL -3.5 0 \r\n\" id=\"m4311cc2cfa\" style=\"stroke:#000000;stroke-width:0.8;\"/>\r\n      </defs>\r\n      <g>\r\n       <use style=\"stroke:#000000;stroke-width:0.8;\" x=\"66.053125\" xlink:href=\"#m4311cc2cfa\" y=\"239.758125\"/>\r\n      </g>\r\n     </g>\r\n     <g id=\"text_8\">\r\n      <!-- 0 -->\r\n      <g transform=\"translate(52.690625 243.557344)scale(0.1 -0.1)\">\r\n       <use xlink:href=\"#DejaVuSans-48\"/>\r\n      </g>\r\n     </g>\r\n    </g>\r\n    <g id=\"ytick_2\">\r\n     <g id=\"line2d_15\">\r\n      <path clip-path=\"url(#p515e128ce0)\" d=\"M 66.053125 196.270125 \r\nL 400.853125 196.270125 \r\n\" style=\"fill:none;stroke:#b0b0b0;stroke-linecap:square;stroke-width:0.8;\"/>\r\n     </g>\r\n     <g id=\"line2d_16\">\r\n      <g>\r\n       <use style=\"stroke:#000000;stroke-width:0.8;\" x=\"66.053125\" xlink:href=\"#m4311cc2cfa\" y=\"196.270125\"/>\r\n      </g>\r\n     </g>\r\n     <g id=\"text_9\">\r\n      <!-- 20000 -->\r\n      <g transform=\"translate(27.240625 200.069344)scale(0.1 -0.1)\">\r\n       <use xlink:href=\"#DejaVuSans-50\"/>\r\n       <use x=\"63.623047\" xlink:href=\"#DejaVuSans-48\"/>\r\n       <use x=\"127.246094\" xlink:href=\"#DejaVuSans-48\"/>\r\n       <use x=\"190.869141\" xlink:href=\"#DejaVuSans-48\"/>\r\n       <use x=\"254.492188\" xlink:href=\"#DejaVuSans-48\"/>\r\n      </g>\r\n     </g>\r\n    </g>\r\n    <g id=\"ytick_3\">\r\n     <g id=\"line2d_17\">\r\n      <path clip-path=\"url(#p515e128ce0)\" d=\"M 66.053125 152.782125 \r\nL 400.853125 152.782125 \r\n\" style=\"fill:none;stroke:#b0b0b0;stroke-linecap:square;stroke-width:0.8;\"/>\r\n     </g>\r\n     <g id=\"line2d_18\">\r\n      <g>\r\n       <use style=\"stroke:#000000;stroke-width:0.8;\" x=\"66.053125\" xlink:href=\"#m4311cc2cfa\" y=\"152.782125\"/>\r\n      </g>\r\n     </g>\r\n     <g id=\"text_10\">\r\n      <!-- 40000 -->\r\n      <g transform=\"translate(27.240625 156.581344)scale(0.1 -0.1)\">\r\n       <use xlink:href=\"#DejaVuSans-52\"/>\r\n       <use x=\"63.623047\" xlink:href=\"#DejaVuSans-48\"/>\r\n       <use x=\"127.246094\" xlink:href=\"#DejaVuSans-48\"/>\r\n       <use x=\"190.869141\" xlink:href=\"#DejaVuSans-48\"/>\r\n       <use x=\"254.492188\" xlink:href=\"#DejaVuSans-48\"/>\r\n      </g>\r\n     </g>\r\n    </g>\r\n    <g id=\"ytick_4\">\r\n     <g id=\"line2d_19\">\r\n      <path clip-path=\"url(#p515e128ce0)\" d=\"M 66.053125 109.294125 \r\nL 400.853125 109.294125 \r\n\" style=\"fill:none;stroke:#b0b0b0;stroke-linecap:square;stroke-width:0.8;\"/>\r\n     </g>\r\n     <g id=\"line2d_20\">\r\n      <g>\r\n       <use style=\"stroke:#000000;stroke-width:0.8;\" x=\"66.053125\" xlink:href=\"#m4311cc2cfa\" y=\"109.294125\"/>\r\n      </g>\r\n     </g>\r\n     <g id=\"text_11\">\r\n      <!-- 60000 -->\r\n      <g transform=\"translate(27.240625 113.093344)scale(0.1 -0.1)\">\r\n       <use xlink:href=\"#DejaVuSans-54\"/>\r\n       <use x=\"63.623047\" xlink:href=\"#DejaVuSans-48\"/>\r\n       <use x=\"127.246094\" xlink:href=\"#DejaVuSans-48\"/>\r\n       <use x=\"190.869141\" xlink:href=\"#DejaVuSans-48\"/>\r\n       <use x=\"254.492188\" xlink:href=\"#DejaVuSans-48\"/>\r\n      </g>\r\n     </g>\r\n    </g>\r\n    <g id=\"ytick_5\">\r\n     <g id=\"line2d_21\">\r\n      <path clip-path=\"url(#p515e128ce0)\" d=\"M 66.053125 65.806125 \r\nL 400.853125 65.806125 \r\n\" style=\"fill:none;stroke:#b0b0b0;stroke-linecap:square;stroke-width:0.8;\"/>\r\n     </g>\r\n     <g id=\"line2d_22\">\r\n      <g>\r\n       <use style=\"stroke:#000000;stroke-width:0.8;\" x=\"66.053125\" xlink:href=\"#m4311cc2cfa\" y=\"65.806125\"/>\r\n      </g>\r\n     </g>\r\n     <g id=\"text_12\">\r\n      <!-- 80000 -->\r\n      <g transform=\"translate(27.240625 69.605344)scale(0.1 -0.1)\">\r\n       <use xlink:href=\"#DejaVuSans-56\"/>\r\n       <use x=\"63.623047\" xlink:href=\"#DejaVuSans-48\"/>\r\n       <use x=\"127.246094\" xlink:href=\"#DejaVuSans-48\"/>\r\n       <use x=\"190.869141\" xlink:href=\"#DejaVuSans-48\"/>\r\n       <use x=\"254.492188\" xlink:href=\"#DejaVuSans-48\"/>\r\n      </g>\r\n     </g>\r\n    </g>\r\n    <g id=\"ytick_6\">\r\n     <g id=\"line2d_23\">\r\n      <path clip-path=\"url(#p515e128ce0)\" d=\"M 66.053125 22.318125 \r\nL 400.853125 22.318125 \r\n\" style=\"fill:none;stroke:#b0b0b0;stroke-linecap:square;stroke-width:0.8;\"/>\r\n     </g>\r\n     <g id=\"line2d_24\">\r\n      <g>\r\n       <use style=\"stroke:#000000;stroke-width:0.8;\" x=\"66.053125\" xlink:href=\"#m4311cc2cfa\" y=\"22.318125\"/>\r\n      </g>\r\n     </g>\r\n     <g id=\"text_13\">\r\n      <!-- 100000 -->\r\n      <g transform=\"translate(20.878125 26.117344)scale(0.1 -0.1)\">\r\n       <use xlink:href=\"#DejaVuSans-49\"/>\r\n       <use x=\"63.623047\" xlink:href=\"#DejaVuSans-48\"/>\r\n       <use x=\"127.246094\" xlink:href=\"#DejaVuSans-48\"/>\r\n       <use x=\"190.869141\" xlink:href=\"#DejaVuSans-48\"/>\r\n       <use x=\"254.492188\" xlink:href=\"#DejaVuSans-48\"/>\r\n       <use x=\"318.115234\" xlink:href=\"#DejaVuSans-48\"/>\r\n      </g>\r\n     </g>\r\n    </g>\r\n    <g id=\"text_14\">\r\n     <!-- Household Income -->\r\n     <defs>\r\n      <path d=\"M 9.8125 72.90625 \r\nL 19.671875 72.90625 \r\nL 19.671875 43.015625 \r\nL 55.515625 43.015625 \r\nL 55.515625 72.90625 \r\nL 65.375 72.90625 \r\nL 65.375 0 \r\nL 55.515625 0 \r\nL 55.515625 34.71875 \r\nL 19.671875 34.71875 \r\nL 19.671875 0 \r\nL 9.8125 0 \r\nz\r\n\" id=\"DejaVuSans-72\"/>\r\n      <path d=\"M 44.28125 53.078125 \r\nL 44.28125 44.578125 \r\nQ 40.484375 46.53125 36.375 47.5 \r\nQ 32.28125 48.484375 27.875 48.484375 \r\nQ 21.1875 48.484375 17.84375 46.4375 \r\nQ 14.5 44.390625 14.5 40.28125 \r\nQ 14.5 37.15625 16.890625 35.375 \r\nQ 19.28125 33.59375 26.515625 31.984375 \r\nL 29.59375 31.296875 \r\nQ 39.15625 29.25 43.1875 25.515625 \r\nQ 47.21875 21.78125 47.21875 15.09375 \r\nQ 47.21875 7.46875 41.1875 3.015625 \r\nQ 35.15625 -1.421875 24.609375 -1.421875 \r\nQ 20.21875 -1.421875 15.453125 -0.5625 \r\nQ 10.6875 0.296875 5.421875 2 \r\nL 5.421875 11.28125 \r\nQ 10.40625 8.6875 15.234375 7.390625 \r\nQ 20.0625 6.109375 24.8125 6.109375 \r\nQ 31.15625 6.109375 34.5625 8.28125 \r\nQ 37.984375 10.453125 37.984375 14.40625 \r\nQ 37.984375 18.0625 35.515625 20.015625 \r\nQ 33.0625 21.96875 24.703125 23.78125 \r\nL 21.578125 24.515625 \r\nQ 13.234375 26.265625 9.515625 29.90625 \r\nQ 5.8125 33.546875 5.8125 39.890625 \r\nQ 5.8125 47.609375 11.28125 51.796875 \r\nQ 16.75 56 26.8125 56 \r\nQ 31.78125 56 36.171875 55.265625 \r\nQ 40.578125 54.546875 44.28125 53.078125 \r\nz\r\n\" id=\"DejaVuSans-115\"/>\r\n      <path d=\"M 54.890625 33.015625 \r\nL 54.890625 0 \r\nL 45.90625 0 \r\nL 45.90625 32.71875 \r\nQ 45.90625 40.484375 42.875 44.328125 \r\nQ 39.84375 48.1875 33.796875 48.1875 \r\nQ 26.515625 48.1875 22.3125 43.546875 \r\nQ 18.109375 38.921875 18.109375 30.90625 \r\nL 18.109375 0 \r\nL 9.078125 0 \r\nL 9.078125 75.984375 \r\nL 18.109375 75.984375 \r\nL 18.109375 46.1875 \r\nQ 21.34375 51.125 25.703125 53.5625 \r\nQ 30.078125 56 35.796875 56 \r\nQ 45.21875 56 50.046875 50.171875 \r\nQ 54.890625 44.34375 54.890625 33.015625 \r\nz\r\n\" id=\"DejaVuSans-104\"/>\r\n      <path d=\"M 9.421875 75.984375 \r\nL 18.40625 75.984375 \r\nL 18.40625 0 \r\nL 9.421875 0 \r\nz\r\n\" id=\"DejaVuSans-108\"/>\r\n      <path d=\"M 45.40625 46.390625 \r\nL 45.40625 75.984375 \r\nL 54.390625 75.984375 \r\nL 54.390625 0 \r\nL 45.40625 0 \r\nL 45.40625 8.203125 \r\nQ 42.578125 3.328125 38.25 0.953125 \r\nQ 33.9375 -1.421875 27.875 -1.421875 \r\nQ 17.96875 -1.421875 11.734375 6.484375 \r\nQ 5.515625 14.40625 5.515625 27.296875 \r\nQ 5.515625 40.1875 11.734375 48.09375 \r\nQ 17.96875 56 27.875 56 \r\nQ 33.9375 56 38.25 53.625 \r\nQ 42.578125 51.265625 45.40625 46.390625 \r\nz\r\nM 14.796875 27.296875 \r\nQ 14.796875 17.390625 18.875 11.75 \r\nQ 22.953125 6.109375 30.078125 6.109375 \r\nQ 37.203125 6.109375 41.296875 11.75 \r\nQ 45.40625 17.390625 45.40625 27.296875 \r\nQ 45.40625 37.203125 41.296875 42.84375 \r\nQ 37.203125 48.484375 30.078125 48.484375 \r\nQ 22.953125 48.484375 18.875 42.84375 \r\nQ 14.796875 37.203125 14.796875 27.296875 \r\nz\r\n\" id=\"DejaVuSans-100\"/>\r\n      <path d=\"M 9.8125 72.90625 \r\nL 19.671875 72.90625 \r\nL 19.671875 0 \r\nL 9.8125 0 \r\nz\r\n\" id=\"DejaVuSans-73\"/>\r\n      <path d=\"M 48.78125 52.59375 \r\nL 48.78125 44.1875 \r\nQ 44.96875 46.296875 41.140625 47.34375 \r\nQ 37.3125 48.390625 33.40625 48.390625 \r\nQ 24.65625 48.390625 19.8125 42.84375 \r\nQ 14.984375 37.3125 14.984375 27.296875 \r\nQ 14.984375 17.28125 19.8125 11.734375 \r\nQ 24.65625 6.203125 33.40625 6.203125 \r\nQ 37.3125 6.203125 41.140625 7.25 \r\nQ 44.96875 8.296875 48.78125 10.40625 \r\nL 48.78125 2.09375 \r\nQ 45.015625 0.34375 40.984375 -0.53125 \r\nQ 36.96875 -1.421875 32.421875 -1.421875 \r\nQ 20.0625 -1.421875 12.78125 6.34375 \r\nQ 5.515625 14.109375 5.515625 27.296875 \r\nQ 5.515625 40.671875 12.859375 48.328125 \r\nQ 20.21875 56 33.015625 56 \r\nQ 37.15625 56 41.109375 55.140625 \r\nQ 45.0625 54.296875 48.78125 52.59375 \r\nz\r\n\" id=\"DejaVuSans-99\"/>\r\n      <path d=\"M 52 44.1875 \r\nQ 55.375 50.25 60.0625 53.125 \r\nQ 64.75 56 71.09375 56 \r\nQ 79.640625 56 84.28125 50.015625 \r\nQ 88.921875 44.046875 88.921875 33.015625 \r\nL 88.921875 0 \r\nL 79.890625 0 \r\nL 79.890625 32.71875 \r\nQ 79.890625 40.578125 77.09375 44.375 \r\nQ 74.3125 48.1875 68.609375 48.1875 \r\nQ 61.625 48.1875 57.5625 43.546875 \r\nQ 53.515625 38.921875 53.515625 30.90625 \r\nL 53.515625 0 \r\nL 44.484375 0 \r\nL 44.484375 32.71875 \r\nQ 44.484375 40.625 41.703125 44.40625 \r\nQ 38.921875 48.1875 33.109375 48.1875 \r\nQ 26.21875 48.1875 22.15625 43.53125 \r\nQ 18.109375 38.875 18.109375 30.90625 \r\nL 18.109375 0 \r\nL 9.078125 0 \r\nL 9.078125 54.6875 \r\nL 18.109375 54.6875 \r\nL 18.109375 46.1875 \r\nQ 21.1875 51.21875 25.484375 53.609375 \r\nQ 29.78125 56 35.6875 56 \r\nQ 41.65625 56 45.828125 52.96875 \r\nQ 50 49.953125 52 44.1875 \r\nz\r\n\" id=\"DejaVuSans-109\"/>\r\n     </defs>\r\n     <g transform=\"translate(14.798438 177.487344)rotate(-90)scale(0.1 -0.1)\">\r\n      <use xlink:href=\"#DejaVuSans-72\"/>\r\n      <use x=\"75.195312\" xlink:href=\"#DejaVuSans-111\"/>\r\n      <use x=\"136.376953\" xlink:href=\"#DejaVuSans-117\"/>\r\n      <use x=\"199.755859\" xlink:href=\"#DejaVuSans-115\"/>\r\n      <use x=\"251.855469\" xlink:href=\"#DejaVuSans-101\"/>\r\n      <use x=\"313.378906\" xlink:href=\"#DejaVuSans-104\"/>\r\n      <use x=\"376.757812\" xlink:href=\"#DejaVuSans-111\"/>\r\n      <use x=\"437.939453\" xlink:href=\"#DejaVuSans-108\"/>\r\n      <use x=\"465.722656\" xlink:href=\"#DejaVuSans-100\"/>\r\n      <use x=\"529.199219\" xlink:href=\"#DejaVuSans-32\"/>\r\n      <use x=\"560.986328\" xlink:href=\"#DejaVuSans-73\"/>\r\n      <use x=\"590.478516\" xlink:href=\"#DejaVuSans-110\"/>\r\n      <use x=\"653.857422\" xlink:href=\"#DejaVuSans-99\"/>\r\n      <use x=\"708.837891\" xlink:href=\"#DejaVuSans-111\"/>\r\n      <use x=\"770.019531\" xlink:href=\"#DejaVuSans-109\"/>\r\n      <use x=\"867.431641\" xlink:href=\"#DejaVuSans-101\"/>\r\n     </g>\r\n    </g>\r\n   </g>\r\n   <g id=\"patch_3\">\r\n    <path d=\"M 66.053125 239.758125 \r\nL 66.053125 22.318125 \r\n\" style=\"fill:none;stroke:#000000;stroke-linecap:square;stroke-linejoin:miter;stroke-width:0.8;\"/>\r\n   </g>\r\n   <g id=\"patch_4\">\r\n    <path d=\"M 400.853125 239.758125 \r\nL 400.853125 22.318125 \r\n\" style=\"fill:none;stroke:#000000;stroke-linecap:square;stroke-linejoin:miter;stroke-width:0.8;\"/>\r\n   </g>\r\n   <g id=\"patch_5\">\r\n    <path d=\"M 66.053125 239.758125 \r\nL 400.853125 239.758125 \r\n\" style=\"fill:none;stroke:#000000;stroke-linecap:square;stroke-linejoin:miter;stroke-width:0.8;\"/>\r\n   </g>\r\n   <g id=\"patch_6\">\r\n    <path d=\"M 66.053125 22.318125 \r\nL 400.853125 22.318125 \r\n\" style=\"fill:none;stroke:#000000;stroke-linecap:square;stroke-linejoin:miter;stroke-width:0.8;\"/>\r\n   </g>\r\n   <g id=\"PathCollection_1\">\r\n    <defs>\r\n     <path d=\"M 0 3 \r\nC 0.795609 3 1.55874 2.683901 2.12132 2.12132 \r\nC 2.683901 1.55874 3 0.795609 3 0 \r\nC 3 -0.795609 2.683901 -1.55874 2.12132 -2.12132 \r\nC 1.55874 -2.683901 0.795609 -3 0 -3 \r\nC -0.795609 -3 -1.55874 -2.683901 -2.12132 -2.12132 \r\nC -2.683901 -1.55874 -3 -0.795609 -3 0 \r\nC -3 0.795609 -2.683901 1.55874 -2.12132 2.12132 \r\nC -1.55874 2.683901 -0.795609 3 0 3 \r\nz\r\n\" id=\"me3be1e8a04\" style=\"stroke:#1f77b4;\"/>\r\n    </defs>\r\n    <g clip-path=\"url(#p515e128ce0)\">\r\n     <use style=\"fill:#1f77b4;stroke:#1f77b4;\" x=\"89.489125\" xlink:href=\"#me3be1e8a04\" y=\"142.294994\"/>\r\n     <use style=\"fill:#1f77b4;stroke:#1f77b4;\" x=\"92.837125\" xlink:href=\"#me3be1e8a04\" y=\"139.070359\"/>\r\n     <use style=\"fill:#1f77b4;stroke:#1f77b4;\" x=\"333.893125\" xlink:href=\"#me3be1e8a04\" y=\"134.441061\"/>\r\n     <use style=\"fill:#1f77b4;stroke:#1f77b4;\" x=\"116.273125\" xlink:href=\"#me3be1e8a04\" y=\"65.901799\"/>\r\n     <use style=\"fill:#1f77b4;stroke:#1f77b4;\" x=\"153.101125\" xlink:href=\"#me3be1e8a04\" y=\"101.738085\"/>\r\n     <use style=\"fill:#1f77b4;stroke:#1f77b4;\" x=\"79.445125\" xlink:href=\"#me3be1e8a04\" y=\"115.893429\"/>\r\n     <use style=\"fill:#1f77b4;stroke:#1f77b4;\" x=\"133.013125\" xlink:href=\"#me3be1e8a04\" y=\"142.601584\"/>\r\n     <use style=\"fill:#1f77b4;stroke:#1f77b4;\" x=\"106.229125\" xlink:href=\"#me3be1e8a04\" y=\"78.324146\"/>\r\n     <use style=\"fill:#1f77b4;stroke:#1f77b4;\" x=\"116.273125\" xlink:href=\"#me3be1e8a04\" y=\"116.647946\"/>\r\n     <use style=\"fill:#1f77b4;stroke:#1f77b4;\" x=\"126.317125\" xlink:href=\"#me3be1e8a04\" y=\"126.276189\"/>\r\n     <use style=\"fill:#1f77b4;stroke:#1f77b4;\" x=\"236.801125\" xlink:href=\"#me3be1e8a04\" y=\"119.191994\"/>\r\n     <use style=\"fill:#1f77b4;stroke:#1f77b4;\" x=\"109.577125\" xlink:href=\"#me3be1e8a04\" y=\"139.790085\"/>\r\n    </g>\r\n   </g>\r\n   <g id=\"text_15\">\r\n    <!-- Store Count vs Household Income -->\r\n    <defs>\r\n     <path d=\"M 2.984375 54.6875 \r\nL 12.5 54.6875 \r\nL 29.59375 8.796875 \r\nL 46.6875 54.6875 \r\nL 56.203125 54.6875 \r\nL 35.6875 0 \r\nL 23.484375 0 \r\nz\r\n\" id=\"DejaVuSans-118\"/>\r\n    </defs>\r\n    <g transform=\"translate(131.509375 16.318125)scale(0.12 -0.12)\">\r\n     <use xlink:href=\"#DejaVuSans-83\"/>\r\n     <use x=\"63.476562\" xlink:href=\"#DejaVuSans-116\"/>\r\n     <use x=\"102.685547\" xlink:href=\"#DejaVuSans-111\"/>\r\n     <use x=\"163.867188\" xlink:href=\"#DejaVuSans-114\"/>\r\n     <use x=\"204.949219\" xlink:href=\"#DejaVuSans-101\"/>\r\n     <use x=\"266.472656\" xlink:href=\"#DejaVuSans-32\"/>\r\n     <use x=\"298.259766\" xlink:href=\"#DejaVuSans-67\"/>\r\n     <use x=\"368.083984\" xlink:href=\"#DejaVuSans-111\"/>\r\n     <use x=\"429.265625\" xlink:href=\"#DejaVuSans-117\"/>\r\n     <use x=\"492.644531\" xlink:href=\"#DejaVuSans-110\"/>\r\n     <use x=\"556.023438\" xlink:href=\"#DejaVuSans-116\"/>\r\n     <use x=\"595.232422\" xlink:href=\"#DejaVuSans-32\"/>\r\n     <use x=\"627.019531\" xlink:href=\"#DejaVuSans-118\"/>\r\n     <use x=\"686.199219\" xlink:href=\"#DejaVuSans-115\"/>\r\n     <use x=\"738.298828\" xlink:href=\"#DejaVuSans-32\"/>\r\n     <use x=\"770.085938\" xlink:href=\"#DejaVuSans-72\"/>\r\n     <use x=\"845.28125\" xlink:href=\"#DejaVuSans-111\"/>\r\n     <use x=\"906.462891\" xlink:href=\"#DejaVuSans-117\"/>\r\n     <use x=\"969.841797\" xlink:href=\"#DejaVuSans-115\"/>\r\n     <use x=\"1021.941406\" xlink:href=\"#DejaVuSans-101\"/>\r\n     <use x=\"1083.464844\" xlink:href=\"#DejaVuSans-104\"/>\r\n     <use x=\"1146.84375\" xlink:href=\"#DejaVuSans-111\"/>\r\n     <use x=\"1208.025391\" xlink:href=\"#DejaVuSans-108\"/>\r\n     <use x=\"1235.808594\" xlink:href=\"#DejaVuSans-100\"/>\r\n     <use x=\"1299.285156\" xlink:href=\"#DejaVuSans-32\"/>\r\n     <use x=\"1331.072266\" xlink:href=\"#DejaVuSans-73\"/>\r\n     <use x=\"1360.564453\" xlink:href=\"#DejaVuSans-110\"/>\r\n     <use x=\"1423.943359\" xlink:href=\"#DejaVuSans-99\"/>\r\n     <use x=\"1478.923828\" xlink:href=\"#DejaVuSans-111\"/>\r\n     <use x=\"1540.105469\" xlink:href=\"#DejaVuSans-109\"/>\r\n     <use x=\"1637.517578\" xlink:href=\"#DejaVuSans-101\"/>\r\n    </g>\r\n   </g>\r\n  </g>\r\n </g>\r\n <defs>\r\n  <clipPath id=\"p515e128ce0\">\r\n   <rect height=\"217.44\" width=\"334.8\" x=\"66.053125\" y=\"22.318125\"/>\r\n  </clipPath>\r\n </defs>\r\n</svg>\r\n",
      "image/png": "[encoded data removed]"
     },
     "metadata": {
      "needs_background": "light"
     }
    }
   ],
   "source": [
    "# Set up scatter plot\n",
    "plt.xlim(0,100)\n",
    "plt.ylim(0,100000)\n",
    "plt.scatter(store_count_list,income_num,marker='o',zorder=3)\n",
    "        \n",
    "# Set up title and labels\n",
    "plt.title(\"Store Count vs Household Income\")\n",
    "plt.xlabel(\"Store Count\")\n",
    "plt.ylabel(\"Household Income\")\n",
    "\n",
    "# Save figure \n",
    "plt.savefig(\"store_count_vs_income.png\")\n",
    "plt.grid(zorder=0)\n",
    "plt.show()"
   ]
  },
  {
   "cell_type": "code",
   "execution_count": 59,
   "metadata": {},
   "outputs": [
    {
     "output_type": "stream",
     "name": "stdout",
     "text": "The Pearson's Correlation Coefficient between county household income and store count is -0.13\n"
    }
   ],
   "source": [
    "correlation2 = st.pearsonr(store_count_list_reindex,income_num)\n",
    "print(f\"The Pearson's Correlation Coefficient between county household income and store count is {round(correlation2[0],2)}\")"
   ]
  },
  {
   "cell_type": "code",
   "execution_count": null,
   "metadata": {},
   "outputs": [],
   "source": []
  }
 ]
}