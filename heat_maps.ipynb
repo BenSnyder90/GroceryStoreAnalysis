{
 "cells": [
  {
   "cell_type": "code",
   "execution_count": 48,
   "metadata": {},
   "outputs": [],
   "source": [
    "import pandas as pd\n",
    "import gmaps\n",
    "from api_keys import g_key"
   ]
  },
  {
   "cell_type": "code",
   "execution_count": 49,
   "metadata": {},
   "outputs": [],
   "source": [
    "store_data = pd.read_csv(\"complete_data2.csv\",encoding = \"utf-8\")"
   ]
  },
  {
   "cell_type": "code",
   "execution_count": 50,
   "metadata": {},
   "outputs": [
    {
     "data": {
      "text/plain": [
       "269"
      ]
     },
     "execution_count": 50,
     "metadata": {},
     "output_type": "execute_result"
    }
   ],
   "source": [
    "gmaps.configure(api_key=g_key)\n",
    "\n",
    "# Store 'Lat' and 'Lng' into  locations for all stores\n",
    "store_lats = store_data[\"Lat\"].tolist()\n",
    "store_lngs = store_data[\"Lng\"].tolist()\n",
    "\n",
    "locations = list(zip(store_lats,store_lngs))\n",
    "len(locations)"
   ]
  },
  {
   "cell_type": "code",
   "execution_count": 53,
   "metadata": {},
   "outputs": [
    {
     "data": {
      "application/vnd.jupyter.widget-view+json": {
       "model_id": "9e0d43060ba441e39d85b5973b31759a",
       "version_major": 2,
       "version_minor": 0
      },
      "text/plain": [
       "Figure(layout=FigureLayout(height='420px'))"
      ]
     },
     "metadata": {},
     "output_type": "display_data"
    }
   ],
   "source": [
    "#\n",
    "coords_layer = gmaps.symbol_layer(locations, \n",
    "        fill_color='blue', stroke_color='blue', scale=2)\n",
    "heat_layer = gmaps.heatmap_layer(locations, \n",
    "                                 dissipating=False,point_radius = .05)\n",
    "fig = gmaps.figure(center = (41.187472, -80.998031), zoom_level = 8)\n",
    "fig.add_layer(coords_layer)\n",
    "fig.add_layer(heat_layer)\n",
    "fig"
   ]
  },
  {
   "cell_type": "code",
   "execution_count": 62,
   "metadata": {},
   "outputs": [
    {
     "name": "stdout",
     "output_type": "stream",
     "text": [
      "31\n",
      "17\n",
      "12\n",
      "209\n"
     ]
    }
   ],
   "source": [
    "#Make a dataframe of only the Walmart locations\n",
    "walmart_df = store_data.loc[store_data[\"Store Name\"] == \"Walmart\"]\n",
    "#Make a dataframe of the wholesale clubs\n",
    "wholesale_df = store_data.loc[(store_data['Store Name'] == \"Costco Wholesale\") | \n",
    "                              (store_data['Store Name']==\"BJ's Wholesale\") | (store_data['Store Name']==\"Sam's Club\")]\n",
    "#Make a dataframe of Target stores\n",
    "target_df = store_data.loc[store_data[\"Store Name\"]==\"Target\"]\n",
    "\n",
    "#Make a dataframe of the rest of the grocery stores\n",
    "grocery_df = grocery_df.loc[(store_data[\"Store Name\"] != \"Walmart\")] \n",
    "grocery_df = grocery_df.loc[(store_data['Store Name'] != \"Costco Wholesale\")]\n",
    "grocery_df = grocery_df.loc[(store_data['Store Name']!=\"BJ's Wholesale\")] \n",
    "grocery_df = grocery_df.loc[(store_data['Store Name']!=\"Sam's Club\")]\n",
    "grocery_df = grocery_df.loc[(store_data['Store Name'] != \"Target\")]\n",
    "\n",
    "#Print lengths of each dataframe to make sure everything was filtered\n",
    "print(len(walmart_df))\n",
    "print(len(wholesale_df))\n",
    "print(len(target_df))\n",
    "print(len(grocery_df))\n",
    "#print(grocery_df[\"Store Name\"].value_counts())"
   ]
  },
  {
   "cell_type": "code",
   "execution_count": 63,
   "metadata": {},
   "outputs": [
    {
     "data": {
      "application/vnd.jupyter.widget-view+json": {
       "model_id": "4e197fd61c334154b7e058aefa259ead",
       "version_major": 2,
       "version_minor": 0
      },
      "text/plain": [
       "Figure(layout=FigureLayout(height='420px'))"
      ]
     },
     "metadata": {},
     "output_type": "display_data"
    }
   ],
   "source": [
    "# Store 'Lat' and 'Lng' into  locations for Walmart\n",
    "walmart_lats = walmart_df[\"Lat\"].tolist()\n",
    "walmart_lngs = walmart_df[\"Lng\"].tolist()\n",
    "\n",
    "walmart_loc = list(zip(walmart_lats,walmart_lngs))\n",
    "\n",
    "walmart_coords = gmaps.symbol_layer(walmart_loc, \n",
    "        fill_color='blue', stroke_color='blue', scale=2)\n",
    "walmart_heat = gmaps.heatmap_layer(walmart_loc, \n",
    "                                 dissipating=False,point_radius = .05)\n",
    "fig = gmaps.figure(center = (41.187472, -80.998031), zoom_level = 8)\n",
    "fig.add_layer(walmart_coords)\n",
    "fig.add_layer(walmart_heat)\n",
    "fig"
   ]
  },
  {
   "cell_type": "code",
   "execution_count": 45,
   "metadata": {},
   "outputs": [
    {
     "data": {
      "application/vnd.jupyter.widget-view+json": {
       "model_id": "cf5af83e88074037905f08e4dfcae77d",
       "version_major": 2,
       "version_minor": 0
      },
      "text/plain": [
       "Figure(layout=FigureLayout(height='420px'))"
      ]
     },
     "metadata": {},
     "output_type": "display_data"
    }
   ],
   "source": [
    "# Store 'Lat' and 'Lng' into  locations for Walmart\n",
    "walmart_lats = walmart_df[\"Lat\"].tolist()\n",
    "walmart_lngs = walmart_df[\"Lng\"].tolist()\n",
    "\n",
    "walmart_loc = list(zip(walmart_lats,walmart_lngs))\n",
    "\n",
    "walmart_coords = gmaps.symbol_layer(walmart_loc, \n",
    "        fill_color='blue', stroke_color='blue', scale=2)\n",
    "walmart_heat = gmaps.heatmap_layer(walmart_loc, \n",
    "                                 dissipating=False,point_radius = .05)\n",
    "fig = gmaps.figure(center = (41.187472, -80.998031), zoom_level = 8)\n",
    "fig.add_layer(walmart_coords)\n",
    "fig.add_layer(walmart_heat)\n",
    "fig"
   ]
  },
  {
   "cell_type": "code",
   "execution_count": null,
   "metadata": {},
   "outputs": [],
   "source": []
  }
 ],
 "metadata": {
  "file_extension": ".py",
  "kernelspec": {
   "display_name": "Python 3.7.4 64-bit ('PythonData': conda)",
   "language": "python",
   "name": "python37464bitpythondatacondaaf71fc3f5dd34866a438487bc0d8ac87"
  },
  "language_info": {
   "codemirror_mode": {
    "name": "ipython",
    "version": 3
   },
   "file_extension": ".py",
   "mimetype": "text/x-python",
   "name": "python",
   "nbconvert_exporter": "python",
   "pygments_lexer": "ipython3",
   "version": "3.7.4"
  },
  "mimetype": "text/x-python",
  "name": "python",
  "npconvert_exporter": "python",
  "pygments_lexer": "ipython3",
  "version": 3
 },
 "nbformat": 4,
 "nbformat_minor": 2
}
