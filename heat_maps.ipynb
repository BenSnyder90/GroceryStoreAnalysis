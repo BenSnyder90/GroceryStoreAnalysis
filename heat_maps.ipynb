{
 "cells": [
  {
   "cell_type": "code",
   "execution_count": 48,
   "metadata": {},
   "outputs": [],
   "source": [
    "import pandas as pd\n",
    "import gmaps\n",
    "from api_keys import g_key"
   ]
  },
  {
   "cell_type": "code",
   "execution_count": 49,
   "metadata": {},
   "outputs": [],
   "source": [
    "store_data = pd.read_csv(\"complete_data2.csv\",encoding = \"utf-8\")"
   ]
  },
  {
   "cell_type": "code",
   "execution_count": 50,
   "metadata": {},
   "outputs": [
    {
     "data": {
      "text/plain": [
       "269"
      ]
     },
     "execution_count": 50,
     "metadata": {},
     "output_type": "execute_result"
    }
   ],
   "source": [
    "gmaps.configure(api_key=g_key)\n",
    "\n",
    "# Store 'Lat' and 'Lng' into  locations for all stores\n",
    "store_lats = store_data[\"Lat\"].tolist()\n",
    "store_lngs = store_data[\"Lng\"].tolist()\n",
    "\n",
    "locations = list(zip(store_lats,store_lngs))\n",
    "len(locations)"
   ]
  },
  {
   "cell_type": "code",
   "execution_count": 71,
   "metadata": {},
   "outputs": [
    {
     "data": {
      "application/vnd.jupyter.widget-view+json": {
       "model_id": "adcb9533cb694081a6c5ea7366899044",
       "version_major": 2,
       "version_minor": 0
      },
      "text/plain": [
       "Figure(layout=FigureLayout(height='420px'))"
      ]
     },
     "metadata": {},
     "output_type": "display_data"
    }
   ],
   "source": [
    "#Print map of store locations and heatmaps\n",
    "coords_layer = gmaps.symbol_layer(locations, \n",
    "        fill_color='blue', stroke_color='blue', scale=1)\n",
    "heat_layer = gmaps.heatmap_layer(locations, \n",
    "                                 dissipating=False,point_radius = .05)\n",
    "fig = gmaps.figure(center = (41.187472, -80.998031), zoom_level = 8)\n",
    "fig.add_layer(coords_layer)\n",
    "fig.add_layer(heat_layer)\n",
    "fig"
   ]
  },
  {
   "cell_type": "code",
   "execution_count": 62,
   "metadata": {},
   "outputs": [
    {
     "name": "stdout",
     "output_type": "stream",
     "text": [
      "31\n",
      "17\n",
      "12\n",
      "209\n"
     ]
    }
   ],
   "source": [
    "#Make a dataframe of only the Walmart locations\n",
    "walmart_df = store_data.loc[store_data[\"Store Name\"] == \"Walmart\"]\n",
    "#Make a dataframe of the wholesale clubs\n",
    "wholesale_df = store_data.loc[(store_data['Store Name'] == \"Costco Wholesale\") | \n",
    "                              (store_data['Store Name']==\"BJ's Wholesale\") | (store_data['Store Name']==\"Sam's Club\")]\n",
    "#Make a dataframe of Target stores\n",
    "target_df = store_data.loc[store_data[\"Store Name\"]==\"Target\"]\n",
    "\n",
    "#Make a dataframe of the rest of the grocery stores\n",
    "grocery_df = grocery_df.loc[(store_data[\"Store Name\"] != \"Walmart\")] \n",
    "grocery_df = grocery_df.loc[(store_data['Store Name'] != \"Costco Wholesale\")]\n",
    "grocery_df = grocery_df.loc[(store_data['Store Name']!=\"BJ's Wholesale\")] \n",
    "grocery_df = grocery_df.loc[(store_data['Store Name']!=\"Sam's Club\")]\n",
    "grocery_df = grocery_df.loc[(store_data['Store Name'] != \"Target\")]\n",
    "\n",
    "#Print lengths of each dataframe to make sure everything was filtered\n",
    "print(len(walmart_df))\n",
    "print(len(wholesale_df))\n",
    "print(len(target_df))\n",
    "print(len(grocery_df))"
   ]
  },
  {
   "cell_type": "code",
   "execution_count": 96,
   "metadata": {},
   "outputs": [
    {
     "data": {
      "application/vnd.jupyter.widget-view+json": {
       "model_id": "30c9dd60689a456ca1a6cc7d538914bd",
       "version_major": 2,
       "version_minor": 0
      },
      "text/plain": [
       "Figure(layout=FigureLayout(height='420px'))"
      ]
     },
     "metadata": {},
     "output_type": "display_data"
    }
   ],
   "source": [
    "# Store 'Lat' and 'Lng' into  locations for Walmart\n",
    "walmart_lats = walmart_df[\"Lat\"].tolist()\n",
    "walmart_lngs = walmart_df[\"Lng\"].tolist()\n",
    "walmart_loc = list(zip(walmart_lats,walmart_lngs))\n",
    "#Store names into a list for info box\n",
    "walmart_names = walmart_df[\"Store Name\"].tolist()\n",
    "\n",
    "\n",
    "walmart_coords = gmaps.symbol_layer(walmart_loc, \n",
    "        fill_color='blue', stroke_color='blue', scale=2,info_box_content=walmart_names)\n",
    "walmart_heat = gmaps.heatmap_layer(walmart_loc, \n",
    "                                 dissipating=False,point_radius = .05)\n",
    "fig = gmaps.figure(center = (41.187472, -80.998031), zoom_level = 8)\n",
    "fig.add_layer(walmart_coords)\n",
    "fig.add_layer(walmart_heat)\n",
    "fig"
   ]
  },
  {
   "cell_type": "code",
   "execution_count": 95,
   "metadata": {},
   "outputs": [
    {
     "data": {
      "application/vnd.jupyter.widget-view+json": {
       "model_id": "140889b81db7431ebb18c0c0c4a64b30",
       "version_major": 2,
       "version_minor": 0
      },
      "text/plain": [
       "Figure(layout=FigureLayout(height='420px'))"
      ]
     },
     "metadata": {},
     "output_type": "display_data"
    }
   ],
   "source": [
    "# Store 'Lat' and 'Lng' into  locations for Target\n",
    "target_lats = target_df[\"Lat\"].tolist()\n",
    "target_lngs = target_df[\"Lng\"].tolist()\n",
    "target_loc = list(zip(target_lats,target_lngs))\n",
    "#Store names into a list for info box\n",
    "target_names = target_df[\"Store Name\"].tolist()\n",
    "\n",
    "target_coords = gmaps.symbol_layer(target_loc, \n",
    "        fill_color='red', stroke_color='red', scale=2,info_box_content = target_names)\n",
    "target_heat = gmaps.heatmap_layer(target_loc, \n",
    "                                 dissipating=False,point_radius = .05)\n",
    "fig = gmaps.figure(center = (41.187472, -80.998031), zoom_level = 8)\n",
    "fig.add_layer(target_coords)\n",
    "fig.add_layer(target_heat)\n",
    "fig"
   ]
  },
  {
   "cell_type": "code",
   "execution_count": 97,
   "metadata": {},
   "outputs": [
    {
     "data": {
      "application/vnd.jupyter.widget-view+json": {
       "model_id": "89bb26d9612c4216a729f3c43ab39477",
       "version_major": 2,
       "version_minor": 0
      },
      "text/plain": [
       "Figure(layout=FigureLayout(height='420px'))"
      ]
     },
     "metadata": {},
     "output_type": "display_data"
    }
   ],
   "source": [
    "# Store 'Lat' and 'Lng' into  locations for Wholesale Clubs\n",
    "whole_lats = wholesale_df[\"Lat\"].tolist()\n",
    "whole_lngs = wholesale_df[\"Lng\"].tolist()\n",
    "\n",
    "#Store names into a list for the info box\n",
    "whole_names = wholesale_df[\"Store Name\"].tolist()\n",
    "whole_loc = list(zip(whole_lats,whole_lngs))\n",
    "\n",
    "whole_coords = gmaps.symbol_layer(whole_loc, \n",
    "        fill_color='yellow', stroke_color='yellow', scale=2,info_box_content=whole_names)\n",
    "whole_heat = gmaps.heatmap_layer(whole_loc, \n",
    "                                 dissipating=False,point_radius = .05)\n",
    "fig = gmaps.figure(center = (41.187472, -80.998031), zoom_level = 8)\n",
    "fig.add_layer(whole_coords)\n",
    "fig.add_layer(whole_heat)\n",
    "fig"
   ]
  },
  {
   "cell_type": "code",
   "execution_count": 98,
   "metadata": {},
   "outputs": [
    {
     "data": {
      "application/vnd.jupyter.widget-view+json": {
       "model_id": "ecd51d1522964bcf99bdfac51e7cdcc8",
       "version_major": 2,
       "version_minor": 0
      },
      "text/plain": [
       "Figure(layout=FigureLayout(height='420px'))"
      ]
     },
     "metadata": {},
     "output_type": "display_data"
    }
   ],
   "source": [
    "# Store 'Lat' and 'Lng' into  locations for Grocery Stores\n",
    "grocery_lats = grocery_df[\"Lat\"].tolist()\n",
    "grocery_lngs = grocery_df[\"Lng\"].tolist()\n",
    "grocery_loc = list(zip(grocery_lats,grocery_lngs))\n",
    "\n",
    "#Store names into a list for info box\n",
    "grocery_names = grocery_df[\"Store Name\"].tolist()\n",
    "\n",
    "grocery_coords = gmaps.symbol_layer(grocery_loc, \n",
    "        fill_color=\"teal\", stroke_color=\"teal\", scale=2,info_box_content=grocery_names)\n",
    "grocery_heat = gmaps.heatmap_layer(grocery_loc, \n",
    "                                 dissipating=False,point_radius = .05)\n",
    "\n",
    "fig = gmaps.figure(center = (41.187472, -80.998031), zoom_level = 8)\n",
    "fig.add_layer(grocery_coords)\n",
    "fig.add_layer(grocery_heat)\n",
    "fig"
   ]
  },
  {
   "cell_type": "code",
   "execution_count": 99,
   "metadata": {},
   "outputs": [
    {
     "data": {
      "application/vnd.jupyter.widget-view+json": {
       "model_id": "26929af95fdd41d692a9df052372e35b",
       "version_major": 2,
       "version_minor": 0
      },
      "text/plain": [
       "Figure(layout=FigureLayout(height='420px'))"
      ]
     },
     "metadata": {},
     "output_type": "display_data"
    }
   ],
   "source": [
    "#Display all of the colored maps together\n",
    "fig = gmaps.figure(center = (41.187472, -80.998031), zoom_level = 8)\n",
    "fig.add_layer(grocery_coords)\n",
    "fig.add_layer(target_coords)\n",
    "fig.add_layer(walmart_coords)\n",
    "fig.add_layer(whole_coords)\n",
    "fig.add_layer(heat_layer)\n",
    "fig"
   ]
  },
  {
   "cell_type": "code",
   "execution_count": 153,
   "metadata": {},
   "outputs": [
    {
     "data": {
      "text/html": [
       "<div>\n",
       "<style scoped>\n",
       "    .dataframe tbody tr th:only-of-type {\n",
       "        vertical-align: middle;\n",
       "    }\n",
       "\n",
       "    .dataframe tbody tr th {\n",
       "        vertical-align: top;\n",
       "    }\n",
       "\n",
       "    .dataframe thead th {\n",
       "        text-align: right;\n",
       "    }\n",
       "</style>\n",
       "<table border=\"1\" class=\"dataframe\">\n",
       "  <thead>\n",
       "    <tr style=\"text-align: right;\">\n",
       "      <th></th>\n",
       "      <th>index</th>\n",
       "      <th>County</th>\n",
       "      <th>Population</th>\n",
       "      <th>Poverty Rate</th>\n",
       "    </tr>\n",
       "  </thead>\n",
       "  <tbody>\n",
       "    <tr>\n",
       "      <th>0</th>\n",
       "      <td>155</td>\n",
       "      <td>Ashtabula County</td>\n",
       "      <td>98,136</td>\n",
       "      <td>19.58%</td>\n",
       "    </tr>\n",
       "    <tr>\n",
       "      <th>1</th>\n",
       "      <td>261</td>\n",
       "      <td>Columbiana County</td>\n",
       "      <td>104,003</td>\n",
       "      <td>14.08%</td>\n",
       "    </tr>\n",
       "    <tr>\n",
       "      <th>2</th>\n",
       "      <td>51</td>\n",
       "      <td>Cuyahoga County</td>\n",
       "      <td>1,253,783</td>\n",
       "      <td>17.70%</td>\n",
       "    </tr>\n",
       "    <tr>\n",
       "      <th>3</th>\n",
       "      <td>206</td>\n",
       "      <td>Geauga County</td>\n",
       "      <td>93,961</td>\n",
       "      <td>6.00%</td>\n",
       "    </tr>\n",
       "    <tr>\n",
       "      <th>4</th>\n",
       "      <td>162</td>\n",
       "      <td>Lake County</td>\n",
       "      <td>230,052</td>\n",
       "      <td>8.19%</td>\n",
       "    </tr>\n",
       "    <tr>\n",
       "      <th>5</th>\n",
       "      <td>131</td>\n",
       "      <td>Lorain County</td>\n",
       "      <td>306,713</td>\n",
       "      <td>13.30%</td>\n",
       "    </tr>\n",
       "    <tr>\n",
       "      <th>6</th>\n",
       "      <td>135</td>\n",
       "      <td>Mahoning County</td>\n",
       "      <td>231,064</td>\n",
       "      <td>17.07%</td>\n",
       "    </tr>\n",
       "    <tr>\n",
       "      <th>7</th>\n",
       "      <td>221</td>\n",
       "      <td>Medina County</td>\n",
       "      <td>177,257</td>\n",
       "      <td>6.38%</td>\n",
       "    </tr>\n",
       "    <tr>\n",
       "      <th>8</th>\n",
       "      <td>233</td>\n",
       "      <td>Portage County</td>\n",
       "      <td>162,644</td>\n",
       "      <td>12.51%</td>\n",
       "    </tr>\n",
       "    <tr>\n",
       "      <th>9</th>\n",
       "      <td>188</td>\n",
       "      <td>Stark County</td>\n",
       "      <td>373,475</td>\n",
       "      <td>13.50%</td>\n",
       "    </tr>\n",
       "    <tr>\n",
       "      <th>10</th>\n",
       "      <td>0</td>\n",
       "      <td>Summit County</td>\n",
       "      <td>541,810</td>\n",
       "      <td>12.84%</td>\n",
       "    </tr>\n",
       "    <tr>\n",
       "      <th>11</th>\n",
       "      <td>248</td>\n",
       "      <td>Trumbull County</td>\n",
       "      <td>201,794</td>\n",
       "      <td>17.15%</td>\n",
       "    </tr>\n",
       "  </tbody>\n",
       "</table>\n",
       "</div>"
      ],
      "text/plain": [
       "    index             County Population Poverty Rate\n",
       "0     155   Ashtabula County     98,136       19.58%\n",
       "1     261  Columbiana County    104,003       14.08%\n",
       "2      51    Cuyahoga County  1,253,783       17.70%\n",
       "3     206      Geauga County     93,961        6.00%\n",
       "4     162        Lake County    230,052        8.19%\n",
       "5     131      Lorain County    306,713       13.30%\n",
       "6     135    Mahoning County    231,064       17.07%\n",
       "7     221      Medina County    177,257        6.38%\n",
       "8     233     Portage County    162,644       12.51%\n",
       "9     188       Stark County    373,475       13.50%\n",
       "10      0      Summit County    541,810       12.84%\n",
       "11    248    Trumbull County    201,794       17.15%"
      ]
     },
     "execution_count": 153,
     "metadata": {},
     "output_type": "execute_result"
    }
   ],
   "source": [
    "#GPS Coordinates of the Counties from https://latitude.to/\n",
    "#Ashtabula County = (41.93970 -80.72144)\n",
    "#Columbiana County = (40.79026 -80.76578)\n",
    "#Cuyahoga County = (41.43392 -81.67582)\n",
    "#Geauga County = (41.46415 -81.20782)\n",
    "#Lake County = (41.98153 -81.25188)\n",
    "#Lorain County = (41.41169 -82.12784)\n",
    "#Mahoning County = (40.98718 -80.72144)\n",
    "#Medina County = (41.08013 -81.95348)\n",
    "#Portage County = (41.18876 -81.25188)\n",
    "#Stark County = (40.86847 -81.25188)\n",
    "#Summit County = (41.09190 -81.55964)\n",
    "#Trumbull County = (41.30650 -80.72144)\n",
    "#(Coordinates for Ashtabula and Lake Counties were moved down so the coordinates appear on land on gmaps)\n",
    "\n",
    "#Store the coordinates into a list\n",
    "alpha_county_coords = [(41.72970, -80.72144),(40.79026, -80.76578),(41.43392, -81.67582),(41.46415, -81.20782),\n",
    "                     (41.75153, -81.25188),(41.41169, -82.12784),(40.98718, -80.72144),(41.08013, -81.95348),\n",
    "                     (41.18876, -81.25188),(40.86847, -81.25188),(41.09190, -81.55964),(41.30650, -80.72144)]\n",
    "\n",
    "#Get the data for Poverty Rate and County\n",
    "county_pop = store_data[[\"County\",\"Population\",\"Poverty Rate\"]]\n",
    "#Drop duplicates so the county data only appears once\n",
    "county_pop = county_pop.drop_duplicates(\"County\")\n",
    "#Sort values alphabetically and reset indeces\n",
    "county_pop = county_pop.sort_values(\"County\").reset_index()\n",
    "county_pop"
   ]
  },
  {
   "cell_type": "code",
   "execution_count": 154,
   "metadata": {},
   "outputs": [
    {
     "data": {
      "text/plain": [
       "['Ashtabula County-Poverty Rate: 19.58%',\n",
       " 'Columbiana County-Poverty Rate: 14.08%',\n",
       " 'Cuyahoga County-Poverty Rate: 17.70%',\n",
       " 'Geauga County-Poverty Rate: 6.00%',\n",
       " 'Lake County-Poverty Rate: 8.19%',\n",
       " 'Lorain County-Poverty Rate: 13.30%',\n",
       " 'Mahoning County-Poverty Rate: 17.07%',\n",
       " 'Medina County-Poverty Rate: 6.38%',\n",
       " 'Portage County-Poverty Rate: 12.51%',\n",
       " 'Stark County-Poverty Rate: 13.50%',\n",
       " 'Summit County-Poverty Rate: 12.84%',\n",
       " 'Trumbull County-Poverty Rate: 17.15%']"
      ]
     },
     "execution_count": 154,
     "metadata": {},
     "output_type": "execute_result"
    }
   ],
   "source": [
    "#Make a list of poverty rates by dropping the percentage in the string\n",
    "county_poverty = county_pop['Poverty Rate'].str.replace('%','')\n",
    "\n",
    "#Make info box for each location on the map\n",
    "info_box = []\n",
    "for index, row in county_pop.iterrows():\n",
    "    info_box.append(f\"{row['County']}-Poverty Rate: {row['Poverty Rate']}\")\n",
    "info_box"
   ]
  },
  {
   "cell_type": "code",
   "execution_count": 155,
   "metadata": {},
   "outputs": [
    {
     "data": {
      "application/vnd.jupyter.widget-view+json": {
       "model_id": "3cbbef56bf05489fa922fa2ccdf34419",
       "version_major": 2,
       "version_minor": 0
      },
      "text/plain": [
       "Figure(layout=FigureLayout(height='420px'))"
      ]
     },
     "metadata": {},
     "output_type": "display_data"
    }
   ],
   "source": [
    "#Make a heatmap of the county's rough coordinates, using the poverty rate as the weight of the heatmap\n",
    "pov_heatmap = gmaps.heatmap_layer(alpha_county_coords, weights = county_poverty, \n",
    "                                 dissipating=False,point_radius = .15)\n",
    "\n",
    "#Make a symbol layer of the coordinates to display information if you click on them\n",
    "pov_coords = gmaps.symbol_layer(alpha_county_coords, \n",
    "        fill_color=\"black\", stroke_color=\"black\", scale=2,info_box_content=info_box)\n",
    "\n",
    "fig = gmaps.figure(center = (41.187472, -80.998031), zoom_level = 8)\n",
    "fig.add_layer(pov_heatmap)\n",
    "fig.add_layer(pov_coords)\n",
    "#Show the store locations on the map\n",
    "fig.add_layer(grocery_coords)\n",
    "fig.add_layer(target_coords)\n",
    "fig.add_layer(walmart_coords)\n",
    "fig.add_layer(whole_coords)\n",
    "fig"
   ]
  },
  {
   "cell_type": "code",
   "execution_count": null,
   "metadata": {},
   "outputs": [],
   "source": []
  }
 ],
 "metadata": {
  "file_extension": ".py",
  "kernelspec": {
   "display_name": "Python 3.7.4 64-bit ('PythonData': conda)",
   "language": "python",
   "name": "python37464bitpythondatacondaaf71fc3f5dd34866a438487bc0d8ac87"
  },
  "language_info": {
   "codemirror_mode": {
    "name": "ipython",
    "version": 3
   },
   "file_extension": ".py",
   "mimetype": "text/x-python",
   "name": "python",
   "nbconvert_exporter": "python",
   "pygments_lexer": "ipython3",
   "version": "3.7.4"
  },
  "mimetype": "text/x-python",
  "name": "python",
  "npconvert_exporter": "python",
  "pygments_lexer": "ipython3",
  "version": 3
 },
 "nbformat": 4,
 "nbformat_minor": 2
}
