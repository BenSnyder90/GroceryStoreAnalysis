{
 "cells": [
  {
   "cell_type": "code",
   "execution_count": 10,
   "metadata": {},
   "outputs": [],
   "source": [
    "import pandas as pd\n",
    "import gmaps\n",
    "from api_keys import g_key"
   ]
  },
  {
   "cell_type": "code",
   "execution_count": 25,
   "metadata": {},
   "outputs": [],
   "source": [
    "store_data = pd.read_csv(\"total_store_fixed_counties.csv\",encoding = \"utf-8\")\n",
    "census_data = pd.read_csv(\"Project/census_data_counties.csv\",encoding = \"utf-8\" )"
   ]
  },
  {
   "cell_type": "code",
   "execution_count": 12,
   "metadata": {},
   "outputs": [
    {
     "data": {
      "text/plain": [
       "279"
      ]
     },
     "execution_count": 12,
     "metadata": {},
     "output_type": "execute_result"
    }
   ],
   "source": [
    "gmaps.configure(api_key=g_key)\n",
    "\n",
    "# Store 'Lat' and 'Lng' into  locations\n",
    "#store_data = store_data.rename(columns = {\"Lat\":\"Latitude\",\"Lng\":\"Longitude\"})\n",
    "store_lats = store_data[\"Lat\"].tolist()\n",
    "store_lngs = store_data[\"Lng\"].tolist()\n",
    "\n",
    "locations = list(zip(store_lats,store_lngs))\n",
    "len(locations)"
   ]
  },
  {
   "cell_type": "code",
   "execution_count": 13,
   "metadata": {},
   "outputs": [
    {
     "data": {
      "application/vnd.jupyter.widget-view+json": {
       "model_id": "3ef669e167a04048b3df40df64295818",
       "version_major": 2,
       "version_minor": 0
      },
      "text/plain": [
       "Figure(layout=FigureLayout(height='420px'))"
      ]
     },
     "metadata": {},
     "output_type": "display_data"
    }
   ],
   "source": [
    "coords_layer = gmaps.symbol_layer(locations, \n",
    "        fill_color='green', stroke_color='green', scale=2)\n",
    "fig = gmaps.figure(center = (41.187472, -80.998031), zoom_level = 8)\n",
    "fig.add_layer(coords_layer)\n",
    "fig"
   ]
  },
  {
   "cell_type": "code",
   "execution_count": 26,
   "metadata": {},
   "outputs": [
    {
     "name": "stdout",
     "output_type": "stream",
     "text": [
      "Name                 object\n",
      "Population           object\n",
      "Household Income     object\n",
      "Per Capita Income    object\n",
      "Poverty Count        object\n",
      "Poverty Rate         object\n",
      "dtype: object\n"
     ]
    },
    {
     "data": {
      "text/html": [
       "<div>\n",
       "<style scoped>\n",
       "    .dataframe tbody tr th:only-of-type {\n",
       "        vertical-align: middle;\n",
       "    }\n",
       "\n",
       "    .dataframe tbody tr th {\n",
       "        vertical-align: top;\n",
       "    }\n",
       "\n",
       "    .dataframe thead th {\n",
       "        text-align: right;\n",
       "    }\n",
       "</style>\n",
       "<table border=\"1\" class=\"dataframe\">\n",
       "  <thead>\n",
       "    <tr style=\"text-align: right;\">\n",
       "      <th></th>\n",
       "      <th>Name</th>\n",
       "      <th>Population</th>\n",
       "      <th>Household Income</th>\n",
       "      <th>Per Capita Income</th>\n",
       "      <th>Poverty Count</th>\n",
       "      <th>Poverty Rate</th>\n",
       "    </tr>\n",
       "  </thead>\n",
       "  <tbody>\n",
       "    <tr>\n",
       "      <th>4</th>\n",
       "      <td>Medina County</td>\n",
       "      <td>177,257</td>\n",
       "      <td>$              74,243</td>\n",
       "      <td>$              35,979</td>\n",
       "      <td>11,303</td>\n",
       "      <td>6.38%</td>\n",
       "    </tr>\n",
       "    <tr>\n",
       "      <th>29</th>\n",
       "      <td>Summit County</td>\n",
       "      <td>541,810</td>\n",
       "      <td>$              55,448</td>\n",
       "      <td>$              32,055</td>\n",
       "      <td>69,576</td>\n",
       "      <td>12.84%</td>\n",
       "    </tr>\n",
       "    <tr>\n",
       "      <th>36</th>\n",
       "      <td>Columbiana County</td>\n",
       "      <td>104,003</td>\n",
       "      <td>$              46,306</td>\n",
       "      <td>$              25,853</td>\n",
       "      <td>14,639</td>\n",
       "      <td>14.08%</td>\n",
       "    </tr>\n",
       "    <tr>\n",
       "      <th>47</th>\n",
       "      <td>Stark County</td>\n",
       "      <td>373,475</td>\n",
       "      <td>$              52,190</td>\n",
       "      <td>$              28,434</td>\n",
       "      <td>50,408</td>\n",
       "      <td>13.50%</td>\n",
       "    </tr>\n",
       "    <tr>\n",
       "      <th>56</th>\n",
       "      <td>Cuyahoga County</td>\n",
       "      <td>1,253,783</td>\n",
       "      <td>$              48,435</td>\n",
       "      <td>$              31,804</td>\n",
       "      <td>221,899</td>\n",
       "      <td>17.70%</td>\n",
       "    </tr>\n",
       "    <tr>\n",
       "      <th>57</th>\n",
       "      <td>Lorain County</td>\n",
       "      <td>306,713</td>\n",
       "      <td>$              56,965</td>\n",
       "      <td>$              29,777</td>\n",
       "      <td>40,799</td>\n",
       "      <td>13.30%</td>\n",
       "    </tr>\n",
       "    <tr>\n",
       "      <th>60</th>\n",
       "      <td>Trumbull County</td>\n",
       "      <td>201,794</td>\n",
       "      <td>$              45,975</td>\n",
       "      <td>$              26,116</td>\n",
       "      <td>34,604</td>\n",
       "      <td>17.15%</td>\n",
       "    </tr>\n",
       "    <tr>\n",
       "      <th>62</th>\n",
       "      <td>Ashtabula County</td>\n",
       "      <td>98,136</td>\n",
       "      <td>$              44,823</td>\n",
       "      <td>$              22,817</td>\n",
       "      <td>19,216</td>\n",
       "      <td>19.58%</td>\n",
       "    </tr>\n",
       "    <tr>\n",
       "      <th>65</th>\n",
       "      <td>Geauga County</td>\n",
       "      <td>93,961</td>\n",
       "      <td>$              79,956</td>\n",
       "      <td>$              42,149</td>\n",
       "      <td>5,642</td>\n",
       "      <td>6.00%</td>\n",
       "    </tr>\n",
       "    <tr>\n",
       "      <th>67</th>\n",
       "      <td>Lake County</td>\n",
       "      <td>230,052</td>\n",
       "      <td>$              63,475</td>\n",
       "      <td>$              33,737</td>\n",
       "      <td>18,830</td>\n",
       "      <td>8.19%</td>\n",
       "    </tr>\n",
       "    <tr>\n",
       "      <th>72</th>\n",
       "      <td>Mahoning County</td>\n",
       "      <td>231,064</td>\n",
       "      <td>$              44,682</td>\n",
       "      <td>$              27,429</td>\n",
       "      <td>39,441</td>\n",
       "      <td>17.07%</td>\n",
       "    </tr>\n",
       "    <tr>\n",
       "      <th>85</th>\n",
       "      <td>Portage County</td>\n",
       "      <td>162,644</td>\n",
       "      <td>$              56,618</td>\n",
       "      <td>$              29,439</td>\n",
       "      <td>20,346</td>\n",
       "      <td>12.51%</td>\n",
       "    </tr>\n",
       "  </tbody>\n",
       "</table>\n",
       "</div>"
      ],
      "text/plain": [
       "                 Name Population       Household Income  \\\n",
       "4       Medina County    177,257  $              74,243   \n",
       "29      Summit County    541,810  $              55,448   \n",
       "36  Columbiana County    104,003  $              46,306   \n",
       "47       Stark County    373,475  $              52,190   \n",
       "56    Cuyahoga County  1,253,783  $              48,435   \n",
       "57      Lorain County    306,713  $              56,965   \n",
       "60    Trumbull County    201,794  $              45,975   \n",
       "62   Ashtabula County     98,136  $              44,823   \n",
       "65      Geauga County     93,961  $              79,956   \n",
       "67        Lake County    230,052  $              63,475   \n",
       "72    Mahoning County    231,064  $              44,682   \n",
       "85     Portage County    162,644  $              56,618   \n",
       "\n",
       "        Per Capita Income Poverty Count Poverty Rate  \n",
       "4   $              35,979        11,303        6.38%  \n",
       "29  $              32,055        69,576       12.84%  \n",
       "36  $              25,853        14,639       14.08%  \n",
       "47  $              28,434        50,408       13.50%  \n",
       "56  $              31,804       221,899       17.70%  \n",
       "57  $              29,777        40,799       13.30%  \n",
       "60  $              26,116        34,604       17.15%  \n",
       "62  $              22,817        19,216       19.58%  \n",
       "65  $              42,149         5,642        6.00%  \n",
       "67  $              33,737        18,830        8.19%  \n",
       "72  $              27,429        39,441       17.07%  \n",
       "85  $              29,439        20,346       12.51%  "
      ]
     },
     "execution_count": 26,
     "metadata": {},
     "output_type": "execute_result"
    }
   ],
   "source": [
    "print(census_data.dtypes)\n",
    "\n",
    "#Get Census data from counties in NE Ohio\n",
    "census_data = census_data.loc[(census_data['Name'] == 'Cuyahoga County') |(census_data['Name'] == 'Summit County') |\n",
    "                             (census_data['Name'] == 'Lake County') |(census_data['Name'] == 'Mahoning County') |\n",
    "                             (census_data['Name'] == 'Stark County') |(census_data['Name'] == 'Geauga County') |\n",
    "                             (census_data['Name'] == 'Portage County') |(census_data['Name'] == 'Trumbull County') |\n",
    "                             (census_data['Name'] == 'Medina County') |(census_data['Name'] == 'Columbiana County') |\n",
    "                             (census_data['Name'] == 'Ashtabula County') |(census_data['Name'] == 'Lorain County')]\n",
    "census_data"
   ]
  },
  {
   "cell_type": "code",
   "execution_count": 27,
   "metadata": {},
   "outputs": [
    {
     "name": "stdout",
     "output_type": "stream",
     "text": [
      "[0.0638, 0.1284, 0.1408, 0.135, 0.177, 0.133, 0.17149999999999999, 0.19579999999999997, 0.06, 0.0819, 0.1707, 0.1251]\n"
     ]
    }
   ],
   "source": [
    "census_data[\"Poverty Rate\"] = census_data['Poverty Rate'].str.replace('%','').astype('float')\n",
    "pov_rate = []\n",
    "for x in census_data[\"Poverty Rate\"]:\n",
    "    pov_rate.append(x/100)\n",
    "\n",
    "print(pov_rate)\n",
    "#pov_rate = (census_data[\"Poverty Rate\"]/100).astype('float')\n",
    "#pov_rate = census_data[\"Poverty Rate\"].astype(float)\n",
    "\n",
    "\n"
   ]
  },
  {
   "cell_type": "code",
   "execution_count": 32,
   "metadata": {},
   "outputs": [
    {
     "ename": "ValueError",
     "evalue": "weights must be of the same length as locations or None",
     "output_type": "error",
     "traceback": [
      "\u001b[1;31m---------------------------------------------------------------------------\u001b[0m",
      "\u001b[1;31mValueError\u001b[0m                                Traceback (most recent call last)",
      "\u001b[1;32m<ipython-input-32-f6574c7b82cf>\u001b[0m in \u001b[0;36m<module>\u001b[1;34m\u001b[0m\n\u001b[0;32m      1\u001b[0m \u001b[1;31m#Make heatmap based off off the max value of poverty level for the counties\u001b[0m\u001b[1;33m\u001b[0m\u001b[1;33m\u001b[0m\u001b[1;33m\u001b[0m\u001b[0m\n\u001b[0;32m      2\u001b[0m heat_layer = gmaps.heatmap_layer(locations, weights=pov_rate, \n\u001b[1;32m----> 3\u001b[1;33m                                  dissipating=False,point_radius = 1)\n\u001b[0m\u001b[0;32m      4\u001b[0m \u001b[0mfig\u001b[0m \u001b[1;33m=\u001b[0m \u001b[0mgmaps\u001b[0m\u001b[1;33m.\u001b[0m\u001b[0mfigure\u001b[0m\u001b[1;33m(\u001b[0m\u001b[1;33m)\u001b[0m\u001b[1;33m\u001b[0m\u001b[1;33m\u001b[0m\u001b[0m\n\u001b[0;32m      5\u001b[0m \u001b[0mfig\u001b[0m\u001b[1;33m.\u001b[0m\u001b[0madd_layer\u001b[0m\u001b[1;33m(\u001b[0m\u001b[0mheat_layer\u001b[0m\u001b[1;33m)\u001b[0m\u001b[1;33m\u001b[0m\u001b[1;33m\u001b[0m\u001b[0m\n",
      "\u001b[1;32m~\\.conda\\envs\\PythonData\\lib\\site-packages\\gmaps\\heatmap.py\u001b[0m in \u001b[0;36mheatmap_layer\u001b[1;34m(locations, weights, max_intensity, dissipating, point_radius, opacity, gradient)\u001b[0m\n\u001b[0;32m    264\u001b[0m     widget_args, is_weighted = _heatmap_options(\n\u001b[0;32m    265\u001b[0m         \u001b[0mlocations\u001b[0m\u001b[1;33m,\u001b[0m \u001b[0mweights\u001b[0m\u001b[1;33m,\u001b[0m \u001b[0mmax_intensity\u001b[0m\u001b[1;33m,\u001b[0m \u001b[0mdissipating\u001b[0m\u001b[1;33m,\u001b[0m \u001b[0mpoint_radius\u001b[0m\u001b[1;33m,\u001b[0m\u001b[1;33m\u001b[0m\u001b[1;33m\u001b[0m\u001b[0m\n\u001b[1;32m--> 266\u001b[1;33m         \u001b[0mopacity\u001b[0m\u001b[1;33m,\u001b[0m \u001b[0mgradient\u001b[0m\u001b[1;33m\u001b[0m\u001b[1;33m\u001b[0m\u001b[0m\n\u001b[0m\u001b[0;32m    267\u001b[0m     )\n\u001b[0;32m    268\u001b[0m     \u001b[1;32mif\u001b[0m \u001b[0mis_weighted\u001b[0m\u001b[1;33m:\u001b[0m\u001b[1;33m\u001b[0m\u001b[1;33m\u001b[0m\u001b[0m\n",
      "\u001b[1;32m~\\.conda\\envs\\PythonData\\lib\\site-packages\\gmaps\\heatmap.py\u001b[0m in \u001b[0;36m_heatmap_options\u001b[1;34m(locations, weights, max_intensity, dissipating, point_radius, opacity, gradient)\u001b[0m\n\u001b[0;32m    207\u001b[0m         \u001b[1;32mif\u001b[0m \u001b[0mlen\u001b[0m\u001b[1;33m(\u001b[0m\u001b[0mweights\u001b[0m\u001b[1;33m)\u001b[0m \u001b[1;33m!=\u001b[0m \u001b[0mlen\u001b[0m\u001b[1;33m(\u001b[0m\u001b[0mlocations\u001b[0m\u001b[1;33m)\u001b[0m\u001b[1;33m:\u001b[0m\u001b[1;33m\u001b[0m\u001b[1;33m\u001b[0m\u001b[0m\n\u001b[0;32m    208\u001b[0m             raise ValueError(\n\u001b[1;32m--> 209\u001b[1;33m                 'weights must be of the same length as locations or None')\n\u001b[0m\u001b[0;32m    210\u001b[0m         \u001b[0mis_weighted\u001b[0m \u001b[1;33m=\u001b[0m \u001b[1;32mTrue\u001b[0m\u001b[1;33m\u001b[0m\u001b[1;33m\u001b[0m\u001b[0m\n\u001b[0;32m    211\u001b[0m         widget_args = {\n",
      "\u001b[1;31mValueError\u001b[0m: weights must be of the same length as locations or None"
     ]
    }
   ],
   "source": [
    "\n",
    "#Make heatmap based off off the max value of poverty level for the counties\n",
    "#Need to get location coordinates for each county to properly display the heatmap\n",
    "heat_layer = gmaps.heatmap_layer(locations, weights=pov_rate, \n",
    "                                 dissipating=False,point_radius = 1)\n",
    "fig = gmaps.figure()\n",
    "fig.add_layer(heat_layer)\n",
    "\n",
    "fig"
   ]
  },
  {
   "cell_type": "code",
   "execution_count": null,
   "metadata": {},
   "outputs": [],
   "source": []
  }
 ],
 "metadata": {
  "file_extension": ".py",
  "kernelspec": {
   "display_name": "Python 3.7.4 64-bit ('PythonData': conda)",
   "language": "python",
   "name": "python37464bitpythondatacondaaf71fc3f5dd34866a438487bc0d8ac87"
  },
  "language_info": {
   "codemirror_mode": {
    "name": "ipython",
    "version": 3
   },
   "file_extension": ".py",
   "mimetype": "text/x-python",
   "name": "python",
   "nbconvert_exporter": "python",
   "pygments_lexer": "ipython3",
   "version": "3.7.4"
  },
  "mimetype": "text/x-python",
  "name": "python",
  "npconvert_exporter": "python",
  "pygments_lexer": "ipython3",
  "version": 3
 },
 "nbformat": 4,
 "nbformat_minor": 2
}
