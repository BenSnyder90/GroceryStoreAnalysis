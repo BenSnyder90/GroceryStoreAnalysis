{
 "cells": [
  {
   "cell_type": "code",
   "execution_count": 48,
   "metadata": {},
   "outputs": [],
   "source": [
    "import pandas as pd\n",
    "import gmaps\n",
    "from api_keys import g_key"
   ]
  },
  {
   "cell_type": "code",
   "execution_count": 49,
   "metadata": {},
   "outputs": [],
   "source": [
    "store_data = pd.read_csv(\"complete_data2.csv\",encoding = \"utf-8\")"
   ]
  },
  {
   "cell_type": "code",
   "execution_count": 50,
   "metadata": {},
   "outputs": [
    {
     "data": {
      "text/plain": [
       "269"
      ]
     },
     "execution_count": 50,
     "metadata": {},
     "output_type": "execute_result"
    }
   ],
   "source": [
    "gmaps.configure(api_key=g_key)\n",
    "\n",
    "# Store 'Lat' and 'Lng' into  locations for all stores\n",
    "store_lats = store_data[\"Lat\"].tolist()\n",
    "store_lngs = store_data[\"Lng\"].tolist()\n",
    "\n",
    "locations = list(zip(store_lats,store_lngs))\n",
    "len(locations)"
   ]
  },
  {
   "cell_type": "code",
   "execution_count": 71,
   "metadata": {},
   "outputs": [
    {
     "data": {
      "application/vnd.jupyter.widget-view+json": {
       "model_id": "adcb9533cb694081a6c5ea7366899044",
       "version_major": 2,
       "version_minor": 0
      },
      "text/plain": [
       "Figure(layout=FigureLayout(height='420px'))"
      ]
     },
     "metadata": {},
     "output_type": "display_data"
    }
   ],
   "source": [
    "#Print map of store locations and heatmaps\n",
    "coords_layer = gmaps.symbol_layer(locations, \n",
    "        fill_color='blue', stroke_color='blue', scale=1)\n",
    "heat_layer = gmaps.heatmap_layer(locations, \n",
    "                                 dissipating=False,point_radius = .05)\n",
    "fig = gmaps.figure(center = (41.187472, -80.998031), zoom_level = 8)\n",
    "fig.add_layer(coords_layer)\n",
    "fig.add_layer(heat_layer)\n",
    "fig"
   ]
  },
  {
   "cell_type": "code",
   "execution_count": 62,
   "metadata": {},
   "outputs": [
    {
     "name": "stdout",
     "output_type": "stream",
     "text": [
      "31\n",
      "17\n",
      "12\n",
      "209\n"
     ]
    }
   ],
   "source": [
    "#Make a dataframe of only the Walmart locations\n",
    "walmart_df = store_data.loc[store_data[\"Store Name\"] == \"Walmart\"]\n",
    "#Make a dataframe of the wholesale clubs\n",
    "wholesale_df = store_data.loc[(store_data['Store Name'] == \"Costco Wholesale\") | \n",
    "                              (store_data['Store Name']==\"BJ's Wholesale\") | (store_data['Store Name']==\"Sam's Club\")]\n",
    "#Make a dataframe of Target stores\n",
    "target_df = store_data.loc[store_data[\"Store Name\"]==\"Target\"]\n",
    "\n",
    "#Make a dataframe of the rest of the grocery stores\n",
    "grocery_df = grocery_df.loc[(store_data[\"Store Name\"] != \"Walmart\")] \n",
    "grocery_df = grocery_df.loc[(store_data['Store Name'] != \"Costco Wholesale\")]\n",
    "grocery_df = grocery_df.loc[(store_data['Store Name']!=\"BJ's Wholesale\")] \n",
    "grocery_df = grocery_df.loc[(store_data['Store Name']!=\"Sam's Club\")]\n",
    "grocery_df = grocery_df.loc[(store_data['Store Name'] != \"Target\")]\n",
    "\n",
    "#Print lengths of each dataframe to make sure everything was filtered\n",
    "print(len(walmart_df))\n",
    "print(len(wholesale_df))\n",
    "print(len(target_df))\n",
    "print(len(grocery_df))"
   ]
  },
  {
   "cell_type": "code",
   "execution_count": 89,
   "metadata": {},
   "outputs": [
    {
     "data": {
      "application/vnd.jupyter.widget-view+json": {
       "model_id": "99455c17640c4976a6c1f8bebe5e80f8",
       "version_major": 2,
       "version_minor": 0
      },
      "text/plain": [
       "Figure(layout=FigureLayout(height='420px'))"
      ]
     },
     "metadata": {},
     "output_type": "display_data"
    }
   ],
   "source": [
    "# Store 'Lat' and 'Lng' into  locations for Walmart\n",
    "walmart_lats = walmart_df[\"Lat\"].tolist()\n",
    "walmart_lngs = walmart_df[\"Lng\"].tolist()\n",
    "walmart_loc = list(zip(walmart_lats,walmart_lngs))\n",
    "#Store names into a list for info box\n",
    "walmart_names = walmart_df[\"Store Name\"].tolist()\n",
    "\n",
    "\n",
    "walmart_coords = gmaps.symbol_layer(walmart_loc, \n",
    "        fill_color='blue', stroke_color='blue', scale=2,info_box_content=walmart_names)\n",
    "walmart_heat = gmaps.heatmap_layer(walmart_loc, \n",
    "                                 dissipating=False,point_radius = .05)\n",
    "fig = gmaps.figure(center = (41.187472, -80.998031), zoom_level = 8)\n",
    "fig.add_layer(walmart_coords)\n",
    "fig.add_layer(walmart_heat)\n",
    "fig"
   ]
  },
  {
   "cell_type": "code",
   "execution_count": 90,
   "metadata": {},
   "outputs": [
    {
     "data": {
      "application/vnd.jupyter.widget-view+json": {
       "model_id": "829907304f0d496299175f2b2c4bbb6a",
       "version_major": 2,
       "version_minor": 0
      },
      "text/plain": [
       "Figure(layout=FigureLayout(height='420px'))"
      ]
     },
     "metadata": {},
     "output_type": "display_data"
    }
   ],
   "source": [
    "# Store 'Lat' and 'Lng' into  locations for Target\n",
    "target_lats = target_df[\"Lat\"].tolist()\n",
    "target_lngs = target_df[\"Lng\"].tolist()\n",
    "target_loc = list(zip(target_lats,target_lngs))\n",
    "#Store names into a list for info box\n",
    "target_names = target_df[\"Store Name\"].tolist()\n",
    "\n",
    "target_coords = gmaps.symbol_layer(target_loc, \n",
    "        fill_color='red', stroke_color='red', scale=2,info_box_content = target_names)\n",
    "target_heat = gmaps.heatmap_layer(target_loc, \n",
    "                                 dissipating=False,point_radius = .05)\n",
    "fig = gmaps.figure(center = (41.187472, -80.998031), zoom_level = 8)\n",
    "fig.add_layer(target_coords)\n",
    "fig.add_layer(target_heat)\n",
    "fig"
   ]
  },
  {
   "cell_type": "code",
   "execution_count": 92,
   "metadata": {},
   "outputs": [
    {
     "data": {
      "application/vnd.jupyter.widget-view+json": {
       "model_id": "1b18c709efe34dba93acc07f7f62aa38",
       "version_major": 2,
       "version_minor": 0
      },
      "text/plain": [
       "Figure(layout=FigureLayout(height='420px'))"
      ]
     },
     "metadata": {},
     "output_type": "display_data"
    }
   ],
   "source": [
    "# Store 'Lat' and 'Lng' into  locations for Wholesale Clubs\n",
    "whole_lats = wholesale_df[\"Lat\"].tolist()\n",
    "whole_lngs = wholesale_df[\"Lng\"].tolist()\n",
    "\n",
    "#Store names into a list for the info box\n",
    "whole_names = wholesale_df[\"Store Name\"].tolist()\n",
    "whole_loc = list(zip(whole_lats,whole_lngs))\n",
    "\n",
    "whole_coords = gmaps.symbol_layer(whole_loc, \n",
    "        fill_color='yellow', stroke_color='yellow', scale=2,info_box_content=whole_names)\n",
    "whole_heat = gmaps.heatmap_layer(whole_loc, \n",
    "                                 dissipating=False,point_radius = .05)\n",
    "fig = gmaps.figure(center = (41.187472, -80.998031), zoom_level = 8)\n",
    "fig.add_layer(whole_coords)\n",
    "fig.add_layer(whole_heat)\n",
    "fig"
   ]
  },
  {
   "cell_type": "code",
   "execution_count": 93,
   "metadata": {},
   "outputs": [
    {
     "data": {
      "application/vnd.jupyter.widget-view+json": {
       "model_id": "f314c0addf7944e1a785749abfed380a",
       "version_major": 2,
       "version_minor": 0
      },
      "text/plain": [
       "Figure(layout=FigureLayout(height='420px'))"
      ]
     },
     "metadata": {},
     "output_type": "display_data"
    }
   ],
   "source": [
    "# Store 'Lat' and 'Lng' into  locations for Grocery Stores\n",
    "grocery_lats = grocery_df[\"Lat\"].tolist()\n",
    "grocery_lngs = grocery_df[\"Lng\"].tolist()\n",
    "grocery_loc = list(zip(grocery_lats,grocery_lngs))\n",
    "\n",
    "#Store names into a list for info box\n",
    "grocery_names = grocery_df[\"Store Name\"].tolist()\n",
    "\n",
    "grocery_coords = gmaps.symbol_layer(grocery_loc, \n",
    "        fill_color=\"teal\", stroke_color=\"teal\", scale=2,info_box_content=grocery_names)\n",
    "grocery_heat = gmaps.heatmap_layer(grocery_loc, \n",
    "                                 dissipating=False,point_radius = .05)\n",
    "\n",
    "fig = gmaps.figure(center = (41.187472, -80.998031), zoom_level = 8)\n",
    "fig.add_layer(grocery_coords)\n",
    "fig.add_layer(grocery_heat)\n",
    "fig"
   ]
  },
  {
   "cell_type": "code",
   "execution_count": 94,
   "metadata": {},
   "outputs": [
    {
     "data": {
      "application/vnd.jupyter.widget-view+json": {
       "model_id": "f48fa0e219864a088ddfa58a7e333483",
       "version_major": 2,
       "version_minor": 0
      },
      "text/plain": [
       "Figure(layout=FigureLayout(height='420px'))"
      ]
     },
     "metadata": {},
     "output_type": "display_data"
    }
   ],
   "source": [
    "#Display all of the colored maps together\n",
    "fig = gmaps.figure(center = (41.187472, -80.998031), zoom_level = 8)\n",
    "fig.add_layer(grocery_coords)\n",
    "fig.add_layer(target_coords)\n",
    "fig.add_layer(walmart_coords)\n",
    "fig.add_layer(whole_coords)\n",
    "fig.add_layer(heat_layer)\n",
    "fig"
   ]
  },
  {
   "cell_type": "code",
   "execution_count": null,
   "metadata": {},
   "outputs": [],
   "source": []
  }
 ],
 "metadata": {
  "file_extension": ".py",
  "kernelspec": {
   "display_name": "Python 3.7.4 64-bit ('PythonData': conda)",
   "language": "python",
   "name": "python37464bitpythondatacondaaf71fc3f5dd34866a438487bc0d8ac87"
  },
  "language_info": {
   "codemirror_mode": {
    "name": "ipython",
    "version": 3
   },
   "file_extension": ".py",
   "mimetype": "text/x-python",
   "name": "python",
   "nbconvert_exporter": "python",
   "pygments_lexer": "ipython3",
   "version": "3.7.4"
  },
  "mimetype": "text/x-python",
  "name": "python",
  "npconvert_exporter": "python",
  "pygments_lexer": "ipython3",
  "version": 3
 },
 "nbformat": 4,
 "nbformat_minor": 2
}
