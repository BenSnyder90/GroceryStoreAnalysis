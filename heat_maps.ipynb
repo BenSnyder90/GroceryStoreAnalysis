{
 "cells": [
  {
   "cell_type": "code",
   "execution_count": 1,
   "metadata": {},
   "outputs": [],
   "source": [
    "import pandas as pd\n",
    "import gmaps\n",
    "from api_keys import g_key"
   ]
  },
  {
   "cell_type": "code",
   "execution_count": 2,
   "metadata": {},
   "outputs": [],
   "source": [
    "store_data = pd.read_csv(\"total_store_fixed_counties.csv\",encoding = \"utf-8\")\n",
    "census_data = pd.read_csv()"
   ]
  },
  {
   "cell_type": "code",
   "execution_count": 8,
   "metadata": {},
   "outputs": [
    {
     "data": {
      "text/plain": [
       "279"
      ]
     },
     "execution_count": 8,
     "metadata": {},
     "output_type": "execute_result"
    }
   ],
   "source": [
    "gmaps.configure(api_key=g_key)\n",
    "\n",
    "# Store 'Lat' and 'Lng' into  locations\n",
    "#store_data = store_data.rename(columns = {\"Lat\":\"Latitude\",\"Lng\":\"Longitude\"})\n",
    "store_lats = store_data[\"Lat\"].tolist()\n",
    "store_lngs = store_data[\"Lng\"].tolist()\n",
    "#humidity = store_data[\"\"].astype(float)\n",
    "locations = list(zip(store_lats,store_lngs))\n",
    "len(locations)"
   ]
  },
  {
   "cell_type": "code",
   "execution_count": 7,
   "metadata": {},
   "outputs": [
    {
     "data": {
      "application/vnd.jupyter.widget-view+json": {
       "model_id": "8dbe3a42406440ffbfc74150a3bde50f",
       "version_major": 2,
       "version_minor": 0
      },
      "text/plain": [
       "Figure(layout=FigureLayout(height='420px'))"
      ]
     },
     "metadata": {},
     "output_type": "display_data"
    }
   ],
   "source": [
    "coords_layer = gmaps.symbol_layer(locations, \n",
    "        fill_color='green', stroke_color='green', scale=2)\n",
    "fig = gmaps.figure(center = (41.187472, -80.998031), zoom_level = 8.5)\n",
    "fig.add_layer(coords_layer)\n",
    "fig"
   ]
  },
  {
   "cell_type": "code",
   "execution_count": null,
   "metadata": {},
   "outputs": [],
   "source": [
    "fig = gmaps.figure()\n",
    "#Make heatmap based off off the max value of humidity for the given cities\n",
    "heat_layer = gmaps.heatmap_layer(locations, weights=humidity, \n",
    "                                 dissipating=False, max_intensity=(humidity.max()),\n",
    "                                 point_radius = 1)\n",
    "\n",
    "fig.add_layer(heat_layer)\n",
    "\n",
    "fig\n",
    "\n"
   ]
  },
  {
   "cell_type": "code",
   "execution_count": null,
   "metadata": {},
   "outputs": [],
   "source": [
    "# fig = gmaps.figure()\n",
    "# #Make heatmap based off off the max value of humidity for the given cities\n",
    "# heat_layer = gmaps.heatmap_layer(locations, weights=humidity, \n",
    "#                                  dissipating=False, max_intensity=(humidity.max()),\n",
    "#                                  point_radius = 1)\n",
    "\n",
    "# fig.add_layer(heat_layer)\n",
    "\n",
    "# fig\n",
    "\n"
   ]
  }
 ],
 "metadata": {
  "file_extension": ".py",
  "kernelspec": {
   "display_name": "Python 3.7.4 64-bit ('PythonData': conda)",
   "language": "python",
   "name": "python37464bitpythondatacondaaf71fc3f5dd34866a438487bc0d8ac87"
  },
  "language_info": {
   "codemirror_mode": {
    "name": "ipython",
    "version": 3
   },
   "file_extension": ".py",
   "mimetype": "text/x-python",
   "name": "python",
   "nbconvert_exporter": "python",
   "pygments_lexer": "ipython3",
   "version": "3.7.4"
  },
  "mimetype": "text/x-python",
  "name": "python",
  "npconvert_exporter": "python",
  "pygments_lexer": "ipython3",
  "version": 3
 },
 "nbformat": 4,
 "nbformat_minor": 2
}
