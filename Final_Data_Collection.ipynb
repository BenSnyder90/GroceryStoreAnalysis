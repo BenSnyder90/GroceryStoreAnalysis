{
 "nbformat": 4,
 "nbformat_minor": 2,
 "metadata": {
  "language_info": {
   "name": "python",
   "codemirror_mode": {
    "name": "ipython",
    "version": 3
   },
   "version": "3.7.4-final"
  },
  "orig_nbformat": 2,
  "file_extension": ".py",
  "mimetype": "text/x-python",
  "name": "python",
  "npconvert_exporter": "python",
  "pygments_lexer": "ipython3",
  "version": 3,
  "kernelspec": {
   "name": "python37464bitpythondatacondaaf71fc3f5dd34866a438487bc0d8ac87",
   "display_name": "Python 3.7.4 64-bit ('PythonData': conda)"
  }
 },
 "cells": [
  {
   "cell_type": "markdown",
   "metadata": {},
   "source": [
    "# Data Collection - Collecting Grocery Store Data from Google API and Census Data from Census API"
   ]
  },
  {
   "cell_type": "markdown",
   "metadata": {},
   "source": [
    "## Dependencies"
   ]
  },
  {
   "cell_type": "code",
   "execution_count": 2,
   "metadata": {},
   "outputs": [],
   "source": [
    "import requests\n",
    "import json\n",
    "import gmaps\n",
    "from pprint import pprint\n",
    "import pandas as pd\n",
    "from api_keys import g_key"
   ]
  },
  {
   "cell_type": "markdown",
   "metadata": {},
   "source": [
    "## Variable Creation"
   ]
  },
  {
   "cell_type": "code",
   "execution_count": 1,
   "metadata": {},
   "outputs": [],
   "source": [
    "#Use Nearby Search Places API to get data\n",
    "#Made in a range of three circles roughly covering NE Ohio, two with max search\n",
    "#radius of 50000, one with a radius of 32186\n",
    "circle_one = \"41.135466,-81.652035\"\n",
    "circle_two = \"41.625126,-81.062346\"\n",
    "circle_three = \"41.037209,-80.888368\"\n",
    "\n",
    "#Store grocery stores in their own separate keywords\n",
    "ge_keyword = \"Giant Eagle\"\n",
    "al_keyword = \"Aldi's\"\n",
    "wf_keyword = \"Whole Foods Market\"\n",
    "mr_keyword = \"Marc's\"\n",
    "sa_keyword = \"Save A Lot\"\n",
    "da_keyword = \"Dave's Super Market\"\n",
    "hn_keyword = \"Heinen's\"\n",
    "\n",
    "#Store radius value in a variable \n",
    "radius = 50000\n",
    "\n",
    "#Make lists of the desired data to pull from API\n",
    "lat = []\n",
    "lng = []\n",
    "name = []\n",
    "address = []\n",
    "place_id = []\n",
    "\n",
    "#Base URL for Nearby Search API\n",
    "url = \"https://maps.googleapis.com/maps/api/place/nearbysearch/json\""
   ]
  },
  {
   "cell_type": "markdown",
   "metadata": {},
   "source": [
    "## Pull data for Giant Eagle from Google API"
   ]
  },
  {
   "cell_type": "code",
   "execution_count": null,
   "metadata": {},
   "outputs": [],
   "source": [
    "#Make parameters to use for each API call\n",
    "params = {\n",
    "    \"location\" : circle_one,\n",
    "    \"radius\": radius,\n",
    "    \"key\" : g_key,\n",
    "    \"keyword\" : ge_keyword\n",
    "}\n",
    "\n",
    "\n",
    "\n",
    "response = requests.get(url,params)\n",
    "gianteagle_one = response.json()\n",
    "for index in gianteagle_one['results']:\n",
    "    print(f\"Adding Index {index['name']} from circle one for Giant Eagle to the list...\")\n",
    "    name.append(index['name'])\n",
    "    lat.append(index['geometry']['location']['lat'])\n",
    "    lng.append(index['geometry']['location']['lng'])\n",
    "    address.append(index['vicinity'])\n",
    "    place_id.append(index['place_id'])\n",
    "   \n",
    "\n",
    "params = {\n",
    "    \"location\" : circle_two,\n",
    "        \"radius\": radius,\n",
    "    \"key\" : g_key,\n",
    "    \"keyword\" : ge_keyword\n",
    "}\n",
    "response = requests.get(url,params)\n",
    "gianteagle_two = response.json()\n",
    "for index in gianteagle_two['results']:\n",
    "    print(f\"Adding Index {index['name']} from circle two for Giant Eagle to the list...\")\n",
    "    name.append(index['name'])\n",
    "    lat.append(index['geometry']['location']['lat'])\n",
    "    lng.append(index['geometry']['location']['lng'])\n",
    "    address.append(index['vicinity'])\n",
    "    place_id.append(index['place_id'])\n",
    "\n",
    "    params = {\n",
    "    \"location\" : circle_three,\n",
    "    \"radius\": 32186,\n",
    "    \"key\" : g_key,\n",
    "    \"keyword\" : ge_keyword\n",
    "}\n",
    "response = requests.get(url,params)\n",
    "gianteagle_three = response.json()\n",
    "\n",
    "for index in gianteagle_three['results']:\n",
    "    print(f\"Adding Index {index['name']} from circle three for Giant Eagle to the list...\")\n",
    "    name.append(index['name'])\n",
    "    lat.append(index['geometry']['location']['lat'])\n",
    "    lng.append(index['geometry']['location']['lng'])\n",
    "    address.append(index['vicinity'])\n",
    "    place_id.append(index['place_id'])"
   ]
  },
  {
   "cell_type": "markdown",
   "metadata": {},
   "source": [
    "## Pull data for Aldi from Google API"
   ]
  },
  {
   "cell_type": "code",
   "execution_count": null,
   "metadata": {},
   "outputs": [],
   "source": [
    "params = {\n",
    "    \"location\" : circle_one,\n",
    "    \"radius\": radius,\n",
    "    \"key\" : g_key,\n",
    "    \"keyword\" : al_keyword\n",
    "}\n",
    "\n",
    "#response = requests.get(url,params)\n",
    "\n",
    "response = requests.get(url,params)\n",
    "aldi_one = response.json()\n",
    "for index in aldi_one['results']:\n",
    "    print(f\"Adding Index {index['name']}  from circle one for Aldi's to the list...\")\n",
    "    name.append(index['name'])\n",
    "    lat.append(index['geometry']['location']['lat'])\n",
    "    lng.append(index['geometry']['location']['lng'])\n",
    "    address.append(index['vicinity'])\n",
    "    place_id.append(index['place_id'])\n",
    "\n",
    "params = {\n",
    "    \"location\" : circle_two,\n",
    "    \"radius\": radius,\n",
    "    \"key\" : g_key,\n",
    "    \"keyword\" : al_keyword\n",
    "}\n",
    "response = requests.get(url,params)\n",
    "aldi_two = response.json()\n",
    "\n",
    "for index in aldi_two['results']:\n",
    "    print(f\"Adding Index {index['name']} from circle two for Aldi's to the list...\")\n",
    "    name.append(index['name'])\n",
    "    lat.append(index['geometry']['location']['lat'])\n",
    "    lng.append(index['geometry']['location']['lng'])\n",
    "    address.append(index['vicinity'])\n",
    "    place_id.append(index['place_id'])\n",
    "    \n",
    "params = {\n",
    "    \"location\" : circle_three,\n",
    "   \n",
    "    \"radius\": 32186,\n",
    "    \"key\" : g_key,\n",
    "    \"keyword\" : al_keyword\n",
    "}\n",
    "response = requests.get(url,params)\n",
    "aldi_three = response.json()\n",
    "\n",
    "for index in aldi_three['results']:\n",
    "    print(f\"Adding Index {index['name']} from circle three for Aldi's to the list...\")\n",
    "    name.append(index['name'])\n",
    "    lat.append(index['geometry']['location']['lat'])\n",
    "    lng.append(index['geometry']['location']['lng'])\n",
    "    address.append(index['vicinity'])\n",
    "    place_id.append(index['place_id'])\n",
    "   "
   ]
  },
  {
   "cell_type": "markdown",
   "metadata": {},
   "source": [
    "## Pull data for Whole Foods from Google API"
   ]
  },
  {
   "cell_type": "code",
   "execution_count": null,
   "metadata": {},
   "outputs": [],
   "source": [
    "params = {\n",
    "    \"location\" : circle_one,\n",
    "    \"radius\": radius,\n",
    "    \"key\" : g_key,\n",
    "    \"keyword\" : wf_keyword\n",
    "}\n",
    "\n",
    "\n",
    "response = requests.get(url,params)\n",
    "wf_one = response.json()\n",
    "for index in wf_one['results']:\n",
    "    print(f\"Adding Index {index['name']}  from circle one for Whole Foods Market to the list...\")\n",
    "    name.append(index['name'])\n",
    "    lat.append(index['geometry']['location']['lat'])\n",
    "    lng.append(index['geometry']['location']['lng'])\n",
    "    address.append(index['vicinity'])\n",
    "    place_id.append(index['place_id'])\n",
    "\n",
    "params = {\n",
    "    \"location\" : circle_two,\n",
    "    \"radius\": radius,\n",
    "    \"key\" : g_key,\n",
    "    \"keyword\" : wf_keyword\n",
    "}\n",
    "response = requests.get(url,params)\n",
    "wf_two = response.json()\n",
    "\n",
    "for index in wf_two['results']:\n",
    "    print(f\"Adding Index {index['name']} from circle two for Whole Foods Market to the list...\")\n",
    "    name.append(index['name'])\n",
    "    lat.append(index['geometry']['location']['lat'])\n",
    "    lng.append(index['geometry']['location']['lng'])\n",
    "    address.append(index['vicinity'])\n",
    "    place_id.append(index['place_id'])\n",
    "    \n",
    "params = {\n",
    "    \"location\" : circle_three,\n",
    "   \n",
    "    \"radius\": 32186,\n",
    "    \"key\" : g_key,\n",
    "    \"keyword\" : wf_keyword\n",
    "}\n",
    "response = requests.get(url,params)\n",
    "wf_three = response.json()\n",
    "\n",
    "for index in wf_three['results']:\n",
    "    print(f\"Adding Index {index['name']} from circle three for Whole Foods Market to the list...\")\n",
    "    name.append(index['name'])\n",
    "    lat.append(index['geometry']['location']['lat'])\n",
    "    lng.append(index['geometry']['location']['lng'])\n",
    "    address.append(index['vicinity'])\n",
    "    place_id.append(index['place_id'])"
   ]
  },
  {
   "cell_type": "markdown",
   "metadata": {},
   "source": [
    "## Pull data for Marc's from Google API"
   ]
  },
  {
   "cell_type": "code",
   "execution_count": null,
   "metadata": {},
   "outputs": [],
   "source": [
    "params = {\n",
    "    \"location\" : circle_one,\n",
    "    \"radius\": radius,\n",
    "    \"key\" : g_key,\n",
    "    \"keyword\" : mr_keyword\n",
    "}\n",
    "response = requests.get(url,params)\n",
    "mr_one = response.json()\n",
    "for index in mr_one['results']:\n",
    "    print(f\"Adding Index {index['name']}  from circle one for Marc's to the list...\")\n",
    "    name.append(index['name'])\n",
    "    lat.append(index['geometry']['location']['lat'])\n",
    "    lng.append(index['geometry']['location']['lng'])\n",
    "    address.append(index['vicinity'])\n",
    "    place_id.append(index['place_id'])\n",
    "\n",
    "params = {\n",
    "    \"location\" : circle_two,\n",
    "    \"radius\": radius,\n",
    "    \"key\" : g_key,\n",
    "    \"keyword\" : mr_keyword\n",
    "}\n",
    "response = requests.get(url,params)\n",
    "mr_two = response.json()\n",
    "\n",
    "for index in mr_two['results']:\n",
    "    print(f\"Adding Index {index['name']} from circle two for Marc's to the list...\")\n",
    "    name.append(index['name'])\n",
    "    lat.append(index['geometry']['location']['lat'])\n",
    "    lng.append(index['geometry']['location']['lng'])\n",
    "    address.append(index['vicinity'])\n",
    "    place_id.append(index['place_id'])\n",
    "    \n",
    "params = {\n",
    "    \"location\" : circle_three,\n",
    "    \n",
    "    \"radius\": 32186,\n",
    "    \"key\" : g_key,\n",
    "    \"keyword\" : mr_keyword\n",
    "}\n",
    "response = requests.get(url,params)\n",
    "mr_three = response.json()\n",
    "\n",
    "for index in mr_three['results']:\n",
    "    print(f\"Adding Index {index['name']} from circle three for Marc's to the list...\")\n",
    "    name.append(index['name'])\n",
    "    lat.append(index['geometry']['location']['lat'])\n",
    "    lng.append(index['geometry']['location']['lng'])\n",
    "    address.append(index['vicinity'])\n",
    "    place_id.append(index['place_id'])"
   ]
  },
  {
   "cell_type": "markdown",
   "metadata": {},
   "source": [
    "## Pull data for Save a Lot from Google API"
   ]
  },
  {
   "cell_type": "code",
   "execution_count": null,
   "metadata": {},
   "outputs": [],
   "source": [
    "params = {\n",
    "    \"location\" : circle_one,\n",
    "    \n",
    "    \"radius\": radius,\n",
    "    \"key\" : g_key,\n",
    "    \"keyword\" : sa_keyword\n",
    "}\n",
    "response = requests.get(url,params)\n",
    "sa_one = response.json()\n",
    "\n",
    "for index in sa_one['results']:\n",
    "    print(f\"Adding Index {index['name']}  from circle one for Save A Lot to the list...\")\n",
    "    name.append(index['name'])\n",
    "    lat.append(index['geometry']['location']['lat'])\n",
    "    lng.append(index['geometry']['location']['lng'])\n",
    "    address.append(index['vicinity'])\n",
    "    place_id.append(index['place_id'])\n",
    "    \n",
    "params = {\n",
    "    \"location\" : circle_two,\n",
    "    \"radius\": radius,\n",
    "    \"key\" : g_key,\n",
    "    \"keyword\" : sa_keyword\n",
    "}\n",
    "response = requests.get(url,params)\n",
    "sa_two = response.json()\n",
    "\n",
    "for index in sa_two['results']:\n",
    "    print(f\"Adding Index {index['name']} from circle two for Save A Lot to the list...\")\n",
    "    name.append(index['name'])\n",
    "    lat.append(index['geometry']['location']['lat'])\n",
    "    lng.append(index['geometry']['location']['lng'])\n",
    "    address.append(index['vicinity'])\n",
    "    place_id.append(index['place_id'])\n",
    "   \n",
    "params = {\n",
    "    \"location\" : circle_three,\n",
    "  \n",
    "    \"radius\": 32186,\n",
    "    \"key\" : g_key,\n",
    "    \"keyword\" : sa_keyword\n",
    "}\n",
    "response = requests.get(url,params)\n",
    "sa_three = response.json()\n",
    "for index in sa_three['results']:\n",
    "    print(f\"Adding Index {index['name']} from circle three for Save A Lot to the list...\")\n",
    "    name.append(index['name'])\n",
    "    lat.append(index['geometry']['location']['lat'])\n",
    "    lng.append(index['geometry']['location']['lng'])\n",
    "    address.append(index['vicinity'])\n",
    "    place_id.append(index['place_id'])"
   ]
  },
  {
   "cell_type": "markdown",
   "metadata": {},
   "source": [
    "## Pull data for Dave's Supermarkets from Google API"
   ]
  },
  {
   "cell_type": "code",
   "execution_count": null,
   "metadata": {},
   "outputs": [],
   "source": [
    "params = {\n",
    "    \"location\" : circle_one,\n",
    "    \n",
    "    \"radius\": radius,\n",
    "    \"key\" : g_key,\n",
    "    \"keyword\" : da_keyword\n",
    "}\n",
    "response = requests.get(url,params)\n",
    "da_one = response.json()\n",
    "\n",
    "for index in da_one['results']:\n",
    "    print(f\"Adding Index {index['name']}  from circle one for Dave's Super Market to the list...\")\n",
    "    name.append(index['name'])\n",
    "    lat.append(index['geometry']['location']['lat'])\n",
    "    lng.append(index['geometry']['location']['lng'])\n",
    "    address.append(index['vicinity'])\n",
    "    place_id.append(index['place_id'])\n",
    "    \n",
    "params = {\n",
    "    \"location\" : circle_two,\n",
    "    \"radius\": radius,\n",
    "    \"key\" : g_key,\n",
    "    \"keyword\" : da_keyword\n",
    "}\n",
    "response = requests.get(url,params)\n",
    "da_two = response.json()\n",
    "\n",
    "for index in da_two['results']:\n",
    "    print(f\"Adding Index {index['name']} from circle two for Dave's Super Market to the list...\")\n",
    "    name.append(index['name'])\n",
    "    lat.append(index['geometry']['location']['lat'])\n",
    "    lng.append(index['geometry']['location']['lng'])\n",
    "    address.append(index['vicinity'])\n",
    "    place_id.append(index['place_id'])\n",
    "   \n",
    "params = {\n",
    "    \"location\" : circle_three,\n",
    "  \n",
    "    \"radius\": 32186,\n",
    "    \"key\" : g_key,\n",
    "    \"keyword\" : da_keyword\n",
    "}\n",
    "response = requests.get(url,params)\n",
    "da_three = response.json()\n",
    "for index in da_three['results']:\n",
    "    print(f\"Adding Index {index['name']} from circle three for Dave's Super Market to the list...\")\n",
    "    name.append(index['name'])\n",
    "    lat.append(index['geometry']['location']['lat'])\n",
    "    lng.append(index['geometry']['location']['lng'])\n",
    "    address.append(index['vicinity'])\n",
    "    place_id.append(index['place_id'])\n"
   ]
  },
  {
   "cell_type": "markdown",
   "metadata": {},
   "source": [
    "## Pull data for Heinen's from the Google API"
   ]
  },
  {
   "cell_type": "code",
   "execution_count": null,
   "metadata": {},
   "outputs": [],
   "source": [
    "params = {\n",
    "    \"location\" : circle_one,\n",
    "    \n",
    "    \"radius\": radius,\n",
    "    \"key\" : g_key,\n",
    "    \"keyword\" : hn_keyword\n",
    "}\n",
    "response = requests.get(url,params)\n",
    "hn_one = response.json()\n",
    "\n",
    "for index in hn_one['results']:\n",
    "    print(f\"Adding Index {index['name']}  from circle one for Heinen's to the list...\")\n",
    "    name.append(index['name'])\n",
    "    lat.append(index['geometry']['location']['lat'])\n",
    "    lng.append(index['geometry']['location']['lng'])\n",
    "    address.append(index['vicinity'])\n",
    "    place_id.append(index['place_id'])\n",
    "    \n",
    "params = {\n",
    "    \"location\" : circle_two,\n",
    "    \"radius\": radius,\n",
    "    \"key\" : g_key,\n",
    "    \"keyword\" : hn_keyword\n",
    "}\n",
    "response = requests.get(url,params)\n",
    "hn_two = response.json()\n",
    "\n",
    "for index in hn_two['results']:\n",
    "    print(f\"Adding Index {index['name']} from circle two for Heinen's to the list...\")\n",
    "    name.append(index['name'])\n",
    "    lat.append(index['geometry']['location']['lat'])\n",
    "    lng.append(index['geometry']['location']['lng'])\n",
    "    address.append(index['vicinity'])\n",
    "    place_id.append(index['place_id'])\n",
    "   \n",
    "params = {\n",
    "    \"location\" : circle_three,\n",
    "  \n",
    "    \"radius\": 32186,\n",
    "    \"key\" : g_key,\n",
    "    \"keyword\" : hn_keyword\n",
    "}\n",
    "response = requests.get(url,params)\n",
    "hn_three = response.json()\n",
    "for index in hn_three['results']:\n",
    "    print(f\"Adding Index {index['name']} from circle three for Heinen's to the list...\")\n",
    "    name.append(index['name'])\n",
    "    lat.append(index['geometry']['location']['lat'])\n",
    "    lng.append(index['geometry']['location']['lng'])\n",
    "    address.append(index['vicinity'])\n",
    "    place_id.append(index['place_id'])\n"
   ]
  },
  {
   "cell_type": "markdown",
   "metadata": {},
   "source": [
    "## Pull data for Walmart from the Google API"
   ]
  },
  {
   "cell_type": "code",
   "execution_count": null,
   "metadata": {},
   "outputs": [],
   "source": [
    "url = \"https://maps.googleapis.com/maps/api/place/nearbysearch/json\"\n",
    "\n",
    "response = requests.get(url,params)\n",
    "walmart_one = response.json()\n",
    "\n",
    "for index in walmart_one['results']:\n",
    "    print(f\"Adding Index {index['name']} from circle one for Walmart to the list...\")\n",
    "    name.append(index['name'])\n",
    "    lat.append(index['geometry']['location']['lat'])\n",
    "    lng.append(index['geometry']['location']['lng'])\n",
    "    address.append(index['vicinity'])\n",
    "    place_id.append(index['place_id'])\n",
    "\n",
    "params = {\n",
    "    \"location\" : circle_two,\n",
    "    \"radius\": radius,\n",
    "    \"key\" : g_key,\n",
    "    \"keyword\" : wm_keyword\n",
    "}\n",
    "\n",
    "response = requests.get(url,params)\n",
    "walmart_two = response.json()\n",
    "for index in walmart_two['results']:\n",
    "    print(f\"Adding Index {index['name']} from circle two for Walmart to the list...\")\n",
    "    name.append(index['name'])\n",
    "    lat.append(index['geometry']['location']['lat'])\n",
    "    lng.append(index['geometry']['location']['lng'])\n",
    "    address.append(index['vicinity'])\n",
    "    place_id.append(index['place_id'])\n",
    "   \n",
    "params = {\n",
    "    \"location\" : circle_three,\n",
    "    \"radius\": 32186,\n",
    "    \"key\" : g_key,\n",
    "    \"keyword\" : wm_keyword\n",
    "}\n",
    "response = requests.get(url,params)\n",
    "walmart_three = response.json()\n",
    "for index in walmart_three['results']:\n",
    "    print(f\"Adding Index {index['name']} from circle three for CostCo to the list...\")\n",
    "    name.append(index['name'])\n",
    "    lat.append(index['geometry']['location']['lat'])\n",
    "    lng.append(index['geometry']['location']['lng'])\n",
    "    address.append(index['vicinity'])\n",
    "    place_id.append(index['place_id'])\n",
    "   "
   ]
  },
  {
   "cell_type": "markdown",
   "metadata": {},
   "source": [
    "## Store list values into a new DataFrame"
   ]
  },
  {
   "cell_type": "code",
   "execution_count": null,
   "metadata": {},
   "outputs": [],
   "source": [
    "store_list = pd.DataFrame(data = {\"Name\":name,\"Lat\":lat,\"Lng\":lng,\"Address\":address,\"Place ID\":place_id})\n",
    "store_list"
   ]
  },
  {
   "cell_type": "code",
   "execution_count": null,
   "metadata": {},
   "outputs": [],
   "source": [
    "#Make sure duplicates exist of Lat and Lng and are mutually exclusive\n",
    "print(store_list['Lat'].value_counts().value_counts())\n",
    "print(store_list['Lng'].value_counts().value_counts())"
   ]
  },
  {
   "cell_type": "code",
   "execution_count": null,
   "metadata": {},
   "outputs": [],
   "source": [
    "#Drop the duplicate entries from Lat and Lng\n",
    "dropped_store_list = store_list.drop_duplicates(subset = ['Lat','Lng']).reset_index(drop=True)\n",
    "\n",
    "#Check to see if there are duplicates with address\n",
    "print(dropped_store_list['Address'].value_counts().value_counts())\n",
    "\n",
    "#Drop duplicate addresses and verify\n",
    "dropped_store_list = dropped_store_list.drop_duplicates(subset = \"Address\").reset_index(drop=True)\n",
    "print(dropped_store_list['Address'].value_counts().value_counts())\n",
    "#store_list.to_csv(\"output_data/store_data.csv\",index=False,header=True)\n",
    "\n",
    "#Drop extra column of indexes\n",
    "dropped_store_list = dropped_store_list[[\"Name\",\"Lat\",\"Lng\",\"Address\",\"Place ID\"]]\n"
   ]
  },
  {
   "cell_type": "markdown",
   "metadata": {},
   "source": [
    "## Use Places API to get County Data"
   ]
  },
  {
   "cell_type": "code",
   "execution_count": null,
   "metadata": {},
   "outputs": [],
   "source": [
    "county_url = f\"https://maps.googleapis.com/maps/api/place/details/json?key={g_key}&place_id=\"\n",
    "county = []\n",
    "\n",
    "#Test to find the right field\n",
    "    #p_id = \"ChIJrwEsWXIgMYgRnko93meT4s0\"\n",
    "    #response = requests.get(county_url+p_id).json()\n",
    "    #pprint(response['result']['address_components'][3]['long_name'])\n",
    "\n",
    "#Use place details API to get the county name from the place ID\n",
    "for x in dropped_store_list['Place ID']:\n",
    "    response = requests.get(county_url+x).json()\n",
    "    county.append(response['result']['address_components'][3]['long_name'])\n",
    "\n",
    "#Add column of county data to DataFrame\n",
    "dropped_store_list[\"County\"] = county\n",
    "\n",
    "print(dropped_store_list)"
   ]
  },
  {
   "cell_type": "code",
   "execution_count": null,
   "metadata": {},
   "outputs": [],
   "source": [
    "#Store dataframe to CSV file\n",
    "dropped_store_list.to_csv(\"Output_CSVs/store_data_NEO_places.csv\",index=False,header=True)"
   ]
  },
  {
   "cell_type": "markdown",
   "metadata": {},
   "source": [
    "## Pull data for Wholesale Clubs from Google API"
   ]
  },
  {
   "cell_type": "code",
   "execution_count": 3,
   "metadata": {},
   "outputs": [
    {
     "name": "stdout",
     "output_type": "stream",
     "text": "Adding Index Costco Wholesale from circle one for CostCo to the list...\nAdding Index Costco Wholesale from circle one for CostCo to the list...\nAdding Index Costco Wholesale from circle one for CostCo to the list...\nAdding Index Costco Wholesale from circle one for CostCo to the list...\nAdding Index Costco Photo Center from circle one for CostCo to the list...\nAdding Index Costco Wholesale from circle two for CostCo to the list...\nAdding Index Costco Wholesale from circle two for CostCo to the list...\n"
    }
   ],
   "source": [
    "\n",
    "cc_keyword = \"Costco Wholesale\"\n",
    "sc_keyword = \"Sam's Club\"\n",
    "bj_keyword = \"BJ's Wholesale\"\n",
    "\n",
    "lat = []\n",
    "lng = []\n",
    "name = []\n",
    "address = []\n",
    "place_id = []\n",
    "\n",
    "#Make for loop to search through different stores at the different circle radius coordinates\n",
    "#store_keywords = [\"Costco Wholesale\",\"Sam's Club\",\"BJ's Wholesale\"]\n",
    "#circle_list = [\"41.135466,-81.652035\",\"41.625126,-81.062346\",\"41.037209,-80.888368\"]\n",
    "\n",
    "params = {\n",
    "    \"location\" : circle_one,\n",
    "    \"radius\": radius,\n",
    "    \"key\" : g_key,\n",
    "    \"keyword\" : cc_keyword\n",
    "}\n",
    "\n",
    "\n",
    "url = \"https://maps.googleapis.com/maps/api/place/nearbysearch/json\"\n",
    "\n",
    "#Get Costco Data\n",
    "response = requests.get(url,params)\n",
    "costco_one = response.json()\n",
    "#print(costco_one['results'])\n",
    "for index in costco_one['results']:\n",
    "    print(f\"Adding Index {index['name']} from circle one for CostCo to the list...\")\n",
    "    name.append(index['name'])\n",
    "    lat.append(index['geometry']['location']['lat'])\n",
    "    lng.append(index['geometry']['location']['lng'])\n",
    "    address.append(index['vicinity'])\n",
    "    place_id.append(index['place_id'])\n",
    "\n",
    "\n",
    "params = {\n",
    "    \"location\" : circle_two,\n",
    "    #\"type\": target_type,\n",
    "    \"radius\": radius,\n",
    "    \"key\" : g_key,\n",
    "    \"keyword\" : cc_keyword\n",
    "}\n",
    "response = requests.get(url,params)\n",
    "costco_two = response.json()\n",
    "#print(costco_one['results'])\n",
    "for index in costco_two['results']:\n",
    "    print(f\"Adding Index {index['name']} from circle two for CostCo to the list...\")\n",
    "    name.append(index['name'])\n",
    "    lat.append(index['geometry']['location']['lat'])\n",
    "    lng.append(index['geometry']['location']['lng'])\n",
    "    address.append(index['vicinity'])\n",
    "    place_id.append(index['place_id'])\n",
    "    \n",
    "\n",
    "\n",
    "params = {\n",
    "    \"location\" : circle_three,\n",
    "    \"radius\": 32186,\n",
    "    \"key\" : g_key,\n",
    "    \"keyword\" : cc_keyword\n",
    "}\n",
    "response = requests.get(url,params)\n",
    "costco_three = response.json()\n",
    "#print(costco_one['results'])\n",
    "for index in costco_three['results']:\n",
    "    print(f\"Adding Index {index['name']} from circle three for CostCo to the list...\")\n",
    "    name.append(index['name'])\n",
    "    lat.append(index['geometry']['location']['lat'])\n",
    "    lng.append(index['geometry']['location']['lng'])\n",
    "    address.append(index['vicinity'])\n",
    "    place_id.append(index['place_id'])"
   ]
  },
  {
   "cell_type": "code",
   "execution_count": 4,
   "metadata": {},
   "outputs": [
    {
     "name": "stdout",
     "output_type": "stream",
     "text": "Adding Index Sam's Club from circle one for Sam's Club to the list...\nAdding Index Sam's Club from circle one for Sam's Club to the list...\nAdding Index Sam's Club from circle one for Sam's Club to the list...\nAdding Index Sam's Club from circle one for Sam's Club to the list...\nAdding Index Sam's Club from circle one for Sam's Club to the list...\nAdding Index Sam's Club Bakery from circle one for Sam's Club to the list...\nAdding Index Sam's Club from circle one for Sam's Club to the list...\nAdding Index Sam's Club Connection Center from circle one for Sam's Club to the list...\nAdding Index Sam's Club Connection Center from circle one for Sam's Club to the list...\nAdding Index Sam's Club Floral from circle one for Sam's Club to the list...\nAdding Index Sam's Club Connection Center from circle one for Sam's Club to the list...\nAdding Index Sam's Club Hearing Aid Center from circle one for Sam's Club to the list...\nAdding Index Sam's Club Bakery from circle one for Sam's Club to the list...\nAdding Index Sam's Club Connection Center from circle one for Sam's Club to the list...\nAdding Index Sam's Club Tire & Battery from circle one for Sam's Club to the list...\nAdding Index Sam's Club Bakery from circle one for Sam's Club to the list...\nAdding Index Sam's Club from circle two for Sam's Club to the list...\nAdding Index Sam's Club from circle two for Sam's Club to the list...\nAdding Index Sam's Club from circle two for Sam's Club to the list...\nAdding Index Sam's Club Connection Center from circle two for Sam's Club to the list...\nAdding Index Sam's Club Connection Center from circle two for Sam's Club to the list...\nAdding Index Sam's Club Connection Center from circle two for Sam's Club to the list...\nAdding Index Sam's Club Hearing Aid Center from circle two for Sam's Club to the list...\nAdding Index Sam's Club Hearing Aid Center from circle two for Sam's Club to the list...\nAdding Index Sam's Club Bakery from circle two for Sam's Club to the list...\nAdding Index Sam's Club from circle three for Sam's Club to the list...\nAdding Index Sam's Club from circle three for Sam's Club to the list...\nAdding Index Sam's Club Bakery from circle three for Sam's Club to the list...\nAdding Index Sam's Club Bakery from circle three for Sam's Club to the list...\n"
    }
   ],
   "source": [
    "#Get Sam's Club Data\n",
    "\n",
    "params = {\n",
    "    \"location\" : circle_one,\n",
    "    \"radius\": radius,\n",
    "    \"key\" : g_key,\n",
    "    \"keyword\" : sc_keyword\n",
    "}\n",
    "response = requests.get(url,params)\n",
    "sams_one = response.json()\n",
    "#print(costco_one['results'])\n",
    "for index in sams_one['results']:\n",
    "    print(f\"Adding Index {index['name']} from circle one for Sam's Club to the list...\")\n",
    "    name.append(index['name'])\n",
    "    lat.append(index['geometry']['location']['lat'])\n",
    "    lng.append(index['geometry']['location']['lng'])\n",
    "    address.append(index['vicinity'])\n",
    "    place_id.append(index['place_id'])\n",
    "\n",
    "\n",
    "params = {\n",
    "    \"location\" : circle_two,\n",
    "    \"radius\": radius,\n",
    "    \"key\" : g_key,\n",
    "    \"keyword\" : sc_keyword\n",
    "}\n",
    "response = requests.get(url,params)\n",
    "sams_two = response.json()\n",
    "#print(costco_one['results'])\n",
    "for index in sams_two['results']:\n",
    "    print(f\"Adding Index {index['name']} from circle two for Sam's Club to the list...\")\n",
    "    name.append(index['name'])\n",
    "    lat.append(index['geometry']['location']['lat'])\n",
    "    lng.append(index['geometry']['location']['lng'])\n",
    "    address.append(index['vicinity'])\n",
    "    place_id.append(index['place_id'])\n",
    "\n",
    "\n",
    "params = {\n",
    "    \"location\" : circle_three,\n",
    "    \"radius\": 32186,\n",
    "    \"key\" : g_key,\n",
    "    \"keyword\" : sc_keyword\n",
    "}\n",
    "response = requests.get(url,params)\n",
    "sams_three = response.json()\n",
    "#print(costco_one['results'])\n",
    "for index in sams_three['results']:\n",
    "    print(f\"Adding Index {index['name']} from circle three for Sam's Club to the list...\")\n",
    "    name.append(index['name'])\n",
    "    lat.append(index['geometry']['location']['lat'])\n",
    "    lng.append(index['geometry']['location']['lng'])\n",
    "    address.append(index['vicinity'])\n",
    "    place_id.append(index['place_id'])"
   ]
  },
  {
   "cell_type": "code",
   "execution_count": 5,
   "metadata": {},
   "outputs": [
    {
     "name": "stdout",
     "output_type": "stream",
     "text": "Adding Index BJ's Wholesale  from circle one for BJ's to the list...\nAdding Index BJ's Wholesale  from circle one for BJ's to the list...\nAdding Index BJ's Wholesale  from circle one for BJ's to the list...\nAdding Index BJ's Wholesale  from circle one for BJ's to the list...\nAdding Index BJ's Wholesale  from circle one for BJ's to the list...\nAdding Index BJ's Wholesale from circle two for BJ's to the list...\nAdding Index BJ's Wholesale from circle two for BJ's to the list...\n"
    }
   ],
   "source": [
    "#Get data for BJ's Wholesale\n",
    "params = {\n",
    "    \"location\" : circle_one,\n",
    "  \n",
    "    \"radius\": radius,\n",
    "    \"key\" : g_key,\n",
    "    \"keyword\" : bj_keyword\n",
    "}\n",
    "response = requests.get(url,params)\n",
    "bj_one = response.json()\n",
    "#print(costco_one['results'])\n",
    "for index in bj_one['results']:\n",
    "    print(f\"Adding Index {index['name']}  from circle one for BJ's to the list...\")\n",
    "    name.append(index['name'])\n",
    "    lat.append(index['geometry']['location']['lat'])\n",
    "    lng.append(index['geometry']['location']['lng'])\n",
    "    address.append(index['vicinity'])\n",
    "    place_id.append(index['place_id'])\n",
    "\n",
    "\n",
    "params = {\n",
    "    \"location\" : circle_two,\n",
    "    \"radius\": radius,\n",
    "    \"key\" : g_key,\n",
    "    \"keyword\" : bj_keyword\n",
    "}\n",
    "response = requests.get(url,params)\n",
    "bj_two = response.json()\n",
    "#print(costco_one['results'])\n",
    "for index in bj_two['results']:\n",
    "    print(f\"Adding Index {index['name']} from circle two for BJ's to the list...\")\n",
    "    name.append(index['name'])\n",
    "    lat.append(index['geometry']['location']['lat'])\n",
    "    lng.append(index['geometry']['location']['lng'])\n",
    "    address.append(index['vicinity'])\n",
    "    place_id.append(index['place_id'])\n",
    "\n",
    "\n",
    "params = {\n",
    "    \"location\" : circle_three,\n",
    "    \"radius\": 32186,\n",
    "    \"key\" : g_key,\n",
    "    \"keyword\" : bj_keyword\n",
    "}\n",
    "response = requests.get(url,params)\n",
    "bj_three = response.json()\n",
    "#print(costco_one['results'])\n",
    "for index in bj_three['results']:\n",
    "    print(f\"Adding Index {index['name']} from circle three for BJ's to the list...\")\n",
    "    name.append(index['name'])\n",
    "    lat.append(index['geometry']['location']['lat'])\n",
    "    lng.append(index['geometry']['location']['lng'])\n",
    "    address.append(index['vicinity'])\n",
    "    place_id.append(index['place_id'])\n",
    "\n",
    "\n"
   ]
  },
  {
   "cell_type": "code",
   "execution_count": null,
   "metadata": {},
   "outputs": [],
   "source": [
    "#Store data into a dataframe\n",
    "club_list = pd.DataFrame(data = {\"Name\":name,\"Lat\":lat,\"Lng\":lng,\"Address\":address,\"Place ID\":place_id})\n",
    "club_list"
   ]
  },
  {
   "cell_type": "code",
   "execution_count": 31,
   "metadata": {},
   "outputs": [
    {
     "data": {
      "text/html": "<div>\n<style scoped>\n    .dataframe tbody tr th:only-of-type {\n        vertical-align: middle;\n    }\n\n    .dataframe tbody tr th {\n        vertical-align: top;\n    }\n\n    .dataframe thead th {\n        text-align: right;\n    }\n</style>\n<table border=\"1\" class=\"dataframe\">\n  <thead>\n    <tr style=\"text-align: right;\">\n      <th></th>\n      <th>Name</th>\n      <th>Lat</th>\n      <th>Lng</th>\n      <th>Address</th>\n      <th>Place ID</th>\n    </tr>\n  </thead>\n  <tbody>\n    <tr>\n      <th>0</th>\n      <td>Costco Wholesale</td>\n      <td>41.265324</td>\n      <td>-81.507401</td>\n      <td>6720 Bass Pro Dr, Hudson</td>\n      <td>ChIJrwEsWXIgMYgRnko93meT4s0</td>\n    </tr>\n    <tr>\n      <th>1</th>\n      <td>Costco Wholesale</td>\n      <td>41.316908</td>\n      <td>-81.815903</td>\n      <td>16690 Royalton Rd, Strongsville</td>\n      <td>ChIJNa2MJXnqMIgRmZ164eouXjE</td>\n    </tr>\n    <tr>\n      <th>2</th>\n      <td>Costco Wholesale</td>\n      <td>41.460533</td>\n      <td>-82.011002</td>\n      <td>35804 Detroit Rd, Avon</td>\n      <td>ChIJSZghHbmRMIgRfCrrH_q0OJI</td>\n    </tr>\n    <tr>\n      <th>3</th>\n      <td>Costco Wholesale</td>\n      <td>41.523955</td>\n      <td>-81.446610</td>\n      <td>1409 Golden Gate Blvd, Cleveland</td>\n      <td>ChIJz_ruA18BMYgRY7HfgmroTWg</td>\n    </tr>\n    <tr>\n      <th>4</th>\n      <td>Sam's Club</td>\n      <td>40.878174</td>\n      <td>-81.437164</td>\n      <td>4790 Portage St NW, Canton</td>\n      <td>ChIJ2Yr2wKjWNogRjGilwuTNZyU</td>\n    </tr>\n    <tr>\n      <th>5</th>\n      <td>Sam's Club</td>\n      <td>41.366413</td>\n      <td>-81.512382</td>\n      <td>23300 Broadway Ave, Oakwood</td>\n      <td>ChIJDV-HRwceMYgRIYsH9N1b_HQ</td>\n    </tr>\n    <tr>\n      <th>6</th>\n      <td>Sam's Club</td>\n      <td>41.420280</td>\n      <td>-81.757481</td>\n      <td>10250 Brookpark Rd, Cleveland</td>\n      <td>ChIJ1fa4rIzuMIgRFMsgyqQYFWE</td>\n    </tr>\n    <tr>\n      <th>7</th>\n      <td>Sam's Club</td>\n      <td>41.421844</td>\n      <td>-82.081514</td>\n      <td>5225 Cobblestone Rd, Sheffield</td>\n      <td>ChIJX_t1UjKaMIgRHM2sNhFFxyU</td>\n    </tr>\n    <tr>\n      <th>8</th>\n      <td>Sam's Club</td>\n      <td>41.226195</td>\n      <td>-80.744836</td>\n      <td>1040 Niles Cortland Rd SE, Warren</td>\n      <td>ChIJaY-CnZ_gM4gRng6y-UmPoRY</td>\n    </tr>\n    <tr>\n      <th>9</th>\n      <td>Sam's Club</td>\n      <td>41.717211</td>\n      <td>-81.293395</td>\n      <td>5600 Emerald Ct, Mentor</td>\n      <td>ChIJ0Ux7Jf2kMYgRF3vi1W6CpKg</td>\n    </tr>\n    <tr>\n      <th>10</th>\n      <td>Sam's Club</td>\n      <td>41.034330</td>\n      <td>-80.633600</td>\n      <td>6361 South Ave, Youngstown</td>\n      <td>ChIJkW7Vup36M4gRgrjjdp3j20U</td>\n    </tr>\n    <tr>\n      <th>11</th>\n      <td>BJ's Wholesale</td>\n      <td>41.115934</td>\n      <td>-81.482591</td>\n      <td>1677 Home Ave, Akron</td>\n      <td>ChIJr1lVVGUoMYgRZyNHvaFakyk</td>\n    </tr>\n    <tr>\n      <th>12</th>\n      <td>BJ's Wholesale</td>\n      <td>40.881690</td>\n      <td>-81.439936</td>\n      <td>6924 Frank Ave NW, North Canton</td>\n      <td>ChIJv7wm5qfWNogR-pHBWCbJJ4Y</td>\n    </tr>\n    <tr>\n      <th>13</th>\n      <td>BJ's Wholesale</td>\n      <td>41.441952</td>\n      <td>-81.496956</td>\n      <td>4365 Richmond Rd, Warrensville Heights</td>\n      <td>ChIJlxu-3EsdMYgRQNm9xU4cwUM</td>\n    </tr>\n    <tr>\n      <th>14</th>\n      <td>BJ's Wholesale</td>\n      <td>41.376131</td>\n      <td>-81.786051</td>\n      <td>6944 W 130th St, Middleburg Heights</td>\n      <td>ChIJd7jukOTrMIgRbFLNX469JvM</td>\n    </tr>\n    <tr>\n      <th>15</th>\n      <td>BJ's Wholesale</td>\n      <td>41.463206</td>\n      <td>-82.050078</td>\n      <td>38292 Colorado Ave, Avon</td>\n      <td>ChIJ_VAprpmaMIgRdiXIOGEAp6w</td>\n    </tr>\n    <tr>\n      <th>16</th>\n      <td>BJ's Wholesale</td>\n      <td>41.631042</td>\n      <td>-81.426055</td>\n      <td>36595 Euclid Ave, Willoughby</td>\n      <td>ChIJs99FxoepMYgRDybNRcg4FRU</td>\n    </tr>\n  </tbody>\n</table>\n</div>",
      "text/plain": "                Name        Lat        Lng  \\\n0   Costco Wholesale  41.265324 -81.507401   \n1   Costco Wholesale  41.316908 -81.815903   \n2   Costco Wholesale  41.460533 -82.011002   \n3   Costco Wholesale  41.523955 -81.446610   \n4         Sam's Club  40.878174 -81.437164   \n5         Sam's Club  41.366413 -81.512382   \n6         Sam's Club  41.420280 -81.757481   \n7         Sam's Club  41.421844 -82.081514   \n8         Sam's Club  41.226195 -80.744836   \n9         Sam's Club  41.717211 -81.293395   \n10        Sam's Club  41.034330 -80.633600   \n11    BJ's Wholesale  41.115934 -81.482591   \n12    BJ's Wholesale  40.881690 -81.439936   \n13    BJ's Wholesale  41.441952 -81.496956   \n14    BJ's Wholesale  41.376131 -81.786051   \n15    BJ's Wholesale  41.463206 -82.050078   \n16    BJ's Wholesale  41.631042 -81.426055   \n\n                                   Address                     Place ID  \n0                 6720 Bass Pro Dr, Hudson  ChIJrwEsWXIgMYgRnko93meT4s0  \n1          16690 Royalton Rd, Strongsville  ChIJNa2MJXnqMIgRmZ164eouXjE  \n2                   35804 Detroit Rd, Avon  ChIJSZghHbmRMIgRfCrrH_q0OJI  \n3         1409 Golden Gate Blvd, Cleveland  ChIJz_ruA18BMYgRY7HfgmroTWg  \n4               4790 Portage St NW, Canton  ChIJ2Yr2wKjWNogRjGilwuTNZyU  \n5              23300 Broadway Ave, Oakwood  ChIJDV-HRwceMYgRIYsH9N1b_HQ  \n6            10250 Brookpark Rd, Cleveland  ChIJ1fa4rIzuMIgRFMsgyqQYFWE  \n7           5225 Cobblestone Rd, Sheffield  ChIJX_t1UjKaMIgRHM2sNhFFxyU  \n8        1040 Niles Cortland Rd SE, Warren  ChIJaY-CnZ_gM4gRng6y-UmPoRY  \n9                  5600 Emerald Ct, Mentor  ChIJ0Ux7Jf2kMYgRF3vi1W6CpKg  \n10              6361 South Ave, Youngstown  ChIJkW7Vup36M4gRgrjjdp3j20U  \n11                    1677 Home Ave, Akron  ChIJr1lVVGUoMYgRZyNHvaFakyk  \n12         6924 Frank Ave NW, North Canton  ChIJv7wm5qfWNogR-pHBWCbJJ4Y  \n13  4365 Richmond Rd, Warrensville Heights  ChIJlxu-3EsdMYgRQNm9xU4cwUM  \n14     6944 W 130th St, Middleburg Heights  ChIJd7jukOTrMIgRbFLNX469JvM  \n15                38292 Colorado Ave, Avon  ChIJ_VAprpmaMIgRdiXIOGEAp6w  \n16            36595 Euclid Ave, Willoughby  ChIJs99FxoepMYgRDybNRcg4FRU  "
     },
     "execution_count": 31,
     "metadata": {},
     "output_type": "execute_result"
    }
   ],
   "source": [
    "#Delete duplicates that were written as different addresses\n",
    "club_list = club_list.loc[club_list[\"Name\"] != \"Costco Photo Center\"]\n",
    "club_list = club_list.loc[club_list[\"Name\"] != \"Sam's Club Tire & Battery\"]\n",
    "club_list = club_list.drop_duplicates(subset = \"Address\").reset_index(drop=True)\n",
    "club_list\n",
    "\n"
   ]
  },
  {
   "cell_type": "markdown",
   "metadata": {},
   "source": [
    "## Use Places API to get County data for Wholesale Clubs"
   ]
  },
  {
   "cell_type": "code",
   "execution_count": 32,
   "metadata": {},
   "outputs": [
    {
     "data": {
      "text/html": "<div>\n<style scoped>\n    .dataframe tbody tr th:only-of-type {\n        vertical-align: middle;\n    }\n\n    .dataframe tbody tr th {\n        vertical-align: top;\n    }\n\n    .dataframe thead th {\n        text-align: right;\n    }\n</style>\n<table border=\"1\" class=\"dataframe\">\n  <thead>\n    <tr style=\"text-align: right;\">\n      <th></th>\n      <th>Name</th>\n      <th>Lat</th>\n      <th>Lng</th>\n      <th>Address</th>\n      <th>Place ID</th>\n      <th>County</th>\n    </tr>\n  </thead>\n  <tbody>\n    <tr>\n      <th>0</th>\n      <td>Costco Wholesale</td>\n      <td>41.265324</td>\n      <td>-81.507401</td>\n      <td>6720 Bass Pro Dr, Hudson</td>\n      <td>ChIJrwEsWXIgMYgRnko93meT4s0</td>\n      <td>Summit County</td>\n    </tr>\n    <tr>\n      <th>1</th>\n      <td>Costco Wholesale</td>\n      <td>41.316908</td>\n      <td>-81.815903</td>\n      <td>16690 Royalton Rd, Strongsville</td>\n      <td>ChIJNa2MJXnqMIgRmZ164eouXjE</td>\n      <td>Cuyahoga County</td>\n    </tr>\n    <tr>\n      <th>2</th>\n      <td>Costco Wholesale</td>\n      <td>41.460533</td>\n      <td>-82.011002</td>\n      <td>35804 Detroit Rd, Avon</td>\n      <td>ChIJSZghHbmRMIgRfCrrH_q0OJI</td>\n      <td>Lorain County</td>\n    </tr>\n    <tr>\n      <th>3</th>\n      <td>Costco Wholesale</td>\n      <td>41.523955</td>\n      <td>-81.446610</td>\n      <td>1409 Golden Gate Blvd, Cleveland</td>\n      <td>ChIJz_ruA18BMYgRY7HfgmroTWg</td>\n      <td>Cuyahoga County</td>\n    </tr>\n    <tr>\n      <th>4</th>\n      <td>Sam's Club</td>\n      <td>40.878174</td>\n      <td>-81.437164</td>\n      <td>4790 Portage St NW, Canton</td>\n      <td>ChIJ2Yr2wKjWNogRjGilwuTNZyU</td>\n      <td>Jackson Township</td>\n    </tr>\n    <tr>\n      <th>5</th>\n      <td>Sam's Club</td>\n      <td>41.366413</td>\n      <td>-81.512382</td>\n      <td>23300 Broadway Ave, Oakwood</td>\n      <td>ChIJDV-HRwceMYgRIYsH9N1b_HQ</td>\n      <td>Cuyahoga County</td>\n    </tr>\n    <tr>\n      <th>6</th>\n      <td>Sam's Club</td>\n      <td>41.420280</td>\n      <td>-81.757481</td>\n      <td>10250 Brookpark Rd, Cleveland</td>\n      <td>ChIJ1fa4rIzuMIgRFMsgyqQYFWE</td>\n      <td>Cuyahoga County</td>\n    </tr>\n    <tr>\n      <th>7</th>\n      <td>Sam's Club</td>\n      <td>41.421844</td>\n      <td>-82.081514</td>\n      <td>5225 Cobblestone Rd, Sheffield</td>\n      <td>ChIJX_t1UjKaMIgRHM2sNhFFxyU</td>\n      <td>Lorain County</td>\n    </tr>\n    <tr>\n      <th>8</th>\n      <td>Sam's Club</td>\n      <td>41.226195</td>\n      <td>-80.744836</td>\n      <td>1040 Niles Cortland Rd SE, Warren</td>\n      <td>ChIJaY-CnZ_gM4gRng6y-UmPoRY</td>\n      <td>Trumbull County</td>\n    </tr>\n    <tr>\n      <th>9</th>\n      <td>Sam's Club</td>\n      <td>41.717211</td>\n      <td>-81.293395</td>\n      <td>5600 Emerald Ct, Mentor</td>\n      <td>ChIJ0Ux7Jf2kMYgRF3vi1W6CpKg</td>\n      <td>Lake County</td>\n    </tr>\n    <tr>\n      <th>10</th>\n      <td>Sam's Club</td>\n      <td>41.034330</td>\n      <td>-80.633600</td>\n      <td>6361 South Ave, Youngstown</td>\n      <td>ChIJkW7Vup36M4gRgrjjdp3j20U</td>\n      <td>Boardman Township</td>\n    </tr>\n    <tr>\n      <th>11</th>\n      <td>BJ's Wholesale</td>\n      <td>41.115934</td>\n      <td>-81.482591</td>\n      <td>1677 Home Ave, Akron</td>\n      <td>ChIJr1lVVGUoMYgRZyNHvaFakyk</td>\n      <td>Akron</td>\n    </tr>\n    <tr>\n      <th>12</th>\n      <td>BJ's Wholesale</td>\n      <td>40.881690</td>\n      <td>-81.439936</td>\n      <td>6924 Frank Ave NW, North Canton</td>\n      <td>ChIJv7wm5qfWNogR-pHBWCbJJ4Y</td>\n      <td>Jackson Township</td>\n    </tr>\n    <tr>\n      <th>13</th>\n      <td>BJ's Wholesale</td>\n      <td>41.441952</td>\n      <td>-81.496956</td>\n      <td>4365 Richmond Rd, Warrensville Heights</td>\n      <td>ChIJlxu-3EsdMYgRQNm9xU4cwUM</td>\n      <td>Cuyahoga County</td>\n    </tr>\n    <tr>\n      <th>14</th>\n      <td>BJ's Wholesale</td>\n      <td>41.376131</td>\n      <td>-81.786051</td>\n      <td>6944 W 130th St, Middleburg Heights</td>\n      <td>ChIJd7jukOTrMIgRbFLNX469JvM</td>\n      <td>Cuyahoga County</td>\n    </tr>\n    <tr>\n      <th>15</th>\n      <td>BJ's Wholesale</td>\n      <td>41.463206</td>\n      <td>-82.050078</td>\n      <td>38292 Colorado Ave, Avon</td>\n      <td>ChIJ_VAprpmaMIgRdiXIOGEAp6w</td>\n      <td>Lorain County</td>\n    </tr>\n    <tr>\n      <th>16</th>\n      <td>BJ's Wholesale</td>\n      <td>41.631042</td>\n      <td>-81.426055</td>\n      <td>36595 Euclid Ave, Willoughby</td>\n      <td>ChIJs99FxoepMYgRDybNRcg4FRU</td>\n      <td>Willoughby</td>\n    </tr>\n  </tbody>\n</table>\n</div>",
      "text/plain": "                Name        Lat        Lng  \\\n0   Costco Wholesale  41.265324 -81.507401   \n1   Costco Wholesale  41.316908 -81.815903   \n2   Costco Wholesale  41.460533 -82.011002   \n3   Costco Wholesale  41.523955 -81.446610   \n4         Sam's Club  40.878174 -81.437164   \n5         Sam's Club  41.366413 -81.512382   \n6         Sam's Club  41.420280 -81.757481   \n7         Sam's Club  41.421844 -82.081514   \n8         Sam's Club  41.226195 -80.744836   \n9         Sam's Club  41.717211 -81.293395   \n10        Sam's Club  41.034330 -80.633600   \n11    BJ's Wholesale  41.115934 -81.482591   \n12    BJ's Wholesale  40.881690 -81.439936   \n13    BJ's Wholesale  41.441952 -81.496956   \n14    BJ's Wholesale  41.376131 -81.786051   \n15    BJ's Wholesale  41.463206 -82.050078   \n16    BJ's Wholesale  41.631042 -81.426055   \n\n                                   Address                     Place ID  \\\n0                 6720 Bass Pro Dr, Hudson  ChIJrwEsWXIgMYgRnko93meT4s0   \n1          16690 Royalton Rd, Strongsville  ChIJNa2MJXnqMIgRmZ164eouXjE   \n2                   35804 Detroit Rd, Avon  ChIJSZghHbmRMIgRfCrrH_q0OJI   \n3         1409 Golden Gate Blvd, Cleveland  ChIJz_ruA18BMYgRY7HfgmroTWg   \n4               4790 Portage St NW, Canton  ChIJ2Yr2wKjWNogRjGilwuTNZyU   \n5              23300 Broadway Ave, Oakwood  ChIJDV-HRwceMYgRIYsH9N1b_HQ   \n6            10250 Brookpark Rd, Cleveland  ChIJ1fa4rIzuMIgRFMsgyqQYFWE   \n7           5225 Cobblestone Rd, Sheffield  ChIJX_t1UjKaMIgRHM2sNhFFxyU   \n8        1040 Niles Cortland Rd SE, Warren  ChIJaY-CnZ_gM4gRng6y-UmPoRY   \n9                  5600 Emerald Ct, Mentor  ChIJ0Ux7Jf2kMYgRF3vi1W6CpKg   \n10              6361 South Ave, Youngstown  ChIJkW7Vup36M4gRgrjjdp3j20U   \n11                    1677 Home Ave, Akron  ChIJr1lVVGUoMYgRZyNHvaFakyk   \n12         6924 Frank Ave NW, North Canton  ChIJv7wm5qfWNogR-pHBWCbJJ4Y   \n13  4365 Richmond Rd, Warrensville Heights  ChIJlxu-3EsdMYgRQNm9xU4cwUM   \n14     6944 W 130th St, Middleburg Heights  ChIJd7jukOTrMIgRbFLNX469JvM   \n15                38292 Colorado Ave, Avon  ChIJ_VAprpmaMIgRdiXIOGEAp6w   \n16            36595 Euclid Ave, Willoughby  ChIJs99FxoepMYgRDybNRcg4FRU   \n\n               County  \n0       Summit County  \n1     Cuyahoga County  \n2       Lorain County  \n3     Cuyahoga County  \n4    Jackson Township  \n5     Cuyahoga County  \n6     Cuyahoga County  \n7       Lorain County  \n8     Trumbull County  \n9         Lake County  \n10  Boardman Township  \n11              Akron  \n12   Jackson Township  \n13    Cuyahoga County  \n14    Cuyahoga County  \n15      Lorain County  \n16         Willoughby  "
     },
     "execution_count": 32,
     "metadata": {},
     "output_type": "execute_result"
    }
   ],
   "source": [
    "county_url = f\"https://maps.googleapis.com/maps/api/place/details/json?key={g_key}&place_id=\"\n",
    "county = []\n",
    "\n",
    "#Test to find the right field\n",
    "    #p_id = \"ChIJrwEsWXIgMYgRnko93meT4s0\"\n",
    "    #response = requests.get(county_url+p_id).json()\n",
    "    #pprint(response['result']['address_components'][3]['long_name'])\n",
    "\n",
    "#Use place details API to get the county name from the place ID\n",
    "for x in club_list['Place ID']:\n",
    "    response = requests.get(county_url+x).json()\n",
    "    county.append(response['result']['address_components'][3]['long_name'])\n",
    "\n",
    "club_list[\"County\"] = county\n",
    "club_list"
   ]
  },
  {
   "cell_type": "code",
   "execution_count": 35,
   "metadata": {},
   "outputs": [
    {
     "data": {
      "text/html": "<div>\n<style scoped>\n    .dataframe tbody tr th:only-of-type {\n        vertical-align: middle;\n    }\n\n    .dataframe tbody tr th {\n        vertical-align: top;\n    }\n\n    .dataframe thead th {\n        text-align: right;\n    }\n</style>\n<table border=\"1\" class=\"dataframe\">\n  <thead>\n    <tr style=\"text-align: right;\">\n      <th></th>\n      <th>Name</th>\n      <th>Lat</th>\n      <th>Lng</th>\n      <th>Address</th>\n      <th>Place ID</th>\n      <th>County</th>\n    </tr>\n  </thead>\n  <tbody>\n    <tr>\n      <th>0</th>\n      <td>Costco Wholesale</td>\n      <td>41.265324</td>\n      <td>-81.507401</td>\n      <td>6720 Bass Pro Dr, Hudson</td>\n      <td>ChIJrwEsWXIgMYgRnko93meT4s0</td>\n      <td>Summit County</td>\n    </tr>\n    <tr>\n      <th>1</th>\n      <td>Costco Wholesale</td>\n      <td>41.316908</td>\n      <td>-81.815903</td>\n      <td>16690 Royalton Rd, Strongsville</td>\n      <td>ChIJNa2MJXnqMIgRmZ164eouXjE</td>\n      <td>Cuyahoga County</td>\n    </tr>\n    <tr>\n      <th>2</th>\n      <td>Costco Wholesale</td>\n      <td>41.460533</td>\n      <td>-82.011002</td>\n      <td>35804 Detroit Rd, Avon</td>\n      <td>ChIJSZghHbmRMIgRfCrrH_q0OJI</td>\n      <td>Lorain County</td>\n    </tr>\n    <tr>\n      <th>3</th>\n      <td>Costco Wholesale</td>\n      <td>41.523955</td>\n      <td>-81.446610</td>\n      <td>1409 Golden Gate Blvd, Cleveland</td>\n      <td>ChIJz_ruA18BMYgRY7HfgmroTWg</td>\n      <td>Cuyahoga County</td>\n    </tr>\n    <tr>\n      <th>4</th>\n      <td>Sam's Club</td>\n      <td>40.878174</td>\n      <td>-81.437164</td>\n      <td>4790 Portage St NW, Canton</td>\n      <td>ChIJ2Yr2wKjWNogRjGilwuTNZyU</td>\n      <td>Mahoning County</td>\n    </tr>\n    <tr>\n      <th>5</th>\n      <td>Sam's Club</td>\n      <td>41.366413</td>\n      <td>-81.512382</td>\n      <td>23300 Broadway Ave, Oakwood</td>\n      <td>ChIJDV-HRwceMYgRIYsH9N1b_HQ</td>\n      <td>Cuyahoga County</td>\n    </tr>\n    <tr>\n      <th>6</th>\n      <td>Sam's Club</td>\n      <td>41.420280</td>\n      <td>-81.757481</td>\n      <td>10250 Brookpark Rd, Cleveland</td>\n      <td>ChIJ1fa4rIzuMIgRFMsgyqQYFWE</td>\n      <td>Cuyahoga County</td>\n    </tr>\n    <tr>\n      <th>7</th>\n      <td>Sam's Club</td>\n      <td>41.421844</td>\n      <td>-82.081514</td>\n      <td>5225 Cobblestone Rd, Sheffield</td>\n      <td>ChIJX_t1UjKaMIgRHM2sNhFFxyU</td>\n      <td>Lorain County</td>\n    </tr>\n    <tr>\n      <th>8</th>\n      <td>Sam's Club</td>\n      <td>41.226195</td>\n      <td>-80.744836</td>\n      <td>1040 Niles Cortland Rd SE, Warren</td>\n      <td>ChIJaY-CnZ_gM4gRng6y-UmPoRY</td>\n      <td>Trumbull County</td>\n    </tr>\n    <tr>\n      <th>9</th>\n      <td>Sam's Club</td>\n      <td>41.717211</td>\n      <td>-81.293395</td>\n      <td>5600 Emerald Ct, Mentor</td>\n      <td>ChIJ0Ux7Jf2kMYgRF3vi1W6CpKg</td>\n      <td>Lake County</td>\n    </tr>\n    <tr>\n      <th>10</th>\n      <td>Sam's Club</td>\n      <td>41.034330</td>\n      <td>-80.633600</td>\n      <td>6361 South Ave, Youngstown</td>\n      <td>ChIJkW7Vup36M4gRgrjjdp3j20U</td>\n      <td>Boardman Township</td>\n    </tr>\n    <tr>\n      <th>11</th>\n      <td>BJ's Wholesale</td>\n      <td>41.115934</td>\n      <td>-81.482591</td>\n      <td>1677 Home Ave, Akron</td>\n      <td>ChIJr1lVVGUoMYgRZyNHvaFakyk</td>\n      <td>Summit County</td>\n    </tr>\n    <tr>\n      <th>12</th>\n      <td>BJ's Wholesale</td>\n      <td>40.881690</td>\n      <td>-81.439936</td>\n      <td>6924 Frank Ave NW, North Canton</td>\n      <td>ChIJv7wm5qfWNogR-pHBWCbJJ4Y</td>\n      <td>Stark County</td>\n    </tr>\n    <tr>\n      <th>13</th>\n      <td>BJ's Wholesale</td>\n      <td>41.441952</td>\n      <td>-81.496956</td>\n      <td>4365 Richmond Rd, Warrensville Heights</td>\n      <td>ChIJlxu-3EsdMYgRQNm9xU4cwUM</td>\n      <td>Cuyahoga County</td>\n    </tr>\n    <tr>\n      <th>14</th>\n      <td>BJ's Wholesale</td>\n      <td>41.376131</td>\n      <td>-81.786051</td>\n      <td>6944 W 130th St, Middleburg Heights</td>\n      <td>ChIJd7jukOTrMIgRbFLNX469JvM</td>\n      <td>Cuyahoga County</td>\n    </tr>\n    <tr>\n      <th>15</th>\n      <td>BJ's Wholesale</td>\n      <td>41.463206</td>\n      <td>-82.050078</td>\n      <td>38292 Colorado Ave, Avon</td>\n      <td>ChIJ_VAprpmaMIgRdiXIOGEAp6w</td>\n      <td>Lorain County</td>\n    </tr>\n    <tr>\n      <th>16</th>\n      <td>BJ's Wholesale</td>\n      <td>41.631042</td>\n      <td>-81.426055</td>\n      <td>36595 Euclid Ave, Willoughby</td>\n      <td>ChIJs99FxoepMYgRDybNRcg4FRU</td>\n      <td>Lake County</td>\n    </tr>\n  </tbody>\n</table>\n</div>",
      "text/plain": "                Name        Lat        Lng  \\\n0   Costco Wholesale  41.265324 -81.507401   \n1   Costco Wholesale  41.316908 -81.815903   \n2   Costco Wholesale  41.460533 -82.011002   \n3   Costco Wholesale  41.523955 -81.446610   \n4         Sam's Club  40.878174 -81.437164   \n5         Sam's Club  41.366413 -81.512382   \n6         Sam's Club  41.420280 -81.757481   \n7         Sam's Club  41.421844 -82.081514   \n8         Sam's Club  41.226195 -80.744836   \n9         Sam's Club  41.717211 -81.293395   \n10        Sam's Club  41.034330 -80.633600   \n11    BJ's Wholesale  41.115934 -81.482591   \n12    BJ's Wholesale  40.881690 -81.439936   \n13    BJ's Wholesale  41.441952 -81.496956   \n14    BJ's Wholesale  41.376131 -81.786051   \n15    BJ's Wholesale  41.463206 -82.050078   \n16    BJ's Wholesale  41.631042 -81.426055   \n\n                                   Address                     Place ID  \\\n0                 6720 Bass Pro Dr, Hudson  ChIJrwEsWXIgMYgRnko93meT4s0   \n1          16690 Royalton Rd, Strongsville  ChIJNa2MJXnqMIgRmZ164eouXjE   \n2                   35804 Detroit Rd, Avon  ChIJSZghHbmRMIgRfCrrH_q0OJI   \n3         1409 Golden Gate Blvd, Cleveland  ChIJz_ruA18BMYgRY7HfgmroTWg   \n4               4790 Portage St NW, Canton  ChIJ2Yr2wKjWNogRjGilwuTNZyU   \n5              23300 Broadway Ave, Oakwood  ChIJDV-HRwceMYgRIYsH9N1b_HQ   \n6            10250 Brookpark Rd, Cleveland  ChIJ1fa4rIzuMIgRFMsgyqQYFWE   \n7           5225 Cobblestone Rd, Sheffield  ChIJX_t1UjKaMIgRHM2sNhFFxyU   \n8        1040 Niles Cortland Rd SE, Warren  ChIJaY-CnZ_gM4gRng6y-UmPoRY   \n9                  5600 Emerald Ct, Mentor  ChIJ0Ux7Jf2kMYgRF3vi1W6CpKg   \n10              6361 South Ave, Youngstown  ChIJkW7Vup36M4gRgrjjdp3j20U   \n11                    1677 Home Ave, Akron  ChIJr1lVVGUoMYgRZyNHvaFakyk   \n12         6924 Frank Ave NW, North Canton  ChIJv7wm5qfWNogR-pHBWCbJJ4Y   \n13  4365 Richmond Rd, Warrensville Heights  ChIJlxu-3EsdMYgRQNm9xU4cwUM   \n14     6944 W 130th St, Middleburg Heights  ChIJd7jukOTrMIgRbFLNX469JvM   \n15                38292 Colorado Ave, Avon  ChIJ_VAprpmaMIgRdiXIOGEAp6w   \n16            36595 Euclid Ave, Willoughby  ChIJs99FxoepMYgRDybNRcg4FRU   \n\n               County  \n0       Summit County  \n1     Cuyahoga County  \n2       Lorain County  \n3     Cuyahoga County  \n4     Mahoning County  \n5     Cuyahoga County  \n6     Cuyahoga County  \n7       Lorain County  \n8     Trumbull County  \n9         Lake County  \n10  Boardman Township  \n11      Summit County  \n12       Stark County  \n13    Cuyahoga County  \n14    Cuyahoga County  \n15      Lorain County  \n16        Lake County  "
     },
     "execution_count": 35,
     "metadata": {},
     "output_type": "execute_result"
    }
   ],
   "source": [
    "#Change names of cities/townships to rightful county\n",
    "club_list['County'][11] = \"Summit County\"\n",
    "club_list['County'][16] = \"Lake County\"\n",
    "club_list['County'][12] = \"Stark County\"\n",
    "club_list['County'][4] = \"Stark County\"\n",
    "club_list['County'][4] = \"Mahoning County\"\n",
    "club_list"
   ]
  },
  {
   "cell_type": "code",
   "execution_count": 36,
   "metadata": {},
   "outputs": [],
   "source": [
    "#Save to CSV\n",
    "club_list.to_csv(\"Output_CSVs/club_data.csv\",index=False,header=True)"
   ]
  },
  {
   "cell_type": "markdown",
   "metadata": {},
   "source": [
    "## Pull data for Target from Google API"
   ]
  },
  {
   "cell_type": "code",
   "execution_count": 1,
   "metadata": {},
   "outputs": [],
   "source": [
    "# Dependencies\n",
    "import requests\n",
    "import json\n",
    "from config import gkey\n",
    "import pandas as pd\n",
    "from pprint import pprint\n",
    "\n",
    "location1 = \"41.625126,-81.062346\" #east to Ashtabula\n",
    "location2 = \"41.135466,-81.652035\" #Cle to Elyria and past Canton\n",
    "location3 = \"41.037209,-80.8368\" #Youngstown\n",
    "radius1 = 48280.2\n",
    "radius3 = 32186.8\n",
    "type = \"department_store\"\n",
    "keyword = \"target\"\n",
    "\n",
    "#Set up urls for Google API\n",
    "url = ('https://maps.googleapis.com/maps/api/place/nearbysearch/json?location={0}&key={1}&radius={2}&type={3}&keyword').format(location1,gkey,radius1,type,keyword)\n",
    "\n",
    "url2 = ('https://maps.googleapis.com/maps/api/place/nearbysearch/json?location={0}&key={1}&radius={2}&type={3}&keyword').format(location2,gkey,radius1,type,keyword)\n",
    "\n",
    "url3 = ('https://maps.googleapis.com/maps/api/place/nearbysearch/json?location={0}&key={1}&radius={2}&type={3}&keyword').format(location2,gkey,radius3,type,keyword)\n"
   ]
  },
  {
   "cell_type": "code",
   "execution_count": 2,
   "metadata": {},
   "outputs": [
    {
     "name": "stdout",
     "output_type": "stream",
     "text": "672802915,\n                                                      'lng': -81.6161542},\n                                        'southwest': {'lat': 41.1332693197085,\n                                                      'lng': -81.62174060000001}}},\n              'icon': 'https://maps.gstatic.com/mapfiles/place_api/icons/shopping-71.png',\n              'id': '3218efea02899403def6a5401e32b889b54dc10d',\n              'name': \"Macy's\",\n              'opening_hours': {'open_now': False},\n              'photos': [{'height': 394,\n                          'html_attributions': ['<a '\n                                                'href=\"https://maps.google.com/maps/contrib/103790902920206904254\">Antonio '\n                                                'Montanez</a>'],\n                          'photo_reference': 'CmRaAAAA7A1Y-hAbrZru98k7EPB5W-qyy1tyZwR9GNaLuD1HZlNHqKH7PD8Jaj6s3JLFQTHnhFgJI_QEmsZcSXCQmP1XV5QNXNVZi2xRGyJfaENKgCY0RP6Pxyy4FMwPU--fxiYcEhDFwwfBRd187DV5UI_P7l7eGhTmufngOtrOHeoGplw4JJmhAbXw_A',\n                          'width': 524}],\n              'place_id': 'ChIJ_2oWB6fQMIgRElWLmH5bc4Q',\n              'plus_code': {'compound_code': '49MJ+HX Akron, Ohio, United '\n                                             'States',\n                            'global_code': '86HW49MJ+HX'},\n              'price_level': 2,\n              'rating': 4.1,\n              'reference': 'ChIJ_2oWB6fQMIgRElWLmH5bc4Q',\n              'scope': 'GOOGLE',\n              'types': ['department_store',\n                        'jewelry_store',\n                        'furniture_store',\n                        'home_goods_store',\n                        'point_of_interest',\n                        'clothing_store',\n                        'store',\n                        'establishment'],\n              'user_ratings_total': 835,\n              'vicinity': '3265 West Market Street Ste 300, Akron'},\n             {'geometry': {'location': {'lat': 41.08567969999999,\n                                        'lng': -81.43974419999999},\n                           'viewport': {'northeast': {'lat': 41.08701458029149,\n                                                      'lng': -81.4385582697085},\n                                        'southwest': {'lat': 41.0843166197085,\n                                                      'lng': -81.4412562302915}}},\n              'icon': 'https://maps.gstatic.com/mapfiles/place_api/icons/shopping-71.png',\n              'id': '3189f683677a283a442a1527c2fabe4e542a1262',\n              'name': 'Kmart',\n              'opening_hours': {'open_now': True},\n              'photos': [{'height': 3024,\n                          'html_attributions': ['<a '\n                                                'href=\"https://maps.google.com/maps/contrib/105304557144522993177\">Trusts '\n                                                'Liars</a>'],\n                          'photo_reference': 'CmRaAAAAaT0jlqIw1UyY4pBzXWPb360UHxX4NSF1iBhQQFdE6P8TFi-khxpR7f3aGmcZE7cPOE6hBMNXA7kke8A98MJFLHYtHqqfrZmtfzNwalDSr4vM_Tiyih2R0Obqh7Z7_gt-EhBivYIOzgdcc-lLMhGwJPesGhQ7-Pnf4pBwbOP_7W10gIADMY5dkA',\n                          'width': 4032}],\n              'place_id': 'ChIJU4FeNdgoMYgRsswVUM_YFV8',\n              'plus_code': {'compound_code': '3HP6+74 Tallmadge, Brimfield '\n                                             'Township, OH, United States',\n                            'global_code': '86HW3HP6+74'},\n              'price_level': 1,\n              'rating': 3.6,\n              'reference': 'ChIJU4FeNdgoMYgRsswVUM_YFV8',\n              'scope': 'GOOGLE',\n              'types': ['department_store',\n                        'point_of_interest',\n                        'store',\n                        'establishment'],\n              'user_ratings_total': 258,\n              'vicinity': '555 South Avenue #3142, Tallmadge'},\n             {'geometry': {'location': {'lat': 41.052753, 'lng': -81.724859},\n                           'viewport': {'northeast': {'lat': 41.05409778029149,\n                                                      'lng': -81.7231036697085},\n                                        'southwest': {'lat': 41.05139981970849,\n                                                      'lng': -81.7258016302915}}},\n              'icon': 'https://maps.gstatic.com/mapfiles/place_api/icons/pharmacy_cross-71.png',\n              'id': '3733dc1e6c5236e81e026882990fa86447106b29',\n              'name': 'Walmart Pharmacy',\n              'opening_hours': {'open_now': False},\n              'photos': [{'height': 608,\n                          'html_attributions': ['<a '\n                                                'href=\"https://maps.google.com/maps/contrib/111093445900187740818\">Walmart '\n                                                'Pharmacy</a>'],\n                          'photo_reference': 'CmRaAAAA3dtweUYYvtUes34Dbd98-DEOa4usEvOp1xGt5TRL_p9MsejMyYcxkEJcgYw1HfCp5fnN5XW0rFcNSYP_SpDHw2lNKH4L0anOb0Q5N-3Ti8bbAmJ2K5H4jAe0gQSWr8aCEhCXiGHcIUbYhrGJDtCXn7gpGhRCwl_T-iV7ZB59yzwHHv2fLpxFWA',\n                          'width': 1080}],\n              'place_id': 'ChIJM2v5uM_NMIgRp8-abLYKtc4',\n              'plus_code': {'compound_code': '373G+43 Wadsworth, Wadsworth '\n                                             'Township, OH, United States',\n                            'global_code': '86HW373G+43'},\n              'price_level': 1,\n              'rating': 3.6,\n              'reference': 'ChIJM2v5uM_NMIgRp8-abLYKtc4',\n              'scope': 'GOOGLE',\n              'types': ['pharmacy',\n                        'department_store',\n                        'health',\n                        'point_of_interest',\n                        'store',\n                        'establishment'],\n              'user_ratings_total': 15,\n              'vicinity': '222 Smokerise Drive, Wadsworth'},\n             {'geometry': {'location': {'lat': 41.3101348, 'lng': -81.51902},\n                           'viewport': {'northeast': {'lat': 41.3113300302915,\n                                                      'lng': -81.51745576970849},\n                                        'southwest': {'lat': 41.3086320697085,\n                                                      'lng': -81.5201537302915}}},\n              'icon': 'https://maps.gstatic.com/mapfiles/place_api/icons/shopping-71.png',\n              'id': 'b836f28c69af2efd942e962f3863ee07ed396bb8',\n              'name': 'Walmart Supercenter',\n              'opening_hours': {'open_now': True},\n              'photos': [{'height': 600,\n                          'html_attributions': ['<a '\n                                                'href=\"https://maps.google.com/maps/contrib/103652537160651227373\">Walmart '\n                                                'Supercenter</a>'],\n                          'photo_reference': 'CmRaAAAAWZb2U9rvIbjZnpEAPCbk01_4W-cmZ-XnGk8gKlB6N1G5Ie_9s5bVSC7gt3fhcX7rx3Ef39J_m8tJJPBovVdX0Zn-c0Lrhd62a_7jy2DeFOLJWJzB54Bt1daew1ddD5toEhAMOySPZJeJ-8RoIDY7bG1hGhQS5tQG5DD_aksDB0mWQ_qoTc2ftw',\n                          'width': 1067}],\n              'place_id': 'ChIJkxM-tdgfMYgR1FrZnzT95XU',\n              'plus_code': {'compound_code': '8F6J+39 Macedonia, Northfield '\n                                             'Center Township, OH, United '\n                                             'States',\n                            'global_code': '86HW8F6J+39'},\n              'price_level': 1,\n              'rating': 3.7,\n              'reference': 'ChIJkxM-tdgfMYgR1FrZnzT95XU',\n              'scope': 'GOOGLE',\n              'types': ['department_store',\n                        'supermarket',\n                        'grocery_or_supermarket',\n                        'electronics_store',\n                        'food',\n                        'point_of_interest',\n                        'store',\n                        'establishment'],\n              'user_ratings_total': 1821,\n              'vicinity': '8160 Macedonia Commons Boulevard, Macedonia'},\n             {'geometry': {'location': {'lat': 41.3080139, 'lng': -81.5188293},\n                           'viewport': {'northeast': {'lat': 41.3091275802915,\n                                                      'lng': -81.5170574697085},\n                                        'southwest': {'lat': 41.3064296197085,\n                                                      'lng': -81.51975543029151}}},\n              'icon': 'https://maps.gstatic.com/mapfiles/place_api/icons/shopping-71.png',\n              'id': 'b28d9370a4aeb2999d573f884e11255c1772340d',\n              'name': \"Kohl's Macedonia\",\n              'opening_hours': {'open_now': True},\n              'photos': [{'height': 3024,\n                          'html_attributions': ['<a '\n                                                'href=\"https://maps.google.com/maps/contrib/110195216835481123241\">TARIQ '\n                                                'ISLAM</a>'],\n                          'photo_reference': 'CmRaAAAAUlHTzzyH8bfQp-kxBvzoUG4fd7ovnjDTWK7A-kPqrkANheCz8Ln9mdW7GVCWOAFXyzGRghy8xcgsLFR91IuAZ5ZZjulVTUK3hmME_w-zQdv0hn87XpHV84JgNja3JEI_EhBEMNDp6V_h6ac7DExNpqpkGhTSvAOEMhYN24KXxmsZ_0DAl9koXw',\n                          'width': 4032}],\n              'place_id': 'ChIJ33qG7h_gMIgRdEF9MgKBoBc',\n              'plus_code': {'compound_code': '8F5J+6F Macedonia, Northfield '\n                                             'Center Township, OH, United '\n                                             'States',\n                            'global_code': '86HW8F5J+6F'},\n              'price_level': 1,\n              'rating': 4.1,\n              'reference': 'ChIJ33qG7h_gMIgRdEF9MgKBoBc',\n              'scope': 'GOOGLE',\n              'types': ['department_store',\n                        'point_of_interest',\n                        'store',\n                        'establishment'],\n              'user_ratings_total': 761,\n              'vicinity': '8100 Macedonia Commons Boulevard, Macedonia'},\n             {'geometry': {'location': {'lat': 41.3779545, 'lng': -81.7374056},\n                           'viewport': {'northeast': {'lat': 41.3791219802915,\n                                                      'lng': -81.7359626697085},\n                                        'southwest': {'lat': 41.3764240197085,\n                                                      'lng': -81.7386606302915}}},\n              'icon': 'https://maps.gstatic.com/mapfiles/place_api/icons/shopping-71.png',\n              'id': '9b2050ba23edf8b0dc1e6004dc3ce6d847a8026e',\n              'name': \"Kohl's Parma\",\n              'opening_hours': {'open_now': True},\n              'photos': [{'height': 3984,\n                          'html_attributions': ['<a '\n                                                'href=\"https://maps.google.com/maps/contrib/112463325757314499742\">Sasi</a>'],\n                          'photo_reference': 'CmRaAAAAdc6y6LalHIyo9A9-PmGK_raLBr5vRJvtxIy-nxeBsn7uaf7_Mg-X_fSwJkMS2NFDsOEqCQWQKtMEbLeq07LQ7bE_dnYlN8e05E2LRJIsU1J1Ov3J8lX9BXtVF7TMANHIEhBkTUQzrcBbI3wrunUZ9KpgGhSjjcyNtEXBBQeVKU3lMFysdo6q1A',\n                          'width': 2988}],\n              'place_id': 'ChIJaaiMHtboMIgRdUi-wHKoO4s',\n              'plus_code': {'compound_code': '97H7+52 Parma, Ohio, United '\n                                             'States',\n                            'global_code': '86HW97H7+52'},\n              'price_level': 1,\n              'rating': 4.2,\n              'reference': 'ChIJaaiMHtboMIgRdUi-wHKoO4s',\n              'scope': 'GOOGLE',\n              'types': ['department_store',\n                        'point_of_interest',\n                        'store',\n                        'establishment'],\n              'user_ratings_total': 1244,\n              'vicinity': '6860 Ridge Road, Parma'},\n             {'geometry': {'location': {'lat': 41.1280448,\n                                        'lng': -81.60522979999999},\n                           'viewport': {'northeast': {'lat': 41.12913323029149,\n                                                      'lng': -81.60365116970848},\n                                        'southwest': {'lat': 41.12643526970849,\n                                                      'lng': -81.6063491302915}}},\n              'icon': 'https://maps.gstatic.com/mapfiles/place_api/icons/shopping-71.png',\n              'id': '79e04f95e9ea7a438907d377f7cfdff8e96a92ef',\n              'name': 'Target',\n              'opening_hours': {'open_now': True},\n              'photos': [{'height': 4032,\n                          'html_attributions': ['<a '\n                                                'href=\"https://maps.google.com/maps/contrib/104185375870066743561\">Erin '\n                                                'Chambers</a>'],\n                          'photo_reference': 'CmRaAAAAHB4-8jehm0XOlrS11tTYcO_OKEaK5LVuM4fejTELfiJ9HdXPbGcdSGIJ6I-U41T5Tsx6BuLMLALCg5_scnPM-QNheYPJeyxugP9VOGXPoxBpwEelDwmepIaS1R-ochXXEhDWJvO78XGlrNV5cGn7EyqtGhSrBfzoYGJC6-1syzp01pM5_49glA',\n                          'width': 3024}],\n              'place_id': 'ChIJGTnBXK3QMIgRDgULwwfSHv8',\n              'plus_code': {'compound_code': '49HV+6W Fairlawn, Ohio, United '\n                                             'States',\n                            'global_code': '86HW49HV+6W'},\n              'price_level': 2,\n              'rating': 4,\n              'reference': 'ChIJGTnBXK3QMIgRDgULwwfSHv8',\n              'scope': 'GOOGLE',\n              'types': ['department_store',\n                        'electronics_store',\n                        'furniture_store',\n                        'home_goods_store',\n                        'point_of_interest',\n                        'clothing_store',\n                        'store',\n                        'establishment'],\n              'user_ratings_total': 145,\n              'vicinity': '2801 West Market Street, Fairlawn'},\n             {'geometry': {'location': {'lat': 41.3461124, 'lng': -81.8198744},\n                           'viewport': {'northeast': {'lat': 41.34758283029149,\n                                                      'lng': -81.81884601970849},\n                                        'southwest': {'lat': 41.34488486970849,\n                                                      'lng': -81.8215439802915}}},\n              'icon': 'https://maps.gstatic.com/mapfiles/place_api/icons/shopping-71.png',\n              'id': 'c78553fe97e357f8322cca7b409a28c864301e1a',\n              'name': 'Walmart Supercenter',\n              'opening_hours': {'open_now': True},\n              'photos': [{'height': 600,\n                          'html_attributions': ['<a '\n                                                'href=\"https://maps.google.com/maps/contrib/116182516005632835722\">Walmart '\n                                                'Supercenter</a>'],\n                          'photo_reference': 'CmRaAAAAOGr5vV1zjCVUaZcaK2FampNdEG5US5ies27SG6SIiOJL9BCHSj3eAIdBfSyTzMHgExl5tqbsyJKIUP84scjVjKzgV4SwKrRR33eNVyRYKUbN1gIADenfC_75PqW5LZmvEhBxmhQKAplyn4l1b5WIpLU5GhSWawQrdMQ1uOmmOam7VtiSt61M7A',\n                          'width': 1067}],\n              'place_id': 'ChIJXxoRzFXqMIgRBIWSroY97Zc',\n              'plus_code': {'compound_code': '85WJ+C2 Strongsville, Columbia '\n                                             'Township, OH, United States',\n                            'global_code': '86HW85WJ+C2'},\n              'price_level': 1,\n              'rating': 3.9,\n              'reference': 'ChIJXxoRzFXqMIgRBIWSroY97Zc',\n              'scope': 'GOOGLE',\n              'types': ['department_store',\n                        'supermarket',\n                        'grocery_or_supermarket',\n                        'electronics_store',\n                        'food',\n                        'point_of_interest',\n                        'store',\n                        'establishment'],\n              'user_ratings_total': 3045,\n              'vicinity': '8585 Pearl Road, Strongsville'},\n             {'geometry': {'location': {'lat': 41.094221, 'lng': -81.386524},\n                           'viewport': {'northeast': {'lat': 41.0957349302915,\n                                                      'lng': -81.3850743197085},\n                                        'southwest': {'lat': 41.0930369697085,\n                                                      'lng': -81.3877722802915}}},\n              'icon': 'https://maps.gstatic.com/mapfiles/place_api/icons/shopping-71.png',\n              'id': '8d420310b1d1e3073e6cbbf5092ac9bc5d713593',\n              'name': \"Kohl's Brimfield\",\n              'opening_hours': {'open_now': False},\n              'photos': [{'height': 1080,\n                          'html_attributions': ['<a '\n                                                'href=\"https://maps.google.com/maps/contrib/116094218937090387690\">Crystal '\n                                                'Greathouse</a>'],\n                          'photo_reference': 'CmRaAAAA3IbB6qis3NH3yjhZDMLYY_ZSbm4L8Ss-nyaEmmrrUg04Y-1gpXlOEaY4b6AeaiUHQDTVEkcTN5Utfjk7iO-40GqVXQFkWoY6h1vo2CaZFg2lzE3A0HXrOAVK4gKn_ckPEhD6JvAf484TMo_EOlSWTUTpGhS89_RBYHyjprGPcsZJ9Th1pM6SiQ',\n                          'width': 1920}],\n              'place_id': 'ChIJmwCs4govMYgRKSq40AuwpYw',\n              'plus_code': {'compound_code': '3JV7+M9 Kent, Ohio, United '\n                                             'States',\n                            'global_code': '86HW3JV7+M9'},\n              'price_level': 1,\n              'rating': 4.3,\n              'reference': 'ChIJmwCs4govMYgRKSq40AuwpYw',\n              'scope': 'GOOGLE',\n              'types': ['department_store',\n                        'point_of_interest',\n                        'store',\n                        'establishment'],\n              'user_ratings_total': 675,\n              'vicinity': '3886 Cascades Boulevard, Kent'},\n             {'geometry': {'location': {'lat': 40.983936,\n                                        'lng': -81.49581479999999},\n                           'viewport': {'northeast': {'lat': 40.98510658029149,\n                                                      'lng': -81.49415036970848},\n                                        'southwest': {'lat': 40.9824086197085,\n                                                      'lng': -81.4968483302915}}},\n              'icon': 'https://maps.gstatic.com/mapfiles/place_api/icons/shopping-71.png',\n              'id': 'e69a76324c14a2057815b0470e266cfed7cc193a',\n              'name': 'Target',\n              'opening_hours': {'open_now': True},\n              'photos': [{'height': 2268,\n                          'html_attributions': ['<a '\n                                                'href=\"https://maps.google.com/maps/contrib/107863150615129003659\">Tiffanie '\n                                                'Nicole</a>'],\n                          'photo_reference': 'CmRaAAAAToflOH3XRgKgN7W031nuEBfEnfRhc-dtQfVlvV9U_8gW3Mhg64J_RRG9LdM4ACbAed2F_0gjar_2df9lO_n9LPHAjiHkx4r5I72ZkBBIFFyKfKBFcEe2kKYQUWpAsxiWEhBf6stcenLAQoNhavx6UxQcGhS_oUfrHrGXvbGZQbHGTxvVSNd9IA',\n                          'width': 4032}],\n              'place_id': 'ChIJs7bpDL8qMYgRm6Akf2ZDq08',\n              'plus_code': {'compound_code': 'XGM3+HM Akron, Ohio, United '\n                                             'States',\n                            'global_code': '86GWXGM3+HM'},\n              'price_level': 2,\n              'rating': 4.2,\n              'reference': 'ChIJs7bpDL8qMYgRm6Akf2ZDq08',\n              'scope': 'GOOGLE',\n              'types': ['department_store',\n                        'grocery_or_supermarket',\n                        'electronics_store',\n                        'furniture_store',\n                        'home_goods_store',\n                        'food',\n                        'point_of_interest',\n                        'clothing_store',\n                        'store',\n                        'establishment'],\n              'user_ratings_total': 277,\n              'vicinity': '762 Arlington Ridge, Akron'}],\n 'status': 'OK'}\n"
    }
   ],
   "source": [
    "#Run request\n",
    "targetpull = requests.get(url).json()\n",
    "targetpull2 = requests.get(url2).json()\n",
    "targetpull3 = requests.get(url3).json()\n",
    "\n",
    "#Print the JSON\n",
    "pprint(targetpull3)"
   ]
  },
  {
   "cell_type": "code",
   "execution_count": 4,
   "metadata": {},
   "outputs": [
    {
     "name": "stdout",
     "output_type": "stream",
     "text": "['ChIJBd2B1Jb9MIgRfoiS2LTn0Pk', 'ChIJAWZ54OIDMYgRE1ElfAJIBgQ', 'ChIJz_ruA18BMYgRY7HfgmroTWg', 'ChIJUVMGY839MIgR9wStXvqv5Hg', 'ChIJ5YCtyCeqMYgRElkRfXKSwvE', 'ChIJiYsyF5f9MIgRAOHSG8BwHNY', 'ChIJAWZ54OIDMYgRbY6I6ieH7FE', 'ChIJ9e4gter9MIgRPvXMblyNR_g', 'ChIJBzLVsL6oMYgRJi2Pvvt5Ios', 'ChIJWfe4AGwCMYgRxDV8IN25Zy0', 'ChIJEUcMRTOkMYgRIdTjNT7NtgM', 'ChIJ78P5ssylMYgRVLQVU0q2y-M', 'ChIJDWZ9aZ6gMYgRAqZj2LdF-0E', 'ChIJvwu_QGgCMYgRr4PHe_RT2ZI', 'ChIJj7czAiQYMYgR9IoliO9d3R4', 'ChIJTecFHMurMYgRhrFOl4Z7zYA', 'ChIJl6BDSn4ZMYgRPNXlac3OTSY', 'ChIJwdG0yED9MIgRagj6aQJvWVc', 'ChIJ82_KvWsBMYgRx27LXczHfQI', 'ChIJmwr04Zb9MIgRJPuFVOazMM4', 'ChIJBd2B1Jb9MIgRfoiS2LTn0Pk', 'ChIJI3VWI53QMIgR6plEkM8ZkGU', 'ChIJGafGRHXSMIgRtYwHHTMayXo', 'ChIJq03S-tTBMIgRrWa0B_g3Yms', 'ChIJ5YneayvpMIgRhsfX2wD8AFQ', 'ChIJT4Q4LhKTMIgRpAlVNf8lJH4', 'ChIJ4yprBHwoMYgRH8i8pVsr_wg', 'ChIJNa2MJXnqMIgRmZ164eouXjE', 'ChIJF79qwbUlMYgRhXi4IapI-VE', 'ChIJXS3HHFXuMIgR0CpMx6ZlyuM', 'ChIJOUuy6P_HMIgRYcZIcFuhhgw', 'ChIJaaiMHtboMIgRdUi-wHKoO4s', 'ChIJ09oCUVXlMIgRXYckH7ezqQ4', 'ChIJ8b9P8xKTMIgR4XKJpVCbQsk', 'ChIJIw3hcYHQMIgRV73WkvRWQTU', 'ChIJ_4OGF58vMYgR1MZBZf907h0', 'ChIJpUSYPsrWNogRlNVcCp9WPLs', 'ChIJUVMGY839MIgR9wStXvqv5Hg', 'ChIJt_Z9rTTRNogROx8BA-WCKwg', 'ChIJ_2oWB6fQMIgRElWLmH5bc4Q', 'ChIJI3VWI53QMIgR6plEkM8ZkGU', 'ChIJGafGRHXSMIgRtYwHHTMayXo', 'ChIJq03S-tTBMIgRrWa0B_g3Yms', 'ChIJ4yprBHwoMYgRH8i8pVsr_wg', 'ChIJF79qwbUlMYgRhXi4IapI-VE', 'ChIJNa2MJXnqMIgRmZ164eouXjE', 'ChIJ5YneayvpMIgRhsfX2wD8AFQ', 'ChIJOUuy6P_HMIgRYcZIcFuhhgw', 'ChIJIw3hcYHQMIgRV73WkvRWQTU', 'ChIJ_4OGF58vMYgR1MZBZf907h0', 'ChIJ_2oWB6fQMIgRElWLmH5bc4Q', 'ChIJU4FeNdgoMYgRsswVUM_YFV8', 'ChIJM2v5uM_NMIgRp8-abLYKtc4', 'ChIJkxM-tdgfMYgR1FrZnzT95XU', 'ChIJ33qG7h_gMIgRdEF9MgKBoBc', 'ChIJaaiMHtboMIgRdUi-wHKoO4s', 'ChIJGTnBXK3QMIgRDgULwwfSHv8', 'ChIJXxoRzFXqMIgRBIWSroY97Zc', 'ChIJmwCs4govMYgRKSq40AuwpYw', 'ChIJs7bpDL8qMYgRm6Akf2ZDq08']\n"
    }
   ],
   "source": [
    "#Create lists for DataFrame to be created\n",
    "store_name = []\n",
    "store_lats = []\n",
    "store_lngs = []\n",
    "store_address = []\n",
    "place_id = []\n",
    "\n",
    "#Save fields as lists\n",
    "for entry in targetpull['results']:\n",
    "    store_name.append(entry['name'])\n",
    "    store_lats.append(entry['geometry']['location']['lat'])\n",
    "    store_lngs.append(entry['geometry']['location']['lng'])\n",
    "    store_address.append(entry['vicinity'])\n",
    "    place_id.append(entry['place_id'])\n",
    "\n",
    "for entry2 in targetpull2['results']:\n",
    "    store_name.append(entry2['name'])\n",
    "    store_lats.append(entry2['geometry']['location']['lat'])\n",
    "    store_lngs.append(entry2['geometry']['location']['lng'])\n",
    "    store_address.append(entry2['vicinity'])\n",
    "    place_id.append(entry2['place_id'])\n",
    "\n",
    "for entry3 in targetpull3['results']:\n",
    "    store_name.append(entry3['name'])\n",
    "    store_lats.append(entry3['geometry']['location']['lat'])\n",
    "    store_lngs.append(entry3['geometry']['location']['lng'])\n",
    "    store_address.append(entry3['vicinity'])\n",
    "    place_id.append(entry3['place_id'])\n",
    "\n",
    "print(place_id)"
   ]
  },
  {
   "cell_type": "code",
   "execution_count": 6,
   "metadata": {},
   "outputs": [
    {
     "data": {
      "text/html": "<div>\n<style scoped>\n    .dataframe tbody tr th:only-of-type {\n        vertical-align: middle;\n    }\n\n    .dataframe tbody tr th {\n        vertical-align: top;\n    }\n\n    .dataframe thead th {\n        text-align: right;\n    }\n</style>\n<table border=\"1\" class=\"dataframe\">\n  <thead>\n    <tr style=\"text-align: right;\">\n      <th></th>\n      <th>Store Name</th>\n      <th>Latitude</th>\n      <th>Longitude</th>\n      <th>Address</th>\n      <th>Place ID</th>\n    </tr>\n  </thead>\n  <tbody>\n    <tr>\n      <th>55</th>\n      <td>Kohl's Parma</td>\n      <td>41.377955</td>\n      <td>-81.737406</td>\n      <td>6860 Ridge Road, Parma</td>\n      <td>ChIJaaiMHtboMIgRdUi-wHKoO4s</td>\n    </tr>\n    <tr>\n      <th>56</th>\n      <td>Target</td>\n      <td>41.128045</td>\n      <td>-81.605230</td>\n      <td>2801 West Market Street, Fairlawn</td>\n      <td>ChIJGTnBXK3QMIgRDgULwwfSHv8</td>\n    </tr>\n    <tr>\n      <th>57</th>\n      <td>Walmart Supercenter</td>\n      <td>41.346112</td>\n      <td>-81.819874</td>\n      <td>8585 Pearl Road, Strongsville</td>\n      <td>ChIJXxoRzFXqMIgRBIWSroY97Zc</td>\n    </tr>\n    <tr>\n      <th>58</th>\n      <td>Kohl's Brimfield</td>\n      <td>41.094221</td>\n      <td>-81.386524</td>\n      <td>3886 Cascades Boulevard, Kent</td>\n      <td>ChIJmwCs4govMYgRKSq40AuwpYw</td>\n    </tr>\n    <tr>\n      <th>59</th>\n      <td>Target</td>\n      <td>40.983936</td>\n      <td>-81.495815</td>\n      <td>762 Arlington Ridge, Akron</td>\n      <td>ChIJs7bpDL8qMYgRm6Akf2ZDq08</td>\n    </tr>\n  </tbody>\n</table>\n</div>",
      "text/plain": "             Store Name   Latitude  Longitude  \\\n55         Kohl's Parma  41.377955 -81.737406   \n56               Target  41.128045 -81.605230   \n57  Walmart Supercenter  41.346112 -81.819874   \n58     Kohl's Brimfield  41.094221 -81.386524   \n59               Target  40.983936 -81.495815   \n\n                              Address                     Place ID  \n55             6860 Ridge Road, Parma  ChIJaaiMHtboMIgRdUi-wHKoO4s  \n56  2801 West Market Street, Fairlawn  ChIJGTnBXK3QMIgRDgULwwfSHv8  \n57      8585 Pearl Road, Strongsville  ChIJXxoRzFXqMIgRBIWSroY97Zc  \n58      3886 Cascades Boulevard, Kent  ChIJmwCs4govMYgRKSq40AuwpYw  \n59         762 Arlington Ridge, Akron  ChIJs7bpDL8qMYgRm6Akf2ZDq08  "
     },
     "execution_count": 6,
     "metadata": {},
     "output_type": "execute_result"
    }
   ],
   "source": [
    "#Create dataframe from lists of data\n",
    "target_df = {\n",
    "    \"Store Name\":store_name,\n",
    "    \"Latitude\":store_lats,\n",
    "    \"Longitude\":store_lngs,\n",
    "    \"Address\":store_address,\n",
    "    \"Place ID\":place_id\n",
    "}\n",
    "target_raw_data = pd.DataFrame(target_df)\n",
    "target_raw_data.tail()"
   ]
  },
  {
   "cell_type": "code",
   "execution_count": 7,
   "metadata": {},
   "outputs": [
    {
     "data": {
      "text/html": "<div>\n<style scoped>\n    .dataframe tbody tr th:only-of-type {\n        vertical-align: middle;\n    }\n\n    .dataframe tbody tr th {\n        vertical-align: top;\n    }\n\n    .dataframe thead th {\n        text-align: right;\n    }\n</style>\n<table border=\"1\" class=\"dataframe\">\n  <thead>\n    <tr style=\"text-align: right;\">\n      <th></th>\n      <th>Store Name</th>\n      <th>Latitude</th>\n      <th>Longitude</th>\n      <th>Address</th>\n      <th>Place ID</th>\n    </tr>\n  </thead>\n  <tbody>\n    <tr>\n      <th>0</th>\n      <td>Target</td>\n      <td>41.500618</td>\n      <td>-81.532870</td>\n      <td>14070 Cedar Road, University Heights</td>\n      <td>ChIJBd2B1Jb9MIgRfoiS2LTn0Pk</td>\n    </tr>\n    <tr>\n      <th>4</th>\n      <td>Target</td>\n      <td>41.629108</td>\n      <td>-81.429947</td>\n      <td>36195 Euclid Avenue, Willoughby</td>\n      <td>ChIJ5YCtyCeqMYgRElkRfXKSwvE</td>\n    </tr>\n    <tr>\n      <th>11</th>\n      <td>Target</td>\n      <td>41.686247</td>\n      <td>-81.293935</td>\n      <td>9669 Mentor Avenue, Mentor</td>\n      <td>ChIJ78P5ssylMYgRVLQVU0q2y-M</td>\n    </tr>\n    <tr>\n      <th>16</th>\n      <td>Target</td>\n      <td>41.357077</td>\n      <td>-81.386341</td>\n      <td>18855 North Market Place Drive, Aurora</td>\n      <td>ChIJl6BDSn4ZMYgRPNXlac3OTSY</td>\n    </tr>\n    <tr>\n      <th>22</th>\n      <td>Target</td>\n      <td>41.040409</td>\n      <td>-81.690730</td>\n      <td>1183 Williams Reserve Boulevard, Wadsworth</td>\n      <td>ChIJGafGRHXSMIgRtYwHHTMayXo</td>\n    </tr>\n    <tr>\n      <th>25</th>\n      <td>Target</td>\n      <td>41.420226</td>\n      <td>-81.895305</td>\n      <td>24646 Brookpark Road, North Olmsted</td>\n      <td>ChIJT4Q4LhKTMIgRpAlVNf8lJH4</td>\n    </tr>\n    <tr>\n      <th>26</th>\n      <td>Target</td>\n      <td>41.120956</td>\n      <td>-81.477382</td>\n      <td>449 Howe Avenue, Cuyahoga Falls</td>\n      <td>ChIJ4yprBHwoMYgRH8i8pVsr_wg</td>\n    </tr>\n    <tr>\n      <th>30</th>\n      <td>Target</td>\n      <td>41.154719</td>\n      <td>-81.865421</td>\n      <td>1015 North Court Street, Medina</td>\n      <td>ChIJOUuy6P_HMIgRYcZIcFuhhgw</td>\n    </tr>\n    <tr>\n      <th>32</th>\n      <td>Target</td>\n      <td>41.457885</td>\n      <td>-81.689153</td>\n      <td>3535 Steelyard Drive, Cleveland</td>\n      <td>ChIJ09oCUVXlMIgRXYckH7ezqQ4</td>\n    </tr>\n    <tr>\n      <th>36</th>\n      <td>Target</td>\n      <td>40.862154</td>\n      <td>-81.431448</td>\n      <td>5584 Dressler Road Northwest, North Canton</td>\n      <td>ChIJpUSYPsrWNogRlNVcCp9WPLs</td>\n    </tr>\n    <tr>\n      <th>56</th>\n      <td>Target</td>\n      <td>41.128045</td>\n      <td>-81.605230</td>\n      <td>2801 West Market Street, Fairlawn</td>\n      <td>ChIJGTnBXK3QMIgRDgULwwfSHv8</td>\n    </tr>\n    <tr>\n      <th>59</th>\n      <td>Target</td>\n      <td>40.983936</td>\n      <td>-81.495815</td>\n      <td>762 Arlington Ridge, Akron</td>\n      <td>ChIJs7bpDL8qMYgRm6Akf2ZDq08</td>\n    </tr>\n  </tbody>\n</table>\n</div>",
      "text/plain": "   Store Name   Latitude  Longitude  \\\n0      Target  41.500618 -81.532870   \n4      Target  41.629108 -81.429947   \n11     Target  41.686247 -81.293935   \n16     Target  41.357077 -81.386341   \n22     Target  41.040409 -81.690730   \n25     Target  41.420226 -81.895305   \n26     Target  41.120956 -81.477382   \n30     Target  41.154719 -81.865421   \n32     Target  41.457885 -81.689153   \n36     Target  40.862154 -81.431448   \n56     Target  41.128045 -81.605230   \n59     Target  40.983936 -81.495815   \n\n                                       Address                     Place ID  \n0         14070 Cedar Road, University Heights  ChIJBd2B1Jb9MIgRfoiS2LTn0Pk  \n4              36195 Euclid Avenue, Willoughby  ChIJ5YCtyCeqMYgRElkRfXKSwvE  \n11                  9669 Mentor Avenue, Mentor  ChIJ78P5ssylMYgRVLQVU0q2y-M  \n16      18855 North Market Place Drive, Aurora  ChIJl6BDSn4ZMYgRPNXlac3OTSY  \n22  1183 Williams Reserve Boulevard, Wadsworth  ChIJGafGRHXSMIgRtYwHHTMayXo  \n25         24646 Brookpark Road, North Olmsted  ChIJT4Q4LhKTMIgRpAlVNf8lJH4  \n26             449 Howe Avenue, Cuyahoga Falls  ChIJ4yprBHwoMYgRH8i8pVsr_wg  \n30             1015 North Court Street, Medina  ChIJOUuy6P_HMIgRYcZIcFuhhgw  \n32             3535 Steelyard Drive, Cleveland  ChIJ09oCUVXlMIgRXYckH7ezqQ4  \n36  5584 Dressler Road Northwest, North Canton  ChIJpUSYPsrWNogRlNVcCp9WPLs  \n56           2801 West Market Street, Fairlawn  ChIJGTnBXK3QMIgRDgULwwfSHv8  \n59                  762 Arlington Ridge, Akron  ChIJs7bpDL8qMYgRm6Akf2ZDq08  "
     },
     "execution_count": 7,
     "metadata": {},
     "output_type": "execute_result"
    }
   ],
   "source": [
    "target_data = target_raw_data.loc[target_raw_data['Store Name']==\"Target\",:]\n",
    "\n",
    "#Remove duplicate stores\n",
    "target_data = target_data.drop_duplicates(subset =\"Address\",keep = \"first\") \n",
    "target_data"
   ]
  },
  {
   "cell_type": "code",
   "execution_count": 8,
   "metadata": {},
   "outputs": [
    {
     "data": {
      "text/html": "<div>\n<style scoped>\n    .dataframe tbody tr th:only-of-type {\n        vertical-align: middle;\n    }\n\n    .dataframe tbody tr th {\n        vertical-align: top;\n    }\n\n    .dataframe thead th {\n        text-align: right;\n    }\n</style>\n<table border=\"1\" class=\"dataframe\">\n  <thead>\n    <tr style=\"text-align: right;\">\n      <th></th>\n      <th>Store Name</th>\n      <th>Latitude</th>\n      <th>Longitude</th>\n      <th>Address</th>\n      <th>Place ID</th>\n    </tr>\n  </thead>\n  <tbody>\n    <tr>\n      <th>0</th>\n      <td>Target</td>\n      <td>41.500618</td>\n      <td>-81.532870</td>\n      <td>14070 Cedar Road, University Heights</td>\n      <td>ChIJBd2B1Jb9MIgRfoiS2LTn0Pk</td>\n    </tr>\n    <tr>\n      <th>1</th>\n      <td>Target</td>\n      <td>41.629108</td>\n      <td>-81.429947</td>\n      <td>36195 Euclid Avenue, Willoughby</td>\n      <td>ChIJ5YCtyCeqMYgRElkRfXKSwvE</td>\n    </tr>\n    <tr>\n      <th>2</th>\n      <td>Target</td>\n      <td>41.686247</td>\n      <td>-81.293935</td>\n      <td>9669 Mentor Avenue, Mentor</td>\n      <td>ChIJ78P5ssylMYgRVLQVU0q2y-M</td>\n    </tr>\n    <tr>\n      <th>3</th>\n      <td>Target</td>\n      <td>41.357077</td>\n      <td>-81.386341</td>\n      <td>18855 North Market Place Drive, Aurora</td>\n      <td>ChIJl6BDSn4ZMYgRPNXlac3OTSY</td>\n    </tr>\n    <tr>\n      <th>4</th>\n      <td>Target</td>\n      <td>41.040409</td>\n      <td>-81.690730</td>\n      <td>1183 Williams Reserve Boulevard, Wadsworth</td>\n      <td>ChIJGafGRHXSMIgRtYwHHTMayXo</td>\n    </tr>\n    <tr>\n      <th>5</th>\n      <td>Target</td>\n      <td>41.420226</td>\n      <td>-81.895305</td>\n      <td>24646 Brookpark Road, North Olmsted</td>\n      <td>ChIJT4Q4LhKTMIgRpAlVNf8lJH4</td>\n    </tr>\n    <tr>\n      <th>6</th>\n      <td>Target</td>\n      <td>41.120956</td>\n      <td>-81.477382</td>\n      <td>449 Howe Avenue, Cuyahoga Falls</td>\n      <td>ChIJ4yprBHwoMYgRH8i8pVsr_wg</td>\n    </tr>\n    <tr>\n      <th>7</th>\n      <td>Target</td>\n      <td>41.154719</td>\n      <td>-81.865421</td>\n      <td>1015 North Court Street, Medina</td>\n      <td>ChIJOUuy6P_HMIgRYcZIcFuhhgw</td>\n    </tr>\n    <tr>\n      <th>8</th>\n      <td>Target</td>\n      <td>41.457885</td>\n      <td>-81.689153</td>\n      <td>3535 Steelyard Drive, Cleveland</td>\n      <td>ChIJ09oCUVXlMIgRXYckH7ezqQ4</td>\n    </tr>\n    <tr>\n      <th>9</th>\n      <td>Target</td>\n      <td>40.862154</td>\n      <td>-81.431448</td>\n      <td>5584 Dressler Road Northwest, North Canton</td>\n      <td>ChIJpUSYPsrWNogRlNVcCp9WPLs</td>\n    </tr>\n    <tr>\n      <th>10</th>\n      <td>Target</td>\n      <td>41.128045</td>\n      <td>-81.605230</td>\n      <td>2801 West Market Street, Fairlawn</td>\n      <td>ChIJGTnBXK3QMIgRDgULwwfSHv8</td>\n    </tr>\n    <tr>\n      <th>11</th>\n      <td>Target</td>\n      <td>40.983936</td>\n      <td>-81.495815</td>\n      <td>762 Arlington Ridge, Akron</td>\n      <td>ChIJs7bpDL8qMYgRm6Akf2ZDq08</td>\n    </tr>\n  </tbody>\n</table>\n</div>",
      "text/plain": "   Store Name   Latitude  Longitude  \\\n0      Target  41.500618 -81.532870   \n1      Target  41.629108 -81.429947   \n2      Target  41.686247 -81.293935   \n3      Target  41.357077 -81.386341   \n4      Target  41.040409 -81.690730   \n5      Target  41.420226 -81.895305   \n6      Target  41.120956 -81.477382   \n7      Target  41.154719 -81.865421   \n8      Target  41.457885 -81.689153   \n9      Target  40.862154 -81.431448   \n10     Target  41.128045 -81.605230   \n11     Target  40.983936 -81.495815   \n\n                                       Address                     Place ID  \n0         14070 Cedar Road, University Heights  ChIJBd2B1Jb9MIgRfoiS2LTn0Pk  \n1              36195 Euclid Avenue, Willoughby  ChIJ5YCtyCeqMYgRElkRfXKSwvE  \n2                   9669 Mentor Avenue, Mentor  ChIJ78P5ssylMYgRVLQVU0q2y-M  \n3       18855 North Market Place Drive, Aurora  ChIJl6BDSn4ZMYgRPNXlac3OTSY  \n4   1183 Williams Reserve Boulevard, Wadsworth  ChIJGafGRHXSMIgRtYwHHTMayXo  \n5          24646 Brookpark Road, North Olmsted  ChIJT4Q4LhKTMIgRpAlVNf8lJH4  \n6              449 Howe Avenue, Cuyahoga Falls  ChIJ4yprBHwoMYgRH8i8pVsr_wg  \n7              1015 North Court Street, Medina  ChIJOUuy6P_HMIgRYcZIcFuhhgw  \n8              3535 Steelyard Drive, Cleveland  ChIJ09oCUVXlMIgRXYckH7ezqQ4  \n9   5584 Dressler Road Northwest, North Canton  ChIJpUSYPsrWNogRlNVcCp9WPLs  \n10           2801 West Market Street, Fairlawn  ChIJGTnBXK3QMIgRDgULwwfSHv8  \n11                  762 Arlington Ridge, Akron  ChIJs7bpDL8qMYgRm6Akf2ZDq08  "
     },
     "execution_count": 8,
     "metadata": {},
     "output_type": "execute_result"
    }
   ],
   "source": [
    "#Reindex the DF\n",
    "target_data_reindex = target_data.reset_index(drop=True)\n",
    "target_data_reindex"
   ]
  },
  {
   "cell_type": "code",
   "execution_count": 9,
   "metadata": {},
   "outputs": [],
   "source": [
    "#Print DF to csv\n",
    "target_data_reindex.to_csv(\"Output_CSVs/target_locations.csv\",encoding=\"utf-8\",index=False)"
   ]
  },
  {
   "cell_type": "code",
   "execution_count": null,
   "metadata": {},
   "outputs": [],
   "source": []
  }
 ]
}